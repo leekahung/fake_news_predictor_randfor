{
 "cells": [
  {
   "cell_type": "markdown",
   "id": "db4e59b4",
   "metadata": {},
   "source": [
    "For this exercise, I plan on developing a predictive model that could identify \"fake news\" from new sources. The data set I've used specifically for this exercise comes from <a href='https://www.kaggle.com/c/fake-news/data'>Kaggle</a>.\n",
    "\n",
    "In layman's term, \"fake news\" is news which contents are consider 'fake' or 'false'. Typically, you would need a sophisticated system of checks and source validations to verify whether or not such contents are 'true' or 'false'. For our purposes, we would assume that our labels are expertly reviewed and reliable.\n",
    "\n",
    "For this data set, we're limited to 5 columns:\n",
    "- id: the unique numeric identifier for the news\n",
    "- title: the name of the news\n",
    "- author: the entity that wrote the news\n",
    "- text: the actual content of the story\n",
    "- label: an identifier that labels whether or not the news source is reliable (0) or unreliable (1).\n",
    "\n",
    "Labels aside, there are three features of interest: the title, the author, and the text. With these string data, we could train a model that predicts 'fake news' using the type of words being used from every column. For the model to read this data, we could turn our string data into a word vector. "
   ]
  },
  {
   "cell_type": "code",
   "execution_count": 1,
   "id": "c18023b7",
   "metadata": {
    "ExecuteTime": {
     "end_time": "2022-03-26T04:45:23.616039Z",
     "start_time": "2022-03-26T04:45:21.228593Z"
    }
   },
   "outputs": [],
   "source": [
    "# Import core dependencies\n",
    "import pandas as pd\n",
    "import re\n",
    "import os\n",
    "import matplotlib.pyplot as plt\n",
    "import seaborn as sns"
   ]
  },
  {
   "cell_type": "code",
   "execution_count": 2,
   "id": "0faec7c3",
   "metadata": {
    "ExecuteTime": {
     "end_time": "2022-03-26T04:45:24.965685Z",
     "start_time": "2022-03-26T04:45:23.618221Z"
    }
   },
   "outputs": [],
   "source": [
    "# Building local path to data file\n",
    "work_dir = os.getcwd()\n",
    "main_dir = os.path.dirname(work_dir)\n",
    "data_files_dir = os.path.join(main_dir, 'data_files')\n",
    "data_file_train = os.path.join(data_files_dir, 'train.csv')\n",
    "data_file_test = os.path.join(data_files_dir, 'test.csv')\n",
    "data_file_validation = os.path.join(data_files_dir, 'submit.csv')\n",
    "\n",
    "# Loading data file (\"train.csv\") as DataFrame\n",
    "df = pd.read_csv(data_file_train)"
   ]
  },
  {
   "cell_type": "code",
   "execution_count": 3,
   "id": "b9b12c93",
   "metadata": {
    "ExecuteTime": {
     "end_time": "2022-03-26T04:45:24.988663Z",
     "start_time": "2022-03-26T04:45:24.967859Z"
    }
   },
   "outputs": [
    {
     "data": {
      "text/html": [
       "<div>\n",
       "<style scoped>\n",
       "    .dataframe tbody tr th:only-of-type {\n",
       "        vertical-align: middle;\n",
       "    }\n",
       "\n",
       "    .dataframe tbody tr th {\n",
       "        vertical-align: top;\n",
       "    }\n",
       "\n",
       "    .dataframe thead th {\n",
       "        text-align: right;\n",
       "    }\n",
       "</style>\n",
       "<table border=\"1\" class=\"dataframe\">\n",
       "  <thead>\n",
       "    <tr style=\"text-align: right;\">\n",
       "      <th></th>\n",
       "      <th>id</th>\n",
       "      <th>title</th>\n",
       "      <th>author</th>\n",
       "      <th>text</th>\n",
       "      <th>label</th>\n",
       "    </tr>\n",
       "  </thead>\n",
       "  <tbody>\n",
       "    <tr>\n",
       "      <th>0</th>\n",
       "      <td>0</td>\n",
       "      <td>House Dem Aide: We Didn’t Even See Comey’s Let...</td>\n",
       "      <td>Darrell Lucus</td>\n",
       "      <td>House Dem Aide: We Didn’t Even See Comey’s Let...</td>\n",
       "      <td>1</td>\n",
       "    </tr>\n",
       "    <tr>\n",
       "      <th>1</th>\n",
       "      <td>1</td>\n",
       "      <td>FLYNN: Hillary Clinton, Big Woman on Campus - ...</td>\n",
       "      <td>Daniel J. Flynn</td>\n",
       "      <td>Ever get the feeling your life circles the rou...</td>\n",
       "      <td>0</td>\n",
       "    </tr>\n",
       "    <tr>\n",
       "      <th>2</th>\n",
       "      <td>2</td>\n",
       "      <td>Why the Truth Might Get You Fired</td>\n",
       "      <td>Consortiumnews.com</td>\n",
       "      <td>Why the Truth Might Get You Fired October 29, ...</td>\n",
       "      <td>1</td>\n",
       "    </tr>\n",
       "    <tr>\n",
       "      <th>3</th>\n",
       "      <td>3</td>\n",
       "      <td>15 Civilians Killed In Single US Airstrike Hav...</td>\n",
       "      <td>Jessica Purkiss</td>\n",
       "      <td>Videos 15 Civilians Killed In Single US Airstr...</td>\n",
       "      <td>1</td>\n",
       "    </tr>\n",
       "    <tr>\n",
       "      <th>4</th>\n",
       "      <td>4</td>\n",
       "      <td>Iranian woman jailed for fictional unpublished...</td>\n",
       "      <td>Howard Portnoy</td>\n",
       "      <td>Print \\nAn Iranian woman has been sentenced to...</td>\n",
       "      <td>1</td>\n",
       "    </tr>\n",
       "  </tbody>\n",
       "</table>\n",
       "</div>"
      ],
      "text/plain": [
       "   id                                              title              author  \\\n",
       "0   0  House Dem Aide: We Didn’t Even See Comey’s Let...       Darrell Lucus   \n",
       "1   1  FLYNN: Hillary Clinton, Big Woman on Campus - ...     Daniel J. Flynn   \n",
       "2   2                  Why the Truth Might Get You Fired  Consortiumnews.com   \n",
       "3   3  15 Civilians Killed In Single US Airstrike Hav...     Jessica Purkiss   \n",
       "4   4  Iranian woman jailed for fictional unpublished...      Howard Portnoy   \n",
       "\n",
       "                                                text  label  \n",
       "0  House Dem Aide: We Didn’t Even See Comey’s Let...      1  \n",
       "1  Ever get the feeling your life circles the rou...      0  \n",
       "2  Why the Truth Might Get You Fired October 29, ...      1  \n",
       "3  Videos 15 Civilians Killed In Single US Airstr...      1  \n",
       "4  Print \\nAn Iranian woman has been sentenced to...      1  "
      ]
     },
     "execution_count": 3,
     "metadata": {},
     "output_type": "execute_result"
    }
   ],
   "source": [
    "# Checking data structure\n",
    "df.head()"
   ]
  },
  {
   "cell_type": "code",
   "execution_count": 4,
   "id": "f3251c26",
   "metadata": {
    "ExecuteTime": {
     "end_time": "2022-03-26T04:45:25.556556Z",
     "start_time": "2022-03-26T04:45:25.536770Z"
    }
   },
   "outputs": [
    {
     "name": "stdout",
     "output_type": "stream",
     "text": [
      "<class 'pandas.core.frame.DataFrame'>\n",
      "RangeIndex: 20800 entries, 0 to 20799\n",
      "Data columns (total 5 columns):\n",
      " #   Column  Non-Null Count  Dtype \n",
      "---  ------  --------------  ----- \n",
      " 0   id      20800 non-null  int64 \n",
      " 1   title   20242 non-null  object\n",
      " 2   author  18843 non-null  object\n",
      " 3   text    20761 non-null  object\n",
      " 4   label   20800 non-null  int64 \n",
      "dtypes: int64(2), object(3)\n",
      "memory usage: 812.6+ KB\n"
     ]
    }
   ],
   "source": [
    "# Checking data types\n",
    "df.info()"
   ]
  },
  {
   "cell_type": "code",
   "execution_count": 5,
   "id": "ec29b4e2",
   "metadata": {
    "ExecuteTime": {
     "end_time": "2022-03-26T04:45:26.088627Z",
     "start_time": "2022-03-26T04:45:26.074906Z"
    }
   },
   "outputs": [
    {
     "data": {
      "text/html": [
       "<div>\n",
       "<style scoped>\n",
       "    .dataframe tbody tr th:only-of-type {\n",
       "        vertical-align: middle;\n",
       "    }\n",
       "\n",
       "    .dataframe tbody tr th {\n",
       "        vertical-align: top;\n",
       "    }\n",
       "\n",
       "    .dataframe thead th {\n",
       "        text-align: right;\n",
       "    }\n",
       "</style>\n",
       "<table border=\"1\" class=\"dataframe\">\n",
       "  <thead>\n",
       "    <tr style=\"text-align: right;\">\n",
       "      <th></th>\n",
       "      <th>id</th>\n",
       "      <th>title</th>\n",
       "      <th>author</th>\n",
       "      <th>text</th>\n",
       "      <th>label</th>\n",
       "    </tr>\n",
       "  </thead>\n",
       "  <tbody>\n",
       "    <tr>\n",
       "      <th>53</th>\n",
       "      <td>53</td>\n",
       "      <td>NaN</td>\n",
       "      <td>Dairy✓ᵀᴿᵁᴹᴾ</td>\n",
       "      <td>Sounds like he has our president pegged. What ...</td>\n",
       "      <td>1</td>\n",
       "    </tr>\n",
       "    <tr>\n",
       "      <th>120</th>\n",
       "      <td>120</td>\n",
       "      <td>NaN</td>\n",
       "      <td>Anonymous</td>\n",
       "      <td>Same people all the time , i dont know how you...</td>\n",
       "      <td>1</td>\n",
       "    </tr>\n",
       "    <tr>\n",
       "      <th>124</th>\n",
       "      <td>124</td>\n",
       "      <td>NaN</td>\n",
       "      <td>SeekSearchDestory</td>\n",
       "      <td>You know, outside of any morality arguments, i...</td>\n",
       "      <td>1</td>\n",
       "    </tr>\n",
       "    <tr>\n",
       "      <th>140</th>\n",
       "      <td>140</td>\n",
       "      <td>NaN</td>\n",
       "      <td>Anonymous</td>\n",
       "      <td>There is a lot more than meets the eye to this...</td>\n",
       "      <td>1</td>\n",
       "    </tr>\n",
       "    <tr>\n",
       "      <th>196</th>\n",
       "      <td>196</td>\n",
       "      <td>NaN</td>\n",
       "      <td>Raffie</td>\n",
       "      <td>They got the heater turned up on high.</td>\n",
       "      <td>1</td>\n",
       "    </tr>\n",
       "  </tbody>\n",
       "</table>\n",
       "</div>"
      ],
      "text/plain": [
       "      id title             author  \\\n",
       "53    53   NaN        Dairy✓ᵀᴿᵁᴹᴾ   \n",
       "120  120   NaN          Anonymous   \n",
       "124  124   NaN  SeekSearchDestory   \n",
       "140  140   NaN          Anonymous   \n",
       "196  196   NaN             Raffie   \n",
       "\n",
       "                                                  text  label  \n",
       "53   Sounds like he has our president pegged. What ...      1  \n",
       "120  Same people all the time , i dont know how you...      1  \n",
       "124  You know, outside of any morality arguments, i...      1  \n",
       "140  There is a lot more than meets the eye to this...      1  \n",
       "196             They got the heater turned up on high.      1  "
      ]
     },
     "execution_count": 5,
     "metadata": {},
     "output_type": "execute_result"
    }
   ],
   "source": [
    "# Checking nulls from title column\n",
    "df[df['title'].isna() == True].head()"
   ]
  },
  {
   "cell_type": "code",
   "execution_count": 6,
   "id": "f7231671",
   "metadata": {
    "ExecuteTime": {
     "end_time": "2022-03-26T04:45:26.581703Z",
     "start_time": "2022-03-26T04:45:26.566471Z"
    }
   },
   "outputs": [
    {
     "data": {
      "text/html": [
       "<div>\n",
       "<style scoped>\n",
       "    .dataframe tbody tr th:only-of-type {\n",
       "        vertical-align: middle;\n",
       "    }\n",
       "\n",
       "    .dataframe tbody tr th {\n",
       "        vertical-align: top;\n",
       "    }\n",
       "\n",
       "    .dataframe thead th {\n",
       "        text-align: right;\n",
       "    }\n",
       "</style>\n",
       "<table border=\"1\" class=\"dataframe\">\n",
       "  <thead>\n",
       "    <tr style=\"text-align: right;\">\n",
       "      <th></th>\n",
       "      <th>id</th>\n",
       "      <th>title</th>\n",
       "      <th>author</th>\n",
       "      <th>text</th>\n",
       "      <th>label</th>\n",
       "    </tr>\n",
       "  </thead>\n",
       "  <tbody>\n",
       "    <tr>\n",
       "      <th>6</th>\n",
       "      <td>6</td>\n",
       "      <td>Life: Life Of Luxury: Elton John’s 6 Favorite ...</td>\n",
       "      <td>NaN</td>\n",
       "      <td>Ever wonder how Britain’s most iconic pop pian...</td>\n",
       "      <td>1</td>\n",
       "    </tr>\n",
       "    <tr>\n",
       "      <th>8</th>\n",
       "      <td>8</td>\n",
       "      <td>Excerpts From a Draft Script for Donald Trump’...</td>\n",
       "      <td>NaN</td>\n",
       "      <td>Donald J. Trump is scheduled to make a highly ...</td>\n",
       "      <td>0</td>\n",
       "    </tr>\n",
       "    <tr>\n",
       "      <th>20</th>\n",
       "      <td>20</td>\n",
       "      <td>News: Hope For The GOP: A Nude Paul Ryan Has J...</td>\n",
       "      <td>NaN</td>\n",
       "      <td>Email \\nSince Donald Trump entered the electio...</td>\n",
       "      <td>1</td>\n",
       "    </tr>\n",
       "    <tr>\n",
       "      <th>23</th>\n",
       "      <td>23</td>\n",
       "      <td>Massachusetts Cop’s Wife Busted for Pinning Fa...</td>\n",
       "      <td>NaN</td>\n",
       "      <td>Massachusetts Cop’s Wife Busted for Pinning Fa...</td>\n",
       "      <td>1</td>\n",
       "    </tr>\n",
       "    <tr>\n",
       "      <th>31</th>\n",
       "      <td>31</td>\n",
       "      <td>Israel is Becoming Pivotal to China’s Mid-East...</td>\n",
       "      <td>NaN</td>\n",
       "      <td>Country: Israel While China is silently playin...</td>\n",
       "      <td>1</td>\n",
       "    </tr>\n",
       "  </tbody>\n",
       "</table>\n",
       "</div>"
      ],
      "text/plain": [
       "    id                                              title author  \\\n",
       "6    6  Life: Life Of Luxury: Elton John’s 6 Favorite ...    NaN   \n",
       "8    8  Excerpts From a Draft Script for Donald Trump’...    NaN   \n",
       "20  20  News: Hope For The GOP: A Nude Paul Ryan Has J...    NaN   \n",
       "23  23  Massachusetts Cop’s Wife Busted for Pinning Fa...    NaN   \n",
       "31  31  Israel is Becoming Pivotal to China’s Mid-East...    NaN   \n",
       "\n",
       "                                                 text  label  \n",
       "6   Ever wonder how Britain’s most iconic pop pian...      1  \n",
       "8   Donald J. Trump is scheduled to make a highly ...      0  \n",
       "20  Email \\nSince Donald Trump entered the electio...      1  \n",
       "23  Massachusetts Cop’s Wife Busted for Pinning Fa...      1  \n",
       "31  Country: Israel While China is silently playin...      1  "
      ]
     },
     "execution_count": 6,
     "metadata": {},
     "output_type": "execute_result"
    }
   ],
   "source": [
    "# Checking nulls from author column\n",
    "df[df['author'].isna() == True].head()"
   ]
  },
  {
   "cell_type": "code",
   "execution_count": 7,
   "id": "18cc6373",
   "metadata": {
    "ExecuteTime": {
     "end_time": "2022-03-26T04:45:27.017910Z",
     "start_time": "2022-03-26T04:45:27.000923Z"
    }
   },
   "outputs": [
    {
     "data": {
      "text/html": [
       "<div>\n",
       "<style scoped>\n",
       "    .dataframe tbody tr th:only-of-type {\n",
       "        vertical-align: middle;\n",
       "    }\n",
       "\n",
       "    .dataframe tbody tr th {\n",
       "        vertical-align: top;\n",
       "    }\n",
       "\n",
       "    .dataframe thead th {\n",
       "        text-align: right;\n",
       "    }\n",
       "</style>\n",
       "<table border=\"1\" class=\"dataframe\">\n",
       "  <thead>\n",
       "    <tr style=\"text-align: right;\">\n",
       "      <th></th>\n",
       "      <th>id</th>\n",
       "      <th>title</th>\n",
       "      <th>author</th>\n",
       "      <th>text</th>\n",
       "      <th>label</th>\n",
       "    </tr>\n",
       "  </thead>\n",
       "  <tbody>\n",
       "    <tr>\n",
       "      <th>142</th>\n",
       "      <td>142</td>\n",
       "      <td>Gorafi Magazine : Entretien exclusif avec Bara...</td>\n",
       "      <td>NaN</td>\n",
       "      <td>NaN</td>\n",
       "      <td>1</td>\n",
       "    </tr>\n",
       "    <tr>\n",
       "      <th>573</th>\n",
       "      <td>573</td>\n",
       "      <td>Le top des recherches Google passe en top des ...</td>\n",
       "      <td>NaN</td>\n",
       "      <td>NaN</td>\n",
       "      <td>1</td>\n",
       "    </tr>\n",
       "    <tr>\n",
       "      <th>1200</th>\n",
       "      <td>1200</td>\n",
       "      <td>La Corée du Nord annonce avoir envoyé un missi...</td>\n",
       "      <td>NaN</td>\n",
       "      <td>NaN</td>\n",
       "      <td>1</td>\n",
       "    </tr>\n",
       "    <tr>\n",
       "      <th>1911</th>\n",
       "      <td>1911</td>\n",
       "      <td>Grand-Prix du Brésil – Romain Grosjean obtient...</td>\n",
       "      <td>NaN</td>\n",
       "      <td>NaN</td>\n",
       "      <td>1</td>\n",
       "    </tr>\n",
       "    <tr>\n",
       "      <th>2148</th>\n",
       "      <td>2148</td>\n",
       "      <td>Gorafi Magazine: Barack Obama « Je vous ai déj...</td>\n",
       "      <td>NaN</td>\n",
       "      <td>NaN</td>\n",
       "      <td>1</td>\n",
       "    </tr>\n",
       "  </tbody>\n",
       "</table>\n",
       "</div>"
      ],
      "text/plain": [
       "        id                                              title author text  \\\n",
       "142    142  Gorafi Magazine : Entretien exclusif avec Bara...    NaN  NaN   \n",
       "573    573  Le top des recherches Google passe en top des ...    NaN  NaN   \n",
       "1200  1200  La Corée du Nord annonce avoir envoyé un missi...    NaN  NaN   \n",
       "1911  1911  Grand-Prix du Brésil – Romain Grosjean obtient...    NaN  NaN   \n",
       "2148  2148  Gorafi Magazine: Barack Obama « Je vous ai déj...    NaN  NaN   \n",
       "\n",
       "      label  \n",
       "142       1  \n",
       "573       1  \n",
       "1200      1  \n",
       "1911      1  \n",
       "2148      1  "
      ]
     },
     "execution_count": 7,
     "metadata": {},
     "output_type": "execute_result"
    }
   ],
   "source": [
    "# Checking nulls from text column\n",
    "df[df['text'].isna() == True].head()"
   ]
  },
  {
   "cell_type": "markdown",
   "id": "2ab3594b",
   "metadata": {},
   "source": [
    "For NaNs, we could replace them with 'notitle', 'noauthor', and 'notext' respective."
   ]
  },
  {
   "cell_type": "code",
   "execution_count": 8,
   "id": "33415ce1",
   "metadata": {
    "ExecuteTime": {
     "end_time": "2022-03-26T04:45:29.801433Z",
     "start_time": "2022-03-26T04:45:29.783912Z"
    }
   },
   "outputs": [],
   "source": [
    "# Replace NaNs with fillers: 'notitle', 'noauthor', 'notext'\n",
    "df['title'] = df['title'].fillna('notitle')\n",
    "df['author'] = df['author'].fillna('noauthor')\n",
    "df['text'] = df['text'].fillna('notext')"
   ]
  },
  {
   "cell_type": "code",
   "execution_count": 9,
   "id": "4e5f4c7b",
   "metadata": {
    "ExecuteTime": {
     "end_time": "2022-03-26T04:45:30.523498Z",
     "start_time": "2022-03-26T04:45:30.506033Z"
    }
   },
   "outputs": [
    {
     "name": "stdout",
     "output_type": "stream",
     "text": [
      "<class 'pandas.core.frame.DataFrame'>\n",
      "RangeIndex: 20800 entries, 0 to 20799\n",
      "Data columns (total 5 columns):\n",
      " #   Column  Non-Null Count  Dtype \n",
      "---  ------  --------------  ----- \n",
      " 0   id      20800 non-null  int64 \n",
      " 1   title   20800 non-null  object\n",
      " 2   author  20800 non-null  object\n",
      " 3   text    20800 non-null  object\n",
      " 4   label   20800 non-null  int64 \n",
      "dtypes: int64(2), object(3)\n",
      "memory usage: 812.6+ KB\n"
     ]
    }
   ],
   "source": [
    "df.info()"
   ]
  },
  {
   "cell_type": "markdown",
   "id": "f144ddee",
   "metadata": {},
   "source": [
    "From a glance, it's obvious that English isn't the only language the dataset contains. But these string data could nevertheless be processed using a text vectorizer. We'll build our training set using this DataFrame. Before we process our data any further, we can collapse the three columns into one, merging the three smaller strings into one large string.\n",
    "\n",
    "Before we do that however, there were something of note inside our string data, notably \\n, which are used when creating a newline. It is clear that these data were scraped from some online source, thus we might want to clean them a bit further before utilizing them. We could start seeing how many \\n are in our data and remove them."
   ]
  },
  {
   "cell_type": "code",
   "execution_count": 10,
   "id": "6665bd45",
   "metadata": {
    "ExecuteTime": {
     "end_time": "2022-03-26T04:45:33.815327Z",
     "start_time": "2022-03-26T04:45:33.712037Z"
    }
   },
   "outputs": [
    {
     "name": "stdout",
     "output_type": "stream",
     "text": [
      "Number of '\\n' in text: 0\n",
      "Number of '\\n' in text: 0\n",
      "Number of '\\n' in text: 8160\n"
     ]
    }
   ],
   "source": [
    "# Checking for '\\n' specifically\n",
    "print(\"Number of '\\\\n' in text: {}\".format(df['title'].str.contains('\\\\n').sum()))\n",
    "print(\"Number of '\\\\n' in text: {}\".format(df['author'].str.contains('\\\\n').sum()))\n",
    "print(\"Number of '\\\\n' in text: {}\".format(df['text'].str.contains('\\\\n').sum()))"
   ]
  },
  {
   "cell_type": "code",
   "execution_count": 11,
   "id": "a4458dad",
   "metadata": {
    "ExecuteTime": {
     "end_time": "2022-03-26T04:45:35.803413Z",
     "start_time": "2022-03-26T04:45:35.732749Z"
    }
   },
   "outputs": [
    {
     "data": {
      "text/html": [
       "<div>\n",
       "<style scoped>\n",
       "    .dataframe tbody tr th:only-of-type {\n",
       "        vertical-align: middle;\n",
       "    }\n",
       "\n",
       "    .dataframe tbody tr th {\n",
       "        vertical-align: top;\n",
       "    }\n",
       "\n",
       "    .dataframe thead th {\n",
       "        text-align: right;\n",
       "    }\n",
       "</style>\n",
       "<table border=\"1\" class=\"dataframe\">\n",
       "  <thead>\n",
       "    <tr style=\"text-align: right;\">\n",
       "      <th></th>\n",
       "      <th>id</th>\n",
       "      <th>title</th>\n",
       "      <th>author</th>\n",
       "      <th>text</th>\n",
       "      <th>label</th>\n",
       "    </tr>\n",
       "  </thead>\n",
       "  <tbody>\n",
       "    <tr>\n",
       "      <th>0</th>\n",
       "      <td>0</td>\n",
       "      <td>House Dem Aide: We Didn’t Even See Comey’s Let...</td>\n",
       "      <td>Darrell Lucus</td>\n",
       "      <td>House Dem Aide: We Didn’t Even See Comey’s Let...</td>\n",
       "      <td>1</td>\n",
       "    </tr>\n",
       "    <tr>\n",
       "      <th>2</th>\n",
       "      <td>2</td>\n",
       "      <td>Why the Truth Might Get You Fired</td>\n",
       "      <td>Consortiumnews.com</td>\n",
       "      <td>Why the Truth Might Get You Fired October 29, ...</td>\n",
       "      <td>1</td>\n",
       "    </tr>\n",
       "    <tr>\n",
       "      <th>3</th>\n",
       "      <td>3</td>\n",
       "      <td>15 Civilians Killed In Single US Airstrike Hav...</td>\n",
       "      <td>Jessica Purkiss</td>\n",
       "      <td>Videos 15 Civilians Killed In Single US Airstr...</td>\n",
       "      <td>1</td>\n",
       "    </tr>\n",
       "    <tr>\n",
       "      <th>4</th>\n",
       "      <td>4</td>\n",
       "      <td>Iranian woman jailed for fictional unpublished...</td>\n",
       "      <td>Howard Portnoy</td>\n",
       "      <td>Print \\nAn Iranian woman has been sentenced to...</td>\n",
       "      <td>1</td>\n",
       "    </tr>\n",
       "    <tr>\n",
       "      <th>6</th>\n",
       "      <td>6</td>\n",
       "      <td>Life: Life Of Luxury: Elton John’s 6 Favorite ...</td>\n",
       "      <td>noauthor</td>\n",
       "      <td>Ever wonder how Britain’s most iconic pop pian...</td>\n",
       "      <td>1</td>\n",
       "    </tr>\n",
       "  </tbody>\n",
       "</table>\n",
       "</div>"
      ],
      "text/plain": [
       "   id                                              title              author  \\\n",
       "0   0  House Dem Aide: We Didn’t Even See Comey’s Let...       Darrell Lucus   \n",
       "2   2                  Why the Truth Might Get You Fired  Consortiumnews.com   \n",
       "3   3  15 Civilians Killed In Single US Airstrike Hav...     Jessica Purkiss   \n",
       "4   4  Iranian woman jailed for fictional unpublished...      Howard Portnoy   \n",
       "6   6  Life: Life Of Luxury: Elton John’s 6 Favorite ...            noauthor   \n",
       "\n",
       "                                                text  label  \n",
       "0  House Dem Aide: We Didn’t Even See Comey’s Let...      1  \n",
       "2  Why the Truth Might Get You Fired October 29, ...      1  \n",
       "3  Videos 15 Civilians Killed In Single US Airstr...      1  \n",
       "4  Print \\nAn Iranian woman has been sentenced to...      1  \n",
       "6  Ever wonder how Britain’s most iconic pop pian...      1  "
      ]
     },
     "execution_count": 11,
     "metadata": {},
     "output_type": "execute_result"
    }
   ],
   "source": [
    "# Checking few rows with '\\n'\n",
    "df[df['text'].str.contains('\\\\n') == True].head()"
   ]
  },
  {
   "cell_type": "code",
   "execution_count": 12,
   "id": "b20e6587",
   "metadata": {
    "ExecuteTime": {
     "end_time": "2022-03-26T04:45:37.700843Z",
     "start_time": "2022-03-26T04:45:37.509148Z"
    }
   },
   "outputs": [
    {
     "name": "stderr",
     "output_type": "stream",
     "text": [
      "/Users/Lee/anaconda3/lib/python3.7/site-packages/ipykernel_launcher.py:2: FutureWarning: The default value of regex will change from True to False in a future version.\n",
      "  \n"
     ]
    }
   ],
   "source": [
    "# Replacing '\\n' with spaces\n",
    "df['text'] = df['text'].str.replace('\\\\n',' ')"
   ]
  },
  {
   "cell_type": "code",
   "execution_count": 13,
   "id": "8530a5d2",
   "metadata": {
    "ExecuteTime": {
     "end_time": "2022-03-26T04:45:39.606467Z",
     "start_time": "2022-03-26T04:45:39.514002Z"
    }
   },
   "outputs": [
    {
     "name": "stdout",
     "output_type": "stream",
     "text": [
      "Number of '\\n' in text: 0\n"
     ]
    }
   ],
   "source": [
    "# Confirming '\\n' is replaced\n",
    "print(\"Number of '\\\\n' in text: {}\".format(df['text'].str.contains('\\\\n').sum()))"
   ]
  },
  {
   "cell_type": "code",
   "execution_count": 14,
   "id": "fbe3899c",
   "metadata": {
    "ExecuteTime": {
     "end_time": "2022-03-26T04:45:40.283750Z",
     "start_time": "2022-03-26T04:45:40.271989Z"
    }
   },
   "outputs": [
    {
     "data": {
      "text/html": [
       "<div>\n",
       "<style scoped>\n",
       "    .dataframe tbody tr th:only-of-type {\n",
       "        vertical-align: middle;\n",
       "    }\n",
       "\n",
       "    .dataframe tbody tr th {\n",
       "        vertical-align: top;\n",
       "    }\n",
       "\n",
       "    .dataframe thead th {\n",
       "        text-align: right;\n",
       "    }\n",
       "</style>\n",
       "<table border=\"1\" class=\"dataframe\">\n",
       "  <thead>\n",
       "    <tr style=\"text-align: right;\">\n",
       "      <th></th>\n",
       "      <th>id</th>\n",
       "      <th>title</th>\n",
       "      <th>author</th>\n",
       "      <th>text</th>\n",
       "      <th>label</th>\n",
       "    </tr>\n",
       "  </thead>\n",
       "  <tbody>\n",
       "    <tr>\n",
       "      <th>4</th>\n",
       "      <td>4</td>\n",
       "      <td>Iranian woman jailed for fictional unpublished...</td>\n",
       "      <td>Howard Portnoy</td>\n",
       "      <td>Print  An Iranian woman has been sentenced to ...</td>\n",
       "      <td>1</td>\n",
       "    </tr>\n",
       "  </tbody>\n",
       "</table>\n",
       "</div>"
      ],
      "text/plain": [
       "   id                                              title          author  \\\n",
       "4   4  Iranian woman jailed for fictional unpublished...  Howard Portnoy   \n",
       "\n",
       "                                                text  label  \n",
       "4  Print  An Iranian woman has been sentenced to ...      1  "
      ]
     },
     "execution_count": 14,
     "metadata": {},
     "output_type": "execute_result"
    }
   ],
   "source": [
    "# Checking id=4 where we visually saw '\\n' in the text\n",
    "df[df['id'] == 4]"
   ]
  },
  {
   "cell_type": "markdown",
   "id": "fba71ae9",
   "metadata": {},
   "source": [
    "Given the data is likely web-scraped, we'll also look out for CSS-style tags like \\<a href=\\> or \\</a\\>, etc."
   ]
  },
  {
   "cell_type": "code",
   "execution_count": 15,
   "id": "2d02c52c",
   "metadata": {
    "ExecuteTime": {
     "end_time": "2022-03-26T04:45:42.907304Z",
     "start_time": "2022-03-26T04:45:42.791434Z"
    }
   },
   "outputs": [
    {
     "name": "stdout",
     "output_type": "stream",
     "text": [
      "Number of CSS-style tags in text: 0\n",
      "Number of CSS-style tags in text: 0\n",
      "Number of CSS-style tags in text: 90\n"
     ]
    }
   ],
   "source": [
    "# Checking for CSS-style tags\n",
    "print(\"Number of CSS-style tags in text: {}\".format(df['title'].str.contains(r'<.*?>', regex=True).sum()))\n",
    "print(\"Number of CSS-style tags in text: {}\".format(df['author'].str.contains(r'<.*?>', regex=True).sum()))\n",
    "print(\"Number of CSS-style tags in text: {}\".format(df['text'].str.contains(r'<.*?>', regex=True).sum()))"
   ]
  },
  {
   "cell_type": "code",
   "execution_count": 16,
   "id": "56951317",
   "metadata": {
    "ExecuteTime": {
     "end_time": "2022-03-26T04:45:44.805834Z",
     "start_time": "2022-03-26T04:45:44.705895Z"
    }
   },
   "outputs": [
    {
     "data": {
      "text/html": [
       "<div>\n",
       "<style scoped>\n",
       "    .dataframe tbody tr th:only-of-type {\n",
       "        vertical-align: middle;\n",
       "    }\n",
       "\n",
       "    .dataframe tbody tr th {\n",
       "        vertical-align: top;\n",
       "    }\n",
       "\n",
       "    .dataframe thead th {\n",
       "        text-align: right;\n",
       "    }\n",
       "</style>\n",
       "<table border=\"1\" class=\"dataframe\">\n",
       "  <thead>\n",
       "    <tr style=\"text-align: right;\">\n",
       "      <th></th>\n",
       "      <th>id</th>\n",
       "      <th>title</th>\n",
       "      <th>author</th>\n",
       "      <th>text</th>\n",
       "      <th>label</th>\n",
       "    </tr>\n",
       "  </thead>\n",
       "  <tbody>\n",
       "    <tr>\n",
       "      <th>563</th>\n",
       "      <td>563</td>\n",
       "      <td>Coming Unglued</td>\n",
       "      <td>John Kaminski</td>\n",
       "      <td>By John Kaminski on October 30, 2016 John Kami...</td>\n",
       "      <td>1</td>\n",
       "    </tr>\n",
       "    <tr>\n",
       "      <th>826</th>\n",
       "      <td>826</td>\n",
       "      <td>Syrian War Report – November 14, 2016: Govt Fo...</td>\n",
       "      <td>The Saker</td>\n",
       "      <td>Leave a Reply Click here to get more info on f...</td>\n",
       "      <td>1</td>\n",
       "    </tr>\n",
       "    <tr>\n",
       "      <th>1538</th>\n",
       "      <td>1538</td>\n",
       "      <td>NEW Donna Brazile email shows more questions g...</td>\n",
       "      <td>noauthor</td>\n",
       "      <td>NEW Donna Brazile email shows more questions g...</td>\n",
       "      <td>1</td>\n",
       "    </tr>\n",
       "    <tr>\n",
       "      <th>1539</th>\n",
       "      <td>1539</td>\n",
       "      <td>Podesta emails - Re: Obama Says He Didn’t Know...</td>\n",
       "      <td>Mike Rivero</td>\n",
       "      <td>View source Re: Obama Says He Didn’t Know Hill...</td>\n",
       "      <td>1</td>\n",
       "    </tr>\n",
       "    <tr>\n",
       "      <th>1623</th>\n",
       "      <td>1623</td>\n",
       "      <td>Deterioration of Interracial Relations During ...</td>\n",
       "      <td>The Saker</td>\n",
       "      <td>Leave a Reply Click here to get more info on f...</td>\n",
       "      <td>1</td>\n",
       "    </tr>\n",
       "  </tbody>\n",
       "</table>\n",
       "</div>"
      ],
      "text/plain": [
       "        id                                              title         author  \\\n",
       "563    563                                     Coming Unglued  John Kaminski   \n",
       "826    826  Syrian War Report – November 14, 2016: Govt Fo...      The Saker   \n",
       "1538  1538  NEW Donna Brazile email shows more questions g...       noauthor   \n",
       "1539  1539  Podesta emails - Re: Obama Says He Didn’t Know...    Mike Rivero   \n",
       "1623  1623  Deterioration of Interracial Relations During ...      The Saker   \n",
       "\n",
       "                                                   text  label  \n",
       "563   By John Kaminski on October 30, 2016 John Kami...      1  \n",
       "826   Leave a Reply Click here to get more info on f...      1  \n",
       "1538  NEW Donna Brazile email shows more questions g...      1  \n",
       "1539  View source Re: Obama Says He Didn’t Know Hill...      1  \n",
       "1623  Leave a Reply Click here to get more info on f...      1  "
      ]
     },
     "execution_count": 16,
     "metadata": {},
     "output_type": "execute_result"
    }
   ],
   "source": [
    "# Checking few rows with tags\n",
    "df[df['text'].str.contains(r'<.*?>', regex=True) == True].head()"
   ]
  },
  {
   "cell_type": "code",
   "execution_count": 17,
   "id": "bad3ef63",
   "metadata": {
    "ExecuteTime": {
     "end_time": "2022-03-26T04:45:47.275195Z",
     "start_time": "2022-03-26T04:45:47.178167Z"
    }
   },
   "outputs": [
    {
     "name": "stdout",
     "output_type": "stream",
     "text": [
      "[['< http://www.globalresearch.ca/isis-beheadings-of-journalists-cia-admitted-to-staging-fake-jihadist-videos-in-2010/5399345 >'], ['<b>', '</b>', '<i>', '</i>', '<em>', '</em>', '<strong>', '</strong>', '<q>', '</q>', '<cite>', '</cite>', '<blockquote>', '</blockquote>', \"<a href=''http://link-address.com''>\", '</a>'], ['<donna@brazileassociates.com>', '<john.podesta@gmail.com>', '<donna@brazileassociates.com>', '<john.podesta@gmail.com>', '<jpalmieri@hillaryclinton.com>', '<aelrod@hillaryclinton.com>', '<Minyon.Moore@deweysquare.com>', '<088DA582-5DFC-46B9-8767-0EB2FE42E57D@brazileassociates.com>', '<87E4B303477C2E41BFCAF7FE920279AB@mex05.mlsrvr.com>'], ['<jennifer.m.palmieri@gmail.com<mailto:jennifer.m.palmieri@gmail.com>', '<pir@hrcoffice.com<mailto:pir@hrcoffice.com>', '<pir@hrcoffice.com>', '<pir@hrcoffice.com>', '<jennifer.m.palmieri@gmail.com>', '<john.podesta@gmail.com>', '<cheryl.mills@gmail.com>', '<nmerrill@hrcoffice.com>', '<hsamuelson@cdmillsgroup.com>', '<17B2908F-F9FA-4518-8D24-3FD49AAEEB2D@hrcoffice.com>', '<20150308054059.5902416.1752.1552@hrcoffice.com>', '<B09DE10E-3545-4264-BA57-8DA771CF75F9@gmail.com>', '<B09DE10E-3545-4264-BA57-8DA771CF75F9@gmail.com>', '<CY1PR0301MB0732CE7A0443C6281E131E81A71A0@CY1PR0301MB0732.namprd03.prod.outlook.com>', '<jennifer.m.palmieri@gmail.co= m<mailto:jennifer.m.palmieri@gmail.com>', '<pir@hrcoffice.com<mailto:pir@= hrcoffice.com>', '<html>', '<head>', '<meta http-equiv=3D\"Content-Type\" content=3D\"text/html; charset=3DWindows-1= 252\">', '</head>', '<body dir=3D\"auto\">', '<div>', '<br>', '<br>', '<br>', '</div>', '<div>', '<br>', '<<a href=3D\"mailto:jennife= r.m.palmieri@gmail.com\">', '</a>', '<br>', '<br>', '</div>', '<div>', '<div>', '<br>', '<br>', '</div>', '<div>', '<br>', '<<a href=3D\"mailto:pir@hrco= ffice.com\">', '</a>', '<br>', '<br>', '</div>', '<blockquote type=3D\"cite\">', '<div>', '<div style=3D\"white-space:pre-wrap; word-wrap: break-word;\">', '</div>', '<div style=3D\"white-space:pre-wrap; word-wrap: break-word;\">', '<br>', '</div>', '<div style=3D\"white-space:pre-wrap; word-wrap: break-word;\">', '<a href=3D\"http= ://mobile.nytimes.com/2015/03/08/us/obama-says-he-didnt-know-hillary-clinto= n-was-using-private-email-address.html\">', '</a>', '</div>', '<br>', '<div style=3D\"color: rgb(38, 38, 38); font-family: Calibri, \\'Slate Pro\\', sa= ns-serif;\">', '</div>', '</div>', '</blockquote>', '</div>', '</body>', '</html>'], ['<b>', '</b>', '<i>', '</i>', '<em>', '</em>', '<strong>', '</strong>', '<q>', '</q>', '<cite>', '</cite>', '<blockquote>', '</blockquote>', \"<a href=''http://link-address.com''>\", '</a>'], ['<b>', '</b>', '<i>', '</i>', '<em>', '</em>', '<strong>', '</strong>', '<q>', '</q>', '<cite>', '</cite>', '<blockquote>', '</blockquote>', \"<a href=''http://link-address.com''>\", '</a>'], ['<b>', '</b>', '<i>', '</i>', '<em>', '</em>', '<strong>', '</strong>', '<q>', '</q>', '<cite>', '</cite>', '<blockquote>', '</blockquote>', \"<a href=''http://link-address.com''>\", '</a>'], ['<span itemprop=\"name\" content=\"TRUNEWS 10/26/16 Jeremy Wiles |  \">', '</span>', '<span itemprop=\"description\" content=\"\">', '</span>', '<span itemprop=\"duration\" content=\"4490\">', '</span>', '<span itemprop=\"thumbnail\" content=\"http://static.panda-os.com/p/1305/sp/130500/thumbnail/entry_id/0_jgdktlmn/version/1 /acv/62\">', '</span>', '<span itemprop=\"width\" content=\"350\">', '</span>', '<span itemprop=\"height\" content=\"25\">', '</span>', '<a href=\"http://corp.kaltura.com/products/video-platform-features\">', '</a>', '<a href=\"http://corp.kaltura.com/Products/Features/Video-Management\">', '</a>', '<a href=\"http://corp.kaltura.com/Video-Solutions\">', '</a>', '<a href=\"http://corp.kaltura.com/Products/Features/Video-Player\">', '</a>'], ['<dkendall@wc.com>'], ['<REDACTED>'], ['</p>', '<p>'], ['<b>', '</b>', '<i>', '</i>', '<em>', '</em>', '<strong>', '</strong>', '<q>', '</q>', '<cite>', '</cite>', '<blockquote>', '</blockquote>', \"<a href=''http://link-address.com''>\", '</a>'], ['<b>', '</b>', '<i>', '</i>', '<em>', '</em>', '<strong>', '</strong>', '<q>', '</q>', '<cite>', '</cite>', '<blockquote>', '</blockquote>', \"<a href=''http://link-address.com''>\", '</a>'], ['<a class=”twitter-follow-button” href=”https://twitter.com/MattAgorist” data-show-count=”false” data-size=”large”>', '</a>'], ['<b>', '</b>', '<i>', '</i>', '<em>', '</em>', '<strong>', '</strong>', '<q>', '</q>', '<cite>', '</cite>', '<blockquote>', '</blockquote>', \"<a href=''http://link-address.com''>\", '</a>'], ['</p>', '<p>'], ['<BAC.N>', '<601939.SS>', '<C.N>'], ['<b>', '</b>', '<i>', '</i>', '<em>', '</em>', '<strong>', '</strong>', '<q>', '</q>', '<cite>', '</cite>', '<blockquote>', '</blockquote>', \"<a href=''http://link-address.com''>\", '</a>'], ['<b>', '</b>', '<i>', '</i>', '<em>', '</em>', '<strong>', '</strong>', '<q>', '</q>', '<cite>', '</cite>', '<blockquote>', '</blockquote>', \"<a href=''http://link-address.com''>\", '</a>'], ['<re47@hillaryclinton.com>', '< oshur@hillaryclinton.com>', '<john.podesta@gmail.com>'], ['<span itemprop=\"name\" content=\"TRUNEWS 11/02/16 Jim Rickards | Spook D&#x27;etat: Deep State Civil War\">', '</span>', '<span itemprop=\"description\" content=\"Is there a George Washington style civil war currently raging within the Deep State? Today on TRUNEWS, Rick Wiles unravels the surreal claims of veteran intelligence asset Steve Pieczenik, as headlines of Clinton-Epstein pedophilia, America under the control of an elite shadow, and a counter-coup led through internet activism, plaster the feeds of believers. Rick also speaks with economic insider Jim Rickards regarding the looming financial Armageddon as global banks face the death of derivatives.\">', '</span>', '<span itemprop=\"duration\" content=\"5707\">', '</span>', '<span itemprop=\"thumbnail\" content=\"http://static.panda-os.com/p/1305/sp/130500/thumbnail/entry_id/0_a840ri7s/version/1 /acv/62\">', '</span>', '<span itemprop=\"width\" content=\"350\">', '</span>', '<span itemprop=\"height\" content=\"25\">', '</span>', '<a href=\"http://corp.kaltura.com/products/video-platform-features\">', '</a>', '<a href=\"http://corp.kaltura.com/Products/Features/Video-Management\">', '</a>', '<a href=\"http://corp.kaltura.com/Video-Solutions\">', '</a>', '<a href=\"http://corp.kaltura.com/Products/Features/Video-Player\">', '</a>'], ['<b>', '</b>', '<i>', '</i>', '<em>', '</em>', '<strong>', '</strong>', '<q>', '</q>', '<cite>', '</cite>', '<blockquote>', '</blockquote>', \"<a href=''http://link-address.com''>\", '</a>'], ['<b>', '</b>', '<i>', '</i>', '<em>', '</em>', '<strong>', '</strong>', '<q>', '</q>', '<cite>', '</cite>', '<blockquote>', '</blockquote>', \"<a href=''http://link-address.com''>\", '</a>'], ['<a href=\"\" title=\"\">', '<abbr title=\"\">', '<acronym title=\"\">', '<b>', '<blockquote cite=\"\">', '<cite>', '<code>', '<del datetime=\"\">', '<em>', '<i>', '<q cite=\"\">', '<s>', '<strike>', '<strong>'], ['<b>', '</b>', '<i>', '</i>', '<em>', '</em>', '<strong>', '</strong>', '<q>', '</q>', '<cite>', '</cite>', '<blockquote>', '</blockquote>', \"<a href=''http://link-address.com''>\", '</a>'], ['<ami@presidentclinton.com>'], ['<b>', '</b>', '<i>', '</i>', '<em>', '</em>', '<strong>', '</strong>', '<q>', '</q>', '<cite>', '</cite>', '<blockquote>', '</blockquote>', \"<a href=''http://link-address.com''>\", '</a>'], ['<span itemprop=\"name\" content=\"TRUNEWS 11/07/16 Jerome Corsi, Dr. Peter Jones | Election Day: Reprieve or Judgment?\">', '</span>', '<span itemprop=\"description\" content=\"Will the exposure of America’s darkest secrets make Christians hunger for Our Creator? Today, Rick Wiles addresses the REAL choice in Election 2016, where our nation will decide whether to endorse Satanism, or back a revival of The Body of Christ. Rick also speaks with Dr. Peter Jones about Hillary Clinton’s personal shaman, and WND senior writer, Jerome Corsi, to share his breaking developments on the state of the 650,000 emails seized by the FBI.\">', '</span>', '<span itemprop=\"duration\" content=\"7282\">', '</span>', '<span itemprop=\"thumbnail\" content=\"http://static.panda-os.com/p/1305/sp/130500/thumbnail/entry_id/0_qfc5sn0k/version/1 /acv/52\">', '</span>', '<span itemprop=\"width\" content=\"350\">', '</span>', '<span itemprop=\"height\" content=\"25\">', '</span>', '<a href=\"http://corp.kaltura.com/products/video-platform-features\">', '</a>', '<a href=\"http://corp.kaltura.com/Products/Features/Video-Management\">', '</a>', '<a href=\"http://corp.kaltura.com/Video-Solutions\">', '</a>', '<a href=\"http://corp.kaltura.com/Products/Features/Video-Player\">', '</a>'], ['<b>', '</b>', '<i>', '</i>', '<em>', '</em>', '<strong>', '</strong>', '<q>', '</q>', '<cite>', '</cite>', '<blockquote>', '</blockquote>', \"<a href=''http://link-address.com''>\", '</a>'], ['<insert need here>'], ['<b>', '</b>', '<i>', '</i>', '<em>', '</em>', '<strong>', '</strong>', '<q>', '</q>', '<cite>', '</cite>', '<blockquote>', '</blockquote>', \"<a href=''http://link-address.com''>\", '</a>'], ['< The Anti-Woman Candidate Running for President?—That Would Be the Democrat Hillary Clinton >'], ['<b>', '</b>', '<i>', '</i>', '<em>', '</em>', '<strong>', '</strong>', '<q>', '</q>', '<cite>', '</cite>', '<blockquote>', '</blockquote>', \"<a href=''http://link-address.com''>\", '</a>'], ['<>'], ['< This email address is being protected from spambots. You need JavaScript enabled to view it. >', '< This email address is being protected from spambots. You need JavaScript enabled to view it. >', '< This email address is being protected from spambots. You need JavaScript enabled to view it. >', '< This email address is being protected from spambots. You need JavaScript enabled to view it. >', '< This email address is being protected from spambots. You need JavaScript enabled to view it. >'], ['</p>', '<p>'], ['<b>', '</b>', '<i>', '</i>', '<em>', '</em>', '<strong>', '</strong>', '<q>', '</q>', '<cite>', '</cite>', '<blockquote>', '</blockquote>', \"<a href=''http://link-address.com''>\", '</a>'], ['<b>', '</b>', '<i>', '</i>', '<em>', '</em>', '<strong>', '</strong>', '<q>', '</q>', '<cite>', '</cite>', '<blockquote>', '</blockquote>', \"<a href=''http://link-address.com''>\", '</a>'], ['<eschmidt@google.com>', '<cheryl.mills@gmail.com>'], ['<b>', '</b>', '<i>', '</i>', '<em>', '</em>', '<strong>', '</strong>', '<q>', '</q>', '<cite>', '</cite>', '<blockquote>', '</blockquote>', \"<a href=''http://link-address.com''>\", '</a>'], [\"< ALL THE DTAP KIDS, catch carry and spread pertussis. so the ones meant to be protected, the newborn babies, are now ALL INFECTED FROM SYMPTOMLESS DTAP VACCINATED SIBLINGS. Oh the chart is for pertussis in Australia/ Western Australia, Australia, lucky US! got Dtap first in the world 1996. UK 2004, USA 2008. The graphs are identical, adjusted for time since introduction of Dtap. In 2012, we had double the number for 2011. Now we don't even bother to report whooping cough, Out of my grandchildrens two classes, 60 kids with whooping cough 4 reported it, and bothered to get tested. Yes that long lasting cough your kids have, if it lasts 6-8 weeks, yes its whooping cough. Not serious at all, the kids here still go to school., they are allowed to THEY ARE VACCINATED! ROFL XX Besides the ones coughing, are the ones we know to keep away from newborn babies, it is the Dtap vaccinated, that are not coughing that are the menace! Karyn Draper  And yes I’m sure! He’s amazing and in perfect health. You’ll just have to admit you don’t know everything and take my word on it. ang  So are you Karyn Abbey Chase, or Karyn Draper, you trolling skills are appalling, at least try and remember which alias you are damn using! Hilarious stuff! Karyn Draper  I’m not trolling. Suck it up I have 2 id’s and this site decided it wouldn’t log me in through fb with the one I originally used. I tried several times but it kept catching this one so I said fuck it I’ll post using this one then. ang  OK then I apologise. Disqus is notorious for blocking people, so why did they block your first alias? Karyn Draper  Couldn’t tell you. This is the first article of theirs I’ve ever commented on. And the last. Worse than fb for sure. ang  I agree Disquis is terrible. Anyway if you are in Canada, do you know when they switched completely to DTap, the old one, that worked was called DTP. So the important bit is the aP a meaning acellular, instead of whole vaccine. It is more of a GMO type vaccine, I was chatting on line to someone just like you in UK, and he sent me the raw stats, ie number of whooping cough reports per year, for last 20 years. I told him, that they introduced Dtap in 2004, and was spot on. The correlation is that clear. Do you have the stats, yearly for whooping cough in Canada? Our vaccination rate is 93% in Australia, do you know the rates in Canada. Oh, had an aunty in Canada, Ontario, right near Niagra falls. ang  Hello Karyn, is you alter ego, another Karyn, weird you have two different surnames, did you just get married in the last 5 minutes or something weird? Karyn Draper  You really wanna change the subject? That all your facts are wrong. K goodnight psychopath ang  Posting in a few threads, nice to meet you Karen, you did explain the other thread why you have multiple aliases, I accept that. Did you know there is no polio in India, but Bill Gates has just crippled 40,000 by using a live vaccine, that is proven to spread polio. Why did he do this? ang  Yes the latest is called z ika Brazil All pregnant women got T dap mandated 2014, vaccines were ready and begun My 2015. Women even 20 weeks pregnant in outlying areas got the jab. Look what happened 20 weeks later. Out of 5,000 sick babies, 5.000 got the jab while still in utero. Out of those 5,000 sick micro babies, 4 (FOUR) had zika, weird how CDC think people will believe it was a mossie? As for USA, they have more sick vaccine damaged babies than Brazil, they used to have 400 a year, after pregnancy jabs, they now have 25,000 a year since 2013. There is no zika in USA, so what are they trying to blame now, pesticides? Or are they going to say, oh, must have had that mossie in USA, also, but we just didn’t know? Centres for Disease Corrution…………. the latest paper they put out claiming OH ITS ZIKA, could have been written by a two year old. The real scientists in this world, cringe, at their BLANTANT FRAUD. ang  Seems the troll cant remember what alias he/she is using, weird that? I write to a Karyn Abbey Chase, yet she forgets which alias, and replies as Karen Draper? Oh well they only have to have High School certificate, work out of India and get paid Rs7000 a month, yeah $20 a week! Karyn Draper  Your an idiot… ang  Add some information there, please, any reason why you believe MMR vaccine is safe? Any reason why you believe pollution, and contaminated with pesticides etc, food is the only reason for autism? I agree it could be one, but surely injecting a baby with aluminium, glyphosate, and all the other things, besides three different diseases, all in one shot, possible could be dangerous? None of my kids got the MMR, different vaccines then, they are all fine, all my grandkids got the MMR< now I have 4 out of 9 autistic grandchildren. Good on Robert De Niro for asking the right questions. Yojimbo  okay there is a fucking article on the man RIGHT up top, how are you spelling his name wrong you fucking tards? lemonfoundation  Learn more about WMDs: chem/bio-warfare, depleted uranium (DU), vaccine contamination, and multi-trillion $$$ Holocaustal government cover-up it is, join us on FB –>\"], ['<section>', '<h2>', '</h2>', '</section>', '<section>', '<h2>', '</h2>', '</section>', '<section>', '<h3>', '</h3>', '</section>', '<section>', '<h2>', '</h2>', '</section>', '<section>', '<h2>', '</h2>', '</section>', '<section>', '<h3>', '</h3>', '</section>'], ['<a href=\"\" title=\"\">', '<abbr title=\"\">', '<acronym title=\"\">', '<b>', '<blockquote cite=\"\">', '<cite>', '<code>', '<del datetime=\"\">', '<em>', '<i>', '<q cite=\"\">', '<strike>', '<strong>'], ['<= num2; i++) { string str = Strings.Mid(WhichField, i, 1); if (str == \"\\'\") { str = str + \"\\'\"; } expression = expression + str; } return Strings.Trim( Strings.Replace(Strings.Replace(Strings.Replace(Strings.Replace( Strings.Replace(Strings.Replace(Strings.Replace(Strings.Replace( Strings.Replace(Strings.Replace(Strings.Replace(Strings.Replace( Strings.Replace(Strings.Replace(Strings.Replace(Strings.Replace( Strings.Replace(Strings.Replace(Strings.Replace(Strings.Replace( Strings.Replace(Strings.Replace(Strings.Replace(Strings.Replace( expression, \"xp_\", \"\", 1, -1, CompareMethod.Text), \"sp_\", \"\", 1, -1, CompareMethod.Text), \"--\", \"-\", 1, -1, CompareMethod.Binary), \"alter table\", \"\", 1, -1, CompareMethod.Text), \"drop table\", \"\", 1, -1, CompareMethod.Text), \"create table\", \"\", 1, -1, CompareMethod.Text), \"create database\", \"\", 1, -1, CompareMethod.Text), \"alter table\", \"\", 1, -1, CompareMethod.Text), \"alter column\", \"\", 1, -1, CompareMethod.Text), \"drop column\", \"\", 1, -1, CompareMethod.Text), \"drop database\", \"\", 1, -1, CompareMethod.Text), \"1=1\", \"\", 1, -1, CompareMethod.Text), \"union select\", \"\", 1, -1, CompareMethod.Text), \"/*\", \"\", 1, -1, CompareMethod.Text), \"*/\", \"\", 1, -1, CompareMethod.Text), \"boot.ini\", \"\", 1, -1, CompareMethod.Text), \"../\", \"\", 1, -1, CompareMethod.Text), \"%27\", \"\", 1, -1, CompareMethod.Text), \";dir\", \"\", 1, -1, CompareMethod.Text), \"|dir\", \"\", 1, -1, CompareMethod.Text), \"<script\", \"\", 1, -1, CompareMethod.Text), \"</script>'], ['<DateTime>'], ['<b>', '</b>', '<i>', '</i>', '<em>', '</em>', '<strong>', '</strong>', '<q>', '</q>', '<cite>', '</cite>', '<blockquote>', '</blockquote>', \"<a href=''http://link-address.com''>\", '</a>'], ['< “You Ruined Your Own Communities, Don’t Ruin Ours”–Chicago Whites Demonstrate Against Black Lives Matter After Black Shot >'], ['<b>', '</b>', '<i>', '</i>', '<em>', '</em>', '<strong>', '</strong>', '<q>', '</q>', '<cite>', '</cite>', '<blockquote>', '</blockquote>', \"<a href=''http://link-address.com''>\", '</a>'], ['<b>', '</b>', '<i>', '</i>', '<em>', '</em>', '<strong>', '</strong>', '<q>', '</q>', '<cite>', '</cite>', '<blockquote>', '</blockquote>', \"<a href=''http://link-address.com''>\", '</a>'], ['<25 mcg=”” mercury=”” p=””>', '<25 br=”” mcg=”” mercury=””>', '<25 br=”” mcg=”” mercury=””>', '<25 br=”” mcg=”” mercury=””>'], ['<b>', '</b>', '<i>', '</i>', '<em>', '</em>', '<strong>', '</strong>', '<q>', '</q>', '<cite>', '</cite>', '<blockquote>', '</blockquote>', \"<a href=''http://link-address.com''>\", '</a>'], ['<b>', '</b>', '<i>', '</i>', '<em>', '</em>', '<strong>', '</strong>', '<q>', '</q>', '<cite>', '</cite>', '<blockquote>', '</blockquote>', \"<a href=''http://link-address.com''>\", '</a>'], ['<span itemprop=\"name\" content=\"TRUNEWS 10/27/16 Rob Kirby | Unspoken Secrets\">', '</span>', '<span itemprop=\"description\" content=\"Will the media ever publicize the DARKEST secrets already released by Julian Assange? Today on TRUNEWS, Rick Wiles details the latest election defining revelations, as WikiLeaks exposes Bill’s generational ‘get rich’ scheme, run through the Clinton Foundation, and the elite&#x27;s preparations for World War as an October Surprise. Rick also speaks with Rob Kirby, the financial analyst behind Kirby Analytics, regarding the Deutsche Bank’s magical earnings report, and the state of the largest economic bubble...\">', '</span>', '<span itemprop=\"duration\" content=\"4889\">', '</span>', '<span itemprop=\"thumbnail\" content=\"http://static.panda-os.com/p/1305/sp/130500/thumbnail/entry_id/0_7hhiwe8g/version/1 /acv/62\">', '</span>', '<span itemprop=\"width\" content=\"350\">', '</span>', '<span itemprop=\"height\" content=\"25\">', '</span>', '<a href=\"http://corp.kaltura.com/products/video-platform-features\">', '</a>', '<a href=\"http://corp.kaltura.com/Products/Features/Video-Management\">', '</a>', '<a href=\"http://corp.kaltura.com/Video-Solutions\">', '</a>', '<a href=\"http://corp.kaltura.com/Products/Features/Video-Player\">', '</a>'], ['< /p>'], ['<<as to when the case (of corrupt practice under section 123 (3) and (3A) of Representation of People Act 1951) is held proved has not been specifically laid as law. This requires to be authoritatively decided. As stated earlier when and under what circumstances speeches of the leaders of the political party or the appeal of any other person with the consent by a candidate or his election agent to vote or refrain from voting on the ground of religion, race, caste or community or language, etc. or promotion or an attempt to promote feelings of enmity or hatred between different classes of citizens of India on the ground of religion, race, caste, community or language with the consent of the candidate or his election agent for the furtherance of the prospects of the election of the candidate or prejudicially affect the election of any candidates constitutes corrupt practice under sub-sections [3] or [3A] of Section 123. Its content and scope also require to be clearly laid down authoritatively lest miscarriage of justice in interpretation of “corrupt practice” involved in every election petition would ensue. The purity of election process gets fouled and be fraught with deleterious effect in a democratic polity. Thus, without expressing any opinion on these questions, we are of the view that the entire case requires to be heard and decided by a large Bench of five Judges since the decision thereon upon the purity of election process and requires to be decided authoritatively. We, therefore, direct the Registry to place the case before our learned brother, the Chief Justice for constituting a larger Bench of five Judges, and, if possible, at an early date so that all the questions arising in the present appeal could be decided authoritatively and expeditiously. >', '<<Ahmadi evaded comment on the judgement to define Hindutva. He has reservations but is reluctant to spell them out. Asked why he did not refer it to the larger bench, he says that there has to be a system and that the chief justice cannot do so on his own. I reminded him of the letter I had written, requesting him to constitute a larger bench to consider the judgement which I thought affected the basic structure of the Constitution and secularism. He says he did not act “for obvious reasons”, but adds that in “a recent judgement, the demand for a larger bench has been made”.>', '<< Former Indian chief justice A.M. Ahmadi yesterday said Muslims have let down the constitution by not availing of rights enshrined therein. Ahmadi, in his no-nonsense address at the city’s India Islamic Cultural Centre (IICC), urged the gathering of around 50 Muslims drawn from different walks of life to use constitutional rights to their advantage.>'], ['<b>', '</b>', '<i>', '</i>', '<em>', '</em>', '<strong>', '</strong>', '<q>', '</q>', '<cite>', '</cite>', '<blockquote>', '</blockquote>', \"<a href=''http://link-address.com''>\", '</a>'], ['<span itemprop=\"name\" content=\"TRUNEWS 10/28/16 Dr. Yvette Isaac | When Will They Lock Her Up?\">', '</span>', '<span itemprop=\"description\" content=\"\">', '</span>', '<span itemprop=\"duration\" content=\"4259\">', '</span>', '<span itemprop=\"thumbnail\" content=\"http://static.panda-os.com/p/1305/sp/130500/thumbnail/entry_id/0_yzlnvmv5/version/0/acv/52\">', '</span>', '<span itemprop=\"width\" content=\"350\">', '</span>', '<span itemprop=\"height\" content=\"25\">', '</span>', '<a href=\"http://corp.kaltura.com/products/video-platform-features\">', '</a>', '<a href=\"http://corp.kaltura.com/Products/Features/Video-Management\">', '</a>', '<a href=\"http://corp.kaltura.com/Video-Solutions\">', '</a>', '<a href=\"http://corp.kaltura.com/Products/Features/Video-Player\">', '</a>'], ['<REDACTED>'], ['<b>', '</b>', '<i>', '</i>', '<em>', '</em>', '<strong>', '</strong>', '<q>', '</q>', '<cite>', '</cite>', '<blockquote>', '</blockquote>', \"<a href=''http://link-address.com''>\", '</a>'], ['<b>', '</b>', '<i>', '</i>', '<em>', '</em>', '<strong>', '</strong>', '<q>', '</q>', '<cite>', '</cite>', '<blockquote>', '</blockquote>', \"<a href=''http://link-address.com''>\", '</a>'], ['< No, Mexico Doesn’t Have A Wall On Its Southern Border—But If Trump Wins It Might Build One >'], ['<span itemprop=\"name\" content=\"TRUNEWS 11/01/16 Sen Dick Black | FBI Uprising Threatens Clinton Syndicate\">', '</span>', '<span itemprop=\"description\" content=\"Will the patriot uprising inside the FBI successfully topple the Clinton Crime Syndicate? Today on TRUNEWS, Rick Wiles addresses the very real possibility that Huma Abedin&#x27;s sexually sick husband, Anthony Weiner, has become State’s evidence against Hillary and her legacy of treason. Along that line of illegal collusion, Rick also speaks with Virginia House Senator Dick Black regarding the $675,000 cash donation by Governor Terry McAuliffe, to the campaign of FBI Deputy Director Andrew McCabe’s wife....\">', '</span>', '<span itemprop=\"duration\" content=\"5458\">', '</span>', '<span itemprop=\"thumbnail\" content=\"http://static.panda-os.com/p/1305/sp/130500/thumbnail/entry_id/0_m0iupnij/version/1 /acv/62\">', '</span>', '<span itemprop=\"width\" content=\"350\">', '</span>', '<span itemprop=\"height\" content=\"25\">', '</span>', '<a href=\"http://corp.kaltura.com/products/video-platform-features\">', '</a>', '<a href=\"http://corp.kaltura.com/Products/Features/Video-Management\">', '</a>', '<a href=\"http://corp.kaltura.com/Video-Solutions\">', '</a>', '<a href=\"http://corp.kaltura.com/Products/Features/Video-Player\">', '</a>'], ['<b>', '</b>', '<i>', '</i>', '<em>', '</em>', '<strong>', '</strong>', '<q>', '</q>', '<cite>', '</cite>', '<blockquote>', '</blockquote>', \"<a href=''http://link-address.com''>\", '</a>'], ['<b>', '</b>', '<i>', '</i>', '<em>', '</em>', '<strong>', '</strong>', '<q>', '</q>', '<cite>', '</cite>', '<blockquote>', '</blockquote>', \"<a href=''http://link-address.com''>\", '</a>'], ['<b>', '</b>', '<i>', '</i>', '<em>', '</em>', '<strong>', '</strong>', '<q>', '</q>', '<cite>', '</cite>', '<blockquote>', '</blockquote>', \"<a href=''http://link-address.com''>\", '</a>'], ['<b>', '</b>', '<i>', '</i>', '<em>', '</em>', '<strong>', '</strong>', '<q>', '</q>', '<cite>', '</cite>', '<blockquote>', '</blockquote>', \"<a href=''http://link-address.com''>\", '</a>'], ['<b>', '</b>', '<i>', '</i>', '<em>', '</em>', '<strong>', '</strong>', '<q>', '</q>', '<cite>', '</cite>', '<blockquote>', '</blockquote>', \"<a href=''http://link-address.com''>\", '</a>'], ['<b>', '</b>', '<i>', '</i>', '<em>', '</em>', '<strong>', '</strong>', '<q>', '</q>', '<cite>', '</cite>', '<blockquote>', '</blockquote>', \"<a href=''http://link-address.com''>\", '</a>'], ['< [email protected] >'], ['<b>', '</b>', '<i>', '</i>', '<em>', '</em>', '<strong>', '</strong>', '<q>', '</q>', '<cite>', '</cite>', '<blockquote>', '</blockquote>', \"<a href=''http://link-address.com''>\", '</a>'], ['<b>', '</b>', '<i>', '</i>', '<em>', '</em>', '<strong>', '</strong>', '<q>', '</q>', '<cite>', '</cite>', '<blockquote>', '</blockquote>', \"<a href=''http://link-address.com''>\", '</a>'], ['<b>', '</b>', '<i>', '</i>', '<em>', '</em>', '<strong>', '</strong>', '<q>', '</q>', '<cite>', '</cite>', '<blockquote>', '</blockquote>', \"<a href=''http://link-address.com''>\", '</a>'], ['<b>', '</b>', '<i>', '</i>', '<em>', '</em>', '<strong>', '</strong>', '<q>', '</q>', '<cite>', '</cite>', '<blockquote>', '</blockquote>', \"<a href=''http://link-address.com''>\", '</a>'], ['<VWS.CO>', '<NDXG.DE>'], ['<b>', '</b>', '<i>', '</i>', '<em>', '</em>', '<strong>', '</strong>', '<q>', '</q>', '<cite>', '</cite>', '<blockquote>', '</blockquote>', \"<a href=''http://link-address.com''>\", '</a>'], ['<a href=\"\" title=\"\">', '<abbr title=\"\">', '<acronym title=\"\">', '<b>', '<blockquote cite=\"\">', '<cite>', '<code>', '<del datetime=\"\">', '<em>', '<i>', '<q cite=\"\">', '<strike>', '<strong>'], ['<b>', '</b>', '<i>', '</i>', '<em>', '</em>', '<strong>', '</strong>', '<q>', '</q>', '<cite>', '</cite>', '<blockquote>', '</blockquote>', \"<a href=''http://link-address.com''>\", '</a>'], ['<a href=\"https://www.youtube-nocookie.com/embed/DcNoILouOjI?rel=0&amp;wmode=opaque&amp;autohide=1\">', '</a>'], ['<b>', '</b>', '<i>', '</i>', '<em>', '</em>', '<strong>', '</strong>', '<q>', '</q>', '<cite>', '</cite>', '<blockquote>', '</blockquote>', \"<a href=''http://link-address.com''>\", '</a>'], ['<b>', '</b>', '<i>', '</i>', '<em>', '</em>', '<strong>', '</strong>', '<q>', '</q>', '<cite>', '</cite>', '<blockquote>', '</blockquote>', \"<a href=''http://link-address.com''>\", '</a>'], ['<b>', '</b>', '<i>', '</i>', '<em>', '</em>', '<strong>', '</strong>', '<q>', '</q>', '<cite>', '</cite>', '<blockquote>', '</blockquote>', \"<a href=''http://link-address.com''>\", '</a>'], ['<…>'], ['<span itemprop=\"name\" content=\"TRUNEWS 11/04/16 Spirit Cooking: Will America Repent Before The Russians Fry US\">', '</span>', '<span itemprop=\"description\" content=\"Will America repent BEFORE the Russians fry our nation with nukes? Today on TRUNEWS, Rick Wiles discusses the shocking vindication of his 18 years of warnings from God’s pulpit, that our reality has been hijacked by a Luciferian blood drinking elite. Rick will detail the latest revelations from the FBI investigation into Hillary Diane Rodham Clinton, involving trusted aide Huma Abedin turning State’s evidence, and WikiLeaks releasing proof the Left engages in satanic ’Spirit Cooking’ rituals.\">', '</span>', '<span itemprop=\"duration\" content=\"4200\">', '</span>', '<span itemprop=\"thumbnail\" content=\"http://static.panda-os.com/p/1305/sp/130500/thumbnail/entry_id/0_kgq98alm/version/1 /acv/62\">', '</span>', '<span itemprop=\"width\" content=\"350\">', '</span>', '<span itemprop=\"height\" content=\"25\">', '</span>', '<a href=\"http://corp.kaltura.com/products/video-platform-features\">', '</a>', '<a href=\"http://corp.kaltura.com/Products/Features/Video-Management\">', '</a>', '<a href=\"http://corp.kaltura.com/Video-Solutions\">', '</a>', '<a href=\"http://corp.kaltura.com/Products/Features/Video-Player\">', '</a>'], ['<span itemprop=\"name\" content=\"TRUNEWS 11/08/16 Robert Jeffress, Darrell Scott | America&#x27;s Decision Day 2016\">', '</span>', '<span itemprop=\"description\" content=\"Will America embrace Light as our nation deliberates commitment to a Dark future? Today on TRUNEWS, Rick Wiles discusses Election Day turmoil as the media pre-crowns Queen Hillary, and deflates the prospects of a President Trump. Rick is also joined by Pastor Darrell Scott and Pastor Robert Jeffress to expand on the spiritual significance of today&#x27;s results, and pray for safety, peace, and righteousness to prevail in our land.\">', '</span>', '<span itemprop=\"duration\" content=\"4013\">', '</span>', '<span itemprop=\"thumbnail\" content=\"http://static.panda-os.com/p/1305/sp/130500/thumbnail/entry_id/0_13ddwv4e/version/0/acv/42\">', '</span>', '<span itemprop=\"width\" content=\"350\">', '</span>', '<span itemprop=\"height\" content=\"25\">', '</span>', '<a href=\"http://corp.kaltura.com/products/video-platform-features\">', '</a>', '<a href=\"http://corp.kaltura.com/Products/Features/Video-Management\">', '</a>', '<a href=\"http://corp.kaltura.com/Video-Solutions\">', '</a>', '<a href=\"http://corp.kaltura.com/Products/Features/Video-Player\">', '</a>'], ['<span itemprop=\"name\" content=\"TRUNEWS 10/31/16 Dr. Lance Wallnau | Answered Prayer: The Cabal Crumbles\">', '</span>', '<span itemprop=\"description\" content=\"Is the new FBI investigation into Hillary Rodham Clinton God’s answer to His saints? Today on TRUNEWS, Rick Wiles expands on James Comey’s Friday announcement, and the scandalous tie in with long time aide, and Muslim Brotherhood darling, Huma Abedin. Pastor Rick also speaks with Dr. Lance Wallnau regarding the Lord’s use of Donald Trump as a spiritual wrecking ball in The Body of Christ. Edward Szall provides updates on the latest from WikiLeaks, and Fior Hernandez details the major spiritual shift...\">', '</span>', '<span itemprop=\"duration\" content=\"5123\">', '</span>', '<span itemprop=\"thumbnail\" content=\"http://static.panda-os.com/p/1305/sp/130500/thumbnail/entry_id/0_kvyhphja/version/1 /acv/62\">', '</span>', '<span itemprop=\"width\" content=\"350\">', '</span>', '<span itemprop=\"height\" content=\"25\">', '</span>', '<a href=\"http://corp.kaltura.com/products/video-platform-features\">', '</a>', '<a href=\"http://corp.kaltura.com/Products/Features/Video-Management\">', '</a>', '<a href=\"http://corp.kaltura.com/Video-Solutions\">', '</a>', '<a href=\"http://corp.kaltura.com/Products/Features/Video-Player\">', '</a>'], ['<>'], ['<.FTEU3>', '<.FTSE>', '<.GDAXI>', '<.MIAPJ0000PUS>', '<.N225>', '<.VIX>'], ['</p>', '<p>'], ['<a href=\"https://www.youtube-nocookie.com/embed/C6cE2F2b47I?rel=0&amp;wmode=opaque&amp;autohide=1\">', '</a>'], ['</p>', '<p>']]\n"
     ]
    }
   ],
   "source": [
    "# Checking specific tags\n",
    "tags = []\n",
    "for i in list(df[df['text'].str.contains(r'<.*?>', regex=True) == True].text.values):\n",
    "    tags.append(re.findall(r'<.*?>', i))\n",
    "\n",
    "print(tags)"
   ]
  },
  {
   "cell_type": "markdown",
   "id": "69011209",
   "metadata": {},
   "source": [
    "Looking at these tags, we could see most of them are definitely CSS tags. Other things include email address and a few  lengthy passages, mainly part of the span tag.\n",
    "\n",
    "Perhaps we could keep them as they are append to the contents of the text, but the amount of data here is exceedingly small (size of 90) vs the amount of data we have in our dataset (size 20800). This amounts to less than 1% of our data (around 0.4%), thus we could safely assume that the removal of this content would have negliable impact on the model we develop."
   ]
  },
  {
   "cell_type": "code",
   "execution_count": 18,
   "id": "975071b7",
   "metadata": {
    "ExecuteTime": {
     "end_time": "2022-03-26T04:45:50.077188Z",
     "start_time": "2022-03-26T04:45:49.981375Z"
    }
   },
   "outputs": [],
   "source": [
    "# Replacing tags with spaces\n",
    "df['text'] = df['text'].str.replace(r'<.*?>',' ', regex=True)"
   ]
  },
  {
   "cell_type": "code",
   "execution_count": 19,
   "id": "4d72f611",
   "metadata": {
    "ExecuteTime": {
     "end_time": "2022-03-26T04:45:50.608719Z",
     "start_time": "2022-03-26T04:45:50.508903Z"
    }
   },
   "outputs": [
    {
     "name": "stdout",
     "output_type": "stream",
     "text": [
      "Number of CSS-style tags in text: 0\n"
     ]
    }
   ],
   "source": [
    "print(\"Number of CSS-style tags in text: {}\".format(df['text'].str.contains(r'<.*?>', regex=True).sum()))"
   ]
  },
  {
   "cell_type": "markdown",
   "id": "8bf6a794",
   "metadata": {},
   "source": [
    "While there could be other potential characters that might need to be address such as special characters or emojis, we could consider them in the future if the clean up to this point appears insufficient after we trained our predictive model.\n",
    "\n",
    "For now, we'll merge our columns together into one and create one large string under the column merged. We'll leave label alone (that'll be our target) and we'll make merged our feature."
   ]
  },
  {
   "cell_type": "code",
   "execution_count": 20,
   "id": "f23cc213",
   "metadata": {
    "ExecuteTime": {
     "end_time": "2022-03-26T04:45:51.865187Z",
     "start_time": "2022-03-26T04:45:51.689293Z"
    }
   },
   "outputs": [
    {
     "data": {
      "text/html": [
       "<div>\n",
       "<style scoped>\n",
       "    .dataframe tbody tr th:only-of-type {\n",
       "        vertical-align: middle;\n",
       "    }\n",
       "\n",
       "    .dataframe tbody tr th {\n",
       "        vertical-align: top;\n",
       "    }\n",
       "\n",
       "    .dataframe thead th {\n",
       "        text-align: right;\n",
       "    }\n",
       "</style>\n",
       "<table border=\"1\" class=\"dataframe\">\n",
       "  <thead>\n",
       "    <tr style=\"text-align: right;\">\n",
       "      <th></th>\n",
       "      <th>id</th>\n",
       "      <th>title</th>\n",
       "      <th>author</th>\n",
       "      <th>text</th>\n",
       "      <th>label</th>\n",
       "      <th>merged</th>\n",
       "    </tr>\n",
       "  </thead>\n",
       "  <tbody>\n",
       "    <tr>\n",
       "      <th>0</th>\n",
       "      <td>0</td>\n",
       "      <td>House Dem Aide: We Didn’t Even See Comey’s Let...</td>\n",
       "      <td>Darrell Lucus</td>\n",
       "      <td>House Dem Aide: We Didn’t Even See Comey’s Let...</td>\n",
       "      <td>1</td>\n",
       "      <td>House Dem Aide: We Didn’t Even See Comey’s Let...</td>\n",
       "    </tr>\n",
       "    <tr>\n",
       "      <th>1</th>\n",
       "      <td>1</td>\n",
       "      <td>FLYNN: Hillary Clinton, Big Woman on Campus - ...</td>\n",
       "      <td>Daniel J. Flynn</td>\n",
       "      <td>Ever get the feeling your life circles the rou...</td>\n",
       "      <td>0</td>\n",
       "      <td>FLYNN: Hillary Clinton, Big Woman on Campus - ...</td>\n",
       "    </tr>\n",
       "    <tr>\n",
       "      <th>2</th>\n",
       "      <td>2</td>\n",
       "      <td>Why the Truth Might Get You Fired</td>\n",
       "      <td>Consortiumnews.com</td>\n",
       "      <td>Why the Truth Might Get You Fired October 29, ...</td>\n",
       "      <td>1</td>\n",
       "      <td>Why the Truth Might Get You Fired Consortiumne...</td>\n",
       "    </tr>\n",
       "    <tr>\n",
       "      <th>3</th>\n",
       "      <td>3</td>\n",
       "      <td>15 Civilians Killed In Single US Airstrike Hav...</td>\n",
       "      <td>Jessica Purkiss</td>\n",
       "      <td>Videos 15 Civilians Killed In Single US Airstr...</td>\n",
       "      <td>1</td>\n",
       "      <td>15 Civilians Killed In Single US Airstrike Hav...</td>\n",
       "    </tr>\n",
       "    <tr>\n",
       "      <th>4</th>\n",
       "      <td>4</td>\n",
       "      <td>Iranian woman jailed for fictional unpublished...</td>\n",
       "      <td>Howard Portnoy</td>\n",
       "      <td>Print  An Iranian woman has been sentenced to ...</td>\n",
       "      <td>1</td>\n",
       "      <td>Iranian woman jailed for fictional unpublished...</td>\n",
       "    </tr>\n",
       "    <tr>\n",
       "      <th>...</th>\n",
       "      <td>...</td>\n",
       "      <td>...</td>\n",
       "      <td>...</td>\n",
       "      <td>...</td>\n",
       "      <td>...</td>\n",
       "      <td>...</td>\n",
       "    </tr>\n",
       "    <tr>\n",
       "      <th>20795</th>\n",
       "      <td>20795</td>\n",
       "      <td>Rapper T.I.: Trump a ’Poster Child For White S...</td>\n",
       "      <td>Jerome Hudson</td>\n",
       "      <td>Rapper T. I. unloaded on black celebrities who...</td>\n",
       "      <td>0</td>\n",
       "      <td>Rapper T.I.: Trump a ’Poster Child For White S...</td>\n",
       "    </tr>\n",
       "    <tr>\n",
       "      <th>20796</th>\n",
       "      <td>20796</td>\n",
       "      <td>N.F.L. Playoffs: Schedule, Matchups and Odds -...</td>\n",
       "      <td>Benjamin Hoffman</td>\n",
       "      <td>When the Green Bay Packers lost to the Washing...</td>\n",
       "      <td>0</td>\n",
       "      <td>N.F.L. Playoffs: Schedule, Matchups and Odds -...</td>\n",
       "    </tr>\n",
       "    <tr>\n",
       "      <th>20797</th>\n",
       "      <td>20797</td>\n",
       "      <td>Macy’s Is Said to Receive Takeover Approach by...</td>\n",
       "      <td>Michael J. de la Merced and Rachel Abrams</td>\n",
       "      <td>The Macy’s of today grew from the union of sev...</td>\n",
       "      <td>0</td>\n",
       "      <td>Macy’s Is Said to Receive Takeover Approach by...</td>\n",
       "    </tr>\n",
       "    <tr>\n",
       "      <th>20798</th>\n",
       "      <td>20798</td>\n",
       "      <td>NATO, Russia To Hold Parallel Exercises In Bal...</td>\n",
       "      <td>Alex Ansary</td>\n",
       "      <td>NATO, Russia To Hold Parallel Exercises In Bal...</td>\n",
       "      <td>1</td>\n",
       "      <td>NATO, Russia To Hold Parallel Exercises In Bal...</td>\n",
       "    </tr>\n",
       "    <tr>\n",
       "      <th>20799</th>\n",
       "      <td>20799</td>\n",
       "      <td>What Keeps the F-35 Alive</td>\n",
       "      <td>David Swanson</td>\n",
       "      <td>David Swanson is an author, activist, journa...</td>\n",
       "      <td>1</td>\n",
       "      <td>What Keeps the F-35 Alive David Swanson   Davi...</td>\n",
       "    </tr>\n",
       "  </tbody>\n",
       "</table>\n",
       "<p>20800 rows × 6 columns</p>\n",
       "</div>"
      ],
      "text/plain": [
       "          id                                              title  \\\n",
       "0          0  House Dem Aide: We Didn’t Even See Comey’s Let...   \n",
       "1          1  FLYNN: Hillary Clinton, Big Woman on Campus - ...   \n",
       "2          2                  Why the Truth Might Get You Fired   \n",
       "3          3  15 Civilians Killed In Single US Airstrike Hav...   \n",
       "4          4  Iranian woman jailed for fictional unpublished...   \n",
       "...      ...                                                ...   \n",
       "20795  20795  Rapper T.I.: Trump a ’Poster Child For White S...   \n",
       "20796  20796  N.F.L. Playoffs: Schedule, Matchups and Odds -...   \n",
       "20797  20797  Macy’s Is Said to Receive Takeover Approach by...   \n",
       "20798  20798  NATO, Russia To Hold Parallel Exercises In Bal...   \n",
       "20799  20799                          What Keeps the F-35 Alive   \n",
       "\n",
       "                                          author  \\\n",
       "0                                  Darrell Lucus   \n",
       "1                                Daniel J. Flynn   \n",
       "2                             Consortiumnews.com   \n",
       "3                                Jessica Purkiss   \n",
       "4                                 Howard Portnoy   \n",
       "...                                          ...   \n",
       "20795                              Jerome Hudson   \n",
       "20796                           Benjamin Hoffman   \n",
       "20797  Michael J. de la Merced and Rachel Abrams   \n",
       "20798                                Alex Ansary   \n",
       "20799                              David Swanson   \n",
       "\n",
       "                                                    text  label  \\\n",
       "0      House Dem Aide: We Didn’t Even See Comey’s Let...      1   \n",
       "1      Ever get the feeling your life circles the rou...      0   \n",
       "2      Why the Truth Might Get You Fired October 29, ...      1   \n",
       "3      Videos 15 Civilians Killed In Single US Airstr...      1   \n",
       "4      Print  An Iranian woman has been sentenced to ...      1   \n",
       "...                                                  ...    ...   \n",
       "20795  Rapper T. I. unloaded on black celebrities who...      0   \n",
       "20796  When the Green Bay Packers lost to the Washing...      0   \n",
       "20797  The Macy’s of today grew from the union of sev...      0   \n",
       "20798  NATO, Russia To Hold Parallel Exercises In Bal...      1   \n",
       "20799    David Swanson is an author, activist, journa...      1   \n",
       "\n",
       "                                                  merged  \n",
       "0      House Dem Aide: We Didn’t Even See Comey’s Let...  \n",
       "1      FLYNN: Hillary Clinton, Big Woman on Campus - ...  \n",
       "2      Why the Truth Might Get You Fired Consortiumne...  \n",
       "3      15 Civilians Killed In Single US Airstrike Hav...  \n",
       "4      Iranian woman jailed for fictional unpublished...  \n",
       "...                                                  ...  \n",
       "20795  Rapper T.I.: Trump a ’Poster Child For White S...  \n",
       "20796  N.F.L. Playoffs: Schedule, Matchups and Odds -...  \n",
       "20797  Macy’s Is Said to Receive Takeover Approach by...  \n",
       "20798  NATO, Russia To Hold Parallel Exercises In Bal...  \n",
       "20799  What Keeps the F-35 Alive David Swanson   Davi...  \n",
       "\n",
       "[20800 rows x 6 columns]"
      ]
     },
     "execution_count": 20,
     "metadata": {},
     "output_type": "execute_result"
    }
   ],
   "source": [
    "# Creating merged column\n",
    "df['merged'] = df['title'] + ' ' + df['author'] + ' ' + df['text']\n",
    "df"
   ]
  },
  {
   "cell_type": "code",
   "execution_count": 21,
   "id": "27354b23",
   "metadata": {
    "ExecuteTime": {
     "end_time": "2022-03-26T04:45:54.177713Z",
     "start_time": "2022-03-26T04:45:54.173805Z"
    }
   },
   "outputs": [],
   "source": [
    "# Separating target from the rest of the data\n",
    "X = df['merged']\n",
    "y = df['label']"
   ]
  },
  {
   "cell_type": "markdown",
   "id": "ba240f96",
   "metadata": {},
   "source": [
    "At this time, our string data is still in the form of words. In order for us to build a machine learning model for this dataset, we need to convert the strings into a vector. This can be done using sci-kit learn's text extraction functions, CountVectorizer and TfidfVectorizer."
   ]
  },
  {
   "cell_type": "code",
   "execution_count": 22,
   "id": "b39bd499",
   "metadata": {
    "ExecuteTime": {
     "end_time": "2022-03-26T04:45:56.210886Z",
     "start_time": "2022-03-26T04:45:55.409380Z"
    }
   },
   "outputs": [],
   "source": [
    "# Import dependencies to vectorize string data\n",
    "from sklearn.feature_extraction.text import CountVectorizer\n",
    "from sklearn.feature_extraction.text import TfidfVectorizer"
   ]
  },
  {
   "cell_type": "code",
   "execution_count": 23,
   "id": "5c0cae77",
   "metadata": {
    "ExecuteTime": {
     "end_time": "2022-03-26T04:45:58.201406Z",
     "start_time": "2022-03-26T04:45:58.197554Z"
    }
   },
   "outputs": [],
   "source": [
    "# Initializing vectorizers\n",
    "countvec = CountVectorizer()\n",
    "tfidfvec = TfidfVectorizer()"
   ]
  },
  {
   "cell_type": "code",
   "execution_count": 24,
   "id": "f5d6d939",
   "metadata": {
    "ExecuteTime": {
     "end_time": "2022-03-26T04:46:12.913790Z",
     "start_time": "2022-03-26T04:45:58.696005Z"
    }
   },
   "outputs": [
    {
     "data": {
      "text/plain": [
       "CountVectorizer()"
      ]
     },
     "execution_count": 24,
     "metadata": {},
     "output_type": "execute_result"
    }
   ],
   "source": [
    "# Building vectorizer vocabulary, CountVec\n",
    "countvec.fit(X)"
   ]
  },
  {
   "cell_type": "code",
   "execution_count": 25,
   "id": "3bce5088",
   "metadata": {
    "ExecuteTime": {
     "end_time": "2022-03-26T04:46:27.881413Z",
     "start_time": "2022-03-26T04:46:12.917124Z"
    }
   },
   "outputs": [
    {
     "data": {
      "text/plain": [
       "TfidfVectorizer()"
      ]
     },
     "execution_count": 25,
     "metadata": {},
     "output_type": "execute_result"
    }
   ],
   "source": [
    "# Building vectorizer vocabulary, TfidfVec\n",
    "tfidfvec.fit(X)"
   ]
  },
  {
   "cell_type": "code",
   "execution_count": 26,
   "id": "06fee41f",
   "metadata": {
    "ExecuteTime": {
     "end_time": "2022-03-26T04:46:52.088908Z",
     "start_time": "2022-03-26T04:46:27.883662Z"
    }
   },
   "outputs": [],
   "source": [
    "# Transforming into arrays\n",
    "X_countvec = countvec.transform(X)\n",
    "X_tfidfvec = tfidfvec.transform(X)"
   ]
  },
  {
   "cell_type": "code",
   "execution_count": 27,
   "id": "2e884232",
   "metadata": {
    "ExecuteTime": {
     "end_time": "2022-03-26T04:46:52.096155Z",
     "start_time": "2022-03-26T04:46:52.091507Z"
    }
   },
   "outputs": [
    {
     "data": {
      "text/plain": [
       "<20800x181975 sparse matrix of type '<class 'numpy.int64'>'\n",
       "\twith 6956587 stored elements in Compressed Sparse Row format>"
      ]
     },
     "execution_count": 27,
     "metadata": {},
     "output_type": "execute_result"
    }
   ],
   "source": [
    "# Checking sparse matrix\n",
    "X_countvec"
   ]
  },
  {
   "cell_type": "code",
   "execution_count": 28,
   "id": "e02b9adf",
   "metadata": {
    "ExecuteTime": {
     "end_time": "2022-03-26T04:46:52.102790Z",
     "start_time": "2022-03-26T04:46:52.098212Z"
    }
   },
   "outputs": [
    {
     "data": {
      "text/plain": [
       "<20800x181975 sparse matrix of type '<class 'numpy.float64'>'\n",
       "\twith 6956587 stored elements in Compressed Sparse Row format>"
      ]
     },
     "execution_count": 28,
     "metadata": {},
     "output_type": "execute_result"
    }
   ],
   "source": [
    "# Checking sparse matrix\n",
    "X_tfidfvec"
   ]
  },
  {
   "cell_type": "markdown",
   "id": "e008b584",
   "metadata": {},
   "source": [
    "Let us set up the test data from test.csv and submit.csv in the same format as the training data now before building our machine learning pipeline."
   ]
  },
  {
   "cell_type": "code",
   "execution_count": 29,
   "id": "146615c0",
   "metadata": {
    "ExecuteTime": {
     "end_time": "2022-03-26T04:46:52.541163Z",
     "start_time": "2022-03-26T04:46:52.105434Z"
    }
   },
   "outputs": [
    {
     "data": {
      "text/html": [
       "<div>\n",
       "<style scoped>\n",
       "    .dataframe tbody tr th:only-of-type {\n",
       "        vertical-align: middle;\n",
       "    }\n",
       "\n",
       "    .dataframe tbody tr th {\n",
       "        vertical-align: top;\n",
       "    }\n",
       "\n",
       "    .dataframe thead th {\n",
       "        text-align: right;\n",
       "    }\n",
       "</style>\n",
       "<table border=\"1\" class=\"dataframe\">\n",
       "  <thead>\n",
       "    <tr style=\"text-align: right;\">\n",
       "      <th></th>\n",
       "      <th>id</th>\n",
       "      <th>title</th>\n",
       "      <th>author</th>\n",
       "      <th>text</th>\n",
       "    </tr>\n",
       "  </thead>\n",
       "  <tbody>\n",
       "    <tr>\n",
       "      <th>0</th>\n",
       "      <td>20800</td>\n",
       "      <td>Specter of Trump Loosens Tongues, if Not Purse...</td>\n",
       "      <td>David Streitfeld</td>\n",
       "      <td>PALO ALTO, Calif.  —   After years of scorning...</td>\n",
       "    </tr>\n",
       "    <tr>\n",
       "      <th>1</th>\n",
       "      <td>20801</td>\n",
       "      <td>Russian warships ready to strike terrorists ne...</td>\n",
       "      <td>NaN</td>\n",
       "      <td>Russian warships ready to strike terrorists ne...</td>\n",
       "    </tr>\n",
       "    <tr>\n",
       "      <th>2</th>\n",
       "      <td>20802</td>\n",
       "      <td>#NoDAPL: Native American Leaders Vow to Stay A...</td>\n",
       "      <td>Common Dreams</td>\n",
       "      <td>Videos #NoDAPL: Native American Leaders Vow to...</td>\n",
       "    </tr>\n",
       "    <tr>\n",
       "      <th>3</th>\n",
       "      <td>20803</td>\n",
       "      <td>Tim Tebow Will Attempt Another Comeback, This ...</td>\n",
       "      <td>Daniel Victor</td>\n",
       "      <td>If at first you don’t succeed, try a different...</td>\n",
       "    </tr>\n",
       "    <tr>\n",
       "      <th>4</th>\n",
       "      <td>20804</td>\n",
       "      <td>Keiser Report: Meme Wars (E995)</td>\n",
       "      <td>Truth Broadcast Network</td>\n",
       "      <td>42 mins ago 1 Views 0 Comments 0 Likes 'For th...</td>\n",
       "    </tr>\n",
       "    <tr>\n",
       "      <th>...</th>\n",
       "      <td>...</td>\n",
       "      <td>...</td>\n",
       "      <td>...</td>\n",
       "      <td>...</td>\n",
       "    </tr>\n",
       "    <tr>\n",
       "      <th>5195</th>\n",
       "      <td>25995</td>\n",
       "      <td>The Bangladeshi Traffic Jam That Never Ends - ...</td>\n",
       "      <td>Jody Rosen</td>\n",
       "      <td>Of all the dysfunctions that plague the world’...</td>\n",
       "    </tr>\n",
       "    <tr>\n",
       "      <th>5196</th>\n",
       "      <td>25996</td>\n",
       "      <td>John Kasich Signs One Abortion Bill in Ohio bu...</td>\n",
       "      <td>Sheryl Gay Stolberg</td>\n",
       "      <td>WASHINGTON  —   Gov. John Kasich of Ohio on Tu...</td>\n",
       "    </tr>\n",
       "    <tr>\n",
       "      <th>5197</th>\n",
       "      <td>25997</td>\n",
       "      <td>California Today: What, Exactly, Is in Your Su...</td>\n",
       "      <td>Mike McPhate</td>\n",
       "      <td>Good morning. (Want to get California Today by...</td>\n",
       "    </tr>\n",
       "    <tr>\n",
       "      <th>5198</th>\n",
       "      <td>25998</td>\n",
       "      <td>300 US Marines To Be Deployed To Russian Borde...</td>\n",
       "      <td>NaN</td>\n",
       "      <td>« Previous - Next » 300 US Marines To Be Deplo...</td>\n",
       "    </tr>\n",
       "    <tr>\n",
       "      <th>5199</th>\n",
       "      <td>25999</td>\n",
       "      <td>Awkward Sex, Onscreen and Off - The New York T...</td>\n",
       "      <td>Teddy Wayne</td>\n",
       "      <td>Perhaps you’ve seen the new TV series whose pi...</td>\n",
       "    </tr>\n",
       "  </tbody>\n",
       "</table>\n",
       "<p>5200 rows × 4 columns</p>\n",
       "</div>"
      ],
      "text/plain": [
       "         id                                              title  \\\n",
       "0     20800  Specter of Trump Loosens Tongues, if Not Purse...   \n",
       "1     20801  Russian warships ready to strike terrorists ne...   \n",
       "2     20802  #NoDAPL: Native American Leaders Vow to Stay A...   \n",
       "3     20803  Tim Tebow Will Attempt Another Comeback, This ...   \n",
       "4     20804                    Keiser Report: Meme Wars (E995)   \n",
       "...     ...                                                ...   \n",
       "5195  25995  The Bangladeshi Traffic Jam That Never Ends - ...   \n",
       "5196  25996  John Kasich Signs One Abortion Bill in Ohio bu...   \n",
       "5197  25997  California Today: What, Exactly, Is in Your Su...   \n",
       "5198  25998  300 US Marines To Be Deployed To Russian Borde...   \n",
       "5199  25999  Awkward Sex, Onscreen and Off - The New York T...   \n",
       "\n",
       "                       author  \\\n",
       "0            David Streitfeld   \n",
       "1                         NaN   \n",
       "2               Common Dreams   \n",
       "3               Daniel Victor   \n",
       "4     Truth Broadcast Network   \n",
       "...                       ...   \n",
       "5195               Jody Rosen   \n",
       "5196      Sheryl Gay Stolberg   \n",
       "5197             Mike McPhate   \n",
       "5198                      NaN   \n",
       "5199              Teddy Wayne   \n",
       "\n",
       "                                                   text  \n",
       "0     PALO ALTO, Calif.  —   After years of scorning...  \n",
       "1     Russian warships ready to strike terrorists ne...  \n",
       "2     Videos #NoDAPL: Native American Leaders Vow to...  \n",
       "3     If at first you don’t succeed, try a different...  \n",
       "4     42 mins ago 1 Views 0 Comments 0 Likes 'For th...  \n",
       "...                                                 ...  \n",
       "5195  Of all the dysfunctions that plague the world’...  \n",
       "5196  WASHINGTON  —   Gov. John Kasich of Ohio on Tu...  \n",
       "5197  Good morning. (Want to get California Today by...  \n",
       "5198  « Previous - Next » 300 US Marines To Be Deplo...  \n",
       "5199  Perhaps you’ve seen the new TV series whose pi...  \n",
       "\n",
       "[5200 rows x 4 columns]"
      ]
     },
     "execution_count": 29,
     "metadata": {},
     "output_type": "execute_result"
    }
   ],
   "source": [
    "df_test = pd.read_csv(data_file_test)\n",
    "df_test"
   ]
  },
  {
   "cell_type": "code",
   "execution_count": 30,
   "id": "189d37c3",
   "metadata": {
    "ExecuteTime": {
     "end_time": "2022-03-26T04:46:52.561668Z",
     "start_time": "2022-03-26T04:46:52.543922Z"
    }
   },
   "outputs": [
    {
     "data": {
      "text/html": [
       "<div>\n",
       "<style scoped>\n",
       "    .dataframe tbody tr th:only-of-type {\n",
       "        vertical-align: middle;\n",
       "    }\n",
       "\n",
       "    .dataframe tbody tr th {\n",
       "        vertical-align: top;\n",
       "    }\n",
       "\n",
       "    .dataframe thead th {\n",
       "        text-align: right;\n",
       "    }\n",
       "</style>\n",
       "<table border=\"1\" class=\"dataframe\">\n",
       "  <thead>\n",
       "    <tr style=\"text-align: right;\">\n",
       "      <th></th>\n",
       "      <th>id</th>\n",
       "      <th>label</th>\n",
       "    </tr>\n",
       "  </thead>\n",
       "  <tbody>\n",
       "    <tr>\n",
       "      <th>0</th>\n",
       "      <td>20800</td>\n",
       "      <td>0</td>\n",
       "    </tr>\n",
       "    <tr>\n",
       "      <th>1</th>\n",
       "      <td>20801</td>\n",
       "      <td>1</td>\n",
       "    </tr>\n",
       "    <tr>\n",
       "      <th>2</th>\n",
       "      <td>20802</td>\n",
       "      <td>0</td>\n",
       "    </tr>\n",
       "    <tr>\n",
       "      <th>3</th>\n",
       "      <td>20803</td>\n",
       "      <td>1</td>\n",
       "    </tr>\n",
       "    <tr>\n",
       "      <th>4</th>\n",
       "      <td>20804</td>\n",
       "      <td>1</td>\n",
       "    </tr>\n",
       "    <tr>\n",
       "      <th>...</th>\n",
       "      <td>...</td>\n",
       "      <td>...</td>\n",
       "    </tr>\n",
       "    <tr>\n",
       "      <th>5195</th>\n",
       "      <td>25995</td>\n",
       "      <td>0</td>\n",
       "    </tr>\n",
       "    <tr>\n",
       "      <th>5196</th>\n",
       "      <td>25996</td>\n",
       "      <td>1</td>\n",
       "    </tr>\n",
       "    <tr>\n",
       "      <th>5197</th>\n",
       "      <td>25997</td>\n",
       "      <td>0</td>\n",
       "    </tr>\n",
       "    <tr>\n",
       "      <th>5198</th>\n",
       "      <td>25998</td>\n",
       "      <td>1</td>\n",
       "    </tr>\n",
       "    <tr>\n",
       "      <th>5199</th>\n",
       "      <td>25999</td>\n",
       "      <td>0</td>\n",
       "    </tr>\n",
       "  </tbody>\n",
       "</table>\n",
       "<p>5200 rows × 2 columns</p>\n",
       "</div>"
      ],
      "text/plain": [
       "         id  label\n",
       "0     20800      0\n",
       "1     20801      1\n",
       "2     20802      0\n",
       "3     20803      1\n",
       "4     20804      1\n",
       "...     ...    ...\n",
       "5195  25995      0\n",
       "5196  25996      1\n",
       "5197  25997      0\n",
       "5198  25998      1\n",
       "5199  25999      0\n",
       "\n",
       "[5200 rows x 2 columns]"
      ]
     },
     "execution_count": 30,
     "metadata": {},
     "output_type": "execute_result"
    }
   ],
   "source": [
    "df_test_labels = pd.read_csv(data_file_validation)\n",
    "df_test_labels"
   ]
  },
  {
   "cell_type": "code",
   "execution_count": 31,
   "id": "6bf026da",
   "metadata": {
    "ExecuteTime": {
     "end_time": "2022-03-26T04:46:52.595463Z",
     "start_time": "2022-03-26T04:46:52.564738Z"
    }
   },
   "outputs": [
    {
     "data": {
      "text/html": [
       "<div>\n",
       "<style scoped>\n",
       "    .dataframe tbody tr th:only-of-type {\n",
       "        vertical-align: middle;\n",
       "    }\n",
       "\n",
       "    .dataframe tbody tr th {\n",
       "        vertical-align: top;\n",
       "    }\n",
       "\n",
       "    .dataframe thead th {\n",
       "        text-align: right;\n",
       "    }\n",
       "</style>\n",
       "<table border=\"1\" class=\"dataframe\">\n",
       "  <thead>\n",
       "    <tr style=\"text-align: right;\">\n",
       "      <th></th>\n",
       "      <th>id</th>\n",
       "      <th>title</th>\n",
       "      <th>author</th>\n",
       "      <th>text</th>\n",
       "      <th>label</th>\n",
       "    </tr>\n",
       "  </thead>\n",
       "  <tbody>\n",
       "    <tr>\n",
       "      <th>0</th>\n",
       "      <td>20800</td>\n",
       "      <td>Specter of Trump Loosens Tongues, if Not Purse...</td>\n",
       "      <td>David Streitfeld</td>\n",
       "      <td>PALO ALTO, Calif.  —   After years of scorning...</td>\n",
       "      <td>0</td>\n",
       "    </tr>\n",
       "    <tr>\n",
       "      <th>1</th>\n",
       "      <td>20801</td>\n",
       "      <td>Russian warships ready to strike terrorists ne...</td>\n",
       "      <td>NaN</td>\n",
       "      <td>Russian warships ready to strike terrorists ne...</td>\n",
       "      <td>1</td>\n",
       "    </tr>\n",
       "    <tr>\n",
       "      <th>2</th>\n",
       "      <td>20802</td>\n",
       "      <td>#NoDAPL: Native American Leaders Vow to Stay A...</td>\n",
       "      <td>Common Dreams</td>\n",
       "      <td>Videos #NoDAPL: Native American Leaders Vow to...</td>\n",
       "      <td>0</td>\n",
       "    </tr>\n",
       "    <tr>\n",
       "      <th>3</th>\n",
       "      <td>20803</td>\n",
       "      <td>Tim Tebow Will Attempt Another Comeback, This ...</td>\n",
       "      <td>Daniel Victor</td>\n",
       "      <td>If at first you don’t succeed, try a different...</td>\n",
       "      <td>1</td>\n",
       "    </tr>\n",
       "    <tr>\n",
       "      <th>4</th>\n",
       "      <td>20804</td>\n",
       "      <td>Keiser Report: Meme Wars (E995)</td>\n",
       "      <td>Truth Broadcast Network</td>\n",
       "      <td>42 mins ago 1 Views 0 Comments 0 Likes 'For th...</td>\n",
       "      <td>1</td>\n",
       "    </tr>\n",
       "    <tr>\n",
       "      <th>...</th>\n",
       "      <td>...</td>\n",
       "      <td>...</td>\n",
       "      <td>...</td>\n",
       "      <td>...</td>\n",
       "      <td>...</td>\n",
       "    </tr>\n",
       "    <tr>\n",
       "      <th>5195</th>\n",
       "      <td>25995</td>\n",
       "      <td>The Bangladeshi Traffic Jam That Never Ends - ...</td>\n",
       "      <td>Jody Rosen</td>\n",
       "      <td>Of all the dysfunctions that plague the world’...</td>\n",
       "      <td>0</td>\n",
       "    </tr>\n",
       "    <tr>\n",
       "      <th>5196</th>\n",
       "      <td>25996</td>\n",
       "      <td>John Kasich Signs One Abortion Bill in Ohio bu...</td>\n",
       "      <td>Sheryl Gay Stolberg</td>\n",
       "      <td>WASHINGTON  —   Gov. John Kasich of Ohio on Tu...</td>\n",
       "      <td>1</td>\n",
       "    </tr>\n",
       "    <tr>\n",
       "      <th>5197</th>\n",
       "      <td>25997</td>\n",
       "      <td>California Today: What, Exactly, Is in Your Su...</td>\n",
       "      <td>Mike McPhate</td>\n",
       "      <td>Good morning. (Want to get California Today by...</td>\n",
       "      <td>0</td>\n",
       "    </tr>\n",
       "    <tr>\n",
       "      <th>5198</th>\n",
       "      <td>25998</td>\n",
       "      <td>300 US Marines To Be Deployed To Russian Borde...</td>\n",
       "      <td>NaN</td>\n",
       "      <td>« Previous - Next » 300 US Marines To Be Deplo...</td>\n",
       "      <td>1</td>\n",
       "    </tr>\n",
       "    <tr>\n",
       "      <th>5199</th>\n",
       "      <td>25999</td>\n",
       "      <td>Awkward Sex, Onscreen and Off - The New York T...</td>\n",
       "      <td>Teddy Wayne</td>\n",
       "      <td>Perhaps you’ve seen the new TV series whose pi...</td>\n",
       "      <td>0</td>\n",
       "    </tr>\n",
       "  </tbody>\n",
       "</table>\n",
       "<p>5200 rows × 5 columns</p>\n",
       "</div>"
      ],
      "text/plain": [
       "         id                                              title  \\\n",
       "0     20800  Specter of Trump Loosens Tongues, if Not Purse...   \n",
       "1     20801  Russian warships ready to strike terrorists ne...   \n",
       "2     20802  #NoDAPL: Native American Leaders Vow to Stay A...   \n",
       "3     20803  Tim Tebow Will Attempt Another Comeback, This ...   \n",
       "4     20804                    Keiser Report: Meme Wars (E995)   \n",
       "...     ...                                                ...   \n",
       "5195  25995  The Bangladeshi Traffic Jam That Never Ends - ...   \n",
       "5196  25996  John Kasich Signs One Abortion Bill in Ohio bu...   \n",
       "5197  25997  California Today: What, Exactly, Is in Your Su...   \n",
       "5198  25998  300 US Marines To Be Deployed To Russian Borde...   \n",
       "5199  25999  Awkward Sex, Onscreen and Off - The New York T...   \n",
       "\n",
       "                       author  \\\n",
       "0            David Streitfeld   \n",
       "1                         NaN   \n",
       "2               Common Dreams   \n",
       "3               Daniel Victor   \n",
       "4     Truth Broadcast Network   \n",
       "...                       ...   \n",
       "5195               Jody Rosen   \n",
       "5196      Sheryl Gay Stolberg   \n",
       "5197             Mike McPhate   \n",
       "5198                      NaN   \n",
       "5199              Teddy Wayne   \n",
       "\n",
       "                                                   text  label  \n",
       "0     PALO ALTO, Calif.  —   After years of scorning...      0  \n",
       "1     Russian warships ready to strike terrorists ne...      1  \n",
       "2     Videos #NoDAPL: Native American Leaders Vow to...      0  \n",
       "3     If at first you don’t succeed, try a different...      1  \n",
       "4     42 mins ago 1 Views 0 Comments 0 Likes 'For th...      1  \n",
       "...                                                 ...    ...  \n",
       "5195  Of all the dysfunctions that plague the world’...      0  \n",
       "5196  WASHINGTON  —   Gov. John Kasich of Ohio on Tu...      1  \n",
       "5197  Good morning. (Want to get California Today by...      0  \n",
       "5198  « Previous - Next » 300 US Marines To Be Deplo...      1  \n",
       "5199  Perhaps you’ve seen the new TV series whose pi...      0  \n",
       "\n",
       "[5200 rows x 5 columns]"
      ]
     },
     "execution_count": 31,
     "metadata": {},
     "output_type": "execute_result"
    }
   ],
   "source": [
    "df_test = df_test.merge(df_test_labels, on='id', how='left')\n",
    "df_test"
   ]
  },
  {
   "cell_type": "code",
   "execution_count": 32,
   "id": "4611af85",
   "metadata": {
    "ExecuteTime": {
     "end_time": "2022-03-26T04:46:52.619443Z",
     "start_time": "2022-03-26T04:46:52.598919Z"
    }
   },
   "outputs": [
    {
     "name": "stdout",
     "output_type": "stream",
     "text": [
      "<class 'pandas.core.frame.DataFrame'>\n",
      "Int64Index: 5200 entries, 0 to 5199\n",
      "Data columns (total 5 columns):\n",
      " #   Column  Non-Null Count  Dtype \n",
      "---  ------  --------------  ----- \n",
      " 0   id      5200 non-null   int64 \n",
      " 1   title   5078 non-null   object\n",
      " 2   author  4697 non-null   object\n",
      " 3   text    5193 non-null   object\n",
      " 4   label   5200 non-null   int64 \n",
      "dtypes: int64(2), object(3)\n",
      "memory usage: 243.8+ KB\n"
     ]
    }
   ],
   "source": [
    "df_test.info()"
   ]
  },
  {
   "cell_type": "code",
   "execution_count": 33,
   "id": "e99a6278",
   "metadata": {
    "ExecuteTime": {
     "end_time": "2022-03-26T04:46:52.739619Z",
     "start_time": "2022-03-26T04:46:52.622656Z"
    }
   },
   "outputs": [
    {
     "name": "stderr",
     "output_type": "stream",
     "text": [
      "/Users/Lee/anaconda3/lib/python3.7/site-packages/ipykernel_launcher.py:7: FutureWarning: The default value of regex will change from True to False in a future version.\n",
      "  import sys\n"
     ]
    }
   ],
   "source": [
    "# Like before we'll replace NaNs with fillers\n",
    "df_test['title'] = df_test['title'].fillna('notitle')\n",
    "df_test['author'] = df_test['author'].fillna('noauthor')\n",
    "df_test['text'] = df_test['text'].fillna('notext')\n",
    "\n",
    "# Replacing '\\n' with spaces\n",
    "df_test['text'] = df_test['text'].str.replace('\\\\n',' ')\n",
    "\n",
    "# Replacing tags with spaces\n",
    "df_test['text'] = df_test['text'].str.replace(r'<.*?>',' ', regex=True)"
   ]
  },
  {
   "cell_type": "code",
   "execution_count": 34,
   "id": "d1ad5f22",
   "metadata": {
    "ExecuteTime": {
     "end_time": "2022-03-26T04:46:52.807759Z",
     "start_time": "2022-03-26T04:46:52.742760Z"
    }
   },
   "outputs": [],
   "source": [
    "# We'll also create a merged column to match the formate of our training set\n",
    "df_test['merged'] = df_test['title'] + ' ' + df_test['author'] + ' ' + df_test['text']"
   ]
  },
  {
   "cell_type": "code",
   "execution_count": 35,
   "id": "81a4047a",
   "metadata": {
    "ExecuteTime": {
     "end_time": "2022-03-26T04:46:52.814773Z",
     "start_time": "2022-03-26T04:46:52.810739Z"
    }
   },
   "outputs": [],
   "source": [
    "# Separating target from the rest of the test data\n",
    "X_test = df_test['merged']\n",
    "y_test = df_test['label']"
   ]
  },
  {
   "cell_type": "code",
   "execution_count": 36,
   "id": "cf3bea8c",
   "metadata": {
    "ExecuteTime": {
     "end_time": "2022-03-26T04:47:00.549562Z",
     "start_time": "2022-03-26T04:46:52.816849Z"
    }
   },
   "outputs": [],
   "source": [
    "# Transforming into arrays\n",
    "X_countvec_test = countvec.transform(X_test)\n",
    "X_tfidfvec_test = tfidfvec.transform(X_test)"
   ]
  },
  {
   "cell_type": "code",
   "execution_count": 37,
   "id": "cdcd94cd",
   "metadata": {
    "ExecuteTime": {
     "end_time": "2022-03-26T04:47:00.557004Z",
     "start_time": "2022-03-26T04:47:00.552428Z"
    }
   },
   "outputs": [
    {
     "data": {
      "text/plain": [
       "<5200x181975 sparse matrix of type '<class 'numpy.int64'>'\n",
       "\twith 1741288 stored elements in Compressed Sparse Row format>"
      ]
     },
     "execution_count": 37,
     "metadata": {},
     "output_type": "execute_result"
    }
   ],
   "source": [
    "X_countvec_test"
   ]
  },
  {
   "cell_type": "code",
   "execution_count": 38,
   "id": "3abdb775",
   "metadata": {
    "ExecuteTime": {
     "end_time": "2022-03-26T04:47:00.564272Z",
     "start_time": "2022-03-26T04:47:00.559183Z"
    }
   },
   "outputs": [
    {
     "data": {
      "text/plain": [
       "<5200x181975 sparse matrix of type '<class 'numpy.float64'>'\n",
       "\twith 1741288 stored elements in Compressed Sparse Row format>"
      ]
     },
     "execution_count": 38,
     "metadata": {},
     "output_type": "execute_result"
    }
   ],
   "source": [
    "X_tfidfvec_test"
   ]
  },
  {
   "cell_type": "markdown",
   "id": "b28830e0",
   "metadata": {},
   "source": [
    "With our datasets ready, let's build our machine learning pipeline. For this dataset, we're here to find out whether or not a news article is 'fake news'. As such, we can turned into a binary classification problem with the word vectors as our features. For classification, we could try out several kind: Logistic Regression, Random Forest, Gradiant Boosting, and Naive Bayes. We'll also optimize for hyperparameters using cross-validation.\n",
    "\n",
    "To speed up the search for more costly approaches like Random Forest and Gradient Boosting, I'll use a randomized search for these methods. If these methods does prove to be better than Logistic Regression or Naive Bayes, I'll run a more rigorous grid check for hyperparameters."
   ]
  },
  {
   "cell_type": "code",
   "execution_count": 120,
   "id": "cbd71b7f",
   "metadata": {
    "ExecuteTime": {
     "end_time": "2022-03-26T09:04:56.554383Z",
     "start_time": "2022-03-26T09:04:56.547762Z"
    }
   },
   "outputs": [],
   "source": [
    "# Import dependencies for machine learning model\n",
    "from sklearn.pipeline import Pipeline\n",
    "from sklearn.model_selection import GridSearchCV, RandomizedSearchCV\n",
    "from sklearn.ensemble import RandomForestClassifier, GradientBoostingClassifier\n",
    "from sklearn.linear_model import LogisticRegression\n",
    "from sklearn.naive_bayes import MultinomialNB\n",
    "from sklearn.metrics import confusion_matrix, ConfusionMatrixDisplay, classification_report, roc_auc_score, roc_curve"
   ]
  },
  {
   "cell_type": "code",
   "execution_count": 40,
   "id": "70b0677b",
   "metadata": {
    "ExecuteTime": {
     "end_time": "2022-03-26T04:47:00.816747Z",
     "start_time": "2022-03-26T04:47:00.799927Z"
    }
   },
   "outputs": [],
   "source": [
    "# Setting up pipeline with each classifcation model\n",
    "pipe_countvec_logreg = Pipeline([('clf_logreg', LogisticRegression())])\n",
    "pipe_tfidfvec_logreg = Pipeline([('clf_logreg', LogisticRegression())])\n",
    "\n",
    "pipe_countvec_naivebayes = Pipeline([('clf_naivebayes', MultinomialNB())])\n",
    "pipe_tfidfvec_naivebayes = Pipeline([('clf_naivebayes', MultinomialNB())])\n",
    "\n",
    "pipe_countvec_randfor = Pipeline([('clf_randfor', RandomForestClassifier())])\n",
    "pipe_tfidfvec_randfor = Pipeline([('clf_randfor', RandomForestClassifier())])\n",
    "\n",
    "pipe_countvec_gradboost = Pipeline([('clf_gradboost', GradientBoostingClassifier())])\n",
    "pipe_tfidfvec_gradboost = Pipeline([('clf_gradboost', GradientBoostingClassifier())])\n",
    "\n",
    "# Setting up hyperparameters for each classification model\n",
    "parameters_logreg = {'clf_logreg__solver': ['newton-cg'],\n",
    "                     'clf_logreg__C': [0.01, 0.1, 1.0, 10.0, 100.0],\n",
    "                     'clf_logreg__random_state': [42]}\n",
    "\n",
    "parameters_naivebayes = {'clf_naivebayes__alpha': [0.00001, 0.0001, 0.001, 0.01, 0.1, 0.5, 1.0, 2.0]}\n",
    "\n",
    "parameters_randfor = {'clf_randfor__n_estimators': [100, 150, 200, 250, 300, 350, 400, 450, 500],\n",
    "                      'clf_randfor__max_depth': [3, 4, 5],\n",
    "                      'clf_randfor__max_features': ['sqrt','log2'],\n",
    "                      'clf_randfor__random_state': [42]}\n",
    "\n",
    "parameters_gradboost = {'clf_gradboost__n_estimators': [100, 150, 200, 250, 300, 350, 400, 450, 500],\n",
    "                        'clf_gradboost__max_depth': [3, 4, 5],\n",
    "                        'clf_gradboost__learning_rate': [0.01, 0.05, 0.1, 0.2],\n",
    "                        'clf_gradboost__max_features': ['sqrt','log2'],\n",
    "                        'clf_gradboost__random_state': [42]}"
   ]
  },
  {
   "cell_type": "code",
   "execution_count": 41,
   "id": "223b064d",
   "metadata": {
    "ExecuteTime": {
     "end_time": "2022-03-26T04:59:18.888662Z",
     "start_time": "2022-03-26T04:47:19.432424Z"
    },
    "scrolled": false
   },
   "outputs": [],
   "source": [
    "# Run grid search with 5-fold cross validation for Logistic Regression\n",
    "grid_countvec_logreg_5cv = GridSearchCV(pipe_countvec_logreg, parameters_logreg, cv=5).fit(X_countvec, y)\n",
    "grid_tfidfvec_logreg_5cv = GridSearchCV(pipe_tfidfvec_logreg, parameters_logreg, cv=5).fit(X_tfidfvec, y)"
   ]
  },
  {
   "cell_type": "code",
   "execution_count": 42,
   "id": "3d922a9c",
   "metadata": {
    "ExecuteTime": {
     "end_time": "2022-03-26T04:59:26.859976Z",
     "start_time": "2022-03-26T04:59:18.895315Z"
    }
   },
   "outputs": [],
   "source": [
    "# Run grid search with 5-fold cross validation for Naive Bayes\n",
    "grid_countvec_naivebayes_5cv = GridSearchCV(pipe_countvec_naivebayes, parameters_naivebayes, cv=5).fit(X_countvec, y)\n",
    "grid_tfidfvec_naivebayes_5cv = GridSearchCV(pipe_tfidfvec_naivebayes, parameters_naivebayes, cv=5).fit(X_tfidfvec, y)"
   ]
  },
  {
   "cell_type": "code",
   "execution_count": 43,
   "id": "d71c657b",
   "metadata": {
    "ExecuteTime": {
     "end_time": "2022-03-26T05:10:48.774854Z",
     "start_time": "2022-03-26T04:59:26.862446Z"
    }
   },
   "outputs": [],
   "source": [
    "# Run randomized search with 5-fold cross validation for Random Forest and Gradient Boosting\n",
    "grid_countvec_randfor_5cv = RandomizedSearchCV(pipe_countvec_randfor, parameters_randfor, cv=5).fit(X_countvec, y)\n",
    "grid_tfidfvec_randfor_5cv = RandomizedSearchCV(pipe_tfidfvec_randfor, parameters_randfor, cv=5).fit(X_tfidfvec, y)"
   ]
  },
  {
   "cell_type": "code",
   "execution_count": 44,
   "id": "12e4f1e1",
   "metadata": {
    "ExecuteTime": {
     "end_time": "2022-03-26T08:00:43.015418Z",
     "start_time": "2022-03-26T05:10:48.777550Z"
    }
   },
   "outputs": [],
   "source": [
    "# Run randomized search with 5-fold cross validation for Gradient Boosting\n",
    "grid_countvec_gradboost_5cv = RandomizedSearchCV(pipe_countvec_gradboost, parameters_gradboost, cv=5).fit(X_countvec, y)\n",
    "grid_tfidfvec_gradboost_5cv = RandomizedSearchCV(pipe_tfidfvec_gradboost, parameters_gradboost, cv=5).fit(X_tfidfvec, y)"
   ]
  },
  {
   "cell_type": "code",
   "execution_count": 45,
   "id": "63aa1767",
   "metadata": {
    "ExecuteTime": {
     "end_time": "2022-03-26T08:00:43.032451Z",
     "start_time": "2022-03-26T08:00:43.023169Z"
    }
   },
   "outputs": [],
   "source": [
    "# List of grids searched\n",
    "grids_countvec = [grid_countvec_logreg_5cv,\n",
    "                  grid_countvec_naivebayes_5cv,\n",
    "                  grid_countvec_randfor_5cv,\n",
    "                  grid_countvec_gradboost_5cv]\n",
    "\n",
    "grids_tfidfvec = [grid_tfidfvec_logreg_5cv,\n",
    "                  grid_tfidfvec_naivebayes_5cv,\n",
    "                  grid_tfidfvec_randfor_5cv,\n",
    "                  grid_tfidfvec_gradboost_5cv]\n",
    "\n",
    "# Dictionary of classifiers\n",
    "grid_dict_countvec = {0: 'Logistic Regression',\n",
    "                      1: 'Naive Bayes', \n",
    "                      2: 'Random Forest',\n",
    "                      3: 'Gradient Boosting'}\n",
    "\n",
    "grid_dict_tfidfvec = {0: 'Logistic Regression',\n",
    "                      1: 'Naive Bayes', \n",
    "                      2: 'Random Forest',\n",
    "                      3: 'Gradient Boosting'}"
   ]
  },
  {
   "cell_type": "code",
   "execution_count": 73,
   "id": "6776b9bc",
   "metadata": {
    "ExecuteTime": {
     "end_time": "2022-03-26T08:30:12.014122Z",
     "start_time": "2022-03-26T08:29:46.133388Z"
    }
   },
   "outputs": [],
   "source": [
    "# Store preliminary scores on model performance\n",
    "grid_countvec_dict = {'Model': [], 'Best Parameters': [], 'Training Score': [], 'Test Score': []}\n",
    "grid_tfidfvec_dict = {'Model': [], 'Best Parameters': [], 'Training Score': [], 'Test Score': []}\n",
    "\n",
    "for i, model in enumerate(grids_countvec):\n",
    "    grid_countvec_dict['Model'].append(grid_dict_countvec[i])\n",
    "    grid_countvec_dict['Best Parameters'].append(model.best_params_)\n",
    "    grid_countvec_dict['Training Score'].append(model.score(X_countvec, y))\n",
    "    grid_countvec_dict['Test Score'].append(model.score(X_countvec_test, y_test))\n",
    "    \n",
    "for i, model in enumerate(grids_tfidfvec):\n",
    "    grid_tfidfvec_dict['Model'].append(grid_dict_tfidfvec[i])\n",
    "    grid_tfidfvec_dict['Best Parameters'].append(model.best_params_)\n",
    "    grid_tfidfvec_dict['Training Score'].append(model.score(X_countvec, y))\n",
    "    grid_tfidfvec_dict['Test Score'].append(model.score(X_countvec_test, y_test))\n",
    "    \n",
    "grid_countvec_df = pd.DataFrame(grid_countvec_dict)\n",
    "grid_tfidfvec_df = pd.DataFrame(grid_tfidfvec_dict)"
   ]
  },
  {
   "cell_type": "code",
   "execution_count": 74,
   "id": "fb46e7a7",
   "metadata": {
    "ExecuteTime": {
     "end_time": "2022-03-26T08:30:12.030764Z",
     "start_time": "2022-03-26T08:30:12.016544Z"
    }
   },
   "outputs": [
    {
     "data": {
      "text/html": [
       "<div>\n",
       "<style scoped>\n",
       "    .dataframe tbody tr th:only-of-type {\n",
       "        vertical-align: middle;\n",
       "    }\n",
       "\n",
       "    .dataframe tbody tr th {\n",
       "        vertical-align: top;\n",
       "    }\n",
       "\n",
       "    .dataframe thead th {\n",
       "        text-align: right;\n",
       "    }\n",
       "</style>\n",
       "<table border=\"1\" class=\"dataframe\">\n",
       "  <thead>\n",
       "    <tr style=\"text-align: right;\">\n",
       "      <th></th>\n",
       "      <th>Model</th>\n",
       "      <th>Best Parameters</th>\n",
       "      <th>Training Score</th>\n",
       "      <th>Test Score</th>\n",
       "    </tr>\n",
       "  </thead>\n",
       "  <tbody>\n",
       "    <tr>\n",
       "      <th>0</th>\n",
       "      <td>Logistic Regression</td>\n",
       "      <td>{'clf_logreg__C': 0.1, 'clf_logreg__random_sta...</td>\n",
       "      <td>0.999567</td>\n",
       "      <td>0.640385</td>\n",
       "    </tr>\n",
       "    <tr>\n",
       "      <th>1</th>\n",
       "      <td>Naive Bayes</td>\n",
       "      <td>{'clf_naivebayes__alpha': 0.001}</td>\n",
       "      <td>0.977981</td>\n",
       "      <td>0.606538</td>\n",
       "    </tr>\n",
       "    <tr>\n",
       "      <th>2</th>\n",
       "      <td>Random Forest</td>\n",
       "      <td>{'clf_randfor__random_state': 42, 'clf_randfor...</td>\n",
       "      <td>0.814567</td>\n",
       "      <td>0.799615</td>\n",
       "    </tr>\n",
       "    <tr>\n",
       "      <th>3</th>\n",
       "      <td>Gradient Boosting</td>\n",
       "      <td>{'clf_gradboost__random_state': 42, 'clf_gradb...</td>\n",
       "      <td>0.972788</td>\n",
       "      <td>0.651731</td>\n",
       "    </tr>\n",
       "  </tbody>\n",
       "</table>\n",
       "</div>"
      ],
      "text/plain": [
       "                 Model                                    Best Parameters  \\\n",
       "0  Logistic Regression  {'clf_logreg__C': 0.1, 'clf_logreg__random_sta...   \n",
       "1          Naive Bayes                   {'clf_naivebayes__alpha': 0.001}   \n",
       "2        Random Forest  {'clf_randfor__random_state': 42, 'clf_randfor...   \n",
       "3    Gradient Boosting  {'clf_gradboost__random_state': 42, 'clf_gradb...   \n",
       "\n",
       "   Training Score  Test Score  \n",
       "0        0.999567    0.640385  \n",
       "1        0.977981    0.606538  \n",
       "2        0.814567    0.799615  \n",
       "3        0.972788    0.651731  "
      ]
     },
     "execution_count": 74,
     "metadata": {},
     "output_type": "execute_result"
    }
   ],
   "source": [
    "# Model/CountVec Performance\n",
    "grid_countvec_df"
   ]
  },
  {
   "cell_type": "code",
   "execution_count": 108,
   "id": "f7ef7ce0",
   "metadata": {
    "ExecuteTime": {
     "end_time": "2022-03-26T08:52:06.213983Z",
     "start_time": "2022-03-26T08:52:05.994205Z"
    }
   },
   "outputs": [
    {
     "data": {
      "image/png": "[encoded data removed]",
      "text/plain": [
       "<Figure size 720x360 with 1 Axes>"
      ]
     },
     "metadata": {
      "needs_background": "light"
     },
     "output_type": "display_data"
    }
   ],
   "source": [
    "# Model Scores\n",
    "grid_countvec_df.plot.barh(x='Model', y=['Training Score', 'Test Score'],\n",
    "                          figsize=(10, 5), fontsize=20)\n",
    "plt.xlabel('Score', fontsize=20)\n",
    "plt.ylabel('Model', fontsize=20)\n",
    "plt.title('Model Scores', fontsize=20)\n",
    "plt.legend(bbox_to_anchor=(1, 1), fontsize=20)\n",
    "plt.show()"
   ]
  },
  {
   "cell_type": "code",
   "execution_count": 75,
   "id": "f68e0d24",
   "metadata": {
    "ExecuteTime": {
     "end_time": "2022-03-26T08:30:12.052729Z",
     "start_time": "2022-03-26T08:30:12.034046Z"
    }
   },
   "outputs": [
    {
     "data": {
      "text/html": [
       "<div>\n",
       "<style scoped>\n",
       "    .dataframe tbody tr th:only-of-type {\n",
       "        vertical-align: middle;\n",
       "    }\n",
       "\n",
       "    .dataframe tbody tr th {\n",
       "        vertical-align: top;\n",
       "    }\n",
       "\n",
       "    .dataframe thead th {\n",
       "        text-align: right;\n",
       "    }\n",
       "</style>\n",
       "<table border=\"1\" class=\"dataframe\">\n",
       "  <thead>\n",
       "    <tr style=\"text-align: right;\">\n",
       "      <th></th>\n",
       "      <th>Model</th>\n",
       "      <th>Best Parameters</th>\n",
       "      <th>Training Score</th>\n",
       "      <th>Test Score</th>\n",
       "    </tr>\n",
       "  </thead>\n",
       "  <tbody>\n",
       "    <tr>\n",
       "      <th>0</th>\n",
       "      <td>Logistic Regression</td>\n",
       "      <td>{'clf_logreg__C': 100.0, 'clf_logreg__random_s...</td>\n",
       "      <td>0.667885</td>\n",
       "      <td>0.581923</td>\n",
       "    </tr>\n",
       "    <tr>\n",
       "      <th>1</th>\n",
       "      <td>Naive Bayes</td>\n",
       "      <td>{'clf_naivebayes__alpha': 0.01}</td>\n",
       "      <td>0.956394</td>\n",
       "      <td>0.608077</td>\n",
       "    </tr>\n",
       "    <tr>\n",
       "      <th>2</th>\n",
       "      <td>Random Forest</td>\n",
       "      <td>{'clf_randfor__random_state': 42, 'clf_randfor...</td>\n",
       "      <td>0.836250</td>\n",
       "      <td>0.791923</td>\n",
       "    </tr>\n",
       "    <tr>\n",
       "      <th>3</th>\n",
       "      <td>Gradient Boosting</td>\n",
       "      <td>{'clf_gradboost__random_state': 42, 'clf_gradb...</td>\n",
       "      <td>0.965144</td>\n",
       "      <td>0.634231</td>\n",
       "    </tr>\n",
       "  </tbody>\n",
       "</table>\n",
       "</div>"
      ],
      "text/plain": [
       "                 Model                                    Best Parameters  \\\n",
       "0  Logistic Regression  {'clf_logreg__C': 100.0, 'clf_logreg__random_s...   \n",
       "1          Naive Bayes                    {'clf_naivebayes__alpha': 0.01}   \n",
       "2        Random Forest  {'clf_randfor__random_state': 42, 'clf_randfor...   \n",
       "3    Gradient Boosting  {'clf_gradboost__random_state': 42, 'clf_gradb...   \n",
       "\n",
       "   Training Score  Test Score  \n",
       "0        0.667885    0.581923  \n",
       "1        0.956394    0.608077  \n",
       "2        0.836250    0.791923  \n",
       "3        0.965144    0.634231  "
      ]
     },
     "execution_count": 75,
     "metadata": {},
     "output_type": "execute_result"
    }
   ],
   "source": [
    "# Model/TfidfVec Performance\n",
    "grid_tfidfvec_df"
   ]
  },
  {
   "cell_type": "code",
   "execution_count": 109,
   "id": "55b6279a",
   "metadata": {
    "ExecuteTime": {
     "end_time": "2022-03-26T08:52:44.700994Z",
     "start_time": "2022-03-26T08:52:44.474970Z"
    }
   },
   "outputs": [
    {
     "data": {
      "image/png": "[encoded data removed]",
      "text/plain": [
       "<Figure size 720x360 with 1 Axes>"
      ]
     },
     "metadata": {
      "needs_background": "light"
     },
     "output_type": "display_data"
    }
   ],
   "source": [
    "# Model Scores\n",
    "grid_tfidfvec_df.plot.barh(x='Model', y=['Training Score', 'Test Score'],\n",
    "                          figsize=(10, 5), fontsize=20)\n",
    "plt.xlabel('Score', fontsize=20)\n",
    "plt.ylabel('Model', fontsize=20)\n",
    "plt.title('Model Scores', fontsize=20)\n",
    "plt.legend(bbox_to_anchor=(1, 1), fontsize=20)\n",
    "plt.show()"
   ]
  },
  {
   "cell_type": "code",
   "execution_count": 137,
   "id": "49216d94",
   "metadata": {
    "ExecuteTime": {
     "end_time": "2022-03-26T09:27:29.685767Z",
     "start_time": "2022-03-26T09:27:16.591314Z"
    },
    "scrolled": false
   },
   "outputs": [
    {
     "name": "stdout",
     "output_type": "stream",
     "text": [
      "---------------------------------\n",
      "Confusion Matrix: Logistic Regression/CountVec\n"
     ]
    },
    {
     "data": {
      "image/png": "[encoded data removed]",
      "text/plain": [
       "<Figure size 432x288 with 2 Axes>"
      ]
     },
     "metadata": {
      "needs_background": "light"
     },
     "output_type": "display_data"
    },
    {
     "name": "stdout",
     "output_type": "stream",
     "text": [
      "Classification Report: Logistic Regression/CountVec\n"
     ]
    },
    {
     "data": {
      "text/html": [
       "<div>\n",
       "<style scoped>\n",
       "    .dataframe tbody tr th:only-of-type {\n",
       "        vertical-align: middle;\n",
       "    }\n",
       "\n",
       "    .dataframe tbody tr th {\n",
       "        vertical-align: top;\n",
       "    }\n",
       "\n",
       "    .dataframe thead th {\n",
       "        text-align: right;\n",
       "    }\n",
       "</style>\n",
       "<table border=\"1\" class=\"dataframe\">\n",
       "  <thead>\n",
       "    <tr style=\"text-align: right;\">\n",
       "      <th></th>\n",
       "      <th>precision</th>\n",
       "      <th>recall</th>\n",
       "      <th>f1-score</th>\n",
       "      <th>support</th>\n",
       "    </tr>\n",
       "  </thead>\n",
       "  <tbody>\n",
       "    <tr>\n",
       "      <th>0</th>\n",
       "      <td>0.590227</td>\n",
       "      <td>0.655836</td>\n",
       "      <td>0.621304</td>\n",
       "      <td>2339.000000</td>\n",
       "    </tr>\n",
       "    <tr>\n",
       "      <th>1</th>\n",
       "      <td>0.690504</td>\n",
       "      <td>0.627753</td>\n",
       "      <td>0.657635</td>\n",
       "      <td>2861.000000</td>\n",
       "    </tr>\n",
       "    <tr>\n",
       "      <th>accuracy</th>\n",
       "      <td>0.640385</td>\n",
       "      <td>0.640385</td>\n",
       "      <td>0.640385</td>\n",
       "      <td>0.640385</td>\n",
       "    </tr>\n",
       "    <tr>\n",
       "      <th>macro avg</th>\n",
       "      <td>0.640365</td>\n",
       "      <td>0.641794</td>\n",
       "      <td>0.639469</td>\n",
       "      <td>5200.000000</td>\n",
       "    </tr>\n",
       "    <tr>\n",
       "      <th>weighted avg</th>\n",
       "      <td>0.645398</td>\n",
       "      <td>0.640385</td>\n",
       "      <td>0.641293</td>\n",
       "      <td>5200.000000</td>\n",
       "    </tr>\n",
       "  </tbody>\n",
       "</table>\n",
       "</div>"
      ],
      "text/plain": [
       "              precision    recall  f1-score      support\n",
       "0              0.590227  0.655836  0.621304  2339.000000\n",
       "1              0.690504  0.627753  0.657635  2861.000000\n",
       "accuracy       0.640385  0.640385  0.640385     0.640385\n",
       "macro avg      0.640365  0.641794  0.639469  5200.000000\n",
       "weighted avg   0.645398  0.640385  0.641293  5200.000000"
      ]
     },
     "metadata": {},
     "output_type": "display_data"
    },
    {
     "name": "stdout",
     "output_type": "stream",
     "text": [
      "---------------------------------\n",
      "Confusion Matrix: Naive Bayes/CountVec\n"
     ]
    },
    {
     "data": {
      "image/png": "[encoded data removed]",
      "text/plain": [
       "<Figure size 432x288 with 2 Axes>"
      ]
     },
     "metadata": {
      "needs_background": "light"
     },
     "output_type": "display_data"
    },
    {
     "name": "stdout",
     "output_type": "stream",
     "text": [
      "Classification Report: Naive Bayes/CountVec\n"
     ]
    },
    {
     "data": {
      "text/html": [
       "<div>\n",
       "<style scoped>\n",
       "    .dataframe tbody tr th:only-of-type {\n",
       "        vertical-align: middle;\n",
       "    }\n",
       "\n",
       "    .dataframe tbody tr th {\n",
       "        vertical-align: top;\n",
       "    }\n",
       "\n",
       "    .dataframe thead th {\n",
       "        text-align: right;\n",
       "    }\n",
       "</style>\n",
       "<table border=\"1\" class=\"dataframe\">\n",
       "  <thead>\n",
       "    <tr style=\"text-align: right;\">\n",
       "      <th></th>\n",
       "      <th>precision</th>\n",
       "      <th>recall</th>\n",
       "      <th>f1-score</th>\n",
       "      <th>support</th>\n",
       "    </tr>\n",
       "  </thead>\n",
       "  <tbody>\n",
       "    <tr>\n",
       "      <th>0</th>\n",
       "      <td>0.551932</td>\n",
       "      <td>0.665669</td>\n",
       "      <td>0.603488</td>\n",
       "      <td>2339.000000</td>\n",
       "    </tr>\n",
       "    <tr>\n",
       "      <th>1</th>\n",
       "      <td>0.671290</td>\n",
       "      <td>0.558196</td>\n",
       "      <td>0.609542</td>\n",
       "      <td>2861.000000</td>\n",
       "    </tr>\n",
       "    <tr>\n",
       "      <th>accuracy</th>\n",
       "      <td>0.606538</td>\n",
       "      <td>0.606538</td>\n",
       "      <td>0.606538</td>\n",
       "      <td>0.606538</td>\n",
       "    </tr>\n",
       "    <tr>\n",
       "      <th>macro avg</th>\n",
       "      <td>0.611611</td>\n",
       "      <td>0.611933</td>\n",
       "      <td>0.606515</td>\n",
       "      <td>5200.000000</td>\n",
       "    </tr>\n",
       "    <tr>\n",
       "      <th>weighted avg</th>\n",
       "      <td>0.617602</td>\n",
       "      <td>0.606538</td>\n",
       "      <td>0.606819</td>\n",
       "      <td>5200.000000</td>\n",
       "    </tr>\n",
       "  </tbody>\n",
       "</table>\n",
       "</div>"
      ],
      "text/plain": [
       "              precision    recall  f1-score      support\n",
       "0              0.551932  0.665669  0.603488  2339.000000\n",
       "1              0.671290  0.558196  0.609542  2861.000000\n",
       "accuracy       0.606538  0.606538  0.606538     0.606538\n",
       "macro avg      0.611611  0.611933  0.606515  5200.000000\n",
       "weighted avg   0.617602  0.606538  0.606819  5200.000000"
      ]
     },
     "metadata": {},
     "output_type": "display_data"
    },
    {
     "name": "stdout",
     "output_type": "stream",
     "text": [
      "---------------------------------\n",
      "Confusion Matrix: Random Forest/CountVec\n"
     ]
    },
    {
     "data": {
      "image/png": "[encoded data removed]",
      "text/plain": [
       "<Figure size 432x288 with 2 Axes>"
      ]
     },
     "metadata": {
      "needs_background": "light"
     },
     "output_type": "display_data"
    },
    {
     "name": "stdout",
     "output_type": "stream",
     "text": [
      "Classification Report: Random Forest/CountVec\n"
     ]
    },
    {
     "data": {
      "text/html": [
       "<div>\n",
       "<style scoped>\n",
       "    .dataframe tbody tr th:only-of-type {\n",
       "        vertical-align: middle;\n",
       "    }\n",
       "\n",
       "    .dataframe tbody tr th {\n",
       "        vertical-align: top;\n",
       "    }\n",
       "\n",
       "    .dataframe thead th {\n",
       "        text-align: right;\n",
       "    }\n",
       "</style>\n",
       "<table border=\"1\" class=\"dataframe\">\n",
       "  <thead>\n",
       "    <tr style=\"text-align: right;\">\n",
       "      <th></th>\n",
       "      <th>precision</th>\n",
       "      <th>recall</th>\n",
       "      <th>f1-score</th>\n",
       "      <th>support</th>\n",
       "    </tr>\n",
       "  </thead>\n",
       "  <tbody>\n",
       "    <tr>\n",
       "      <th>0</th>\n",
       "      <td>0.749519</td>\n",
       "      <td>0.832835</td>\n",
       "      <td>0.788983</td>\n",
       "      <td>2339.000000</td>\n",
       "    </tr>\n",
       "    <tr>\n",
       "      <th>1</th>\n",
       "      <td>0.849673</td>\n",
       "      <td>0.772457</td>\n",
       "      <td>0.809227</td>\n",
       "      <td>2861.000000</td>\n",
       "    </tr>\n",
       "    <tr>\n",
       "      <th>accuracy</th>\n",
       "      <td>0.799615</td>\n",
       "      <td>0.799615</td>\n",
       "      <td>0.799615</td>\n",
       "      <td>0.799615</td>\n",
       "    </tr>\n",
       "    <tr>\n",
       "      <th>macro avg</th>\n",
       "      <td>0.799596</td>\n",
       "      <td>0.802646</td>\n",
       "      <td>0.799105</td>\n",
       "      <td>5200.000000</td>\n",
       "    </tr>\n",
       "    <tr>\n",
       "      <th>weighted avg</th>\n",
       "      <td>0.804623</td>\n",
       "      <td>0.799615</td>\n",
       "      <td>0.800121</td>\n",
       "      <td>5200.000000</td>\n",
       "    </tr>\n",
       "  </tbody>\n",
       "</table>\n",
       "</div>"
      ],
      "text/plain": [
       "              precision    recall  f1-score      support\n",
       "0              0.749519  0.832835  0.788983  2339.000000\n",
       "1              0.849673  0.772457  0.809227  2861.000000\n",
       "accuracy       0.799615  0.799615  0.799615     0.799615\n",
       "macro avg      0.799596  0.802646  0.799105  5200.000000\n",
       "weighted avg   0.804623  0.799615  0.800121  5200.000000"
      ]
     },
     "metadata": {},
     "output_type": "display_data"
    },
    {
     "name": "stdout",
     "output_type": "stream",
     "text": [
      "---------------------------------\n",
      "Confusion Matrix: Gradient Boosting/CountVec\n"
     ]
    },
    {
     "data": {
      "image/png": "[encoded data removed]",
      "text/plain": [
       "<Figure size 432x288 with 2 Axes>"
      ]
     },
     "metadata": {
      "needs_background": "light"
     },
     "output_type": "display_data"
    },
    {
     "name": "stdout",
     "output_type": "stream",
     "text": [
      "Classification Report: Gradient Boosting/CountVec\n"
     ]
    },
    {
     "data": {
      "text/html": [
       "<div>\n",
       "<style scoped>\n",
       "    .dataframe tbody tr th:only-of-type {\n",
       "        vertical-align: middle;\n",
       "    }\n",
       "\n",
       "    .dataframe tbody tr th {\n",
       "        vertical-align: top;\n",
       "    }\n",
       "\n",
       "    .dataframe thead th {\n",
       "        text-align: right;\n",
       "    }\n",
       "</style>\n",
       "<table border=\"1\" class=\"dataframe\">\n",
       "  <thead>\n",
       "    <tr style=\"text-align: right;\">\n",
       "      <th></th>\n",
       "      <th>precision</th>\n",
       "      <th>recall</th>\n",
       "      <th>f1-score</th>\n",
       "      <th>support</th>\n",
       "    </tr>\n",
       "  </thead>\n",
       "  <tbody>\n",
       "    <tr>\n",
       "      <th>0</th>\n",
       "      <td>0.602009</td>\n",
       "      <td>0.666097</td>\n",
       "      <td>0.632434</td>\n",
       "      <td>2339.000000</td>\n",
       "    </tr>\n",
       "    <tr>\n",
       "      <th>1</th>\n",
       "      <td>0.700995</td>\n",
       "      <td>0.639986</td>\n",
       "      <td>0.669103</td>\n",
       "      <td>2861.000000</td>\n",
       "    </tr>\n",
       "    <tr>\n",
       "      <th>accuracy</th>\n",
       "      <td>0.651731</td>\n",
       "      <td>0.651731</td>\n",
       "      <td>0.651731</td>\n",
       "      <td>0.651731</td>\n",
       "    </tr>\n",
       "    <tr>\n",
       "      <th>macro avg</th>\n",
       "      <td>0.651502</td>\n",
       "      <td>0.653041</td>\n",
       "      <td>0.650768</td>\n",
       "      <td>5200.000000</td>\n",
       "    </tr>\n",
       "    <tr>\n",
       "      <th>weighted avg</th>\n",
       "      <td>0.656471</td>\n",
       "      <td>0.651731</td>\n",
       "      <td>0.652609</td>\n",
       "      <td>5200.000000</td>\n",
       "    </tr>\n",
       "  </tbody>\n",
       "</table>\n",
       "</div>"
      ],
      "text/plain": [
       "              precision    recall  f1-score      support\n",
       "0              0.602009  0.666097  0.632434  2339.000000\n",
       "1              0.700995  0.639986  0.669103  2861.000000\n",
       "accuracy       0.651731  0.651731  0.651731     0.651731\n",
       "macro avg      0.651502  0.653041  0.650768  5200.000000\n",
       "weighted avg   0.656471  0.651731  0.652609  5200.000000"
      ]
     },
     "metadata": {},
     "output_type": "display_data"
    },
    {
     "name": "stdout",
     "output_type": "stream",
     "text": [
      "---------------------------------\n",
      "Confusion Matrix: Logistic Regression/TfidfVec\n"
     ]
    },
    {
     "data": {
      "image/png": "[encoded data removed]",
      "text/plain": [
       "<Figure size 432x288 with 2 Axes>"
      ]
     },
     "metadata": {
      "needs_background": "light"
     },
     "output_type": "display_data"
    },
    {
     "name": "stdout",
     "output_type": "stream",
     "text": [
      "Classification Report: Logistic Regression/TfidfVec\n"
     ]
    },
    {
     "data": {
      "text/html": [
       "<div>\n",
       "<style scoped>\n",
       "    .dataframe tbody tr th:only-of-type {\n",
       "        vertical-align: middle;\n",
       "    }\n",
       "\n",
       "    .dataframe tbody tr th {\n",
       "        vertical-align: top;\n",
       "    }\n",
       "\n",
       "    .dataframe thead th {\n",
       "        text-align: right;\n",
       "    }\n",
       "</style>\n",
       "<table border=\"1\" class=\"dataframe\">\n",
       "  <thead>\n",
       "    <tr style=\"text-align: right;\">\n",
       "      <th></th>\n",
       "      <th>precision</th>\n",
       "      <th>recall</th>\n",
       "      <th>f1-score</th>\n",
       "      <th>support</th>\n",
       "    </tr>\n",
       "  </thead>\n",
       "  <tbody>\n",
       "    <tr>\n",
       "      <th>0</th>\n",
       "      <td>0.587490</td>\n",
       "      <td>0.654553</td>\n",
       "      <td>0.619211</td>\n",
       "      <td>2339.000000</td>\n",
       "    </tr>\n",
       "    <tr>\n",
       "      <th>1</th>\n",
       "      <td>0.688512</td>\n",
       "      <td>0.624257</td>\n",
       "      <td>0.654812</td>\n",
       "      <td>2861.000000</td>\n",
       "    </tr>\n",
       "    <tr>\n",
       "      <th>accuracy</th>\n",
       "      <td>0.637885</td>\n",
       "      <td>0.637885</td>\n",
       "      <td>0.637885</td>\n",
       "      <td>0.637885</td>\n",
       "    </tr>\n",
       "    <tr>\n",
       "      <th>macro avg</th>\n",
       "      <td>0.638001</td>\n",
       "      <td>0.639405</td>\n",
       "      <td>0.637012</td>\n",
       "      <td>5200.000000</td>\n",
       "    </tr>\n",
       "    <tr>\n",
       "      <th>weighted avg</th>\n",
       "      <td>0.643072</td>\n",
       "      <td>0.637885</td>\n",
       "      <td>0.638799</td>\n",
       "      <td>5200.000000</td>\n",
       "    </tr>\n",
       "  </tbody>\n",
       "</table>\n",
       "</div>"
      ],
      "text/plain": [
       "              precision    recall  f1-score      support\n",
       "0              0.587490  0.654553  0.619211  2339.000000\n",
       "1              0.688512  0.624257  0.654812  2861.000000\n",
       "accuracy       0.637885  0.637885  0.637885     0.637885\n",
       "macro avg      0.638001  0.639405  0.637012  5200.000000\n",
       "weighted avg   0.643072  0.637885  0.638799  5200.000000"
      ]
     },
     "metadata": {},
     "output_type": "display_data"
    },
    {
     "name": "stdout",
     "output_type": "stream",
     "text": [
      "---------------------------------\n",
      "Confusion Matrix: Naive Bayes/TfidfVec\n"
     ]
    },
    {
     "data": {
      "image/png": "[encoded data removed]",
      "text/plain": [
       "<Figure size 432x288 with 2 Axes>"
      ]
     },
     "metadata": {
      "needs_background": "light"
     },
     "output_type": "display_data"
    },
    {
     "name": "stdout",
     "output_type": "stream",
     "text": [
      "Classification Report: Naive Bayes/TfidfVec\n"
     ]
    },
    {
     "data": {
      "text/html": [
       "<div>\n",
       "<style scoped>\n",
       "    .dataframe tbody tr th:only-of-type {\n",
       "        vertical-align: middle;\n",
       "    }\n",
       "\n",
       "    .dataframe tbody tr th {\n",
       "        vertical-align: top;\n",
       "    }\n",
       "\n",
       "    .dataframe thead th {\n",
       "        text-align: right;\n",
       "    }\n",
       "</style>\n",
       "<table border=\"1\" class=\"dataframe\">\n",
       "  <thead>\n",
       "    <tr style=\"text-align: right;\">\n",
       "      <th></th>\n",
       "      <th>precision</th>\n",
       "      <th>recall</th>\n",
       "      <th>f1-score</th>\n",
       "      <th>support</th>\n",
       "    </tr>\n",
       "  </thead>\n",
       "  <tbody>\n",
       "    <tr>\n",
       "      <th>0</th>\n",
       "      <td>0.559607</td>\n",
       "      <td>0.682343</td>\n",
       "      <td>0.614910</td>\n",
       "      <td>2339.000000</td>\n",
       "    </tr>\n",
       "    <tr>\n",
       "      <th>1</th>\n",
       "      <td>0.683560</td>\n",
       "      <td>0.560993</td>\n",
       "      <td>0.616241</td>\n",
       "      <td>2861.000000</td>\n",
       "    </tr>\n",
       "    <tr>\n",
       "      <th>accuracy</th>\n",
       "      <td>0.615577</td>\n",
       "      <td>0.615577</td>\n",
       "      <td>0.615577</td>\n",
       "      <td>0.615577</td>\n",
       "    </tr>\n",
       "    <tr>\n",
       "      <th>macro avg</th>\n",
       "      <td>0.621584</td>\n",
       "      <td>0.621668</td>\n",
       "      <td>0.615576</td>\n",
       "      <td>5200.000000</td>\n",
       "    </tr>\n",
       "    <tr>\n",
       "      <th>weighted avg</th>\n",
       "      <td>0.627805</td>\n",
       "      <td>0.615577</td>\n",
       "      <td>0.615643</td>\n",
       "      <td>5200.000000</td>\n",
       "    </tr>\n",
       "  </tbody>\n",
       "</table>\n",
       "</div>"
      ],
      "text/plain": [
       "              precision    recall  f1-score      support\n",
       "0              0.559607  0.682343  0.614910  2339.000000\n",
       "1              0.683560  0.560993  0.616241  2861.000000\n",
       "accuracy       0.615577  0.615577  0.615577     0.615577\n",
       "macro avg      0.621584  0.621668  0.615576  5200.000000\n",
       "weighted avg   0.627805  0.615577  0.615643  5200.000000"
      ]
     },
     "metadata": {},
     "output_type": "display_data"
    },
    {
     "name": "stdout",
     "output_type": "stream",
     "text": [
      "---------------------------------\n",
      "Confusion Matrix: Random Forest/TfidfVec\n"
     ]
    },
    {
     "data": {
      "image/png": "[encoded data removed]",
      "text/plain": [
       "<Figure size 432x288 with 2 Axes>"
      ]
     },
     "metadata": {
      "needs_background": "light"
     },
     "output_type": "display_data"
    },
    {
     "name": "stdout",
     "output_type": "stream",
     "text": [
      "Classification Report: Random Forest/TfidfVec\n"
     ]
    },
    {
     "data": {
      "text/html": [
       "<div>\n",
       "<style scoped>\n",
       "    .dataframe tbody tr th:only-of-type {\n",
       "        vertical-align: middle;\n",
       "    }\n",
       "\n",
       "    .dataframe tbody tr th {\n",
       "        vertical-align: top;\n",
       "    }\n",
       "\n",
       "    .dataframe thead th {\n",
       "        text-align: right;\n",
       "    }\n",
       "</style>\n",
       "<table border=\"1\" class=\"dataframe\">\n",
       "  <thead>\n",
       "    <tr style=\"text-align: right;\">\n",
       "      <th></th>\n",
       "      <th>precision</th>\n",
       "      <th>recall</th>\n",
       "      <th>f1-score</th>\n",
       "      <th>support</th>\n",
       "    </tr>\n",
       "  </thead>\n",
       "  <tbody>\n",
       "    <tr>\n",
       "      <th>0</th>\n",
       "      <td>0.775166</td>\n",
       "      <td>0.846088</td>\n",
       "      <td>0.809076</td>\n",
       "      <td>2339.000000</td>\n",
       "    </tr>\n",
       "    <tr>\n",
       "      <th>1</th>\n",
       "      <td>0.863997</td>\n",
       "      <td>0.799371</td>\n",
       "      <td>0.830428</td>\n",
       "      <td>2861.000000</td>\n",
       "    </tr>\n",
       "    <tr>\n",
       "      <th>accuracy</th>\n",
       "      <td>0.820385</td>\n",
       "      <td>0.820385</td>\n",
       "      <td>0.820385</td>\n",
       "      <td>0.820385</td>\n",
       "    </tr>\n",
       "    <tr>\n",
       "      <th>macro avg</th>\n",
       "      <td>0.819582</td>\n",
       "      <td>0.822729</td>\n",
       "      <td>0.819752</td>\n",
       "      <td>5200.000000</td>\n",
       "    </tr>\n",
       "    <tr>\n",
       "      <th>weighted avg</th>\n",
       "      <td>0.824040</td>\n",
       "      <td>0.820385</td>\n",
       "      <td>0.820824</td>\n",
       "      <td>5200.000000</td>\n",
       "    </tr>\n",
       "  </tbody>\n",
       "</table>\n",
       "</div>"
      ],
      "text/plain": [
       "              precision    recall  f1-score      support\n",
       "0              0.775166  0.846088  0.809076  2339.000000\n",
       "1              0.863997  0.799371  0.830428  2861.000000\n",
       "accuracy       0.820385  0.820385  0.820385     0.820385\n",
       "macro avg      0.819582  0.822729  0.819752  5200.000000\n",
       "weighted avg   0.824040  0.820385  0.820824  5200.000000"
      ]
     },
     "metadata": {},
     "output_type": "display_data"
    },
    {
     "name": "stdout",
     "output_type": "stream",
     "text": [
      "---------------------------------\n",
      "Confusion Matrix: Gradient Boosting/TfidfVec\n"
     ]
    },
    {
     "data": {
      "image/png": "[encoded data removed]",
      "text/plain": [
       "<Figure size 432x288 with 2 Axes>"
      ]
     },
     "metadata": {
      "needs_background": "light"
     },
     "output_type": "display_data"
    },
    {
     "name": "stdout",
     "output_type": "stream",
     "text": [
      "Classification Report: Gradient Boosting/TfidfVec\n"
     ]
    },
    {
     "data": {
      "text/html": [
       "<div>\n",
       "<style scoped>\n",
       "    .dataframe tbody tr th:only-of-type {\n",
       "        vertical-align: middle;\n",
       "    }\n",
       "\n",
       "    .dataframe tbody tr th {\n",
       "        vertical-align: top;\n",
       "    }\n",
       "\n",
       "    .dataframe thead th {\n",
       "        text-align: right;\n",
       "    }\n",
       "</style>\n",
       "<table border=\"1\" class=\"dataframe\">\n",
       "  <thead>\n",
       "    <tr style=\"text-align: right;\">\n",
       "      <th></th>\n",
       "      <th>precision</th>\n",
       "      <th>recall</th>\n",
       "      <th>f1-score</th>\n",
       "      <th>support</th>\n",
       "    </tr>\n",
       "  </thead>\n",
       "  <tbody>\n",
       "    <tr>\n",
       "      <th>0</th>\n",
       "      <td>0.591696</td>\n",
       "      <td>0.657973</td>\n",
       "      <td>0.623077</td>\n",
       "      <td>2339.000000</td>\n",
       "    </tr>\n",
       "    <tr>\n",
       "      <th>1</th>\n",
       "      <td>0.692189</td>\n",
       "      <td>0.628801</td>\n",
       "      <td>0.658974</td>\n",
       "      <td>2861.000000</td>\n",
       "    </tr>\n",
       "    <tr>\n",
       "      <th>accuracy</th>\n",
       "      <td>0.641923</td>\n",
       "      <td>0.641923</td>\n",
       "      <td>0.641923</td>\n",
       "      <td>0.641923</td>\n",
       "    </tr>\n",
       "    <tr>\n",
       "      <th>macro avg</th>\n",
       "      <td>0.641942</td>\n",
       "      <td>0.643387</td>\n",
       "      <td>0.641026</td>\n",
       "      <td>5200.000000</td>\n",
       "    </tr>\n",
       "    <tr>\n",
       "      <th>weighted avg</th>\n",
       "      <td>0.646986</td>\n",
       "      <td>0.641923</td>\n",
       "      <td>0.642827</td>\n",
       "      <td>5200.000000</td>\n",
       "    </tr>\n",
       "  </tbody>\n",
       "</table>\n",
       "</div>"
      ],
      "text/plain": [
       "              precision    recall  f1-score      support\n",
       "0              0.591696  0.657973  0.623077  2339.000000\n",
       "1              0.692189  0.628801  0.658974  2861.000000\n",
       "accuracy       0.641923  0.641923  0.641923     0.641923\n",
       "macro avg      0.641942  0.643387  0.641026  5200.000000\n",
       "weighted avg   0.646986  0.641923  0.642827  5200.000000"
      ]
     },
     "metadata": {},
     "output_type": "display_data"
    }
   ],
   "source": [
    "# Preliminary report on model performance\n",
    "for i, model in enumerate(grids_countvec):\n",
    "    print('---------------------------------')\n",
    "    print(\"Confusion Matrix: {}/{}\".format(grid_dict_countvec[i], 'CountVec'))\n",
    "    cm = confusion_matrix(y_test, model.predict(X_countvec_test))\n",
    "    sns.heatmap(cm, annot=True, annot_kws={'fontsize': 20}, cmap='YlGnBu', fmt='d')\n",
    "    plt.xlabel('Predicted Labels', fontsize = 20)\n",
    "    plt.ylabel('True Labels', fontsize = 20)\n",
    "    plt.tick_params(axis='both', which='major', labelsize=20)\n",
    "    plt.show()\n",
    "    print(\"Classification Report: {}/{}\".format(grid_dict_countvec[i], 'CountVec'))\n",
    "    display(pd.DataFrame(classification_report(y_test, model.predict(X_countvec_test), output_dict=True)).transpose())\n",
    "    \n",
    "for i, model in enumerate(grids_tfidfvec):\n",
    "    print('---------------------------------')\n",
    "    print(\"Confusion Matrix: {}/{}\".format(grid_dict_tfidfvec[i], 'TfidfVec'))\n",
    "    cm = confusion_matrix(y_test, model.predict(X_tfidfvec_test))\n",
    "    sns.heatmap(cm, annot=True, annot_kws={'fontsize': 20}, cmap='YlGnBu', fmt='d')\n",
    "    plt.xlabel('Predicted Label', fontsize = 20)\n",
    "    plt.ylabel('True Label', fontsize = 20)\n",
    "    plt.tick_params(axis='both', which='major', labelsize=20)\n",
    "    plt.show()\n",
    "    print(\"Classification Report: {}/{}\".format(grid_dict_tfidfvec[i], 'TfidfVec'))\n",
    "    display(pd.DataFrame(classification_report(y_test, model.predict(X_tfidfvec_test), output_dict=True)).transpose())"
   ]
  },
  {
   "cell_type": "code",
   "execution_count": 176,
   "id": "85824cf8",
   "metadata": {
    "ExecuteTime": {
     "end_time": "2022-03-26T09:51:52.934056Z",
     "start_time": "2022-03-26T09:51:50.339631Z"
    },
    "scrolled": false
   },
   "outputs": [
    {
     "data": {
      "image/png": "[encoded data removed]",
      "text/plain": [
       "<Figure size 576x576 with 1 Axes>"
      ]
     },
     "metadata": {
      "needs_background": "light"
     },
     "output_type": "display_data"
    }
   ],
   "source": [
    "# Plotting ROC curves with AUC scores\n",
    "plt.figure(figsize = (8, 8))\n",
    "for i, model in enumerate(grids_countvec):\n",
    "    # Compute ROC/AUC scores\n",
    "    roc_auc = roc_auc_score(y_test, model.predict(X_countvec_test))\n",
    "    fpr, tpr, thresholds = roc_curve(y_test, model.predict_proba(X_countvec_test)[:,1])\n",
    "    \n",
    "    plt.plot(fpr, tpr, label=f'{grid_dict_countvec[i]} (area = {roc_auc:.2f})')\n",
    "    plt.plot([0.0, 1.0], [0.0, 1.0], 'k--')\n",
    "    \n",
    "    plt.xlim([0.0, 1.0])\n",
    "    plt.ylim([0.0, 1.05])\n",
    "    \n",
    "    plt.xlabel('False Positive Rate', fontsize = 20)\n",
    "    plt.ylabel('True Positive Rate', fontsize = 20)\n",
    "    plt.title('Receiver Operating Characteristic (CountVec)', fontsize = 20)\n",
    "    plt.tick_params(axis='both', which='major', labelsize=20)\n",
    "    \n",
    "    plt.legend(bbox_to_anchor=(1, 1), fontsize=20)\n",
    "\n",
    "plt.show()"
   ]
  },
  {
   "cell_type": "code",
   "execution_count": 177,
   "id": "e958d8b9",
   "metadata": {
    "ExecuteTime": {
     "end_time": "2022-03-26T09:52:02.566672Z",
     "start_time": "2022-03-26T09:51:52.936328Z"
    }
   },
   "outputs": [
    {
     "data": {
      "image/png": "[encoded data removed]",
      "text/plain": [
       "<Figure size 576x576 with 1 Axes>"
      ]
     },
     "metadata": {
      "needs_background": "light"
     },
     "output_type": "display_data"
    }
   ],
   "source": [
    "# Plotting ROC curves with AUC scores\n",
    "plt.figure(figsize = (8, 8))\n",
    "for i, model in enumerate(grids_tfidfvec):\n",
    "    # Compute ROC/AUC scores\n",
    "    roc_auc = roc_auc_score(y_test, model.predict(X_tfidfvec_test))\n",
    "    fpr, tpr, thresholds = roc_curve(y_test, model.predict_proba(X_tfidfvec_test)[:,1])\n",
    "    \n",
    "    plt.plot(fpr, tpr, label=f'{grid_dict_tfidfvec[i]} (area = {roc_auc:.2f})')\n",
    "    plt.plot([0.0, 1.0], [0.0, 1.0], 'k--')\n",
    "    \n",
    "    plt.xlim([0.0, 1.0])\n",
    "    plt.ylim([0.0, 1.05])\n",
    "    \n",
    "    plt.xlabel('False Positive Rate', fontsize = 20)\n",
    "    plt.ylabel('True Positive Rate', fontsize = 20)\n",
    "    plt.title('Receiver Operating Characteristic (TfidfVec)', fontsize = 20)\n",
    "    plt.tick_params(axis='both', which='major', labelsize=20)\n",
    "    \n",
    "    plt.legend(bbox_to_anchor=(1, 1), fontsize=20)\n",
    "\n",
    "plt.show()"
   ]
  },
  {
   "cell_type": "markdown",
   "id": "444eb71c",
   "metadata": {},
   "source": [
    "Of the four classifier models, it would appear that Random Forest (5-fold cross-validation with randomized search) has performed the best at around 80-82% accuracy on the test set. Metric-wise, it also has the best precision, recall, and AUC score as shown in the ROC curves above.\n",
    "\n",
    "While the other models generally fare better in the training set (typically in the 90+%), where their scores are typically higher than that of random forest they peformed much worse when applying them to the test set. This is likely a case of overfitting and/or not generalizing well. Random Forest, on the other hand, seems fairly consistent, maintaining roughly the same scores between training and test sets.\n",
    "\n",
    "The performance of Logistic Regression (5-fold cross-validation with grid search) and Gradient Boosting (5-fold cross-validation with randomized search) for the test set, as mentioned earlier were much worse than Random Forest at roughly 64-65%. The worst performing model was Naive Bayes (5-fold cross-validation with grid search) at 61-62%.\n",
    "\n",
    "With regards to computational cost, Gradient Boosting was the most expensive, taking nearly 3 hrs to complete, and the least expensive was Naive Bayes at 8 sec. Logistic Regression and Random Forest took roughly the same time to complete at around 11-12 minutes. It is important to note that the hyperparameters for the Random Forest and Gradient Boosting models were created through Randomized Search, which is less rigorous than a grid search, significantly speeding up their processes.\n",
    "\n",
    "With regards to word vectorization, neither approaches (Count Vectorization or TF-IDF Vectorization) provide a significant improvement over the other when it comes to model performance. Models that utilizes TF-IDF is, however, slightly better than their Count Vec counterparts.\n",
    "\n",
    "Moving forward, we could see if we could improve upon the Random Forest Model we have now by running a more rigorous hyperparameter grid search as opposed to a randomized search and by widening our parameter space. As to which word vectorization approach to go for, we'll utilize the TF-IDF approach which provides slightly better results than Count Vectorization."
   ]
  },
  {
   "cell_type": "code",
   "execution_count": 212,
   "id": "702694bf",
   "metadata": {
    "ExecuteTime": {
     "end_time": "2022-03-27T02:19:36.560429Z",
     "start_time": "2022-03-27T02:19:36.311540Z"
    }
   },
   "outputs": [
    {
     "data": {
      "image/png": "[encoded data removed]",
      "text/plain": [
       "<Figure size 432x288 with 1 Axes>"
      ]
     },
     "metadata": {
      "needs_background": "light"
     },
     "output_type": "display_data"
    }
   ],
   "source": [
    "# Checking best parameters for previous randfor model\n",
    "cv_results_randfor = pd.DataFrame(grid_tfidfvec_randfor_5cv.cv_results_).sort_values('rank_test_score')\n",
    "sns.lineplot(data=cv_results_randfor, x='param_clf_randfor__n_estimators', y='mean_test_score',\n",
    "                hue='param_clf_randfor__max_depth', marker='o')\n",
    "plt.legend(bbox_to_anchor=(1, 1), fontsize=20)\n",
    "plt.show()"
   ]
  },
  {
   "cell_type": "code",
   "execution_count": 195,
   "id": "0852e6a9",
   "metadata": {
    "ExecuteTime": {
     "end_time": "2022-03-27T00:31:30.302754Z",
     "start_time": "2022-03-27T00:31:30.274662Z"
    }
   },
   "outputs": [
    {
     "data": {
      "text/html": [
       "<div>\n",
       "<style scoped>\n",
       "    .dataframe tbody tr th:only-of-type {\n",
       "        vertical-align: middle;\n",
       "    }\n",
       "\n",
       "    .dataframe tbody tr th {\n",
       "        vertical-align: top;\n",
       "    }\n",
       "\n",
       "    .dataframe thead th {\n",
       "        text-align: right;\n",
       "    }\n",
       "</style>\n",
       "<table border=\"1\" class=\"dataframe\">\n",
       "  <thead>\n",
       "    <tr style=\"text-align: right;\">\n",
       "      <th></th>\n",
       "      <th>mean_fit_time</th>\n",
       "      <th>std_fit_time</th>\n",
       "      <th>mean_score_time</th>\n",
       "      <th>std_score_time</th>\n",
       "      <th>param_clf_randfor__random_state</th>\n",
       "      <th>param_clf_randfor__n_estimators</th>\n",
       "      <th>param_clf_randfor__max_features</th>\n",
       "      <th>param_clf_randfor__max_depth</th>\n",
       "      <th>params</th>\n",
       "      <th>split0_test_score</th>\n",
       "      <th>split1_test_score</th>\n",
       "      <th>split2_test_score</th>\n",
       "      <th>split3_test_score</th>\n",
       "      <th>split4_test_score</th>\n",
       "      <th>mean_test_score</th>\n",
       "      <th>std_test_score</th>\n",
       "      <th>rank_test_score</th>\n",
       "    </tr>\n",
       "  </thead>\n",
       "  <tbody>\n",
       "    <tr>\n",
       "      <th>1</th>\n",
       "      <td>11.795894</td>\n",
       "      <td>0.044175</td>\n",
       "      <td>3.065306</td>\n",
       "      <td>0.017677</td>\n",
       "      <td>42</td>\n",
       "      <td>450</td>\n",
       "      <td>sqrt</td>\n",
       "      <td>5</td>\n",
       "      <td>{'clf_randfor__random_state': 42, 'clf_randfor...</td>\n",
       "      <td>0.785817</td>\n",
       "      <td>0.793510</td>\n",
       "      <td>0.806010</td>\n",
       "      <td>0.812019</td>\n",
       "      <td>0.808173</td>\n",
       "      <td>0.801106</td>\n",
       "      <td>0.009844</td>\n",
       "      <td>1</td>\n",
       "    </tr>\n",
       "    <tr>\n",
       "      <th>0</th>\n",
       "      <td>13.015359</td>\n",
       "      <td>0.152935</td>\n",
       "      <td>3.413731</td>\n",
       "      <td>0.033252</td>\n",
       "      <td>42</td>\n",
       "      <td>500</td>\n",
       "      <td>sqrt</td>\n",
       "      <td>5</td>\n",
       "      <td>{'clf_randfor__random_state': 42, 'clf_randfor...</td>\n",
       "      <td>0.790385</td>\n",
       "      <td>0.794471</td>\n",
       "      <td>0.805769</td>\n",
       "      <td>0.807452</td>\n",
       "      <td>0.806971</td>\n",
       "      <td>0.801010</td>\n",
       "      <td>0.007146</td>\n",
       "      <td>2</td>\n",
       "    </tr>\n",
       "    <tr>\n",
       "      <th>4</th>\n",
       "      <td>3.348317</td>\n",
       "      <td>0.052596</td>\n",
       "      <td>1.033550</td>\n",
       "      <td>0.013370</td>\n",
       "      <td>42</td>\n",
       "      <td>150</td>\n",
       "      <td>sqrt</td>\n",
       "      <td>4</td>\n",
       "      <td>{'clf_randfor__random_state': 42, 'clf_randfor...</td>\n",
       "      <td>0.774519</td>\n",
       "      <td>0.765865</td>\n",
       "      <td>0.801923</td>\n",
       "      <td>0.798798</td>\n",
       "      <td>0.799279</td>\n",
       "      <td>0.788077</td>\n",
       "      <td>0.014895</td>\n",
       "      <td>3</td>\n",
       "    </tr>\n",
       "    <tr>\n",
       "      <th>9</th>\n",
       "      <td>2.360384</td>\n",
       "      <td>0.026851</td>\n",
       "      <td>0.697537</td>\n",
       "      <td>0.008853</td>\n",
       "      <td>42</td>\n",
       "      <td>100</td>\n",
       "      <td>sqrt</td>\n",
       "      <td>4</td>\n",
       "      <td>{'clf_randfor__random_state': 42, 'clf_randfor...</td>\n",
       "      <td>0.791346</td>\n",
       "      <td>0.756971</td>\n",
       "      <td>0.803606</td>\n",
       "      <td>0.779808</td>\n",
       "      <td>0.799038</td>\n",
       "      <td>0.786154</td>\n",
       "      <td>0.016670</td>\n",
       "      <td>4</td>\n",
       "    </tr>\n",
       "    <tr>\n",
       "      <th>6</th>\n",
       "      <td>8.013318</td>\n",
       "      <td>0.041704</td>\n",
       "      <td>3.471825</td>\n",
       "      <td>0.186033</td>\n",
       "      <td>42</td>\n",
       "      <td>500</td>\n",
       "      <td>sqrt</td>\n",
       "      <td>3</td>\n",
       "      <td>{'clf_randfor__random_state': 42, 'clf_randfor...</td>\n",
       "      <td>0.754567</td>\n",
       "      <td>0.759135</td>\n",
       "      <td>0.767308</td>\n",
       "      <td>0.777163</td>\n",
       "      <td>0.784375</td>\n",
       "      <td>0.768510</td>\n",
       "      <td>0.011048</td>\n",
       "      <td>5</td>\n",
       "    </tr>\n",
       "    <tr>\n",
       "      <th>2</th>\n",
       "      <td>3.134071</td>\n",
       "      <td>0.026390</td>\n",
       "      <td>3.372127</td>\n",
       "      <td>0.028257</td>\n",
       "      <td>42</td>\n",
       "      <td>500</td>\n",
       "      <td>log2</td>\n",
       "      <td>4</td>\n",
       "      <td>{'clf_randfor__random_state': 42, 'clf_randfor...</td>\n",
       "      <td>0.719471</td>\n",
       "      <td>0.752885</td>\n",
       "      <td>0.739183</td>\n",
       "      <td>0.742548</td>\n",
       "      <td>0.741106</td>\n",
       "      <td>0.739038</td>\n",
       "      <td>0.010874</td>\n",
       "      <td>6</td>\n",
       "    </tr>\n",
       "    <tr>\n",
       "      <th>5</th>\n",
       "      <td>2.882454</td>\n",
       "      <td>0.036889</td>\n",
       "      <td>2.725268</td>\n",
       "      <td>0.013837</td>\n",
       "      <td>42</td>\n",
       "      <td>400</td>\n",
       "      <td>log2</td>\n",
       "      <td>5</td>\n",
       "      <td>{'clf_randfor__random_state': 42, 'clf_randfor...</td>\n",
       "      <td>0.711779</td>\n",
       "      <td>0.740625</td>\n",
       "      <td>0.731731</td>\n",
       "      <td>0.730769</td>\n",
       "      <td>0.734856</td>\n",
       "      <td>0.729952</td>\n",
       "      <td>0.009717</td>\n",
       "      <td>7</td>\n",
       "    </tr>\n",
       "    <tr>\n",
       "      <th>7</th>\n",
       "      <td>2.320086</td>\n",
       "      <td>0.105485</td>\n",
       "      <td>2.730279</td>\n",
       "      <td>0.051162</td>\n",
       "      <td>42</td>\n",
       "      <td>400</td>\n",
       "      <td>log2</td>\n",
       "      <td>3</td>\n",
       "      <td>{'clf_randfor__random_state': 42, 'clf_randfor...</td>\n",
       "      <td>0.700000</td>\n",
       "      <td>0.731971</td>\n",
       "      <td>0.723317</td>\n",
       "      <td>0.727885</td>\n",
       "      <td>0.729808</td>\n",
       "      <td>0.722596</td>\n",
       "      <td>0.011653</td>\n",
       "      <td>8</td>\n",
       "    </tr>\n",
       "    <tr>\n",
       "      <th>3</th>\n",
       "      <td>1.564937</td>\n",
       "      <td>0.012569</td>\n",
       "      <td>1.714674</td>\n",
       "      <td>0.019153</td>\n",
       "      <td>42</td>\n",
       "      <td>250</td>\n",
       "      <td>log2</td>\n",
       "      <td>3</td>\n",
       "      <td>{'clf_randfor__random_state': 42, 'clf_randfor...</td>\n",
       "      <td>0.691346</td>\n",
       "      <td>0.715865</td>\n",
       "      <td>0.714904</td>\n",
       "      <td>0.717548</td>\n",
       "      <td>0.729087</td>\n",
       "      <td>0.713750</td>\n",
       "      <td>0.012308</td>\n",
       "      <td>9</td>\n",
       "    </tr>\n",
       "    <tr>\n",
       "      <th>8</th>\n",
       "      <td>0.827335</td>\n",
       "      <td>0.011648</td>\n",
       "      <td>0.696859</td>\n",
       "      <td>0.007049</td>\n",
       "      <td>42</td>\n",
       "      <td>100</td>\n",
       "      <td>log2</td>\n",
       "      <td>3</td>\n",
       "      <td>{'clf_randfor__random_state': 42, 'clf_randfor...</td>\n",
       "      <td>0.670192</td>\n",
       "      <td>0.693990</td>\n",
       "      <td>0.712019</td>\n",
       "      <td>0.690385</td>\n",
       "      <td>0.700962</td>\n",
       "      <td>0.693510</td>\n",
       "      <td>0.013797</td>\n",
       "      <td>10</td>\n",
       "    </tr>\n",
       "  </tbody>\n",
       "</table>\n",
       "</div>"
      ],
      "text/plain": [
       "   mean_fit_time  std_fit_time  mean_score_time  std_score_time  \\\n",
       "1      11.795894      0.044175         3.065306        0.017677   \n",
       "0      13.015359      0.152935         3.413731        0.033252   \n",
       "4       3.348317      0.052596         1.033550        0.013370   \n",
       "9       2.360384      0.026851         0.697537        0.008853   \n",
       "6       8.013318      0.041704         3.471825        0.186033   \n",
       "2       3.134071      0.026390         3.372127        0.028257   \n",
       "5       2.882454      0.036889         2.725268        0.013837   \n",
       "7       2.320086      0.105485         2.730279        0.051162   \n",
       "3       1.564937      0.012569         1.714674        0.019153   \n",
       "8       0.827335      0.011648         0.696859        0.007049   \n",
       "\n",
       "  param_clf_randfor__random_state param_clf_randfor__n_estimators  \\\n",
       "1                              42                             450   \n",
       "0                              42                             500   \n",
       "4                              42                             150   \n",
       "9                              42                             100   \n",
       "6                              42                             500   \n",
       "2                              42                             500   \n",
       "5                              42                             400   \n",
       "7                              42                             400   \n",
       "3                              42                             250   \n",
       "8                              42                             100   \n",
       "\n",
       "  param_clf_randfor__max_features param_clf_randfor__max_depth  \\\n",
       "1                            sqrt                            5   \n",
       "0                            sqrt                            5   \n",
       "4                            sqrt                            4   \n",
       "9                            sqrt                            4   \n",
       "6                            sqrt                            3   \n",
       "2                            log2                            4   \n",
       "5                            log2                            5   \n",
       "7                            log2                            3   \n",
       "3                            log2                            3   \n",
       "8                            log2                            3   \n",
       "\n",
       "                                              params  split0_test_score  \\\n",
       "1  {'clf_randfor__random_state': 42, 'clf_randfor...           0.785817   \n",
       "0  {'clf_randfor__random_state': 42, 'clf_randfor...           0.790385   \n",
       "4  {'clf_randfor__random_state': 42, 'clf_randfor...           0.774519   \n",
       "9  {'clf_randfor__random_state': 42, 'clf_randfor...           0.791346   \n",
       "6  {'clf_randfor__random_state': 42, 'clf_randfor...           0.754567   \n",
       "2  {'clf_randfor__random_state': 42, 'clf_randfor...           0.719471   \n",
       "5  {'clf_randfor__random_state': 42, 'clf_randfor...           0.711779   \n",
       "7  {'clf_randfor__random_state': 42, 'clf_randfor...           0.700000   \n",
       "3  {'clf_randfor__random_state': 42, 'clf_randfor...           0.691346   \n",
       "8  {'clf_randfor__random_state': 42, 'clf_randfor...           0.670192   \n",
       "\n",
       "   split1_test_score  split2_test_score  split3_test_score  split4_test_score  \\\n",
       "1           0.793510           0.806010           0.812019           0.808173   \n",
       "0           0.794471           0.805769           0.807452           0.806971   \n",
       "4           0.765865           0.801923           0.798798           0.799279   \n",
       "9           0.756971           0.803606           0.779808           0.799038   \n",
       "6           0.759135           0.767308           0.777163           0.784375   \n",
       "2           0.752885           0.739183           0.742548           0.741106   \n",
       "5           0.740625           0.731731           0.730769           0.734856   \n",
       "7           0.731971           0.723317           0.727885           0.729808   \n",
       "3           0.715865           0.714904           0.717548           0.729087   \n",
       "8           0.693990           0.712019           0.690385           0.700962   \n",
       "\n",
       "   mean_test_score  std_test_score  rank_test_score  \n",
       "1         0.801106        0.009844                1  \n",
       "0         0.801010        0.007146                2  \n",
       "4         0.788077        0.014895                3  \n",
       "9         0.786154        0.016670                4  \n",
       "6         0.768510        0.011048                5  \n",
       "2         0.739038        0.010874                6  \n",
       "5         0.729952        0.009717                7  \n",
       "7         0.722596        0.011653                8  \n",
       "3         0.713750        0.012308                9  \n",
       "8         0.693510        0.013797               10  "
      ]
     },
     "execution_count": 195,
     "metadata": {},
     "output_type": "execute_result"
    }
   ],
   "source": [
    "cv_results_randfor"
   ]
  },
  {
   "cell_type": "markdown",
   "id": "d13576ed",
   "metadata": {},
   "source": [
    "From the cross validation results of the previous model, we could see that the best scoring models has a relatively high number of estimators and/or a pretty deep max depth. One thing to note in this case is that a large number of estimators could help improve the scores for models with smaller max depth as seen with max depth = 3 and n_estimators = 500. We could try and expand on n_estimators in our parameter space to see if this trend would continue. We'll also test out deeper trees up to max depth = 7 as increasing max depth does seem improve upon our scores, although it might as well just be overfitting.\n",
    "\n",
    "Models that utilizes log2 appears to perform worse overall when compared to using the sqrt approach for deriving max features. Thus, we'll just be utilizing sqrt in our new search."
   ]
  },
  {
   "cell_type": "code",
   "execution_count": 196,
   "id": "6ab1a03a",
   "metadata": {
    "ExecuteTime": {
     "end_time": "2022-03-27T00:35:40.706551Z",
     "start_time": "2022-03-27T00:35:40.701379Z"
    }
   },
   "outputs": [],
   "source": [
    "# Setting up new pipeline for Random Forest Classifier\n",
    "pipe_tfidfvec_randfor2 = Pipeline([('clf', RandomForestClassifier())])\n",
    "\n",
    "parameters = {'clf__n_estimators': [100, 150, 200, 250, 300, 350, 400, 450, 500, 550, 600, 650, 700],\n",
    "              'clf__max_depth': [3, 4, 5, 6, 7],\n",
    "              'clf__max_features': ['sqrt'],\n",
    "              'clf__random_state': [42]}"
   ]
  },
  {
   "cell_type": "code",
   "execution_count": 198,
   "id": "fb293d5e",
   "metadata": {
    "ExecuteTime": {
     "end_time": "2022-03-27T02:00:29.784780Z",
     "start_time": "2022-03-27T00:35:57.220626Z"
    }
   },
   "outputs": [],
   "source": [
    "# Running exhaustive grid serach for Random Forest Classifier with 5-fold cross-validation\n",
    "grid_tfidfvec_randfor2_5cv = GridSearchCV(pipe_tfidfvec_randfor2, parameters, cv=5).fit(X_tfidfvec, y)"
   ]
  },
  {
   "cell_type": "code",
   "execution_count": 217,
   "id": "7984b4e6",
   "metadata": {
    "ExecuteTime": {
     "end_time": "2022-03-27T02:22:28.340394Z",
     "start_time": "2022-03-27T02:22:28.014806Z"
    }
   },
   "outputs": [
    {
     "data": {
      "image/png": "[encoded data removed]",
      "text/plain": [
       "<Figure size 576x720 with 1 Axes>"
      ]
     },
     "metadata": {
      "needs_background": "light"
     },
     "output_type": "display_data"
    }
   ],
   "source": [
    "# Checking scores from cross validation\n",
    "plt.figure(figsize = (8, 10))\n",
    "cv_results_randfor2 = pd.DataFrame(grid_tfidfvec_randfor2_5cv.cv_results_).sort_values('rank_test_score')\n",
    "sns.lineplot(data=cv_results_randfor2, x='param_clf__n_estimators', y='mean_test_score',\n",
    "                hue='param_clf__max_depth', marker='o')\n",
    "plt.title('Average Scores (Cross-Validation)')\n",
    "plt.legend(bbox_to_anchor=(1, 1), fontsize=20)\n",
    "plt.show()"
   ]
  },
  {
   "cell_type": "code",
   "execution_count": 204,
   "id": "e907d2d4",
   "metadata": {
    "ExecuteTime": {
     "end_time": "2022-03-27T02:05:36.056448Z",
     "start_time": "2022-03-27T02:05:36.050813Z"
    }
   },
   "outputs": [
    {
     "data": {
      "text/plain": [
       "{'clf__max_depth': 7,\n",
       " 'clf__max_features': 'sqrt',\n",
       " 'clf__n_estimators': 300,\n",
       " 'clf__random_state': 42}"
      ]
     },
     "execution_count": 204,
     "metadata": {},
     "output_type": "execute_result"
    }
   ],
   "source": [
    "# Best parameters based on cross validation\n",
    "grid_tfidfvec_randfor2_5cv.best_params_"
   ]
  },
  {
   "cell_type": "code",
   "execution_count": 203,
   "id": "c69b3d27",
   "metadata": {
    "ExecuteTime": {
     "end_time": "2022-03-27T02:03:59.493832Z",
     "start_time": "2022-03-27T02:03:53.286618Z"
    }
   },
   "outputs": [
    {
     "name": "stdout",
     "output_type": "stream",
     "text": [
      "---------------------------------\n",
      "Confusion Matrix: Random Forest Classifier/TfidfVec\n"
     ]
    },
    {
     "data": {
      "image/png": "[encoded data removed]",
      "text/plain": [
       "<Figure size 432x288 with 2 Axes>"
      ]
     },
     "metadata": {
      "needs_background": "light"
     },
     "output_type": "display_data"
    },
    {
     "name": "stdout",
     "output_type": "stream",
     "text": [
      "Classification Report: Random Forest Classifier/TfidfVec\n"
     ]
    },
    {
     "data": {
      "text/html": [
       "<div>\n",
       "<style scoped>\n",
       "    .dataframe tbody tr th:only-of-type {\n",
       "        vertical-align: middle;\n",
       "    }\n",
       "\n",
       "    .dataframe tbody tr th {\n",
       "        vertical-align: top;\n",
       "    }\n",
       "\n",
       "    .dataframe thead th {\n",
       "        text-align: right;\n",
       "    }\n",
       "</style>\n",
       "<table border=\"1\" class=\"dataframe\">\n",
       "  <thead>\n",
       "    <tr style=\"text-align: right;\">\n",
       "      <th></th>\n",
       "      <th>precision</th>\n",
       "      <th>recall</th>\n",
       "      <th>f1-score</th>\n",
       "      <th>support</th>\n",
       "    </tr>\n",
       "  </thead>\n",
       "  <tbody>\n",
       "    <tr>\n",
       "      <th>0</th>\n",
       "      <td>0.746931</td>\n",
       "      <td>0.806327</td>\n",
       "      <td>0.775493</td>\n",
       "      <td>2339.00</td>\n",
       "    </tr>\n",
       "    <tr>\n",
       "      <th>1</th>\n",
       "      <td>0.830654</td>\n",
       "      <td>0.776652</td>\n",
       "      <td>0.802746</td>\n",
       "      <td>2861.00</td>\n",
       "    </tr>\n",
       "    <tr>\n",
       "      <th>accuracy</th>\n",
       "      <td>0.790000</td>\n",
       "      <td>0.790000</td>\n",
       "      <td>0.790000</td>\n",
       "      <td>0.79</td>\n",
       "    </tr>\n",
       "    <tr>\n",
       "      <th>macro avg</th>\n",
       "      <td>0.788792</td>\n",
       "      <td>0.791490</td>\n",
       "      <td>0.789120</td>\n",
       "      <td>5200.00</td>\n",
       "    </tr>\n",
       "    <tr>\n",
       "      <th>weighted avg</th>\n",
       "      <td>0.792995</td>\n",
       "      <td>0.790000</td>\n",
       "      <td>0.790487</td>\n",
       "      <td>5200.00</td>\n",
       "    </tr>\n",
       "  </tbody>\n",
       "</table>\n",
       "</div>"
      ],
      "text/plain": [
       "              precision    recall  f1-score  support\n",
       "0              0.746931  0.806327  0.775493  2339.00\n",
       "1              0.830654  0.776652  0.802746  2861.00\n",
       "accuracy       0.790000  0.790000  0.790000     0.79\n",
       "macro avg      0.788792  0.791490  0.789120  5200.00\n",
       "weighted avg   0.792995  0.790000  0.790487  5200.00"
      ]
     },
     "metadata": {},
     "output_type": "display_data"
    }
   ],
   "source": [
    "# Checking model performance\n",
    "print('---------------------------------')\n",
    "print(\"Confusion Matrix: {}/{}\".format('Random Forest Classifier', 'TfidfVec'))\n",
    "cm = confusion_matrix(y_test, grid_tfidfvec_randfor2_5cv.predict(X_tfidfvec_test))\n",
    "sns.heatmap(cm, annot=True, annot_kws={'fontsize': 20}, cmap='YlGnBu', fmt='d')\n",
    "plt.xlabel('Predicted Label', fontsize = 20)\n",
    "plt.ylabel('True Label', fontsize = 20)\n",
    "plt.tick_params(axis='both', which='major', labelsize=20)\n",
    "plt.show()\n",
    "print(\"Classification Report: {}/{}\".format('Random Forest Classifier', 'TfidfVec'))\n",
    "display(pd.DataFrame(classification_report(y_test, grid_tfidfvec_randfor2_5cv.predict(X_tfidfvec_test), output_dict=True)).transpose())"
   ]
  },
  {
   "cell_type": "code",
   "execution_count": 210,
   "id": "18ba6fe3",
   "metadata": {
    "ExecuteTime": {
     "end_time": "2022-03-27T02:10:01.954901Z",
     "start_time": "2022-03-27T02:09:56.449997Z"
    }
   },
   "outputs": [
    {
     "data": {
      "image/png": "[encoded data removed]",
      "text/plain": [
       "<Figure size 576x576 with 1 Axes>"
      ]
     },
     "metadata": {
      "needs_background": "light"
     },
     "output_type": "display_data"
    }
   ],
   "source": [
    "# Plotting ROC curves with AUC scores\n",
    "plt.figure(figsize = (8, 8))\n",
    "\n",
    "# Compute ROC/AUC scores\n",
    "roc_auc = roc_auc_score(y_test, grid_tfidfvec_randfor2_5cv.predict(X_tfidfvec_test))\n",
    "fpr, tpr, thresholds = roc_curve(y_test, grid_tfidfvec_randfor2_5cv.predict_proba(X_tfidfvec_test)[:,1])\n",
    "    \n",
    "plt.plot(fpr, tpr, label=f'Random Forest Classifier (area = {roc_auc:.2f})')\n",
    "plt.plot([0.0, 1.0], [0.0, 1.0], 'k--')\n",
    "    \n",
    "plt.xlim([0.0, 1.0])\n",
    "plt.ylim([0.0, 1.05])\n",
    "    \n",
    "plt.xlabel('False Positive Rate', fontsize = 20)\n",
    "plt.ylabel('True Positive Rate', fontsize = 20)\n",
    "plt.title('Receiver Operating Characteristic (TfidfVec)', fontsize = 20)\n",
    "plt.tick_params(axis='both', which='major', labelsize=20)\n",
    "    \n",
    "plt.legend(bbox_to_anchor=(1, 1), fontsize=20)\n",
    "plt.show()"
   ]
  },
  {
   "cell_type": "markdown",
   "id": "da9cd6f1",
   "metadata": {},
   "source": [
    "Seeing how increasing max depth is lowering our test score, it does appear max depth is worsening our model performance by overfitting.\n",
    "\n",
    "Perhaps we could try out models with lower max depth, but still have high mean scores from cross validation:\n",
    "- estimators = 150, max depth = 5\n",
    "- estimators = 150, max depth = 4\n",
    "- estimators = 200, max depth = 3"
   ]
  },
  {
   "cell_type": "code",
   "execution_count": 218,
   "id": "00a3eadb",
   "metadata": {
    "ExecuteTime": {
     "end_time": "2022-03-27T02:34:34.474756Z",
     "start_time": "2022-03-27T02:34:21.255340Z"
    }
   },
   "outputs": [],
   "source": [
    "# Building models for Random Forest Classifier using the criterions stated above\n",
    "randfor_150_5 = RandomForestClassifier(n_estimators = 150, max_depth = 5, max_features = 'sqrt', random_state = 42)\n",
    "randfor_150_4 = RandomForestClassifier(n_estimators = 150, max_depth = 4, max_features = 'sqrt', random_state = 42)\n",
    "randfor_200_3 = RandomForestClassifier(n_estimators = 200, max_depth = 3, max_features = 'sqrt', random_state = 42)\n",
    "\n",
    "randfor_150_5.fit(X_tfidfvec, y)\n",
    "randfor_150_4.fit(X_tfidfvec, y)\n",
    "randfor_200_3.fit(X_tfidfvec, y)\n",
    "\n",
    "y_pred_150_5 = randfor_150_5.predict(X_tfidfvec_test)\n",
    "y_pred_150_4 = randfor_150_4.predict(X_tfidfvec_test)\n",
    "y_pred_200_3 = randfor_200_3.predict(X_tfidfvec_test)"
   ]
  },
  {
   "cell_type": "code",
   "execution_count": 224,
   "id": "19366c59",
   "metadata": {
    "ExecuteTime": {
     "end_time": "2022-03-27T02:41:05.547073Z",
     "start_time": "2022-03-27T02:41:05.537735Z"
    }
   },
   "outputs": [],
   "source": [
    "randfor_models = [randfor_150_5,\n",
    "                  randfor_150_4,\n",
    "                  randfor_200_3]\n",
    "\n",
    "randfor_model_predictions = [y_pred_150_5,\n",
    "                             y_pred_150_4,\n",
    "                             y_pred_200_3]\n",
    "\n",
    "randfor_model_dict = {0: 'Estimator = 150, Max Depth = 5',\n",
    "                      1: 'Estimator = 150, Max Depth = 4',\n",
    "                      2: 'Estimator = 200, Max Depth = 3'}"
   ]
  },
  {
   "cell_type": "code",
   "execution_count": 227,
   "id": "7c17fa51",
   "metadata": {
    "ExecuteTime": {
     "end_time": "2022-03-27T02:43:30.283536Z",
     "start_time": "2022-03-27T02:43:29.308771Z"
    }
   },
   "outputs": [
    {
     "name": "stdout",
     "output_type": "stream",
     "text": [
      "---------------------------------\n",
      "Confusion Matrix: Estimator = 150, Max Depth = 5\n"
     ]
    },
    {
     "data": {
      "image/png": "[encoded data removed]",
      "text/plain": [
       "<Figure size 432x288 with 2 Axes>"
      ]
     },
     "metadata": {
      "needs_background": "light"
     },
     "output_type": "display_data"
    },
    {
     "name": "stdout",
     "output_type": "stream",
     "text": [
      "Classification Report: Estimator = 150, Max Depth = 5\n"
     ]
    },
    {
     "data": {
      "text/html": [
       "<div>\n",
       "<style scoped>\n",
       "    .dataframe tbody tr th:only-of-type {\n",
       "        vertical-align: middle;\n",
       "    }\n",
       "\n",
       "    .dataframe tbody tr th {\n",
       "        vertical-align: top;\n",
       "    }\n",
       "\n",
       "    .dataframe thead th {\n",
       "        text-align: right;\n",
       "    }\n",
       "</style>\n",
       "<table border=\"1\" class=\"dataframe\">\n",
       "  <thead>\n",
       "    <tr style=\"text-align: right;\">\n",
       "      <th></th>\n",
       "      <th>precision</th>\n",
       "      <th>recall</th>\n",
       "      <th>f1-score</th>\n",
       "      <th>support</th>\n",
       "    </tr>\n",
       "  </thead>\n",
       "  <tbody>\n",
       "    <tr>\n",
       "      <th>0</th>\n",
       "      <td>0.762035</td>\n",
       "      <td>0.832407</td>\n",
       "      <td>0.795668</td>\n",
       "      <td>2339.000000</td>\n",
       "    </tr>\n",
       "    <tr>\n",
       "      <th>1</th>\n",
       "      <td>0.851796</td>\n",
       "      <td>0.787487</td>\n",
       "      <td>0.818380</td>\n",
       "      <td>2861.000000</td>\n",
       "    </tr>\n",
       "    <tr>\n",
       "      <th>accuracy</th>\n",
       "      <td>0.807692</td>\n",
       "      <td>0.807692</td>\n",
       "      <td>0.807692</td>\n",
       "      <td>0.807692</td>\n",
       "    </tr>\n",
       "    <tr>\n",
       "      <th>macro avg</th>\n",
       "      <td>0.806916</td>\n",
       "      <td>0.809947</td>\n",
       "      <td>0.807024</td>\n",
       "      <td>5200.000000</td>\n",
       "    </tr>\n",
       "    <tr>\n",
       "      <th>weighted avg</th>\n",
       "      <td>0.811421</td>\n",
       "      <td>0.807692</td>\n",
       "      <td>0.808164</td>\n",
       "      <td>5200.000000</td>\n",
       "    </tr>\n",
       "  </tbody>\n",
       "</table>\n",
       "</div>"
      ],
      "text/plain": [
       "              precision    recall  f1-score      support\n",
       "0              0.762035  0.832407  0.795668  2339.000000\n",
       "1              0.851796  0.787487  0.818380  2861.000000\n",
       "accuracy       0.807692  0.807692  0.807692     0.807692\n",
       "macro avg      0.806916  0.809947  0.807024  5200.000000\n",
       "weighted avg   0.811421  0.807692  0.808164  5200.000000"
      ]
     },
     "metadata": {},
     "output_type": "display_data"
    },
    {
     "name": "stdout",
     "output_type": "stream",
     "text": [
      "---------------------------------\n",
      "Confusion Matrix: Estimator = 150, Max Depth = 4\n"
     ]
    },
    {
     "data": {
      "image/png": "[encoded data removed]",
      "text/plain": [
       "<Figure size 432x288 with 2 Axes>"
      ]
     },
     "metadata": {
      "needs_background": "light"
     },
     "output_type": "display_data"
    },
    {
     "name": "stdout",
     "output_type": "stream",
     "text": [
      "Classification Report: Estimator = 150, Max Depth = 4\n"
     ]
    },
    {
     "data": {
      "text/html": [
       "<div>\n",
       "<style scoped>\n",
       "    .dataframe tbody tr th:only-of-type {\n",
       "        vertical-align: middle;\n",
       "    }\n",
       "\n",
       "    .dataframe tbody tr th {\n",
       "        vertical-align: top;\n",
       "    }\n",
       "\n",
       "    .dataframe thead th {\n",
       "        text-align: right;\n",
       "    }\n",
       "</style>\n",
       "<table border=\"1\" class=\"dataframe\">\n",
       "  <thead>\n",
       "    <tr style=\"text-align: right;\">\n",
       "      <th></th>\n",
       "      <th>precision</th>\n",
       "      <th>recall</th>\n",
       "      <th>f1-score</th>\n",
       "      <th>support</th>\n",
       "    </tr>\n",
       "  </thead>\n",
       "  <tbody>\n",
       "    <tr>\n",
       "      <th>0</th>\n",
       "      <td>0.770233</td>\n",
       "      <td>0.834117</td>\n",
       "      <td>0.800903</td>\n",
       "      <td>2339.000000</td>\n",
       "    </tr>\n",
       "    <tr>\n",
       "      <th>1</th>\n",
       "      <td>0.854518</td>\n",
       "      <td>0.796575</td>\n",
       "      <td>0.824530</td>\n",
       "      <td>2861.000000</td>\n",
       "    </tr>\n",
       "    <tr>\n",
       "      <th>accuracy</th>\n",
       "      <td>0.813462</td>\n",
       "      <td>0.813462</td>\n",
       "      <td>0.813462</td>\n",
       "      <td>0.813462</td>\n",
       "    </tr>\n",
       "    <tr>\n",
       "      <th>macro avg</th>\n",
       "      <td>0.812376</td>\n",
       "      <td>0.815346</td>\n",
       "      <td>0.812716</td>\n",
       "      <td>5200.000000</td>\n",
       "    </tr>\n",
       "    <tr>\n",
       "      <th>weighted avg</th>\n",
       "      <td>0.816606</td>\n",
       "      <td>0.813462</td>\n",
       "      <td>0.813902</td>\n",
       "      <td>5200.000000</td>\n",
       "    </tr>\n",
       "  </tbody>\n",
       "</table>\n",
       "</div>"
      ],
      "text/plain": [
       "              precision    recall  f1-score      support\n",
       "0              0.770233  0.834117  0.800903  2339.000000\n",
       "1              0.854518  0.796575  0.824530  2861.000000\n",
       "accuracy       0.813462  0.813462  0.813462     0.813462\n",
       "macro avg      0.812376  0.815346  0.812716  5200.000000\n",
       "weighted avg   0.816606  0.813462  0.813902  5200.000000"
      ]
     },
     "metadata": {},
     "output_type": "display_data"
    },
    {
     "name": "stdout",
     "output_type": "stream",
     "text": [
      "---------------------------------\n",
      "Confusion Matrix: Estimator = 200, Max Depth = 3\n"
     ]
    },
    {
     "data": {
      "image/png": "[encoded data removed]",
      "text/plain": [
       "<Figure size 432x288 with 2 Axes>"
      ]
     },
     "metadata": {
      "needs_background": "light"
     },
     "output_type": "display_data"
    },
    {
     "name": "stdout",
     "output_type": "stream",
     "text": [
      "Classification Report: Estimator = 200, Max Depth = 3\n"
     ]
    },
    {
     "data": {
      "text/html": [
       "<div>\n",
       "<style scoped>\n",
       "    .dataframe tbody tr th:only-of-type {\n",
       "        vertical-align: middle;\n",
       "    }\n",
       "\n",
       "    .dataframe tbody tr th {\n",
       "        vertical-align: top;\n",
       "    }\n",
       "\n",
       "    .dataframe thead th {\n",
       "        text-align: right;\n",
       "    }\n",
       "</style>\n",
       "<table border=\"1\" class=\"dataframe\">\n",
       "  <thead>\n",
       "    <tr style=\"text-align: right;\">\n",
       "      <th></th>\n",
       "      <th>precision</th>\n",
       "      <th>recall</th>\n",
       "      <th>f1-score</th>\n",
       "      <th>support</th>\n",
       "    </tr>\n",
       "  </thead>\n",
       "  <tbody>\n",
       "    <tr>\n",
       "      <th>0</th>\n",
       "      <td>0.780800</td>\n",
       "      <td>0.834545</td>\n",
       "      <td>0.806778</td>\n",
       "      <td>2339.000000</td>\n",
       "    </tr>\n",
       "    <tr>\n",
       "      <th>1</th>\n",
       "      <td>0.856667</td>\n",
       "      <td>0.808459</td>\n",
       "      <td>0.831865</td>\n",
       "      <td>2861.000000</td>\n",
       "    </tr>\n",
       "    <tr>\n",
       "      <th>accuracy</th>\n",
       "      <td>0.820192</td>\n",
       "      <td>0.820192</td>\n",
       "      <td>0.820192</td>\n",
       "      <td>0.820192</td>\n",
       "    </tr>\n",
       "    <tr>\n",
       "      <th>macro avg</th>\n",
       "      <td>0.818733</td>\n",
       "      <td>0.821502</td>\n",
       "      <td>0.819322</td>\n",
       "      <td>5200.000000</td>\n",
       "    </tr>\n",
       "    <tr>\n",
       "      <th>weighted avg</th>\n",
       "      <td>0.822541</td>\n",
       "      <td>0.820192</td>\n",
       "      <td>0.820581</td>\n",
       "      <td>5200.000000</td>\n",
       "    </tr>\n",
       "  </tbody>\n",
       "</table>\n",
       "</div>"
      ],
      "text/plain": [
       "              precision    recall  f1-score      support\n",
       "0              0.780800  0.834545  0.806778  2339.000000\n",
       "1              0.856667  0.808459  0.831865  2861.000000\n",
       "accuracy       0.820192  0.820192  0.820192     0.820192\n",
       "macro avg      0.818733  0.821502  0.819322  5200.000000\n",
       "weighted avg   0.822541  0.820192  0.820581  5200.000000"
      ]
     },
     "metadata": {},
     "output_type": "display_data"
    }
   ],
   "source": [
    "# Checking model performance\n",
    "for i, model_prediction in enumerate(randfor_model_predictions):\n",
    "    print('---------------------------------')\n",
    "    print(\"Confusion Matrix: {}\".format(randfor_model_dict[i]))\n",
    "    cm = confusion_matrix(y_test, model_prediction)\n",
    "    sns.heatmap(cm, annot=True, annot_kws={'fontsize': 20}, cmap='YlGnBu', fmt='d')\n",
    "    plt.xlabel('Predicted Label', fontsize = 20)\n",
    "    plt.ylabel('True Label', fontsize = 20)\n",
    "    plt.tick_params(axis='both', which='major', labelsize=20)\n",
    "    plt.show()\n",
    "    print(\"Classification Report: {}\".format(randfor_model_dict[i]))\n",
    "    display(pd.DataFrame(classification_report(y_test, model_prediction, output_dict=True)).transpose())"
   ]
  },
  {
   "cell_type": "code",
   "execution_count": 225,
   "id": "c0570e59",
   "metadata": {
    "ExecuteTime": {
     "end_time": "2022-03-27T02:42:12.236099Z",
     "start_time": "2022-03-27T02:41:58.114097Z"
    }
   },
   "outputs": [
    {
     "data": {
      "image/png": "[encoded data removed]",
      "text/plain": [
       "<Figure size 576x576 with 1 Axes>"
      ]
     },
     "metadata": {
      "needs_background": "light"
     },
     "output_type": "display_data"
    }
   ],
   "source": [
    "# Plotting ROC curves with AUC scores\n",
    "plt.figure(figsize = (8, 8))\n",
    "for i, model in enumerate(randfor_models):\n",
    "    # Compute ROC/AUC scores\n",
    "    roc_auc = roc_auc_score(y_test, model.predict(X_tfidfvec_test))\n",
    "    fpr, tpr, thresholds = roc_curve(y_test, model.predict_proba(X_tfidfvec_test)[:,1])\n",
    "    \n",
    "    plt.plot(fpr, tpr, label=f'{randfor_model_dict[i]} (area = {roc_auc:.2f})')\n",
    "    plt.plot([0.0, 1.0], [0.0, 1.0], 'k--')\n",
    "    \n",
    "    plt.xlim([0.0, 1.0])\n",
    "    plt.ylim([0.0, 1.05])\n",
    "    \n",
    "    plt.xlabel('False Positive Rate', fontsize = 20)\n",
    "    plt.ylabel('True Positive Rate', fontsize = 20)\n",
    "    plt.title('Receiver Operating Characteristic (Random Forest)', fontsize = 20)\n",
    "    plt.tick_params(axis='both', which='major', labelsize=20)\n",
    "    \n",
    "    plt.legend(bbox_to_anchor=(1, 1), fontsize=20)\n",
    "\n",
    "plt.show()"
   ]
  },
  {
   "cell_type": "markdown",
   "id": "df6cb63d",
   "metadata": {},
   "source": [
    "Of the three selected Random Forest Classifiers, each model provide a similar level of performance. However, the model with 200 estimators and a max depth of 3 edges out in terms of AUC score, precision score, recall score, f1 score, and accurary.\n",
    "\n",
    "We could check out the cases where the model has failed however."
   ]
  },
  {
   "cell_type": "code",
   "execution_count": 241,
   "id": "a343be80",
   "metadata": {
    "ExecuteTime": {
     "end_time": "2022-03-27T02:58:15.547996Z",
     "start_time": "2022-03-27T02:58:15.507280Z"
    }
   },
   "outputs": [],
   "source": [
    "# Storing indexes with incorrect predictions\n",
    "wrong_prediction_index = []\n",
    "\n",
    "for i, prediction in enumerate(y_pred_200_3):\n",
    "    if prediction != y_test[i]:\n",
    "        wrong_prediction_index.append(i)"
   ]
  },
  {
   "cell_type": "code",
   "execution_count": 243,
   "id": "e92a0724",
   "metadata": {
    "ExecuteTime": {
     "end_time": "2022-03-27T03:02:59.148571Z",
     "start_time": "2022-03-27T03:02:59.135538Z"
    }
   },
   "outputs": [],
   "source": [
    "# Checking failed cases from test set\n",
    "wrong_predictions = df_test.loc[wrong_prediction_index]\n",
    "wrong_predictions_true_stories = wrong_predictions[wrong_predictions['label'] == 0]\n",
    "wrong_predictions_fake_stories = wrong_predictions[wrong_predictions['label'] == 1]"
   ]
  },
  {
   "cell_type": "code",
   "execution_count": 244,
   "id": "60381ca1",
   "metadata": {
    "ExecuteTime": {
     "end_time": "2022-03-27T03:03:07.201404Z",
     "start_time": "2022-03-27T03:03:07.182008Z"
    }
   },
   "outputs": [
    {
     "data": {
      "text/html": [
       "<div>\n",
       "<style scoped>\n",
       "    .dataframe tbody tr th:only-of-type {\n",
       "        vertical-align: middle;\n",
       "    }\n",
       "\n",
       "    .dataframe tbody tr th {\n",
       "        vertical-align: top;\n",
       "    }\n",
       "\n",
       "    .dataframe thead th {\n",
       "        text-align: right;\n",
       "    }\n",
       "</style>\n",
       "<table border=\"1\" class=\"dataframe\">\n",
       "  <thead>\n",
       "    <tr style=\"text-align: right;\">\n",
       "      <th></th>\n",
       "      <th>id</th>\n",
       "      <th>title</th>\n",
       "      <th>author</th>\n",
       "      <th>text</th>\n",
       "      <th>label</th>\n",
       "      <th>merged</th>\n",
       "    </tr>\n",
       "  </thead>\n",
       "  <tbody>\n",
       "    <tr>\n",
       "      <th>2</th>\n",
       "      <td>20802</td>\n",
       "      <td>#NoDAPL: Native American Leaders Vow to Stay A...</td>\n",
       "      <td>Common Dreams</td>\n",
       "      <td>Videos #NoDAPL: Native American Leaders Vow to...</td>\n",
       "      <td>0</td>\n",
       "      <td>#NoDAPL: Native American Leaders Vow to Stay A...</td>\n",
       "    </tr>\n",
       "    <tr>\n",
       "      <th>8</th>\n",
       "      <td>20808</td>\n",
       "      <td>Urban Population Booms Will Make Climate Chang...</td>\n",
       "      <td>noauthor</td>\n",
       "      <td>Urban Population Booms Will Make Climate Chang...</td>\n",
       "      <td>0</td>\n",
       "      <td>Urban Population Booms Will Make Climate Chang...</td>\n",
       "    </tr>\n",
       "    <tr>\n",
       "      <th>10</th>\n",
       "      <td>20810</td>\n",
       "      <td>184 U.S. generals and admirals endorse Trump f...</td>\n",
       "      <td>Dr. Eowyn</td>\n",
       "      <td>Have you seen that pro-Hillary TV ad of disgra...</td>\n",
       "      <td>0</td>\n",
       "      <td>184 U.S. generals and admirals endorse Trump f...</td>\n",
       "    </tr>\n",
       "    <tr>\n",
       "      <th>12</th>\n",
       "      <td>20812</td>\n",
       "      <td>The Rise of Mandatory Vaccinations Means the E...</td>\n",
       "      <td>Shaun Bradley</td>\n",
       "      <td>Written by Shaun Bradley   Mandatory vaccinati...</td>\n",
       "      <td>0</td>\n",
       "      <td>The Rise of Mandatory Vaccinations Means the E...</td>\n",
       "    </tr>\n",
       "    <tr>\n",
       "      <th>22</th>\n",
       "      <td>20822</td>\n",
       "      <td>notitle</td>\n",
       "      <td>Dale Johnson</td>\n",
       "      <td>VERSE 9. THE STATE OF NATIONAL INSECURITY The ...</td>\n",
       "      <td>0</td>\n",
       "      <td>notitle Dale Johnson VERSE 9. THE STATE OF NAT...</td>\n",
       "    </tr>\n",
       "  </tbody>\n",
       "</table>\n",
       "</div>"
      ],
      "text/plain": [
       "       id                                              title         author  \\\n",
       "2   20802  #NoDAPL: Native American Leaders Vow to Stay A...  Common Dreams   \n",
       "8   20808  Urban Population Booms Will Make Climate Chang...       noauthor   \n",
       "10  20810  184 U.S. generals and admirals endorse Trump f...      Dr. Eowyn   \n",
       "12  20812  The Rise of Mandatory Vaccinations Means the E...  Shaun Bradley   \n",
       "22  20822                                            notitle   Dale Johnson   \n",
       "\n",
       "                                                 text  label  \\\n",
       "2   Videos #NoDAPL: Native American Leaders Vow to...      0   \n",
       "8   Urban Population Booms Will Make Climate Chang...      0   \n",
       "10  Have you seen that pro-Hillary TV ad of disgra...      0   \n",
       "12  Written by Shaun Bradley   Mandatory vaccinati...      0   \n",
       "22  VERSE 9. THE STATE OF NATIONAL INSECURITY The ...      0   \n",
       "\n",
       "                                               merged  \n",
       "2   #NoDAPL: Native American Leaders Vow to Stay A...  \n",
       "8   Urban Population Booms Will Make Climate Chang...  \n",
       "10  184 U.S. generals and admirals endorse Trump f...  \n",
       "12  The Rise of Mandatory Vaccinations Means the E...  \n",
       "22  notitle Dale Johnson VERSE 9. THE STATE OF NAT...  "
      ]
     },
     "execution_count": 244,
     "metadata": {},
     "output_type": "execute_result"
    }
   ],
   "source": [
    "wrong_predictions_true_stories.head()"
   ]
  },
  {
   "cell_type": "code",
   "execution_count": 245,
   "id": "5e1b22da",
   "metadata": {
    "ExecuteTime": {
     "end_time": "2022-03-27T03:03:22.837114Z",
     "start_time": "2022-03-27T03:03:22.825341Z"
    }
   },
   "outputs": [
    {
     "data": {
      "text/html": [
       "<div>\n",
       "<style scoped>\n",
       "    .dataframe tbody tr th:only-of-type {\n",
       "        vertical-align: middle;\n",
       "    }\n",
       "\n",
       "    .dataframe tbody tr th {\n",
       "        vertical-align: top;\n",
       "    }\n",
       "\n",
       "    .dataframe thead th {\n",
       "        text-align: right;\n",
       "    }\n",
       "</style>\n",
       "<table border=\"1\" class=\"dataframe\">\n",
       "  <thead>\n",
       "    <tr style=\"text-align: right;\">\n",
       "      <th></th>\n",
       "      <th>id</th>\n",
       "      <th>title</th>\n",
       "      <th>author</th>\n",
       "      <th>text</th>\n",
       "      <th>label</th>\n",
       "      <th>merged</th>\n",
       "    </tr>\n",
       "  </thead>\n",
       "  <tbody>\n",
       "    <tr>\n",
       "      <th>3</th>\n",
       "      <td>20803</td>\n",
       "      <td>Tim Tebow Will Attempt Another Comeback, This ...</td>\n",
       "      <td>Daniel Victor</td>\n",
       "      <td>If at first you don’t succeed, try a different...</td>\n",
       "      <td>1</td>\n",
       "      <td>Tim Tebow Will Attempt Another Comeback, This ...</td>\n",
       "    </tr>\n",
       "    <tr>\n",
       "      <th>41</th>\n",
       "      <td>20841</td>\n",
       "      <td>Trump: Confidence In Economy ’Has Reached Leve...</td>\n",
       "      <td>Ian Hanchett</td>\n",
       "      <td>During Friday’s Weekly Address, President Trum...</td>\n",
       "      <td>1</td>\n",
       "      <td>Trump: Confidence In Economy ’Has Reached Leve...</td>\n",
       "    </tr>\n",
       "    <tr>\n",
       "      <th>46</th>\n",
       "      <td>20846</td>\n",
       "      <td>Exclusive-Rep. Dave Brat: RyanCare a Perverse ...</td>\n",
       "      <td>Neil W. McCabe</td>\n",
       "      <td>Virginia Republican congressman Dave Brat told...</td>\n",
       "      <td>1</td>\n",
       "      <td>Exclusive-Rep. Dave Brat: RyanCare a Perverse ...</td>\n",
       "    </tr>\n",
       "    <tr>\n",
       "      <th>59</th>\n",
       "      <td>20859</td>\n",
       "      <td>Kunduz Attack in November Killed 33 Civilians,...</td>\n",
       "      <td>Mujib Mashal</td>\n",
       "      <td>KABUL, Afghanistan  —   A United States milita...</td>\n",
       "      <td>1</td>\n",
       "      <td>Kunduz Attack in November Killed 33 Civilians,...</td>\n",
       "    </tr>\n",
       "    <tr>\n",
       "      <th>79</th>\n",
       "      <td>20879</td>\n",
       "      <td>High School Basketball Player Scores an Amazin...</td>\n",
       "      <td>Warner Todd Huston</td>\n",
       "      <td>A California high school basketball player has...</td>\n",
       "      <td>1</td>\n",
       "      <td>High School Basketball Player Scores an Amazin...</td>\n",
       "    </tr>\n",
       "  </tbody>\n",
       "</table>\n",
       "</div>"
      ],
      "text/plain": [
       "       id                                              title  \\\n",
       "3   20803  Tim Tebow Will Attempt Another Comeback, This ...   \n",
       "41  20841  Trump: Confidence In Economy ’Has Reached Leve...   \n",
       "46  20846  Exclusive-Rep. Dave Brat: RyanCare a Perverse ...   \n",
       "59  20859  Kunduz Attack in November Killed 33 Civilians,...   \n",
       "79  20879  High School Basketball Player Scores an Amazin...   \n",
       "\n",
       "                author                                               text  \\\n",
       "3        Daniel Victor  If at first you don’t succeed, try a different...   \n",
       "41        Ian Hanchett  During Friday’s Weekly Address, President Trum...   \n",
       "46      Neil W. McCabe  Virginia Republican congressman Dave Brat told...   \n",
       "59        Mujib Mashal  KABUL, Afghanistan  —   A United States milita...   \n",
       "79  Warner Todd Huston  A California high school basketball player has...   \n",
       "\n",
       "    label                                             merged  \n",
       "3       1  Tim Tebow Will Attempt Another Comeback, This ...  \n",
       "41      1  Trump: Confidence In Economy ’Has Reached Leve...  \n",
       "46      1  Exclusive-Rep. Dave Brat: RyanCare a Perverse ...  \n",
       "59      1  Kunduz Attack in November Killed 33 Civilians,...  \n",
       "79      1  High School Basketball Player Scores an Amazin...  "
      ]
     },
     "execution_count": 245,
     "metadata": {},
     "output_type": "execute_result"
    }
   ],
   "source": [
    "wrong_predictions_fake_stories.head()"
   ]
  },
  {
   "cell_type": "code",
   "execution_count": 246,
   "id": "1fbef617",
   "metadata": {
    "ExecuteTime": {
     "end_time": "2022-03-27T03:08:44.858647Z",
     "start_time": "2022-03-27T03:08:44.803035Z"
    }
   },
   "outputs": [
    {
     "ename": "ModuleNotFoundError",
     "evalue": "No module named 'wordcloud'",
     "output_type": "error",
     "traceback": [
      "\u001b[0;31m---------------------------------------------------------------------------\u001b[0m",
      "\u001b[0;31mModuleNotFoundError\u001b[0m                       Traceback (most recent call last)",
      "\u001b[0;32m/var/folders/vq/y0f8lt5x7b135_d5qlzqyf5h0000gn/T/ipykernel_99226/3010572761.py\u001b[0m in \u001b[0;36m<module>\u001b[0;34m\u001b[0m\n\u001b[1;32m      1\u001b[0m \u001b[0;31m# We can use WordCloud to visualize what was the most common words in these incorrect predictions\u001b[0m\u001b[0;34m\u001b[0m\u001b[0;34m\u001b[0m\u001b[0;34m\u001b[0m\u001b[0m\n\u001b[0;32m----> 2\u001b[0;31m \u001b[0;32mfrom\u001b[0m \u001b[0mwordcloud\u001b[0m \u001b[0;32mimport\u001b[0m \u001b[0mWordCloud\u001b[0m\u001b[0;34m,\u001b[0m \u001b[0mSTOPWORDS\u001b[0m\u001b[0;34m\u001b[0m\u001b[0;34m\u001b[0m\u001b[0m\n\u001b[0m",
      "\u001b[0;31mModuleNotFoundError\u001b[0m: No module named 'wordcloud'"
     ]
    }
   ],
   "source": [
    "# We can use WordCloud to visualize what was the most common words in these incorrect predictions\n",
    "from wordcloud import WordCloud, STOPWORDS"
   ]
  },
  {
   "cell_type": "code",
   "execution_count": null,
   "id": "2ac82d4b",
   "metadata": {},
   "outputs": [],
   "source": []
  },
  {
   "cell_type": "code",
   "execution_count": 178,
   "id": "1e64a4b0",
   "metadata": {
    "ExecuteTime": {
     "end_time": "2022-03-26T10:12:11.154095Z",
     "start_time": "2022-03-26T10:12:11.149955Z"
    }
   },
   "outputs": [],
   "source": [
    "# Import Dependencies for Model Saving\n",
    "import joblib"
   ]
  },
  {
   "cell_type": "code",
   "execution_count": 179,
   "id": "a8b098e6",
   "metadata": {
    "ExecuteTime": {
     "end_time": "2022-03-26T10:18:37.477783Z",
     "start_time": "2022-03-26T10:18:36.633159Z"
    }
   },
   "outputs": [
    {
     "data": {
      "text/plain": [
       "['randfor_tfidf_pipeline_compressed.bz2']"
      ]
     },
     "execution_count": 179,
     "metadata": {},
     "output_type": "execute_result"
    }
   ],
   "source": [
    "# Save best performing pipeline as joblib file\n",
    "dump_file = 'randfor_tfidf_pipeline'\n",
    "joblib.dump(grid_tfidfvec_randfor_5cv, dump_file + '.joblib')\n",
    "\n",
    "# Save best performing pipeline as a compressed bz2 file\n",
    "dump_file = 'randfor_tfidf_pipeline_compressed'\n",
    "joblib.dump(grid_tfidfvec_randfor_5cv, dump_file + '.bz2', compress=('bz2', 3))"
   ]
  },
  {
   "cell_type": "code",
   "execution_count": null,
   "id": "1512918a",
   "metadata": {},
   "outputs": [],
   "source": []
  }
 ],
 "metadata": {
  "kernelspec": {
   "display_name": "Python 3 (ipykernel)",
   "language": "python",
   "name": "python3"
  },
  "language_info": {
   "codemirror_mode": {
    "name": "ipython",
    "version": 3
   },
   "file_extension": ".py",
   "mimetype": "text/x-python",
   "name": "python",
   "nbconvert_exporter": "python",
   "pygments_lexer": "ipython3",
   "version": "3.7.7"
  }
 },
 "nbformat": 4,
 "nbformat_minor": 5
}
