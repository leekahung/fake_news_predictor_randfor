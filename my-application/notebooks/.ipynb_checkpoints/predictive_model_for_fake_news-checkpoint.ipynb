{
 "cells": [
  {
   "cell_type": "markdown",
   "id": "db4e59b4",
   "metadata": {},
   "source": [
    "For this exercise, I plan on developing a predictive model that could identify \"fake news\" from new sources. The data set I've used specifically for this exercise comes from <a href='https://www.kaggle.com/c/fake-news/data'>Kaggle</a>.\n",
    "\n",
    "In layman's term, \"fake news\" is news which contents are consider 'fake' or 'false'. Typically, you would need a sophisticated system of checks and source validations to verify whether or not such contents are 'true' or 'false'. For our purposes, we would assume that our labels are expertly reviewed and reliable.\n",
    "\n",
    "For this data set, we're limited to 5 columns:\n",
    "- id: the unique numeric identifier for the news\n",
    "- title: the name of the news\n",
    "- author: the entity that wrote the news\n",
    "- text: the actual content of the story\n",
    "- label: an identifier that labels whether or not the news source is reliable (0) or unreliable (1).\n",
    "\n",
    "Labels aside, there are three features of interest: the title, the author, and the text. With these string data, we could train a model that predicts 'fake news' using the type of words being used from every column. For the model to read this data, we could turn our string data into a word vector. "
   ]
  },
  {
   "cell_type": "code",
   "execution_count": 113,
   "id": "c18023b7",
   "metadata": {},
   "outputs": [],
   "source": [
    "# Import core dependencies\n",
    "import pandas as pd\n",
    "import os\n",
    "import matplotlib.pyplot as plt\n",
    "import seaborn as sns"
   ]
  },
  {
   "cell_type": "code",
   "execution_count": 2,
   "id": "0faec7c3",
   "metadata": {},
   "outputs": [],
   "source": [
    "# Building local path to data file\n",
    "work_dir = os.getcwd()\n",
    "main_dir = os.path.dirname(work_dir)\n",
    "data_files_dir = os.path.join(main_dir, 'data_files')\n",
    "data_file_train = os.path.join(data_files_dir, 'train.csv')\n",
    "data_file_test = os.path.join(data_files_dir, 'test.csv')\n",
    "data_file_validation = os.path.join(data_files_dir, 'submit.csv')\n",
    "\n",
    "# Loading data file (\"train.csv\") as DataFrame\n",
    "df = pd.read_csv(data_file_train)"
   ]
  },
  {
   "cell_type": "code",
   "execution_count": 3,
   "id": "b9b12c93",
   "metadata": {},
   "outputs": [
    {
     "data": {
      "text/html": [
       "<div>\n",
       "<style scoped>\n",
       "    .dataframe tbody tr th:only-of-type {\n",
       "        vertical-align: middle;\n",
       "    }\n",
       "\n",
       "    .dataframe tbody tr th {\n",
       "        vertical-align: top;\n",
       "    }\n",
       "\n",
       "    .dataframe thead th {\n",
       "        text-align: right;\n",
       "    }\n",
       "</style>\n",
       "<table border=\"1\" class=\"dataframe\">\n",
       "  <thead>\n",
       "    <tr style=\"text-align: right;\">\n",
       "      <th></th>\n",
       "      <th>id</th>\n",
       "      <th>title</th>\n",
       "      <th>author</th>\n",
       "      <th>text</th>\n",
       "      <th>label</th>\n",
       "    </tr>\n",
       "  </thead>\n",
       "  <tbody>\n",
       "    <tr>\n",
       "      <th>0</th>\n",
       "      <td>0</td>\n",
       "      <td>House Dem Aide: We Didn’t Even See Comey’s Let...</td>\n",
       "      <td>Darrell Lucus</td>\n",
       "      <td>House Dem Aide: We Didn’t Even See Comey’s Let...</td>\n",
       "      <td>1</td>\n",
       "    </tr>\n",
       "    <tr>\n",
       "      <th>1</th>\n",
       "      <td>1</td>\n",
       "      <td>FLYNN: Hillary Clinton, Big Woman on Campus - ...</td>\n",
       "      <td>Daniel J. Flynn</td>\n",
       "      <td>Ever get the feeling your life circles the rou...</td>\n",
       "      <td>0</td>\n",
       "    </tr>\n",
       "    <tr>\n",
       "      <th>2</th>\n",
       "      <td>2</td>\n",
       "      <td>Why the Truth Might Get You Fired</td>\n",
       "      <td>Consortiumnews.com</td>\n",
       "      <td>Why the Truth Might Get You Fired October 29, ...</td>\n",
       "      <td>1</td>\n",
       "    </tr>\n",
       "    <tr>\n",
       "      <th>3</th>\n",
       "      <td>3</td>\n",
       "      <td>15 Civilians Killed In Single US Airstrike Hav...</td>\n",
       "      <td>Jessica Purkiss</td>\n",
       "      <td>Videos 15 Civilians Killed In Single US Airstr...</td>\n",
       "      <td>1</td>\n",
       "    </tr>\n",
       "    <tr>\n",
       "      <th>4</th>\n",
       "      <td>4</td>\n",
       "      <td>Iranian woman jailed for fictional unpublished...</td>\n",
       "      <td>Howard Portnoy</td>\n",
       "      <td>Print \\nAn Iranian woman has been sentenced to...</td>\n",
       "      <td>1</td>\n",
       "    </tr>\n",
       "  </tbody>\n",
       "</table>\n",
       "</div>"
      ],
      "text/plain": [
       "   id                                              title              author  \\\n",
       "0   0  House Dem Aide: We Didn’t Even See Comey’s Let...       Darrell Lucus   \n",
       "1   1  FLYNN: Hillary Clinton, Big Woman on Campus - ...     Daniel J. Flynn   \n",
       "2   2                  Why the Truth Might Get You Fired  Consortiumnews.com   \n",
       "3   3  15 Civilians Killed In Single US Airstrike Hav...     Jessica Purkiss   \n",
       "4   4  Iranian woman jailed for fictional unpublished...      Howard Portnoy   \n",
       "\n",
       "                                                text  label  \n",
       "0  House Dem Aide: We Didn’t Even See Comey’s Let...      1  \n",
       "1  Ever get the feeling your life circles the rou...      0  \n",
       "2  Why the Truth Might Get You Fired October 29, ...      1  \n",
       "3  Videos 15 Civilians Killed In Single US Airstr...      1  \n",
       "4  Print \\nAn Iranian woman has been sentenced to...      1  "
      ]
     },
     "execution_count": 3,
     "metadata": {},
     "output_type": "execute_result"
    }
   ],
   "source": [
    "# Checking data structure\n",
    "df.head()"
   ]
  },
  {
   "cell_type": "code",
   "execution_count": 4,
   "id": "f3251c26",
   "metadata": {},
   "outputs": [
    {
     "name": "stdout",
     "output_type": "stream",
     "text": [
      "<class 'pandas.core.frame.DataFrame'>\n",
      "RangeIndex: 20800 entries, 0 to 20799\n",
      "Data columns (total 5 columns):\n",
      " #   Column  Non-Null Count  Dtype \n",
      "---  ------  --------------  ----- \n",
      " 0   id      20800 non-null  int64 \n",
      " 1   title   20242 non-null  object\n",
      " 2   author  18843 non-null  object\n",
      " 3   text    20761 non-null  object\n",
      " 4   label   20800 non-null  int64 \n",
      "dtypes: int64(2), object(3)\n",
      "memory usage: 812.6+ KB\n"
     ]
    }
   ],
   "source": [
    "# Checking data types\n",
    "df.info()"
   ]
  },
  {
   "cell_type": "code",
   "execution_count": 5,
   "id": "ec29b4e2",
   "metadata": {},
   "outputs": [
    {
     "data": {
      "text/html": [
       "<div>\n",
       "<style scoped>\n",
       "    .dataframe tbody tr th:only-of-type {\n",
       "        vertical-align: middle;\n",
       "    }\n",
       "\n",
       "    .dataframe tbody tr th {\n",
       "        vertical-align: top;\n",
       "    }\n",
       "\n",
       "    .dataframe thead th {\n",
       "        text-align: right;\n",
       "    }\n",
       "</style>\n",
       "<table border=\"1\" class=\"dataframe\">\n",
       "  <thead>\n",
       "    <tr style=\"text-align: right;\">\n",
       "      <th></th>\n",
       "      <th>id</th>\n",
       "      <th>title</th>\n",
       "      <th>author</th>\n",
       "      <th>text</th>\n",
       "      <th>label</th>\n",
       "    </tr>\n",
       "  </thead>\n",
       "  <tbody>\n",
       "    <tr>\n",
       "      <th>53</th>\n",
       "      <td>53</td>\n",
       "      <td>NaN</td>\n",
       "      <td>Dairy✓ᵀᴿᵁᴹᴾ</td>\n",
       "      <td>Sounds like he has our president pegged. What ...</td>\n",
       "      <td>1</td>\n",
       "    </tr>\n",
       "    <tr>\n",
       "      <th>120</th>\n",
       "      <td>120</td>\n",
       "      <td>NaN</td>\n",
       "      <td>Anonymous</td>\n",
       "      <td>Same people all the time , i dont know how you...</td>\n",
       "      <td>1</td>\n",
       "    </tr>\n",
       "    <tr>\n",
       "      <th>124</th>\n",
       "      <td>124</td>\n",
       "      <td>NaN</td>\n",
       "      <td>SeekSearchDestory</td>\n",
       "      <td>You know, outside of any morality arguments, i...</td>\n",
       "      <td>1</td>\n",
       "    </tr>\n",
       "    <tr>\n",
       "      <th>140</th>\n",
       "      <td>140</td>\n",
       "      <td>NaN</td>\n",
       "      <td>Anonymous</td>\n",
       "      <td>There is a lot more than meets the eye to this...</td>\n",
       "      <td>1</td>\n",
       "    </tr>\n",
       "    <tr>\n",
       "      <th>196</th>\n",
       "      <td>196</td>\n",
       "      <td>NaN</td>\n",
       "      <td>Raffie</td>\n",
       "      <td>They got the heater turned up on high.</td>\n",
       "      <td>1</td>\n",
       "    </tr>\n",
       "  </tbody>\n",
       "</table>\n",
       "</div>"
      ],
      "text/plain": [
       "      id title             author  \\\n",
       "53    53   NaN        Dairy✓ᵀᴿᵁᴹᴾ   \n",
       "120  120   NaN          Anonymous   \n",
       "124  124   NaN  SeekSearchDestory   \n",
       "140  140   NaN          Anonymous   \n",
       "196  196   NaN             Raffie   \n",
       "\n",
       "                                                  text  label  \n",
       "53   Sounds like he has our president pegged. What ...      1  \n",
       "120  Same people all the time , i dont know how you...      1  \n",
       "124  You know, outside of any morality arguments, i...      1  \n",
       "140  There is a lot more than meets the eye to this...      1  \n",
       "196             They got the heater turned up on high.      1  "
      ]
     },
     "execution_count": 5,
     "metadata": {},
     "output_type": "execute_result"
    }
   ],
   "source": [
    "# Checking nulls from title column\n",
    "df[df['title'].isna() == True].head()"
   ]
  },
  {
   "cell_type": "code",
   "execution_count": 6,
   "id": "f7231671",
   "metadata": {},
   "outputs": [
    {
     "data": {
      "text/html": [
       "<div>\n",
       "<style scoped>\n",
       "    .dataframe tbody tr th:only-of-type {\n",
       "        vertical-align: middle;\n",
       "    }\n",
       "\n",
       "    .dataframe tbody tr th {\n",
       "        vertical-align: top;\n",
       "    }\n",
       "\n",
       "    .dataframe thead th {\n",
       "        text-align: right;\n",
       "    }\n",
       "</style>\n",
       "<table border=\"1\" class=\"dataframe\">\n",
       "  <thead>\n",
       "    <tr style=\"text-align: right;\">\n",
       "      <th></th>\n",
       "      <th>id</th>\n",
       "      <th>title</th>\n",
       "      <th>author</th>\n",
       "      <th>text</th>\n",
       "      <th>label</th>\n",
       "    </tr>\n",
       "  </thead>\n",
       "  <tbody>\n",
       "    <tr>\n",
       "      <th>6</th>\n",
       "      <td>6</td>\n",
       "      <td>Life: Life Of Luxury: Elton John’s 6 Favorite ...</td>\n",
       "      <td>NaN</td>\n",
       "      <td>Ever wonder how Britain’s most iconic pop pian...</td>\n",
       "      <td>1</td>\n",
       "    </tr>\n",
       "    <tr>\n",
       "      <th>8</th>\n",
       "      <td>8</td>\n",
       "      <td>Excerpts From a Draft Script for Donald Trump’...</td>\n",
       "      <td>NaN</td>\n",
       "      <td>Donald J. Trump is scheduled to make a highly ...</td>\n",
       "      <td>0</td>\n",
       "    </tr>\n",
       "    <tr>\n",
       "      <th>20</th>\n",
       "      <td>20</td>\n",
       "      <td>News: Hope For The GOP: A Nude Paul Ryan Has J...</td>\n",
       "      <td>NaN</td>\n",
       "      <td>Email \\nSince Donald Trump entered the electio...</td>\n",
       "      <td>1</td>\n",
       "    </tr>\n",
       "    <tr>\n",
       "      <th>23</th>\n",
       "      <td>23</td>\n",
       "      <td>Massachusetts Cop’s Wife Busted for Pinning Fa...</td>\n",
       "      <td>NaN</td>\n",
       "      <td>Massachusetts Cop’s Wife Busted for Pinning Fa...</td>\n",
       "      <td>1</td>\n",
       "    </tr>\n",
       "    <tr>\n",
       "      <th>31</th>\n",
       "      <td>31</td>\n",
       "      <td>Israel is Becoming Pivotal to China’s Mid-East...</td>\n",
       "      <td>NaN</td>\n",
       "      <td>Country: Israel While China is silently playin...</td>\n",
       "      <td>1</td>\n",
       "    </tr>\n",
       "  </tbody>\n",
       "</table>\n",
       "</div>"
      ],
      "text/plain": [
       "    id                                              title author  \\\n",
       "6    6  Life: Life Of Luxury: Elton John’s 6 Favorite ...    NaN   \n",
       "8    8  Excerpts From a Draft Script for Donald Trump’...    NaN   \n",
       "20  20  News: Hope For The GOP: A Nude Paul Ryan Has J...    NaN   \n",
       "23  23  Massachusetts Cop’s Wife Busted for Pinning Fa...    NaN   \n",
       "31  31  Israel is Becoming Pivotal to China’s Mid-East...    NaN   \n",
       "\n",
       "                                                 text  label  \n",
       "6   Ever wonder how Britain’s most iconic pop pian...      1  \n",
       "8   Donald J. Trump is scheduled to make a highly ...      0  \n",
       "20  Email \\nSince Donald Trump entered the electio...      1  \n",
       "23  Massachusetts Cop’s Wife Busted for Pinning Fa...      1  \n",
       "31  Country: Israel While China is silently playin...      1  "
      ]
     },
     "execution_count": 6,
     "metadata": {},
     "output_type": "execute_result"
    }
   ],
   "source": [
    "# Checking nulls from author column\n",
    "df[df['author'].isna() == True].head()"
   ]
  },
  {
   "cell_type": "code",
   "execution_count": 7,
   "id": "18cc6373",
   "metadata": {},
   "outputs": [
    {
     "data": {
      "text/html": [
       "<div>\n",
       "<style scoped>\n",
       "    .dataframe tbody tr th:only-of-type {\n",
       "        vertical-align: middle;\n",
       "    }\n",
       "\n",
       "    .dataframe tbody tr th {\n",
       "        vertical-align: top;\n",
       "    }\n",
       "\n",
       "    .dataframe thead th {\n",
       "        text-align: right;\n",
       "    }\n",
       "</style>\n",
       "<table border=\"1\" class=\"dataframe\">\n",
       "  <thead>\n",
       "    <tr style=\"text-align: right;\">\n",
       "      <th></th>\n",
       "      <th>id</th>\n",
       "      <th>title</th>\n",
       "      <th>author</th>\n",
       "      <th>text</th>\n",
       "      <th>label</th>\n",
       "    </tr>\n",
       "  </thead>\n",
       "  <tbody>\n",
       "    <tr>\n",
       "      <th>142</th>\n",
       "      <td>142</td>\n",
       "      <td>Gorafi Magazine : Entretien exclusif avec Bara...</td>\n",
       "      <td>NaN</td>\n",
       "      <td>NaN</td>\n",
       "      <td>1</td>\n",
       "    </tr>\n",
       "    <tr>\n",
       "      <th>573</th>\n",
       "      <td>573</td>\n",
       "      <td>Le top des recherches Google passe en top des ...</td>\n",
       "      <td>NaN</td>\n",
       "      <td>NaN</td>\n",
       "      <td>1</td>\n",
       "    </tr>\n",
       "    <tr>\n",
       "      <th>1200</th>\n",
       "      <td>1200</td>\n",
       "      <td>La Corée du Nord annonce avoir envoyé un missi...</td>\n",
       "      <td>NaN</td>\n",
       "      <td>NaN</td>\n",
       "      <td>1</td>\n",
       "    </tr>\n",
       "    <tr>\n",
       "      <th>1911</th>\n",
       "      <td>1911</td>\n",
       "      <td>Grand-Prix du Brésil – Romain Grosjean obtient...</td>\n",
       "      <td>NaN</td>\n",
       "      <td>NaN</td>\n",
       "      <td>1</td>\n",
       "    </tr>\n",
       "    <tr>\n",
       "      <th>2148</th>\n",
       "      <td>2148</td>\n",
       "      <td>Gorafi Magazine: Barack Obama « Je vous ai déj...</td>\n",
       "      <td>NaN</td>\n",
       "      <td>NaN</td>\n",
       "      <td>1</td>\n",
       "    </tr>\n",
       "  </tbody>\n",
       "</table>\n",
       "</div>"
      ],
      "text/plain": [
       "        id                                              title author text  \\\n",
       "142    142  Gorafi Magazine : Entretien exclusif avec Bara...    NaN  NaN   \n",
       "573    573  Le top des recherches Google passe en top des ...    NaN  NaN   \n",
       "1200  1200  La Corée du Nord annonce avoir envoyé un missi...    NaN  NaN   \n",
       "1911  1911  Grand-Prix du Brésil – Romain Grosjean obtient...    NaN  NaN   \n",
       "2148  2148  Gorafi Magazine: Barack Obama « Je vous ai déj...    NaN  NaN   \n",
       "\n",
       "      label  \n",
       "142       1  \n",
       "573       1  \n",
       "1200      1  \n",
       "1911      1  \n",
       "2148      1  "
      ]
     },
     "execution_count": 7,
     "metadata": {},
     "output_type": "execute_result"
    }
   ],
   "source": [
    "# Checking nulls from text column\n",
    "df[df['text'].isna() == True].head()"
   ]
  },
  {
   "cell_type": "markdown",
   "id": "2ab3594b",
   "metadata": {},
   "source": [
    "For NaNs, we could replace them with 'notitle', 'noauthor', and 'notext' respective."
   ]
  },
  {
   "cell_type": "code",
   "execution_count": 8,
   "id": "33415ce1",
   "metadata": {},
   "outputs": [],
   "source": [
    "# Replace NaNs with fillers: 'notitle', 'noauthor', 'notext'\n",
    "df['title'] = df['title'].fillna('notitle')\n",
    "df['author'] = df['author'].fillna('noauthor')\n",
    "df['text'] = df['text'].fillna('notext')"
   ]
  },
  {
   "cell_type": "code",
   "execution_count": 9,
   "id": "4e5f4c7b",
   "metadata": {},
   "outputs": [
    {
     "name": "stdout",
     "output_type": "stream",
     "text": [
      "<class 'pandas.core.frame.DataFrame'>\n",
      "RangeIndex: 20800 entries, 0 to 20799\n",
      "Data columns (total 5 columns):\n",
      " #   Column  Non-Null Count  Dtype \n",
      "---  ------  --------------  ----- \n",
      " 0   id      20800 non-null  int64 \n",
      " 1   title   20800 non-null  object\n",
      " 2   author  20800 non-null  object\n",
      " 3   text    20800 non-null  object\n",
      " 4   label   20800 non-null  int64 \n",
      "dtypes: int64(2), object(3)\n",
      "memory usage: 812.6+ KB\n"
     ]
    }
   ],
   "source": [
    "df.info()"
   ]
  },
  {
   "cell_type": "markdown",
   "id": "f144ddee",
   "metadata": {},
   "source": [
    "From a glance, it's obvious that English isn't the only language the dataset contains. But these string data could nevertheless be processed using a text vectorizer. We'll build our training set using this DataFrame. Before we process our data any further, we can collapse the three columns into one, merging the three smaller strings into one large string. "
   ]
  },
  {
   "cell_type": "code",
   "execution_count": 10,
   "id": "f23cc213",
   "metadata": {},
   "outputs": [
    {
     "data": {
      "text/html": [
       "<div>\n",
       "<style scoped>\n",
       "    .dataframe tbody tr th:only-of-type {\n",
       "        vertical-align: middle;\n",
       "    }\n",
       "\n",
       "    .dataframe tbody tr th {\n",
       "        vertical-align: top;\n",
       "    }\n",
       "\n",
       "    .dataframe thead th {\n",
       "        text-align: right;\n",
       "    }\n",
       "</style>\n",
       "<table border=\"1\" class=\"dataframe\">\n",
       "  <thead>\n",
       "    <tr style=\"text-align: right;\">\n",
       "      <th></th>\n",
       "      <th>id</th>\n",
       "      <th>title</th>\n",
       "      <th>author</th>\n",
       "      <th>text</th>\n",
       "      <th>label</th>\n",
       "      <th>merged</th>\n",
       "    </tr>\n",
       "  </thead>\n",
       "  <tbody>\n",
       "    <tr>\n",
       "      <th>0</th>\n",
       "      <td>0</td>\n",
       "      <td>House Dem Aide: We Didn’t Even See Comey’s Let...</td>\n",
       "      <td>Darrell Lucus</td>\n",
       "      <td>House Dem Aide: We Didn’t Even See Comey’s Let...</td>\n",
       "      <td>1</td>\n",
       "      <td>House Dem Aide: We Didn’t Even See Comey’s Let...</td>\n",
       "    </tr>\n",
       "    <tr>\n",
       "      <th>1</th>\n",
       "      <td>1</td>\n",
       "      <td>FLYNN: Hillary Clinton, Big Woman on Campus - ...</td>\n",
       "      <td>Daniel J. Flynn</td>\n",
       "      <td>Ever get the feeling your life circles the rou...</td>\n",
       "      <td>0</td>\n",
       "      <td>FLYNN: Hillary Clinton, Big Woman on Campus - ...</td>\n",
       "    </tr>\n",
       "    <tr>\n",
       "      <th>2</th>\n",
       "      <td>2</td>\n",
       "      <td>Why the Truth Might Get You Fired</td>\n",
       "      <td>Consortiumnews.com</td>\n",
       "      <td>Why the Truth Might Get You Fired October 29, ...</td>\n",
       "      <td>1</td>\n",
       "      <td>Why the Truth Might Get You Fired Consortiumne...</td>\n",
       "    </tr>\n",
       "    <tr>\n",
       "      <th>3</th>\n",
       "      <td>3</td>\n",
       "      <td>15 Civilians Killed In Single US Airstrike Hav...</td>\n",
       "      <td>Jessica Purkiss</td>\n",
       "      <td>Videos 15 Civilians Killed In Single US Airstr...</td>\n",
       "      <td>1</td>\n",
       "      <td>15 Civilians Killed In Single US Airstrike Hav...</td>\n",
       "    </tr>\n",
       "    <tr>\n",
       "      <th>4</th>\n",
       "      <td>4</td>\n",
       "      <td>Iranian woman jailed for fictional unpublished...</td>\n",
       "      <td>Howard Portnoy</td>\n",
       "      <td>Print \\nAn Iranian woman has been sentenced to...</td>\n",
       "      <td>1</td>\n",
       "      <td>Iranian woman jailed for fictional unpublished...</td>\n",
       "    </tr>\n",
       "    <tr>\n",
       "      <th>...</th>\n",
       "      <td>...</td>\n",
       "      <td>...</td>\n",
       "      <td>...</td>\n",
       "      <td>...</td>\n",
       "      <td>...</td>\n",
       "      <td>...</td>\n",
       "    </tr>\n",
       "    <tr>\n",
       "      <th>20795</th>\n",
       "      <td>20795</td>\n",
       "      <td>Rapper T.I.: Trump a ’Poster Child For White S...</td>\n",
       "      <td>Jerome Hudson</td>\n",
       "      <td>Rapper T. I. unloaded on black celebrities who...</td>\n",
       "      <td>0</td>\n",
       "      <td>Rapper T.I.: Trump a ’Poster Child For White S...</td>\n",
       "    </tr>\n",
       "    <tr>\n",
       "      <th>20796</th>\n",
       "      <td>20796</td>\n",
       "      <td>N.F.L. Playoffs: Schedule, Matchups and Odds -...</td>\n",
       "      <td>Benjamin Hoffman</td>\n",
       "      <td>When the Green Bay Packers lost to the Washing...</td>\n",
       "      <td>0</td>\n",
       "      <td>N.F.L. Playoffs: Schedule, Matchups and Odds -...</td>\n",
       "    </tr>\n",
       "    <tr>\n",
       "      <th>20797</th>\n",
       "      <td>20797</td>\n",
       "      <td>Macy’s Is Said to Receive Takeover Approach by...</td>\n",
       "      <td>Michael J. de la Merced and Rachel Abrams</td>\n",
       "      <td>The Macy’s of today grew from the union of sev...</td>\n",
       "      <td>0</td>\n",
       "      <td>Macy’s Is Said to Receive Takeover Approach by...</td>\n",
       "    </tr>\n",
       "    <tr>\n",
       "      <th>20798</th>\n",
       "      <td>20798</td>\n",
       "      <td>NATO, Russia To Hold Parallel Exercises In Bal...</td>\n",
       "      <td>Alex Ansary</td>\n",
       "      <td>NATO, Russia To Hold Parallel Exercises In Bal...</td>\n",
       "      <td>1</td>\n",
       "      <td>NATO, Russia To Hold Parallel Exercises In Bal...</td>\n",
       "    </tr>\n",
       "    <tr>\n",
       "      <th>20799</th>\n",
       "      <td>20799</td>\n",
       "      <td>What Keeps the F-35 Alive</td>\n",
       "      <td>David Swanson</td>\n",
       "      <td>David Swanson is an author, activist, journa...</td>\n",
       "      <td>1</td>\n",
       "      <td>What Keeps the F-35 Alive David Swanson   Davi...</td>\n",
       "    </tr>\n",
       "  </tbody>\n",
       "</table>\n",
       "<p>20800 rows × 6 columns</p>\n",
       "</div>"
      ],
      "text/plain": [
       "          id                                              title  \\\n",
       "0          0  House Dem Aide: We Didn’t Even See Comey’s Let...   \n",
       "1          1  FLYNN: Hillary Clinton, Big Woman on Campus - ...   \n",
       "2          2                  Why the Truth Might Get You Fired   \n",
       "3          3  15 Civilians Killed In Single US Airstrike Hav...   \n",
       "4          4  Iranian woman jailed for fictional unpublished...   \n",
       "...      ...                                                ...   \n",
       "20795  20795  Rapper T.I.: Trump a ’Poster Child For White S...   \n",
       "20796  20796  N.F.L. Playoffs: Schedule, Matchups and Odds -...   \n",
       "20797  20797  Macy’s Is Said to Receive Takeover Approach by...   \n",
       "20798  20798  NATO, Russia To Hold Parallel Exercises In Bal...   \n",
       "20799  20799                          What Keeps the F-35 Alive   \n",
       "\n",
       "                                          author  \\\n",
       "0                                  Darrell Lucus   \n",
       "1                                Daniel J. Flynn   \n",
       "2                             Consortiumnews.com   \n",
       "3                                Jessica Purkiss   \n",
       "4                                 Howard Portnoy   \n",
       "...                                          ...   \n",
       "20795                              Jerome Hudson   \n",
       "20796                           Benjamin Hoffman   \n",
       "20797  Michael J. de la Merced and Rachel Abrams   \n",
       "20798                                Alex Ansary   \n",
       "20799                              David Swanson   \n",
       "\n",
       "                                                    text  label  \\\n",
       "0      House Dem Aide: We Didn’t Even See Comey’s Let...      1   \n",
       "1      Ever get the feeling your life circles the rou...      0   \n",
       "2      Why the Truth Might Get You Fired October 29, ...      1   \n",
       "3      Videos 15 Civilians Killed In Single US Airstr...      1   \n",
       "4      Print \\nAn Iranian woman has been sentenced to...      1   \n",
       "...                                                  ...    ...   \n",
       "20795  Rapper T. I. unloaded on black celebrities who...      0   \n",
       "20796  When the Green Bay Packers lost to the Washing...      0   \n",
       "20797  The Macy’s of today grew from the union of sev...      0   \n",
       "20798  NATO, Russia To Hold Parallel Exercises In Bal...      1   \n",
       "20799    David Swanson is an author, activist, journa...      1   \n",
       "\n",
       "                                                  merged  \n",
       "0      House Dem Aide: We Didn’t Even See Comey’s Let...  \n",
       "1      FLYNN: Hillary Clinton, Big Woman on Campus - ...  \n",
       "2      Why the Truth Might Get You Fired Consortiumne...  \n",
       "3      15 Civilians Killed In Single US Airstrike Hav...  \n",
       "4      Iranian woman jailed for fictional unpublished...  \n",
       "...                                                  ...  \n",
       "20795  Rapper T.I.: Trump a ’Poster Child For White S...  \n",
       "20796  N.F.L. Playoffs: Schedule, Matchups and Odds -...  \n",
       "20797  Macy’s Is Said to Receive Takeover Approach by...  \n",
       "20798  NATO, Russia To Hold Parallel Exercises In Bal...  \n",
       "20799  What Keeps the F-35 Alive David Swanson   Davi...  \n",
       "\n",
       "[20800 rows x 6 columns]"
      ]
     },
     "execution_count": 10,
     "metadata": {},
     "output_type": "execute_result"
    }
   ],
   "source": [
    "# Creating merged column\n",
    "df['merged'] = df['title'] + ' ' + df['author'] + ' ' + df['text']\n",
    "df"
   ]
  },
  {
   "cell_type": "code",
   "execution_count": 11,
   "id": "27354b23",
   "metadata": {},
   "outputs": [],
   "source": [
    "# Separating target from the rest of the data\n",
    "X = df['merged']\n",
    "y = df['label']"
   ]
  },
  {
   "cell_type": "markdown",
   "id": "ba240f96",
   "metadata": {},
   "source": [
    "At this time, our string data is still in the form of words. In order for us to build a machine learning model for this dataset, we need to convert the strings into a vector. This can be done using sci-kit learn's text extraction functions, CountVectorizer and TfidfVectorizer."
   ]
  },
  {
   "cell_type": "code",
   "execution_count": 12,
   "id": "b39bd499",
   "metadata": {},
   "outputs": [],
   "source": [
    "# Import dependencies to vectorize string data\n",
    "from sklearn.feature_extraction.text import CountVectorizer\n",
    "from sklearn.feature_extraction.text import TfidfVectorizer"
   ]
  },
  {
   "cell_type": "code",
   "execution_count": 13,
   "id": "5c0cae77",
   "metadata": {},
   "outputs": [],
   "source": [
    "# Initializing vectorizers\n",
    "countvec = CountVectorizer()\n",
    "tfidfvec = TfidfVectorizer()"
   ]
  },
  {
   "cell_type": "code",
   "execution_count": 14,
   "id": "f5d6d939",
   "metadata": {},
   "outputs": [
    {
     "data": {
      "text/plain": [
       "CountVectorizer()"
      ]
     },
     "execution_count": 14,
     "metadata": {},
     "output_type": "execute_result"
    }
   ],
   "source": [
    "# Building vectorizer vocabulary, CountVec\n",
    "countvec.fit(X)"
   ]
  },
  {
   "cell_type": "code",
   "execution_count": 15,
   "id": "3bce5088",
   "metadata": {},
   "outputs": [
    {
     "data": {
      "text/plain": [
       "TfidfVectorizer()"
      ]
     },
     "execution_count": 15,
     "metadata": {},
     "output_type": "execute_result"
    }
   ],
   "source": [
    "# Building vectorizer vocabulary, TfidfVec\n",
    "tfidfvec.fit(X)"
   ]
  },
  {
   "cell_type": "code",
   "execution_count": 16,
   "id": "06fee41f",
   "metadata": {},
   "outputs": [],
   "source": [
    "# Transforming into arrays\n",
    "X_countvec = countvec.transform(X)\n",
    "X_tfidfvec = tfidfvec.transform(X)"
   ]
  },
  {
   "cell_type": "code",
   "execution_count": 17,
   "id": "2e884232",
   "metadata": {},
   "outputs": [
    {
     "data": {
      "text/plain": [
       "<20800x182064 sparse matrix of type '<class 'numpy.int64'>'\n",
       "\twith 6957552 stored elements in Compressed Sparse Row format>"
      ]
     },
     "execution_count": 17,
     "metadata": {},
     "output_type": "execute_result"
    }
   ],
   "source": [
    "# Checking sparse matrix\n",
    "X_countvec"
   ]
  },
  {
   "cell_type": "code",
   "execution_count": 18,
   "id": "e02b9adf",
   "metadata": {},
   "outputs": [
    {
     "data": {
      "text/plain": [
       "<20800x182064 sparse matrix of type '<class 'numpy.float64'>'\n",
       "\twith 6957552 stored elements in Compressed Sparse Row format>"
      ]
     },
     "execution_count": 18,
     "metadata": {},
     "output_type": "execute_result"
    }
   ],
   "source": [
    "# Checking sparse matrix\n",
    "X_tfidfvec"
   ]
  },
  {
   "cell_type": "markdown",
   "id": "e008b584",
   "metadata": {},
   "source": [
    "Let us set up the test data from test.csv and submit.csv in the same format as the training data now before building our machine learning pipeline."
   ]
  },
  {
   "cell_type": "code",
   "execution_count": 19,
   "id": "146615c0",
   "metadata": {},
   "outputs": [
    {
     "data": {
      "text/html": [
       "<div>\n",
       "<style scoped>\n",
       "    .dataframe tbody tr th:only-of-type {\n",
       "        vertical-align: middle;\n",
       "    }\n",
       "\n",
       "    .dataframe tbody tr th {\n",
       "        vertical-align: top;\n",
       "    }\n",
       "\n",
       "    .dataframe thead th {\n",
       "        text-align: right;\n",
       "    }\n",
       "</style>\n",
       "<table border=\"1\" class=\"dataframe\">\n",
       "  <thead>\n",
       "    <tr style=\"text-align: right;\">\n",
       "      <th></th>\n",
       "      <th>id</th>\n",
       "      <th>title</th>\n",
       "      <th>author</th>\n",
       "      <th>text</th>\n",
       "    </tr>\n",
       "  </thead>\n",
       "  <tbody>\n",
       "    <tr>\n",
       "      <th>0</th>\n",
       "      <td>20800</td>\n",
       "      <td>Specter of Trump Loosens Tongues, if Not Purse...</td>\n",
       "      <td>David Streitfeld</td>\n",
       "      <td>PALO ALTO, Calif.  —   After years of scorning...</td>\n",
       "    </tr>\n",
       "    <tr>\n",
       "      <th>1</th>\n",
       "      <td>20801</td>\n",
       "      <td>Russian warships ready to strike terrorists ne...</td>\n",
       "      <td>NaN</td>\n",
       "      <td>Russian warships ready to strike terrorists ne...</td>\n",
       "    </tr>\n",
       "    <tr>\n",
       "      <th>2</th>\n",
       "      <td>20802</td>\n",
       "      <td>#NoDAPL: Native American Leaders Vow to Stay A...</td>\n",
       "      <td>Common Dreams</td>\n",
       "      <td>Videos #NoDAPL: Native American Leaders Vow to...</td>\n",
       "    </tr>\n",
       "    <tr>\n",
       "      <th>3</th>\n",
       "      <td>20803</td>\n",
       "      <td>Tim Tebow Will Attempt Another Comeback, This ...</td>\n",
       "      <td>Daniel Victor</td>\n",
       "      <td>If at first you don’t succeed, try a different...</td>\n",
       "    </tr>\n",
       "    <tr>\n",
       "      <th>4</th>\n",
       "      <td>20804</td>\n",
       "      <td>Keiser Report: Meme Wars (E995)</td>\n",
       "      <td>Truth Broadcast Network</td>\n",
       "      <td>42 mins ago 1 Views 0 Comments 0 Likes 'For th...</td>\n",
       "    </tr>\n",
       "    <tr>\n",
       "      <th>...</th>\n",
       "      <td>...</td>\n",
       "      <td>...</td>\n",
       "      <td>...</td>\n",
       "      <td>...</td>\n",
       "    </tr>\n",
       "    <tr>\n",
       "      <th>5195</th>\n",
       "      <td>25995</td>\n",
       "      <td>The Bangladeshi Traffic Jam That Never Ends - ...</td>\n",
       "      <td>Jody Rosen</td>\n",
       "      <td>Of all the dysfunctions that plague the world’...</td>\n",
       "    </tr>\n",
       "    <tr>\n",
       "      <th>5196</th>\n",
       "      <td>25996</td>\n",
       "      <td>John Kasich Signs One Abortion Bill in Ohio bu...</td>\n",
       "      <td>Sheryl Gay Stolberg</td>\n",
       "      <td>WASHINGTON  —   Gov. John Kasich of Ohio on Tu...</td>\n",
       "    </tr>\n",
       "    <tr>\n",
       "      <th>5197</th>\n",
       "      <td>25997</td>\n",
       "      <td>California Today: What, Exactly, Is in Your Su...</td>\n",
       "      <td>Mike McPhate</td>\n",
       "      <td>Good morning. (Want to get California Today by...</td>\n",
       "    </tr>\n",
       "    <tr>\n",
       "      <th>5198</th>\n",
       "      <td>25998</td>\n",
       "      <td>300 US Marines To Be Deployed To Russian Borde...</td>\n",
       "      <td>NaN</td>\n",
       "      <td>« Previous - Next » 300 US Marines To Be Deplo...</td>\n",
       "    </tr>\n",
       "    <tr>\n",
       "      <th>5199</th>\n",
       "      <td>25999</td>\n",
       "      <td>Awkward Sex, Onscreen and Off - The New York T...</td>\n",
       "      <td>Teddy Wayne</td>\n",
       "      <td>Perhaps you’ve seen the new TV series whose pi...</td>\n",
       "    </tr>\n",
       "  </tbody>\n",
       "</table>\n",
       "<p>5200 rows × 4 columns</p>\n",
       "</div>"
      ],
      "text/plain": [
       "         id                                              title  \\\n",
       "0     20800  Specter of Trump Loosens Tongues, if Not Purse...   \n",
       "1     20801  Russian warships ready to strike terrorists ne...   \n",
       "2     20802  #NoDAPL: Native American Leaders Vow to Stay A...   \n",
       "3     20803  Tim Tebow Will Attempt Another Comeback, This ...   \n",
       "4     20804                    Keiser Report: Meme Wars (E995)   \n",
       "...     ...                                                ...   \n",
       "5195  25995  The Bangladeshi Traffic Jam That Never Ends - ...   \n",
       "5196  25996  John Kasich Signs One Abortion Bill in Ohio bu...   \n",
       "5197  25997  California Today: What, Exactly, Is in Your Su...   \n",
       "5198  25998  300 US Marines To Be Deployed To Russian Borde...   \n",
       "5199  25999  Awkward Sex, Onscreen and Off - The New York T...   \n",
       "\n",
       "                       author  \\\n",
       "0            David Streitfeld   \n",
       "1                         NaN   \n",
       "2               Common Dreams   \n",
       "3               Daniel Victor   \n",
       "4     Truth Broadcast Network   \n",
       "...                       ...   \n",
       "5195               Jody Rosen   \n",
       "5196      Sheryl Gay Stolberg   \n",
       "5197             Mike McPhate   \n",
       "5198                      NaN   \n",
       "5199              Teddy Wayne   \n",
       "\n",
       "                                                   text  \n",
       "0     PALO ALTO, Calif.  —   After years of scorning...  \n",
       "1     Russian warships ready to strike terrorists ne...  \n",
       "2     Videos #NoDAPL: Native American Leaders Vow to...  \n",
       "3     If at first you don’t succeed, try a different...  \n",
       "4     42 mins ago 1 Views 0 Comments 0 Likes 'For th...  \n",
       "...                                                 ...  \n",
       "5195  Of all the dysfunctions that plague the world’...  \n",
       "5196  WASHINGTON  —   Gov. John Kasich of Ohio on Tu...  \n",
       "5197  Good morning. (Want to get California Today by...  \n",
       "5198  « Previous - Next » 300 US Marines To Be Deplo...  \n",
       "5199  Perhaps you’ve seen the new TV series whose pi...  \n",
       "\n",
       "[5200 rows x 4 columns]"
      ]
     },
     "execution_count": 19,
     "metadata": {},
     "output_type": "execute_result"
    }
   ],
   "source": [
    "df_test = pd.read_csv(data_file_test)\n",
    "df_test"
   ]
  },
  {
   "cell_type": "code",
   "execution_count": 20,
   "id": "189d37c3",
   "metadata": {},
   "outputs": [
    {
     "data": {
      "text/html": [
       "<div>\n",
       "<style scoped>\n",
       "    .dataframe tbody tr th:only-of-type {\n",
       "        vertical-align: middle;\n",
       "    }\n",
       "\n",
       "    .dataframe tbody tr th {\n",
       "        vertical-align: top;\n",
       "    }\n",
       "\n",
       "    .dataframe thead th {\n",
       "        text-align: right;\n",
       "    }\n",
       "</style>\n",
       "<table border=\"1\" class=\"dataframe\">\n",
       "  <thead>\n",
       "    <tr style=\"text-align: right;\">\n",
       "      <th></th>\n",
       "      <th>id</th>\n",
       "      <th>label</th>\n",
       "    </tr>\n",
       "  </thead>\n",
       "  <tbody>\n",
       "    <tr>\n",
       "      <th>0</th>\n",
       "      <td>20800</td>\n",
       "      <td>0</td>\n",
       "    </tr>\n",
       "    <tr>\n",
       "      <th>1</th>\n",
       "      <td>20801</td>\n",
       "      <td>1</td>\n",
       "    </tr>\n",
       "    <tr>\n",
       "      <th>2</th>\n",
       "      <td>20802</td>\n",
       "      <td>0</td>\n",
       "    </tr>\n",
       "    <tr>\n",
       "      <th>3</th>\n",
       "      <td>20803</td>\n",
       "      <td>1</td>\n",
       "    </tr>\n",
       "    <tr>\n",
       "      <th>4</th>\n",
       "      <td>20804</td>\n",
       "      <td>1</td>\n",
       "    </tr>\n",
       "    <tr>\n",
       "      <th>...</th>\n",
       "      <td>...</td>\n",
       "      <td>...</td>\n",
       "    </tr>\n",
       "    <tr>\n",
       "      <th>5195</th>\n",
       "      <td>25995</td>\n",
       "      <td>0</td>\n",
       "    </tr>\n",
       "    <tr>\n",
       "      <th>5196</th>\n",
       "      <td>25996</td>\n",
       "      <td>1</td>\n",
       "    </tr>\n",
       "    <tr>\n",
       "      <th>5197</th>\n",
       "      <td>25997</td>\n",
       "      <td>0</td>\n",
       "    </tr>\n",
       "    <tr>\n",
       "      <th>5198</th>\n",
       "      <td>25998</td>\n",
       "      <td>1</td>\n",
       "    </tr>\n",
       "    <tr>\n",
       "      <th>5199</th>\n",
       "      <td>25999</td>\n",
       "      <td>0</td>\n",
       "    </tr>\n",
       "  </tbody>\n",
       "</table>\n",
       "<p>5200 rows × 2 columns</p>\n",
       "</div>"
      ],
      "text/plain": [
       "         id  label\n",
       "0     20800      0\n",
       "1     20801      1\n",
       "2     20802      0\n",
       "3     20803      1\n",
       "4     20804      1\n",
       "...     ...    ...\n",
       "5195  25995      0\n",
       "5196  25996      1\n",
       "5197  25997      0\n",
       "5198  25998      1\n",
       "5199  25999      0\n",
       "\n",
       "[5200 rows x 2 columns]"
      ]
     },
     "execution_count": 20,
     "metadata": {},
     "output_type": "execute_result"
    }
   ],
   "source": [
    "df_test_labels = pd.read_csv(data_file_validation)\n",
    "df_test_labels"
   ]
  },
  {
   "cell_type": "code",
   "execution_count": 21,
   "id": "6bf026da",
   "metadata": {},
   "outputs": [
    {
     "data": {
      "text/html": [
       "<div>\n",
       "<style scoped>\n",
       "    .dataframe tbody tr th:only-of-type {\n",
       "        vertical-align: middle;\n",
       "    }\n",
       "\n",
       "    .dataframe tbody tr th {\n",
       "        vertical-align: top;\n",
       "    }\n",
       "\n",
       "    .dataframe thead th {\n",
       "        text-align: right;\n",
       "    }\n",
       "</style>\n",
       "<table border=\"1\" class=\"dataframe\">\n",
       "  <thead>\n",
       "    <tr style=\"text-align: right;\">\n",
       "      <th></th>\n",
       "      <th>id</th>\n",
       "      <th>title</th>\n",
       "      <th>author</th>\n",
       "      <th>text</th>\n",
       "      <th>label</th>\n",
       "    </tr>\n",
       "  </thead>\n",
       "  <tbody>\n",
       "    <tr>\n",
       "      <th>0</th>\n",
       "      <td>20800</td>\n",
       "      <td>Specter of Trump Loosens Tongues, if Not Purse...</td>\n",
       "      <td>David Streitfeld</td>\n",
       "      <td>PALO ALTO, Calif.  —   After years of scorning...</td>\n",
       "      <td>0</td>\n",
       "    </tr>\n",
       "    <tr>\n",
       "      <th>1</th>\n",
       "      <td>20801</td>\n",
       "      <td>Russian warships ready to strike terrorists ne...</td>\n",
       "      <td>NaN</td>\n",
       "      <td>Russian warships ready to strike terrorists ne...</td>\n",
       "      <td>1</td>\n",
       "    </tr>\n",
       "    <tr>\n",
       "      <th>2</th>\n",
       "      <td>20802</td>\n",
       "      <td>#NoDAPL: Native American Leaders Vow to Stay A...</td>\n",
       "      <td>Common Dreams</td>\n",
       "      <td>Videos #NoDAPL: Native American Leaders Vow to...</td>\n",
       "      <td>0</td>\n",
       "    </tr>\n",
       "    <tr>\n",
       "      <th>3</th>\n",
       "      <td>20803</td>\n",
       "      <td>Tim Tebow Will Attempt Another Comeback, This ...</td>\n",
       "      <td>Daniel Victor</td>\n",
       "      <td>If at first you don’t succeed, try a different...</td>\n",
       "      <td>1</td>\n",
       "    </tr>\n",
       "    <tr>\n",
       "      <th>4</th>\n",
       "      <td>20804</td>\n",
       "      <td>Keiser Report: Meme Wars (E995)</td>\n",
       "      <td>Truth Broadcast Network</td>\n",
       "      <td>42 mins ago 1 Views 0 Comments 0 Likes 'For th...</td>\n",
       "      <td>1</td>\n",
       "    </tr>\n",
       "    <tr>\n",
       "      <th>...</th>\n",
       "      <td>...</td>\n",
       "      <td>...</td>\n",
       "      <td>...</td>\n",
       "      <td>...</td>\n",
       "      <td>...</td>\n",
       "    </tr>\n",
       "    <tr>\n",
       "      <th>5195</th>\n",
       "      <td>25995</td>\n",
       "      <td>The Bangladeshi Traffic Jam That Never Ends - ...</td>\n",
       "      <td>Jody Rosen</td>\n",
       "      <td>Of all the dysfunctions that plague the world’...</td>\n",
       "      <td>0</td>\n",
       "    </tr>\n",
       "    <tr>\n",
       "      <th>5196</th>\n",
       "      <td>25996</td>\n",
       "      <td>John Kasich Signs One Abortion Bill in Ohio bu...</td>\n",
       "      <td>Sheryl Gay Stolberg</td>\n",
       "      <td>WASHINGTON  —   Gov. John Kasich of Ohio on Tu...</td>\n",
       "      <td>1</td>\n",
       "    </tr>\n",
       "    <tr>\n",
       "      <th>5197</th>\n",
       "      <td>25997</td>\n",
       "      <td>California Today: What, Exactly, Is in Your Su...</td>\n",
       "      <td>Mike McPhate</td>\n",
       "      <td>Good morning. (Want to get California Today by...</td>\n",
       "      <td>0</td>\n",
       "    </tr>\n",
       "    <tr>\n",
       "      <th>5198</th>\n",
       "      <td>25998</td>\n",
       "      <td>300 US Marines To Be Deployed To Russian Borde...</td>\n",
       "      <td>NaN</td>\n",
       "      <td>« Previous - Next » 300 US Marines To Be Deplo...</td>\n",
       "      <td>1</td>\n",
       "    </tr>\n",
       "    <tr>\n",
       "      <th>5199</th>\n",
       "      <td>25999</td>\n",
       "      <td>Awkward Sex, Onscreen and Off - The New York T...</td>\n",
       "      <td>Teddy Wayne</td>\n",
       "      <td>Perhaps you’ve seen the new TV series whose pi...</td>\n",
       "      <td>0</td>\n",
       "    </tr>\n",
       "  </tbody>\n",
       "</table>\n",
       "<p>5200 rows × 5 columns</p>\n",
       "</div>"
      ],
      "text/plain": [
       "         id                                              title  \\\n",
       "0     20800  Specter of Trump Loosens Tongues, if Not Purse...   \n",
       "1     20801  Russian warships ready to strike terrorists ne...   \n",
       "2     20802  #NoDAPL: Native American Leaders Vow to Stay A...   \n",
       "3     20803  Tim Tebow Will Attempt Another Comeback, This ...   \n",
       "4     20804                    Keiser Report: Meme Wars (E995)   \n",
       "...     ...                                                ...   \n",
       "5195  25995  The Bangladeshi Traffic Jam That Never Ends - ...   \n",
       "5196  25996  John Kasich Signs One Abortion Bill in Ohio bu...   \n",
       "5197  25997  California Today: What, Exactly, Is in Your Su...   \n",
       "5198  25998  300 US Marines To Be Deployed To Russian Borde...   \n",
       "5199  25999  Awkward Sex, Onscreen and Off - The New York T...   \n",
       "\n",
       "                       author  \\\n",
       "0            David Streitfeld   \n",
       "1                         NaN   \n",
       "2               Common Dreams   \n",
       "3               Daniel Victor   \n",
       "4     Truth Broadcast Network   \n",
       "...                       ...   \n",
       "5195               Jody Rosen   \n",
       "5196      Sheryl Gay Stolberg   \n",
       "5197             Mike McPhate   \n",
       "5198                      NaN   \n",
       "5199              Teddy Wayne   \n",
       "\n",
       "                                                   text  label  \n",
       "0     PALO ALTO, Calif.  —   After years of scorning...      0  \n",
       "1     Russian warships ready to strike terrorists ne...      1  \n",
       "2     Videos #NoDAPL: Native American Leaders Vow to...      0  \n",
       "3     If at first you don’t succeed, try a different...      1  \n",
       "4     42 mins ago 1 Views 0 Comments 0 Likes 'For th...      1  \n",
       "...                                                 ...    ...  \n",
       "5195  Of all the dysfunctions that plague the world’...      0  \n",
       "5196  WASHINGTON  —   Gov. John Kasich of Ohio on Tu...      1  \n",
       "5197  Good morning. (Want to get California Today by...      0  \n",
       "5198  « Previous - Next » 300 US Marines To Be Deplo...      1  \n",
       "5199  Perhaps you’ve seen the new TV series whose pi...      0  \n",
       "\n",
       "[5200 rows x 5 columns]"
      ]
     },
     "execution_count": 21,
     "metadata": {},
     "output_type": "execute_result"
    }
   ],
   "source": [
    "df_test = df_test.merge(df_test_labels, on='id', how='left')\n",
    "df_test"
   ]
  },
  {
   "cell_type": "code",
   "execution_count": 22,
   "id": "4611af85",
   "metadata": {},
   "outputs": [
    {
     "name": "stdout",
     "output_type": "stream",
     "text": [
      "<class 'pandas.core.frame.DataFrame'>\n",
      "Int64Index: 5200 entries, 0 to 5199\n",
      "Data columns (total 5 columns):\n",
      " #   Column  Non-Null Count  Dtype \n",
      "---  ------  --------------  ----- \n",
      " 0   id      5200 non-null   int64 \n",
      " 1   title   5078 non-null   object\n",
      " 2   author  4697 non-null   object\n",
      " 3   text    5193 non-null   object\n",
      " 4   label   5200 non-null   int64 \n",
      "dtypes: int64(2), object(3)\n",
      "memory usage: 243.8+ KB\n"
     ]
    }
   ],
   "source": [
    "df_test.info()"
   ]
  },
  {
   "cell_type": "code",
   "execution_count": 23,
   "id": "e99a6278",
   "metadata": {},
   "outputs": [],
   "source": [
    "# Like before we'll replace NaNs with fillers\n",
    "df_test['title'] = df_test['title'].fillna('notitle')\n",
    "df_test['author'] = df_test['author'].fillna('noauthor')\n",
    "df_test['text'] = df_test['text'].fillna('notext')"
   ]
  },
  {
   "cell_type": "code",
   "execution_count": 24,
   "id": "d1ad5f22",
   "metadata": {},
   "outputs": [],
   "source": [
    "# We'll also create a merged column to match the formate of our training set\n",
    "df_test['merged'] = df_test['title'] + ' ' + df_test['author'] + ' ' + df_test['text']"
   ]
  },
  {
   "cell_type": "code",
   "execution_count": 25,
   "id": "81a4047a",
   "metadata": {},
   "outputs": [],
   "source": [
    "# Separating target from the rest of the test data\n",
    "X_test = df_test['merged']\n",
    "y_test = df_test['label']"
   ]
  },
  {
   "cell_type": "code",
   "execution_count": 26,
   "id": "cf3bea8c",
   "metadata": {},
   "outputs": [],
   "source": [
    "# Transforming into arrays\n",
    "X_countvec_test = countvec.transform(X_test)\n",
    "X_tfidfvec_test = tfidfvec.transform(X_test)"
   ]
  },
  {
   "cell_type": "code",
   "execution_count": 27,
   "id": "cdcd94cd",
   "metadata": {},
   "outputs": [
    {
     "data": {
      "text/plain": [
       "<5200x182064 sparse matrix of type '<class 'numpy.int64'>'\n",
       "\twith 1741520 stored elements in Compressed Sparse Row format>"
      ]
     },
     "execution_count": 27,
     "metadata": {},
     "output_type": "execute_result"
    }
   ],
   "source": [
    "X_countvec_test"
   ]
  },
  {
   "cell_type": "code",
   "execution_count": 28,
   "id": "3abdb775",
   "metadata": {},
   "outputs": [
    {
     "data": {
      "text/plain": [
       "<5200x182064 sparse matrix of type '<class 'numpy.float64'>'\n",
       "\twith 1741520 stored elements in Compressed Sparse Row format>"
      ]
     },
     "execution_count": 28,
     "metadata": {},
     "output_type": "execute_result"
    }
   ],
   "source": [
    "X_tfidfvec_test"
   ]
  },
  {
   "cell_type": "markdown",
   "id": "b28830e0",
   "metadata": {},
   "source": [
    "With our datasets ready, let's build our machine learning pipeline. For this dataset, we're here to find out whether or not a news article is 'fake news'. As such, we can turned into a binary classification problem with the word vectors as our features. For classification, we could try out several kind: Logistic Regression, Random Forest, and Gradiant Boosting."
   ]
  },
  {
   "cell_type": "code",
   "execution_count": 79,
   "id": "cbd71b7f",
   "metadata": {},
   "outputs": [],
   "source": [
    "# Import dependencies for machine learning model\n",
    "from sklearn.pipeline import Pipeline\n",
    "from sklearn.model_selection import GridSearchCV, RandomizedSearchCV\n",
    "from sklearn.ensemble import RandomForestClassifier, GradientBoostingClassifier\n",
    "from sklearn.linear_model import LogisticRegression\n",
    "from sklearn.naive_bayes import MultinomialNB\n",
    "from sklearn.svm import SVC\n",
    "from sklearn.metrics import confusion_matrix, classification_report, roc_auc_score, roc_curve"
   ]
  },
  {
   "cell_type": "code",
   "execution_count": 30,
   "id": "70b0677b",
   "metadata": {},
   "outputs": [],
   "source": [
    "# Setting up pipeline with Logistic Regression\n",
    "pipe_countvec = Pipeline([('classifier', LogisticRegression())])\n",
    "pipe_tfidfvec = Pipeline([('classifier', LogisticRegression())])\n",
    "\n",
    "parameters = {'classifier__solver': ['newton-cg'],\n",
    "              'classifier__C': [0.01, 0.1, 1.0, 10.0, 100.0],\n",
    "              'classifier__random_state': [42]}\n",
    "\n",
    "# Run Grid Search with 5-fold cross validation\n",
    "grid_countvec_logreg_5cv = GridSearchCV(pipe_countvec, parameters, cv=5).fit(X_countvec, y)\n",
    "grid_tfidfvec_logreg_5cv = GridSearchCV(pipe_tfidfvec, parameters, cv=5).fit(X_tfidfvec, y)"
   ]
  },
  {
   "cell_type": "code",
   "execution_count": 31,
   "id": "7b0f46eb",
   "metadata": {},
   "outputs": [
    {
     "name": "stdout",
     "output_type": "stream",
     "text": [
      "Training set score (countvec/LogReg): 99.96%\n",
      "Test set score (countvec/LogReg): 64.06%\n",
      "---------------------------------\n",
      "Training set score (tfidfvec/LogReg): 100.00%\n",
      "Test set score (tfidfvec/LogReg): 63.77%\n"
     ]
    }
   ],
   "source": [
    "print('Training set score (countvec/LogReg): {:.2%}'.format(grid_countvec_logreg_5cv.score(X_countvec, y)))\n",
    "print('Test set score (countvec/LogReg): {:.2%}'.format(grid_countvec_logreg_5cv.score(X_countvec_test, y_test)))\n",
    "print('---------------------------------')\n",
    "print('Training set score (tfidfvec/LogReg): {:.2%}'.format(grid_tfidfvec_logreg_5cv.score(X_tfidfvec, y)))\n",
    "print('Test set score (tfidfvec/LogReg): {:.2%}'.format(grid_tfidfvec_logreg_5cv.score(X_tfidfvec_test, y_test)))"
   ]
  },
  {
   "cell_type": "code",
   "execution_count": 32,
   "id": "43d30b65",
   "metadata": {},
   "outputs": [
    {
     "name": "stdout",
     "output_type": "stream",
     "text": [
      "{'classifier__C': 0.1, 'classifier__random_state': 42, 'classifier__solver': 'newton-cg'}\n",
      "{'classifier__C': 100.0, 'classifier__random_state': 42, 'classifier__solver': 'newton-cg'}\n"
     ]
    }
   ],
   "source": [
    "# Access the best set of parameters (countvec/RandFor)\n",
    "best_params_countvec_logreg = grid_countvec_logreg_5cv.best_params_\n",
    "print(best_params_countvec_logreg)\n",
    "\n",
    "# Access the best set of parameters (tfidfvec/RandFor)\n",
    "best_params_tfidfvec_logreg = grid_tfidfvec_logreg_5cv.best_params_\n",
    "print(best_params_tfidfvec_logreg)"
   ]
  },
  {
   "cell_type": "code",
   "execution_count": 33,
   "id": "11fe7afd",
   "metadata": {},
   "outputs": [
    {
     "name": "stdout",
     "output_type": "stream",
     "text": [
      "Confusion Matrix (countvec/LogReg)\n",
      "[[1534  805]\n",
      " [1064 1797]]\n",
      "Classification Report (countvec/LogReg)\n",
      "              precision    recall  f1-score   support\n",
      "\n",
      "           0       0.59      0.66      0.62      2339\n",
      "           1       0.69      0.63      0.66      2861\n",
      "\n",
      "    accuracy                           0.64      5200\n",
      "   macro avg       0.64      0.64      0.64      5200\n",
      "weighted avg       0.65      0.64      0.64      5200\n",
      "\n"
     ]
    }
   ],
   "source": [
    "cm_countvec_logreg = confusion_matrix(y_test, grid_countvec_logreg_5cv.predict(X_countvec_test))\n",
    "print(\"Confusion Matrix (countvec/LogReg)\")\n",
    "print(cm_countvec_logreg)\n",
    "print(\"Classification Report (countvec/LogReg)\")\n",
    "print(classification_report(y_test, grid_countvec_logreg_5cv.predict(X_countvec_test)))"
   ]
  },
  {
   "cell_type": "code",
   "execution_count": 34,
   "id": "6081ea29",
   "metadata": {},
   "outputs": [
    {
     "name": "stdout",
     "output_type": "stream",
     "text": [
      "Confusion Matrix (tfidfvec/LogReg)\n",
      "[[1531  808]\n",
      " [1076 1785]]\n",
      "Classification Report (tfidfvec/LogReg)\n",
      "              precision    recall  f1-score   support\n",
      "\n",
      "           0       0.59      0.65      0.62      2339\n",
      "           1       0.69      0.62      0.65      2861\n",
      "\n",
      "    accuracy                           0.64      5200\n",
      "   macro avg       0.64      0.64      0.64      5200\n",
      "weighted avg       0.64      0.64      0.64      5200\n",
      "\n"
     ]
    }
   ],
   "source": [
    "cm_tfidfvec_logreg = confusion_matrix(y_test, grid_tfidfvec_logreg_5cv.predict(X_tfidfvec_test))\n",
    "print(\"Confusion Matrix (tfidfvec/LogReg)\")\n",
    "print(cm_tfidfvec_logreg)\n",
    "print(\"Classification Report (tfidfvec/LogReg)\")\n",
    "print(classification_report(y_test, grid_tfidfvec_logreg_5cv.predict(X_tfidfvec_test)))"
   ]
  },
  {
   "cell_type": "code",
   "execution_count": 35,
   "id": "42d4ac71",
   "metadata": {},
   "outputs": [
    {
     "data": {
      "image/png": "[encoded data removed]",
      "text/plain": [
       "<Figure size 432x288 with 1 Axes>"
      ]
     },
     "metadata": {
      "needs_background": "light"
     },
     "output_type": "display_data"
    }
   ],
   "source": [
    "# Plotting ROC curve with AUC score\n",
    "countvec_logreg_roc_auc = roc_auc_score(y_test, grid_countvec_logreg_5cv.predict(X_countvec_test))\n",
    "fpr, tpr, thresholds = roc_curve(y_test, grid_countvec_logreg_5cv.predict_proba(X_countvec_test)[:,1])\n",
    "\n",
    "plt.figure()\n",
    "plt.plot(fpr, tpr, label='Logistic Regression (area = %0.2f)' % countvec_logreg_roc_auc)\n",
    "plt.plot([0, 1], [0, 1],'r--')\n",
    "plt.xlim([0.0, 1.0])\n",
    "plt.ylim([0.0, 1.05])\n",
    "plt.xlabel('False Positive Rate')\n",
    "plt.ylabel('True Positive Rate')\n",
    "plt.title('Receiver operating characteristic (countvec/LogReg)')\n",
    "plt.legend(loc=\"lower right\")\n",
    "plt.show()"
   ]
  },
  {
   "cell_type": "code",
   "execution_count": 36,
   "id": "16f82a08",
   "metadata": {},
   "outputs": [
    {
     "data": {
      "image/png": "[encoded data removed]",
      "text/plain": [
       "<Figure size 432x288 with 1 Axes>"
      ]
     },
     "metadata": {
      "needs_background": "light"
     },
     "output_type": "display_data"
    }
   ],
   "source": [
    "# Plotting ROC curve with AUC score\n",
    "tfidfvec_logreg_roc_auc = roc_auc_score(y_test, grid_tfidfvec_logreg_5cv.predict(X_tfidfvec_test))\n",
    "fpr, tpr, thresholds = roc_curve(y_test, grid_tfidfvec_logreg_5cv.predict_proba(X_tfidfvec_test)[:,1])\n",
    "\n",
    "plt.figure()\n",
    "plt.plot(fpr, tpr, label='Logistic Regression (area = %0.2f)' % tfidfvec_logreg_roc_auc)\n",
    "plt.plot([0, 1], [0, 1],'r--')\n",
    "plt.xlim([0.0, 1.0])\n",
    "plt.ylim([0.0, 1.05])\n",
    "plt.xlabel('False Positive Rate')\n",
    "plt.ylabel('True Positive Rate')\n",
    "plt.title('Receiver operating characteristic (tfidfvec/LogReg)')\n",
    "plt.legend(loc=\"lower right\")\n",
    "plt.show()"
   ]
  },
  {
   "cell_type": "code",
   "execution_count": 37,
   "id": "89db90fa",
   "metadata": {},
   "outputs": [],
   "source": [
    "# Setting up pipeline with Random Forest Classifier\n",
    "pipe_countvec = Pipeline([('classifier', RandomForestClassifier())])\n",
    "pipe_tfidfvec = Pipeline([('classifier', RandomForestClassifier())])\n",
    "\n",
    "parameters = {'classifier__n_estimators': [100, 150, 200, 250, 300, 350, 400, 450, 500],\n",
    "              'classifier__max_depth': [3, 4, 5],\n",
    "              'classifier__max_features': ['sqrt','log2'],\n",
    "              'classifier__random_state': [42]}\n",
    "\n",
    "grid_countvec_randfor_5cv = RandomizedSearchCV(pipe_countvec, parameters, cv=5).fit(X_countvec, y)\n",
    "grid_tfidfvec_randfor_5cv = RandomizedSearchCV(pipe_tfidfvec, parameters, cv=5).fit(X_tfidfvec, y)"
   ]
  },
  {
   "cell_type": "code",
   "execution_count": 38,
   "id": "b41953f3",
   "metadata": {},
   "outputs": [
    {
     "name": "stdout",
     "output_type": "stream",
     "text": [
      "Training set score (countvec/RandFor): 78.98%\n",
      "Test set score (countvec/RandFor): 82.63%\n",
      "---------------------------------\n",
      "Training set score (tfidf/RandFor): 80.29%\n",
      "Test set score (tfidf/RandFor): 82.21%\n"
     ]
    }
   ],
   "source": [
    "print('Training set score (countvec/RandFor): {:.2%}'.format(grid_countvec_randfor_5cv.score(X_countvec, y)))\n",
    "print('Test set score (countvec/RandFor): {:.2%}'.format(grid_countvec_randfor_5cv.score(X_countvec_test, y_test)))\n",
    "print('---------------------------------')\n",
    "print('Training set score (tfidf/RandFor): {:.2%}'.format(grid_tfidfvec_randfor_5cv.score(X_tfidfvec, y)))\n",
    "print('Test set score (tfidf/RandFor): {:.2%}'.format(grid_tfidfvec_randfor_5cv.score(X_tfidfvec_test, y_test)))"
   ]
  },
  {
   "cell_type": "code",
   "execution_count": 39,
   "id": "82b59a14",
   "metadata": {},
   "outputs": [
    {
     "name": "stdout",
     "output_type": "stream",
     "text": [
      "{'classifier__random_state': 42, 'classifier__n_estimators': 450, 'classifier__max_features': 'sqrt', 'classifier__max_depth': 5}\n",
      "{'classifier__random_state': 42, 'classifier__n_estimators': 500, 'classifier__max_features': 'sqrt', 'classifier__max_depth': 4}\n"
     ]
    }
   ],
   "source": [
    "# Access the best set of parameters (countvec/RandFor)\n",
    "best_params_countvec_randfor = grid_countvec_randfor_5cv.best_params_\n",
    "print(best_params_countvec_randfor)\n",
    "\n",
    "# Access the best set of parameters (tfidfvec/RandFor)\n",
    "best_params_tfidfvec_randfor = grid_tfidfvec_randfor_5cv.best_params_\n",
    "print(best_params_tfidfvec_randfor)"
   ]
  },
  {
   "cell_type": "code",
   "execution_count": 40,
   "id": "4d156954",
   "metadata": {},
   "outputs": [
    {
     "name": "stdout",
     "output_type": "stream",
     "text": [
      "Confusion Matrix (countvec/RandFor)\n",
      "[[2029  310]\n",
      " [ 593 2268]]\n",
      "Classification Report (countvec/RandFor)\n",
      "              precision    recall  f1-score   support\n",
      "\n",
      "           0       0.77      0.87      0.82      2339\n",
      "           1       0.88      0.79      0.83      2861\n",
      "\n",
      "    accuracy                           0.83      5200\n",
      "   macro avg       0.83      0.83      0.83      5200\n",
      "weighted avg       0.83      0.83      0.83      5200\n",
      "\n"
     ]
    }
   ],
   "source": [
    "cm_countvec_randfor = confusion_matrix(y_test, grid_countvec_randfor_5cv.predict(X_countvec_test))\n",
    "print(\"Confusion Matrix (countvec/RandFor)\")\n",
    "print(cm_countvec_randfor)\n",
    "print(\"Classification Report (countvec/RandFor)\")\n",
    "print(classification_report(y_test, grid_countvec_randfor_5cv.predict(X_countvec_test)))"
   ]
  },
  {
   "cell_type": "code",
   "execution_count": 41,
   "id": "3856d3a5",
   "metadata": {},
   "outputs": [
    {
     "name": "stdout",
     "output_type": "stream",
     "text": [
      "Confusion Matrix (tfidfvec/RandFor)\n",
      "[[2004  335]\n",
      " [ 590 2271]]\n",
      "Classification Report (tfidfvec/RandFor)\n",
      "              precision    recall  f1-score   support\n",
      "\n",
      "           0       0.77      0.86      0.81      2339\n",
      "           1       0.87      0.79      0.83      2861\n",
      "\n",
      "    accuracy                           0.82      5200\n",
      "   macro avg       0.82      0.83      0.82      5200\n",
      "weighted avg       0.83      0.82      0.82      5200\n",
      "\n"
     ]
    }
   ],
   "source": [
    "cm_tfidfvec_randfor = confusion_matrix(y_test, grid_tfidfvec_randfor_5cv.predict(X_tfidfvec_test))\n",
    "print(\"Confusion Matrix (tfidfvec/RandFor)\")\n",
    "print(cm_tfidfvec_randfor)\n",
    "print(\"Classification Report (tfidfvec/RandFor)\")\n",
    "print(classification_report(y_test, grid_tfidfvec_randfor_5cv.predict(X_tfidfvec_test)))"
   ]
  },
  {
   "cell_type": "code",
   "execution_count": 42,
   "id": "e15fed56",
   "metadata": {},
   "outputs": [
    {
     "data": {
      "image/png": "[encoded data removed]",
      "text/plain": [
       "<Figure size 432x288 with 1 Axes>"
      ]
     },
     "metadata": {
      "needs_background": "light"
     },
     "output_type": "display_data"
    }
   ],
   "source": [
    "# Plotting ROC curve with AUC score\n",
    "countvec_randfor_roc_auc = roc_auc_score(y_test, grid_countvec_randfor_5cv.predict(X_countvec_test))\n",
    "fpr, tpr, thresholds = roc_curve(y_test, grid_countvec_randfor_5cv.predict_proba(X_countvec_test)[:,1])\n",
    "\n",
    "plt.figure()\n",
    "plt.plot(fpr, tpr, label='Random Forest Classifier (area = %0.2f)' % countvec_randfor_roc_auc)\n",
    "plt.plot([0, 1], [0, 1],'r--')\n",
    "plt.xlim([0.0, 1.0])\n",
    "plt.ylim([0.0, 1.05])\n",
    "plt.xlabel('False Positive Rate')\n",
    "plt.ylabel('True Positive Rate')\n",
    "plt.title('Receiver operating characteristic (countvec/RandFor)')\n",
    "plt.legend(loc=\"lower right\")\n",
    "plt.show()"
   ]
  },
  {
   "cell_type": "code",
   "execution_count": 43,
   "id": "410b14d1",
   "metadata": {},
   "outputs": [
    {
     "data": {
      "image/png": "[encoded data removed]",
      "text/plain": [
       "<Figure size 432x288 with 1 Axes>"
      ]
     },
     "metadata": {
      "needs_background": "light"
     },
     "output_type": "display_data"
    }
   ],
   "source": [
    "# Plotting ROC curve with AUC score\n",
    "tfidfvec_randfor_roc_auc = roc_auc_score(y_test, grid_tfidfvec_randfor_5cv.predict(X_tfidfvec_test))\n",
    "fpr, tpr, thresholds = roc_curve(y_test, grid_tfidfvec_randfor_5cv.predict_proba(X_tfidfvec_test)[:,1])\n",
    "\n",
    "plt.figure()\n",
    "plt.plot(fpr, tpr, label='Random Forest Classifier (area = %0.2f)' % tfidfvec_randfor_roc_auc)\n",
    "plt.plot([0, 1], [0, 1],'r--')\n",
    "plt.xlim([0.0, 1.0])\n",
    "plt.ylim([0.0, 1.05])\n",
    "plt.xlabel('False Positive Rate')\n",
    "plt.ylabel('True Positive Rate')\n",
    "plt.title('Receiver operating characteristic (tfidfvec/RandFor)')\n",
    "plt.legend(loc=\"lower right\")\n",
    "plt.show()"
   ]
  },
  {
   "cell_type": "code",
   "execution_count": 44,
   "id": "859ff69a",
   "metadata": {},
   "outputs": [],
   "source": [
    "# Setting up pipeline with Gradient Boosting Classifier\n",
    "pipe_countvec = Pipeline([('classifier', GradientBoostingClassifier())])\n",
    "pipe_tfidfvec = Pipeline([('classifier', GradientBoostingClassifier())])\n",
    "\n",
    "parameters = {'classifier__n_estimators': [100, 150, 200, 250, 300, 350, 400, 450, 500],\n",
    "              'classifier__max_depth': [3, 4, 5],\n",
    "              'classifier__learning_rate': [0.01, 0.05, 0.1, 0.2],\n",
    "              'classifier__max_features': ['sqrt','log2'],\n",
    "              'classifier__random_state': [42]}\n",
    "\n",
    "grid_countvec_gradboost_5cv = RandomizedSearchCV(pipe_countvec, parameters, cv=5).fit(X_countvec, y)\n",
    "grid_tfidfvec_gradboost_5cv = RandomizedSearchCV(pipe_tfidfvec, parameters, cv=5).fit(X_tfidfvec, y)"
   ]
  },
  {
   "cell_type": "code",
   "execution_count": 45,
   "id": "f22e669b",
   "metadata": {},
   "outputs": [
    {
     "name": "stdout",
     "output_type": "stream",
     "text": [
      "Training set score (countvec/GradBoost): 99.94%\n",
      "Test set score (countvec/GradBoost): 63.77%\n",
      "---------------------------------\n",
      "Training set score (tfidfvec/GradBoost): 98.93%\n",
      "Test set score (tfidfvec/GradBoost): 64.63%\n"
     ]
    }
   ],
   "source": [
    "print('Training set score (countvec/GradBoost): {:.2%}'.format(grid_countvec_gradboost_5cv.score(X_countvec, y)))\n",
    "print('Test set score (countvec/GradBoost): {:.2%}'.format(grid_countvec_gradboost_5cv.score(X_countvec_test, y_test)))\n",
    "print('---------------------------------')\n",
    "print('Training set score (tfidfvec/GradBoost): {:.2%}'.format(grid_tfidfvec_gradboost_5cv.score(X_tfidfvec, y)))\n",
    "print('Test set score (tfidfvec/GradBoost): {:.2%}'.format(grid_tfidfvec_gradboost_5cv.score(X_tfidfvec_test, y_test)))"
   ]
  },
  {
   "cell_type": "code",
   "execution_count": 46,
   "id": "dd82026f",
   "metadata": {},
   "outputs": [
    {
     "name": "stdout",
     "output_type": "stream",
     "text": [
      "{'classifier__random_state': 42, 'classifier__n_estimators': 500, 'classifier__max_features': 'sqrt', 'classifier__max_depth': 5, 'classifier__learning_rate': 0.2}\n",
      "{'classifier__random_state': 42, 'classifier__n_estimators': 500, 'classifier__max_features': 'sqrt', 'classifier__max_depth': 5, 'classifier__learning_rate': 0.05}\n"
     ]
    }
   ],
   "source": [
    "# Access the best set of parameters (countvec/GradBoost)\n",
    "best_params_countvec_gradboost = grid_countvec_gradboost_5cv.best_params_\n",
    "print(best_params_countvec_gradboost)\n",
    "\n",
    "# Access the best set of parameters (tfidfvec/GradBoost)\n",
    "best_params_tfidfvec_gradboost = grid_tfidfvec_gradboost_5cv.best_params_\n",
    "print(best_params_tfidfvec_gradboost)"
   ]
  },
  {
   "cell_type": "code",
   "execution_count": 47,
   "id": "9f7d5cc7",
   "metadata": {},
   "outputs": [
    {
     "name": "stdout",
     "output_type": "stream",
     "text": [
      "Confusion Matrix (countvec/GradBoost)\n",
      "[[1528  811]\n",
      " [1073 1788]]\n",
      "Classification Report (countvec/GradBoost)\n",
      "              precision    recall  f1-score   support\n",
      "\n",
      "           0       0.59      0.65      0.62      2339\n",
      "           1       0.69      0.62      0.65      2861\n",
      "\n",
      "    accuracy                           0.64      5200\n",
      "   macro avg       0.64      0.64      0.64      5200\n",
      "weighted avg       0.64      0.64      0.64      5200\n",
      "\n"
     ]
    }
   ],
   "source": [
    "cm_countvec_gradboost = confusion_matrix(y_test, grid_countvec_gradboost_5cv.predict(X_countvec_test))\n",
    "print(\"Confusion Matrix (countvec/GradBoost)\")\n",
    "print(cm_countvec_gradboost)\n",
    "print(\"Classification Report (countvec/GradBoost)\")\n",
    "print(classification_report(y_test, grid_countvec_gradboost_5cv.predict(X_countvec_test)))"
   ]
  },
  {
   "cell_type": "code",
   "execution_count": 48,
   "id": "a4134be3",
   "metadata": {},
   "outputs": [
    {
     "name": "stdout",
     "output_type": "stream",
     "text": [
      "Confusion Matrix (tfidfvec/GradBoost)\n",
      "[[1554  785]\n",
      " [1054 1807]]\n",
      "Classification Report (tfidfvec/GradBoost)\n",
      "              precision    recall  f1-score   support\n",
      "\n",
      "           0       0.60      0.66      0.63      2339\n",
      "           1       0.70      0.63      0.66      2861\n",
      "\n",
      "    accuracy                           0.65      5200\n",
      "   macro avg       0.65      0.65      0.65      5200\n",
      "weighted avg       0.65      0.65      0.65      5200\n",
      "\n"
     ]
    }
   ],
   "source": [
    "cm_tfidfvec_gradboost = confusion_matrix(y_test, grid_tfidfvec_gradboost_5cv.predict(X_tfidfvec_test))\n",
    "print(\"Confusion Matrix (tfidfvec/GradBoost)\")\n",
    "print(cm_tfidfvec_gradboost)\n",
    "print(\"Classification Report (tfidfvec/GradBoost)\")\n",
    "print(classification_report(y_test, grid_tfidfvec_gradboost_5cv.predict(X_tfidfvec_test)))"
   ]
  },
  {
   "cell_type": "code",
   "execution_count": 49,
   "id": "edb8ddd5",
   "metadata": {},
   "outputs": [
    {
     "data": {
      "image/png": "[encoded data removed]",
      "text/plain": [
       "<Figure size 432x288 with 1 Axes>"
      ]
     },
     "metadata": {
      "needs_background": "light"
     },
     "output_type": "display_data"
    }
   ],
   "source": [
    "# Plotting ROC curve with AUC score\n",
    "countvec_gradboost_roc_auc = roc_auc_score(y_test, grid_countvec_gradboost_5cv.predict(X_countvec_test))\n",
    "fpr, tpr, thresholds = roc_curve(y_test, grid_countvec_gradboost_5cv.predict_proba(X_countvec_test)[:,1])\n",
    "\n",
    "plt.figure()\n",
    "plt.plot(fpr, tpr, label='Gradient Boosting Classifier (area = %0.2f)' % countvec_gradboost_roc_auc)\n",
    "plt.plot([0, 1], [0, 1],'r--')\n",
    "plt.xlim([0.0, 1.0])\n",
    "plt.ylim([0.0, 1.05])\n",
    "plt.xlabel('False Positive Rate')\n",
    "plt.ylabel('True Positive Rate')\n",
    "plt.title('Receiver operating characteristic (countvec/GradBoost)')\n",
    "plt.legend(loc=\"lower right\")\n",
    "plt.show()"
   ]
  },
  {
   "cell_type": "code",
   "execution_count": 50,
   "id": "bc6e995c",
   "metadata": {},
   "outputs": [
    {
     "data": {
      "image/png": "[encoded data removed]",
      "text/plain": [
       "<Figure size 432x288 with 1 Axes>"
      ]
     },
     "metadata": {
      "needs_background": "light"
     },
     "output_type": "display_data"
    }
   ],
   "source": [
    "# Plotting ROC curve with AUC score\n",
    "tfidfvec_gradboost_roc_auc = roc_auc_score(y_test, grid_tfidfvec_gradboost_5cv.predict(X_tfidfvec_test))\n",
    "fpr, tpr, thresholds = roc_curve(y_test, grid_tfidfvec_gradboost_5cv.predict_proba(X_tfidfvec_test)[:,1])\n",
    "\n",
    "plt.figure()\n",
    "plt.plot(fpr, tpr, label='Gradient Boosting Classifier (area = %0.2f)' % tfidfvec_gradboost_roc_auc)\n",
    "plt.plot([0, 1], [0, 1],'r--')\n",
    "plt.xlim([0.0, 1.0])\n",
    "plt.ylim([0.0, 1.05])\n",
    "plt.xlabel('False Positive Rate')\n",
    "plt.ylabel('True Positive Rate')\n",
    "plt.title('Receiver operating characteristic (tfidfvec/GradBoost)')\n",
    "plt.legend(loc=\"lower right\")\n",
    "plt.show()"
   ]
  },
  {
   "cell_type": "markdown",
   "id": "d0b2ee29",
   "metadata": {},
   "source": [
    "Of the three classifier models, it would appear that Random Forest (5-fold cross-validation with randomized search) has performed the best at around 82-83% accuracy on the test set. The performance of Logistic Regression (5-fold cross-validation with grid search) and Gradient Boosting (5-fold cross-validation with randomized search) were roughly the same at around 64-65%. With regards to word vectorization, neither approaches (Count Vectorization or TF-IDF Vectorization) provide a significant improvement over the other when it comes to model performance. In terms of cost, Logistic Regression was the least expensive of the three (even with the grid search) and the most expensive being the Gradient Boosting. Random Forest was moderately costly.\n",
    "\n",
    "Thus from our preliminary search, we could try developing a better model using Random Forest or try additional approaches like SVM or Naive Bayes first. "
   ]
  },
  {
   "cell_type": "code",
   "execution_count": 70,
   "id": "8fcd4ee9",
   "metadata": {},
   "outputs": [],
   "source": [
    "# Setting up pipeline with Naive Bayes Classifier\n",
    "pipe_countvec = Pipeline([('classifier', MultinomialNB())])\n",
    "pipe_tfidfvec = Pipeline([('classifier', MultinomialNB())])\n",
    "\n",
    "parameters = {'classifier__alpha': [0.00001, 0.0001, 0.001, 0.01, 0.1, 0.5, 1.0, 2.0]}\n",
    "\n",
    "grid_countvec_naivebayes_5cv = GridSearchCV(pipe_countvec, parameters, cv=5).fit(X_countvec, y)\n",
    "grid_tfidfvec_naivebayes_5cv = GridSearchCV(pipe_tfidfvec, parameters, cv=5).fit(X_tfidfvec, y)"
   ]
  },
  {
   "cell_type": "code",
   "execution_count": 71,
   "id": "4b02696c",
   "metadata": {},
   "outputs": [
    {
     "name": "stdout",
     "output_type": "stream",
     "text": [
      "Training set score (countvec/NaiveBayes): 97.80%\n",
      "Test set score (countvec/NaiveBayes): 60.65%\n",
      "---------------------------------\n",
      "Training set score (tfidfvec/NaiveBayes): 98.14%\n",
      "Test set score (tfidfvec/NaiveBayes): 61.54%\n"
     ]
    }
   ],
   "source": [
    "print('Training set score (countvec/NaiveBayes): {:.2%}'.format(grid_countvec_naivebayes_5cv.score(X_countvec, y)))\n",
    "print('Test set score (countvec/NaiveBayes): {:.2%}'.format(grid_countvec_naivebayes_5cv.score(X_countvec_test, y_test)))\n",
    "print('---------------------------------')\n",
    "print('Training set score (tfidfvec/NaiveBayes): {:.2%}'.format(grid_tfidfvec_naivebayes_5cv.score(X_tfidfvec, y)))\n",
    "print('Test set score (tfidfvec/NaiveBayes): {:.2%}'.format(grid_tfidfvec_naivebayes_5cv.score(X_tfidfvec_test, y_test)))"
   ]
  },
  {
   "cell_type": "code",
   "execution_count": 72,
   "id": "fca5bb9a",
   "metadata": {},
   "outputs": [
    {
     "name": "stdout",
     "output_type": "stream",
     "text": [
      "{'classifier__alpha': 0.001}\n",
      "{'classifier__alpha': 0.01}\n"
     ]
    }
   ],
   "source": [
    "# Access the best set of parameters (countvec/NaiveBayes)\n",
    "best_params_countvec_naivebayes = grid_countvec_naivebayes_5cv.best_params_\n",
    "print(best_params_countvec_naivebayes)\n",
    "\n",
    "# Access the best set of parameters (tfidfvec/NaiveBayes)\n",
    "best_params_tfidfvec_naivebayes = grid_tfidfvec_naivebayes_5cv.best_params_\n",
    "print(best_params_tfidfvec_naivebayes)"
   ]
  },
  {
   "cell_type": "code",
   "execution_count": 73,
   "id": "d80ee746",
   "metadata": {},
   "outputs": [
    {
     "name": "stdout",
     "output_type": "stream",
     "text": [
      "Confusion Matrix (countvec/NaiveBayes)\n",
      "[[1557  782]\n",
      " [1264 1597]]\n",
      "Classification Report (countvec/NaiveBayes)\n",
      "              precision    recall  f1-score   support\n",
      "\n",
      "           0       0.55      0.67      0.60      2339\n",
      "           1       0.67      0.56      0.61      2861\n",
      "\n",
      "    accuracy                           0.61      5200\n",
      "   macro avg       0.61      0.61      0.61      5200\n",
      "weighted avg       0.62      0.61      0.61      5200\n",
      "\n"
     ]
    }
   ],
   "source": [
    "cm_countvec_naivebayes = confusion_matrix(y_test, grid_countvec_naivebayes_5cv.predict(X_countvec_test))\n",
    "print(\"Confusion Matrix (countvec/NaiveBayes)\")\n",
    "print(cm_countvec_naivebayes)\n",
    "print(\"Classification Report (countvec/NaiveBayes)\")\n",
    "print(classification_report(y_test, grid_countvec_naivebayes_5cv.predict(X_countvec_test)))"
   ]
  },
  {
   "cell_type": "code",
   "execution_count": 74,
   "id": "e3feaa7e",
   "metadata": {},
   "outputs": [
    {
     "name": "stdout",
     "output_type": "stream",
     "text": [
      "Confusion Matrix (tfidfvec/NaiveBayes)\n",
      "[[1596  743]\n",
      " [1257 1604]]\n",
      "Classification Report (tfidfvec/NaiveBayes)\n",
      "              precision    recall  f1-score   support\n",
      "\n",
      "           0       0.56      0.68      0.61      2339\n",
      "           1       0.68      0.56      0.62      2861\n",
      "\n",
      "    accuracy                           0.62      5200\n",
      "   macro avg       0.62      0.62      0.62      5200\n",
      "weighted avg       0.63      0.62      0.62      5200\n",
      "\n"
     ]
    }
   ],
   "source": [
    "cm_tfidfvec_naivebayes = confusion_matrix(y_test, grid_tfidfvec_naivebayes_5cv.predict(X_tfidfvec_test))\n",
    "print(\"Confusion Matrix (tfidfvec/NaiveBayes)\")\n",
    "print(cm_tfidfvec_naivebayes)\n",
    "print(\"Classification Report (tfidfvec/NaiveBayes)\")\n",
    "print(classification_report(y_test, grid_tfidfvec_naivebayes_5cv.predict(X_tfidfvec_test)))"
   ]
  },
  {
   "cell_type": "code",
   "execution_count": 140,
   "id": "6e912082",
   "metadata": {},
   "outputs": [
    {
     "data": {
      "image/png": "[encoded data removed]",
      "text/plain": [
       "<Figure size 432x288 with 1 Axes>"
      ]
     },
     "metadata": {
      "needs_background": "light"
     },
     "output_type": "display_data"
    }
   ],
   "source": [
    "# Plotting ROC curve with AUC score\n",
    "countvec_naivebayes_roc_auc = roc_auc_score(y_test, grid_countvec_naivebayes_5cv.predict(X_countvec_test))\n",
    "fpr, tpr, thresholds = roc_curve(y_test, grid_countvec_naivebayes_5cv.predict_proba(X_countvec_test)[:,1])\n",
    "\n",
    "plt.figure()\n",
    "plt.plot(fpr, tpr, label=f'Naive Bayes Classifier (area = {countvec_naivebayes_roc_auc:.2})')\n",
    "plt.plot([0, 1], [0, 1],'r--')\n",
    "plt.xlim([0.0, 1.0])\n",
    "plt.ylim([0.0, 1.05])\n",
    "plt.xlabel('False Positive Rate')\n",
    "plt.ylabel('True Positive Rate')\n",
    "plt.title('Receiver operating characteristic (countvec/NaiveBayes)')\n",
    "plt.legend(loc=\"lower right\")\n",
    "plt.show()"
   ]
  },
  {
   "cell_type": "code",
   "execution_count": 83,
   "id": "2f39035c",
   "metadata": {},
   "outputs": [
    {
     "data": {
      "image/png": "[encoded data removed]",
      "text/plain": [
       "<Figure size 432x288 with 1 Axes>"
      ]
     },
     "metadata": {
      "needs_background": "light"
     },
     "output_type": "display_data"
    }
   ],
   "source": [
    "# Plotting ROC curve with AUC score\n",
    "tfidfvec_naivebayes_roc_auc = roc_auc_score(y_test, grid_tfidfvec_naivebayes_5cv.predict(X_tfidfvec_test))\n",
    "fpr, tpr, thresholds = roc_curve(y_test, grid_tfidfvec_naivebayes_5cv.predict_proba(X_tfidfvec_test)[:,1])\n",
    "\n",
    "plt.figure()\n",
    "plt.plot(fpr, tpr, label='Naive Bayes Classifier (area = %0.2f)' % tfidfvec_naivebayes_roc_auc)\n",
    "plt.plot([0, 1], [0, 1],'r--')\n",
    "plt.xlim([0.0, 1.0])\n",
    "plt.ylim([0.0, 1.05])\n",
    "plt.xlabel('False Positive Rate')\n",
    "plt.ylabel('True Positive Rate')\n",
    "plt.title('Receiver operating characteristic (tfidfvec/NaiveBayes)')\n",
    "plt.legend(loc=\"lower right\")\n",
    "plt.show()"
   ]
  },
  {
   "cell_type": "markdown",
   "id": "3d504c11",
   "metadata": {},
   "source": [
    "Naive Bayes was dirt cheap in terms of computation, but is slightly worse than Logistic Regression. As for SVM, it's very difficult to generate a quick classifier model. It's been pretty expensive, even more so than gradient boosting.\n",
    "\n",
    "From here, we'll try to see if we can improve upon our Random Forest Classifier by increasing our parameter space.\n",
    "\n",
    "From what we learn so far in the previous search, the best parameters has a high number of estimators (n_estimators = 450 or 500) with a max depth of 4 or 5. From there, we could test a higher number of estimators and max depth and measure their performance. If the improvement is not significant, we could start tightening our search space to find the optimal parameter space."
   ]
  },
  {
   "cell_type": "code",
   "execution_count": 85,
   "id": "a5a59007",
   "metadata": {},
   "outputs": [],
   "source": [
    "# Setting up pipeline with Random Forest Classifier\n",
    "pipe_countvec = Pipeline([('classifier', RandomForestClassifier())])\n",
    "pipe_tfidfvec = Pipeline([('classifier', RandomForestClassifier())])\n",
    "\n",
    "parameters = {'classifier__n_estimators': [350, 400, 450, 500, 550, 600, 650, 700],\n",
    "              'classifier__max_depth': [4, 5, 6, 7],\n",
    "              'classifier__max_features': ['sqrt','log2'],\n",
    "              'classifier__random_state': [42]}\n",
    "\n",
    "grid_countvec_randfor_5cv = RandomizedSearchCV(pipe_countvec, parameters, cv=5).fit(X_countvec, y)\n",
    "grid_tfidfvec_randfor_5cv = RandomizedSearchCV(pipe_tfidfvec, parameters, cv=5).fit(X_tfidfvec, y)"
   ]
  },
  {
   "cell_type": "code",
   "execution_count": 86,
   "id": "de214ddc",
   "metadata": {},
   "outputs": [
    {
     "name": "stdout",
     "output_type": "stream",
     "text": [
      "Training set score (countvec/RandFor): 83.33%\n",
      "Test set score (countvec/RandFor): 79.29%\n",
      "---------------------------------\n",
      "Training set score (tfidf/RandFor): 83.59%\n",
      "Test set score (tfidf/RandFor): 79.98%\n"
     ]
    }
   ],
   "source": [
    "print('Training set score (countvec/RandFor): {:.2%}'.format(grid_countvec_randfor_5cv.score(X_countvec, y)))\n",
    "print('Test set score (countvec/RandFor): {:.2%}'.format(grid_countvec_randfor_5cv.score(X_countvec_test, y_test)))\n",
    "print('---------------------------------')\n",
    "print('Training set score (tfidf/RandFor): {:.2%}'.format(grid_tfidfvec_randfor_5cv.score(X_tfidfvec, y)))\n",
    "print('Test set score (tfidf/RandFor): {:.2%}'.format(grid_tfidfvec_randfor_5cv.score(X_tfidfvec_test, y_test)))"
   ]
  },
  {
   "cell_type": "code",
   "execution_count": 87,
   "id": "ffdc3c65",
   "metadata": {},
   "outputs": [
    {
     "name": "stdout",
     "output_type": "stream",
     "text": [
      "{'classifier__random_state': 42, 'classifier__n_estimators': 700, 'classifier__max_features': 'sqrt', 'classifier__max_depth': 7}\n",
      "{'classifier__random_state': 42, 'classifier__n_estimators': 500, 'classifier__max_features': 'sqrt', 'classifier__max_depth': 6}\n"
     ]
    }
   ],
   "source": [
    "# Access the best set of parameters (countvec/RandFor)\n",
    "best_params_countvec_randfor = grid_countvec_randfor_5cv.best_params_\n",
    "print(best_params_countvec_randfor)\n",
    "\n",
    "# Access the best set of parameters (tfidfvec/RandFor)\n",
    "best_params_tfidfvec_randfor = grid_tfidfvec_randfor_5cv.best_params_\n",
    "print(best_params_tfidfvec_randfor)"
   ]
  },
  {
   "cell_type": "code",
   "execution_count": 88,
   "id": "327261f8",
   "metadata": {},
   "outputs": [
    {
     "name": "stdout",
     "output_type": "stream",
     "text": [
      "Confusion Matrix (countvec/RandFor)\n",
      "[[1924  415]\n",
      " [ 662 2199]]\n",
      "Classification Report (countvec/RandFor)\n",
      "              precision    recall  f1-score   support\n",
      "\n",
      "           0       0.74      0.82      0.78      2339\n",
      "           1       0.84      0.77      0.80      2861\n",
      "\n",
      "    accuracy                           0.79      5200\n",
      "   macro avg       0.79      0.80      0.79      5200\n",
      "weighted avg       0.80      0.79      0.79      5200\n",
      "\n"
     ]
    }
   ],
   "source": [
    "cm_countvec_randfor = confusion_matrix(y_test, grid_countvec_randfor_5cv.predict(X_countvec_test))\n",
    "print(\"Confusion Matrix (countvec/RandFor)\")\n",
    "print(cm_countvec_randfor)\n",
    "print(\"Classification Report (countvec/RandFor)\")\n",
    "print(classification_report(y_test, grid_countvec_randfor_5cv.predict(X_countvec_test)))"
   ]
  },
  {
   "cell_type": "code",
   "execution_count": 89,
   "id": "a44ecd54",
   "metadata": {},
   "outputs": [
    {
     "name": "stdout",
     "output_type": "stream",
     "text": [
      "Confusion Matrix (tfidfvec/RandFor)\n",
      "[[1951  388]\n",
      " [ 653 2208]]\n",
      "Classification Report (tfidfvec/RandFor)\n",
      "              precision    recall  f1-score   support\n",
      "\n",
      "           0       0.75      0.83      0.79      2339\n",
      "           1       0.85      0.77      0.81      2861\n",
      "\n",
      "    accuracy                           0.80      5200\n",
      "   macro avg       0.80      0.80      0.80      5200\n",
      "weighted avg       0.80      0.80      0.80      5200\n",
      "\n"
     ]
    }
   ],
   "source": [
    "cm_tfidfvec_randfor = confusion_matrix(y_test, grid_tfidfvec_randfor_5cv.predict(X_tfidfvec_test))\n",
    "print(\"Confusion Matrix (tfidfvec/RandFor)\")\n",
    "print(cm_tfidfvec_randfor)\n",
    "print(\"Classification Report (tfidfvec/RandFor)\")\n",
    "print(classification_report(y_test, grid_tfidfvec_randfor_5cv.predict(X_tfidfvec_test)))"
   ]
  },
  {
   "cell_type": "code",
   "execution_count": 90,
   "id": "4004cef9",
   "metadata": {},
   "outputs": [
    {
     "data": {
      "image/png": "[encoded data removed]",
      "text/plain": [
       "<Figure size 432x288 with 1 Axes>"
      ]
     },
     "metadata": {
      "needs_background": "light"
     },
     "output_type": "display_data"
    }
   ],
   "source": [
    "# Plotting ROC curve with AUC score\n",
    "countvec_randfor_roc_auc = roc_auc_score(y_test, grid_countvec_randfor_5cv.predict(X_countvec_test))\n",
    "fpr, tpr, thresholds = roc_curve(y_test, grid_countvec_randfor_5cv.predict_proba(X_countvec_test)[:,1])\n",
    "\n",
    "plt.figure()\n",
    "plt.plot(fpr, tpr, label='Random Forest Classifier (area = %0.2f)' % countvec_randfor_roc_auc)\n",
    "plt.plot([0, 1], [0, 1],'r--')\n",
    "plt.xlim([0.0, 1.0])\n",
    "plt.ylim([0.0, 1.05])\n",
    "plt.xlabel('False Positive Rate')\n",
    "plt.ylabel('True Positive Rate')\n",
    "plt.title('Receiver operating characteristic (countvec/RandFor)')\n",
    "plt.legend(loc=\"lower right\")\n",
    "plt.show()"
   ]
  },
  {
   "cell_type": "code",
   "execution_count": 93,
   "id": "7d576780",
   "metadata": {},
   "outputs": [
    {
     "data": {
      "image/png": "[encoded data removed]",
      "text/plain": [
       "<Figure size 432x288 with 1 Axes>"
      ]
     },
     "metadata": {
      "needs_background": "light"
     },
     "output_type": "display_data"
    }
   ],
   "source": [
    "# Plotting ROC curve with AUC score\n",
    "tfidfvec_randfor_roc_auc = roc_auc_score(y_test, grid_tfidfvec_randfor_5cv.predict(X_tfidfvec_test))\n",
    "fpr, tpr, thresholds = roc_curve(y_test, grid_tfidfvec_randfor_5cv.predict_proba(X_tfidfvec_test)[:,1])\n",
    "\n",
    "plt.figure()\n",
    "plt.plot(fpr, tpr, label='Random Forest Classifier (area = %0.2f)' % tfidfvec_randfor_roc_auc)\n",
    "plt.plot([0, 1], [0, 1],'r--')\n",
    "plt.xlim([0.0, 1.0])\n",
    "plt.ylim([0.0, 1.05])\n",
    "plt.xlabel('False Positive Rate')\n",
    "plt.ylabel('True Positive Rate')\n",
    "plt.title('Receiver operating characteristic (tfidfvec/RandFor)')\n",
    "plt.legend(loc=\"lower right\")\n",
    "plt.show()"
   ]
  },
  {
   "cell_type": "markdown",
   "id": "8be8abe8",
   "metadata": {},
   "source": [
    "From these results, it does not look like increasing the parameter space to more estimators or depth would improve the model. Thus, we will try to tighten our search space to see if we could get optimal parameters using a more rigorous grid search from 400 to 600 with max depth of 4 to 6.  "
   ]
  },
  {
   "cell_type": "code",
   "execution_count": 94,
   "id": "557155ef",
   "metadata": {},
   "outputs": [],
   "source": [
    "# Setting up pipeline with Random Forest Classifier\n",
    "pipe_countvec = Pipeline([('classifier', RandomForestClassifier())])\n",
    "pipe_tfidfvec = Pipeline([('classifier', RandomForestClassifier())])\n",
    "\n",
    "parameters = {'classifier__n_estimators': [400, 450, 500, 550, 600],\n",
    "              'classifier__max_depth': [4, 5, 6],\n",
    "              'classifier__max_features': ['sqrt'],\n",
    "              'classifier__random_state': [42]}\n",
    "\n",
    "grid_countvec_randfor_5cv = GridSearchCV(pipe_countvec, parameters, cv=5).fit(X_countvec, y)\n",
    "grid_tfidfvec_randfor_5cv = GridSearchCV(pipe_tfidfvec, parameters, cv=5).fit(X_tfidfvec, y)"
   ]
  },
  {
   "cell_type": "code",
   "execution_count": 95,
   "id": "78a3a2e1",
   "metadata": {},
   "outputs": [
    {
     "name": "stdout",
     "output_type": "stream",
     "text": [
      "Training set score (countvec/RandFor): 81.53%\n",
      "Test set score (countvec/RandFor): 80.60%\n",
      "---------------------------------\n",
      "Training set score (tfidf/RandFor): 83.59%\n",
      "Test set score (tfidf/RandFor): 79.98%\n"
     ]
    }
   ],
   "source": [
    "print('Training set score (countvec/RandFor): {:.2%}'.format(grid_countvec_randfor_5cv.score(X_countvec, y)))\n",
    "print('Test set score (countvec/RandFor): {:.2%}'.format(grid_countvec_randfor_5cv.score(X_countvec_test, y_test)))\n",
    "print('---------------------------------')\n",
    "print('Training set score (tfidf/RandFor): {:.2%}'.format(grid_tfidfvec_randfor_5cv.score(X_tfidfvec, y)))\n",
    "print('Test set score (tfidf/RandFor): {:.2%}'.format(grid_tfidfvec_randfor_5cv.score(X_tfidfvec_test, y_test)))"
   ]
  },
  {
   "cell_type": "code",
   "execution_count": 96,
   "id": "2ad21490",
   "metadata": {},
   "outputs": [
    {
     "name": "stdout",
     "output_type": "stream",
     "text": [
      "{'classifier__max_depth': 6, 'classifier__max_features': 'sqrt', 'classifier__n_estimators': 500, 'classifier__random_state': 42}\n",
      "{'classifier__max_depth': 6, 'classifier__max_features': 'sqrt', 'classifier__n_estimators': 500, 'classifier__random_state': 42}\n"
     ]
    }
   ],
   "source": [
    "# Access the best set of parameters (countvec/RandFor)\n",
    "best_params_countvec_randfor = grid_countvec_randfor_5cv.best_params_\n",
    "print(best_params_countvec_randfor)\n",
    "\n",
    "# Access the best set of parameters (tfidfvec/RandFor)\n",
    "best_params_tfidfvec_randfor = grid_tfidfvec_randfor_5cv.best_params_\n",
    "print(best_params_tfidfvec_randfor)"
   ]
  },
  {
   "cell_type": "code",
   "execution_count": 97,
   "id": "07a7e03a",
   "metadata": {},
   "outputs": [
    {
     "name": "stdout",
     "output_type": "stream",
     "text": [
      "Confusion Matrix (countvec/RandFor)\n",
      "[[1959  380]\n",
      " [ 629 2232]]\n",
      "Classification Report (countvec/RandFor)\n",
      "              precision    recall  f1-score   support\n",
      "\n",
      "           0       0.76      0.84      0.80      2339\n",
      "           1       0.85      0.78      0.82      2861\n",
      "\n",
      "    accuracy                           0.81      5200\n",
      "   macro avg       0.81      0.81      0.81      5200\n",
      "weighted avg       0.81      0.81      0.81      5200\n",
      "\n"
     ]
    }
   ],
   "source": [
    "cm_countvec_randfor = confusion_matrix(y_test, grid_countvec_randfor_5cv.predict(X_countvec_test))\n",
    "print(\"Confusion Matrix (countvec/RandFor)\")\n",
    "print(cm_countvec_randfor)\n",
    "print(\"Classification Report (countvec/RandFor)\")\n",
    "print(classification_report(y_test, grid_countvec_randfor_5cv.predict(X_countvec_test)))"
   ]
  },
  {
   "cell_type": "code",
   "execution_count": 98,
   "id": "7b2b7852",
   "metadata": {},
   "outputs": [
    {
     "name": "stdout",
     "output_type": "stream",
     "text": [
      "Confusion Matrix (tfidfvec/RandFor)\n",
      "[[1951  388]\n",
      " [ 653 2208]]\n",
      "Classification Report (tfidfvec/RandFor)\n",
      "              precision    recall  f1-score   support\n",
      "\n",
      "           0       0.75      0.83      0.79      2339\n",
      "           1       0.85      0.77      0.81      2861\n",
      "\n",
      "    accuracy                           0.80      5200\n",
      "   macro avg       0.80      0.80      0.80      5200\n",
      "weighted avg       0.80      0.80      0.80      5200\n",
      "\n"
     ]
    }
   ],
   "source": [
    "cm_tfidfvec_randfor = confusion_matrix(y_test, grid_tfidfvec_randfor_5cv.predict(X_tfidfvec_test))\n",
    "print(\"Confusion Matrix (tfidfvec/RandFor)\")\n",
    "print(cm_tfidfvec_randfor)\n",
    "print(\"Classification Report (tfidfvec/RandFor)\")\n",
    "print(classification_report(y_test, grid_tfidfvec_randfor_5cv.predict(X_tfidfvec_test)))"
   ]
  },
  {
   "cell_type": "code",
   "execution_count": 99,
   "id": "d3de9974",
   "metadata": {},
   "outputs": [
    {
     "data": {
      "image/png": "[encoded data removed]",
      "text/plain": [
       "<Figure size 432x288 with 1 Axes>"
      ]
     },
     "metadata": {
      "needs_background": "light"
     },
     "output_type": "display_data"
    }
   ],
   "source": [
    "# Plotting ROC curve with AUC score\n",
    "countvec_randfor_roc_auc = roc_auc_score(y_test, grid_countvec_randfor_5cv.predict(X_countvec_test))\n",
    "fpr, tpr, thresholds = roc_curve(y_test, grid_countvec_randfor_5cv.predict_proba(X_countvec_test)[:,1])\n",
    "\n",
    "plt.figure()\n",
    "plt.plot(fpr, tpr, label='Random Forest Classifier (area = %0.2f)' % countvec_randfor_roc_auc)\n",
    "plt.plot([0, 1], [0, 1],'r--')\n",
    "plt.xlim([0.0, 1.0])\n",
    "plt.ylim([0.0, 1.05])\n",
    "plt.xlabel('False Positive Rate')\n",
    "plt.ylabel('True Positive Rate')\n",
    "plt.title('Receiver operating characteristic (countvec/RandFor)')\n",
    "plt.legend(loc=\"lower right\")\n",
    "plt.show()"
   ]
  },
  {
   "cell_type": "code",
   "execution_count": 100,
   "id": "8bdeb655",
   "metadata": {},
   "outputs": [
    {
     "data": {
      "image/png": "[encoded data removed]",
      "text/plain": [
       "<Figure size 432x288 with 1 Axes>"
      ]
     },
     "metadata": {
      "needs_background": "light"
     },
     "output_type": "display_data"
    }
   ],
   "source": [
    "# Plotting ROC curve with AUC score\n",
    "tfidfvec_randfor_roc_auc = roc_auc_score(y_test, grid_tfidfvec_randfor_5cv.predict(X_tfidfvec_test))\n",
    "fpr, tpr, thresholds = roc_curve(y_test, grid_tfidfvec_randfor_5cv.predict_proba(X_tfidfvec_test)[:,1])\n",
    "\n",
    "plt.figure()\n",
    "plt.plot(fpr, tpr, label='Random Forest Classifier (area = %0.2f)' % tfidfvec_randfor_roc_auc)\n",
    "plt.plot([0, 1], [0, 1],'r--')\n",
    "plt.xlim([0.0, 1.0])\n",
    "plt.ylim([0.0, 1.05])\n",
    "plt.xlabel('False Positive Rate')\n",
    "plt.ylabel('True Positive Rate')\n",
    "plt.title('Receiver operating characteristic (tfidfvec/RandFor)')\n",
    "plt.legend(loc=\"lower right\")\n",
    "plt.show()"
   ]
  },
  {
   "cell_type": "code",
   "execution_count": 105,
   "id": "b9f24be3",
   "metadata": {},
   "outputs": [
    {
     "data": {
      "text/html": [
       "<div>\n",
       "<style scoped>\n",
       "    .dataframe tbody tr th:only-of-type {\n",
       "        vertical-align: middle;\n",
       "    }\n",
       "\n",
       "    .dataframe tbody tr th {\n",
       "        vertical-align: top;\n",
       "    }\n",
       "\n",
       "    .dataframe thead th {\n",
       "        text-align: right;\n",
       "    }\n",
       "</style>\n",
       "<table border=\"1\" class=\"dataframe\">\n",
       "  <thead>\n",
       "    <tr style=\"text-align: right;\">\n",
       "      <th></th>\n",
       "      <th>mean_fit_time</th>\n",
       "      <th>std_fit_time</th>\n",
       "      <th>mean_score_time</th>\n",
       "      <th>std_score_time</th>\n",
       "      <th>param_classifier__max_depth</th>\n",
       "      <th>param_classifier__max_features</th>\n",
       "      <th>param_classifier__n_estimators</th>\n",
       "      <th>param_classifier__random_state</th>\n",
       "      <th>params</th>\n",
       "      <th>split0_test_score</th>\n",
       "      <th>split1_test_score</th>\n",
       "      <th>split2_test_score</th>\n",
       "      <th>split3_test_score</th>\n",
       "      <th>split4_test_score</th>\n",
       "      <th>mean_test_score</th>\n",
       "      <th>std_test_score</th>\n",
       "      <th>rank_test_score</th>\n",
       "    </tr>\n",
       "  </thead>\n",
       "  <tbody>\n",
       "    <tr>\n",
       "      <th>12</th>\n",
       "      <td>18.161855</td>\n",
       "      <td>0.173274</td>\n",
       "      <td>4.507288</td>\n",
       "      <td>0.048804</td>\n",
       "      <td>6</td>\n",
       "      <td>sqrt</td>\n",
       "      <td>500</td>\n",
       "      <td>42</td>\n",
       "      <td>{'classifier__max_depth': 6, 'classifier__max_...</td>\n",
       "      <td>0.764904</td>\n",
       "      <td>0.793750</td>\n",
       "      <td>0.799038</td>\n",
       "      <td>0.806250</td>\n",
       "      <td>0.806971</td>\n",
       "      <td>0.794183</td>\n",
       "      <td>0.015428</td>\n",
       "      <td>1</td>\n",
       "    </tr>\n",
       "    <tr>\n",
       "      <th>11</th>\n",
       "      <td>16.359694</td>\n",
       "      <td>0.259654</td>\n",
       "      <td>4.041697</td>\n",
       "      <td>0.063492</td>\n",
       "      <td>6</td>\n",
       "      <td>sqrt</td>\n",
       "      <td>450</td>\n",
       "      <td>42</td>\n",
       "      <td>{'classifier__max_depth': 6, 'classifier__max_...</td>\n",
       "      <td>0.768029</td>\n",
       "      <td>0.792548</td>\n",
       "      <td>0.797596</td>\n",
       "      <td>0.804808</td>\n",
       "      <td>0.805529</td>\n",
       "      <td>0.793702</td>\n",
       "      <td>0.013703</td>\n",
       "      <td>2</td>\n",
       "    </tr>\n",
       "    <tr>\n",
       "      <th>13</th>\n",
       "      <td>19.539592</td>\n",
       "      <td>1.882555</td>\n",
       "      <td>4.665892</td>\n",
       "      <td>0.288307</td>\n",
       "      <td>6</td>\n",
       "      <td>sqrt</td>\n",
       "      <td>550</td>\n",
       "      <td>42</td>\n",
       "      <td>{'classifier__max_depth': 6, 'classifier__max_...</td>\n",
       "      <td>0.767308</td>\n",
       "      <td>0.793269</td>\n",
       "      <td>0.798077</td>\n",
       "      <td>0.804808</td>\n",
       "      <td>0.802404</td>\n",
       "      <td>0.793173</td>\n",
       "      <td>0.013518</td>\n",
       "      <td>3</td>\n",
       "    </tr>\n",
       "    <tr>\n",
       "      <th>10</th>\n",
       "      <td>14.599555</td>\n",
       "      <td>0.275660</td>\n",
       "      <td>3.587554</td>\n",
       "      <td>0.013945</td>\n",
       "      <td>6</td>\n",
       "      <td>sqrt</td>\n",
       "      <td>400</td>\n",
       "      <td>42</td>\n",
       "      <td>{'classifier__max_depth': 6, 'classifier__max_...</td>\n",
       "      <td>0.768510</td>\n",
       "      <td>0.792067</td>\n",
       "      <td>0.793269</td>\n",
       "      <td>0.805769</td>\n",
       "      <td>0.804087</td>\n",
       "      <td>0.792740</td>\n",
       "      <td>0.013314</td>\n",
       "      <td>4</td>\n",
       "    </tr>\n",
       "    <tr>\n",
       "      <th>14</th>\n",
       "      <td>20.339939</td>\n",
       "      <td>0.282781</td>\n",
       "      <td>5.009243</td>\n",
       "      <td>0.030535</td>\n",
       "      <td>6</td>\n",
       "      <td>sqrt</td>\n",
       "      <td>600</td>\n",
       "      <td>42</td>\n",
       "      <td>{'classifier__max_depth': 6, 'classifier__max_...</td>\n",
       "      <td>0.764663</td>\n",
       "      <td>0.792308</td>\n",
       "      <td>0.796394</td>\n",
       "      <td>0.801442</td>\n",
       "      <td>0.801683</td>\n",
       "      <td>0.791298</td>\n",
       "      <td>0.013763</td>\n",
       "      <td>5</td>\n",
       "    </tr>\n",
       "  </tbody>\n",
       "</table>\n",
       "</div>"
      ],
      "text/plain": [
       "    mean_fit_time  std_fit_time  mean_score_time  std_score_time  \\\n",
       "12      18.161855      0.173274         4.507288        0.048804   \n",
       "11      16.359694      0.259654         4.041697        0.063492   \n",
       "13      19.539592      1.882555         4.665892        0.288307   \n",
       "10      14.599555      0.275660         3.587554        0.013945   \n",
       "14      20.339939      0.282781         5.009243        0.030535   \n",
       "\n",
       "   param_classifier__max_depth param_classifier__max_features  \\\n",
       "12                           6                           sqrt   \n",
       "11                           6                           sqrt   \n",
       "13                           6                           sqrt   \n",
       "10                           6                           sqrt   \n",
       "14                           6                           sqrt   \n",
       "\n",
       "   param_classifier__n_estimators param_classifier__random_state  \\\n",
       "12                            500                             42   \n",
       "11                            450                             42   \n",
       "13                            550                             42   \n",
       "10                            400                             42   \n",
       "14                            600                             42   \n",
       "\n",
       "                                               params  split0_test_score  \\\n",
       "12  {'classifier__max_depth': 6, 'classifier__max_...           0.764904   \n",
       "11  {'classifier__max_depth': 6, 'classifier__max_...           0.768029   \n",
       "13  {'classifier__max_depth': 6, 'classifier__max_...           0.767308   \n",
       "10  {'classifier__max_depth': 6, 'classifier__max_...           0.768510   \n",
       "14  {'classifier__max_depth': 6, 'classifier__max_...           0.764663   \n",
       "\n",
       "    split1_test_score  split2_test_score  split3_test_score  \\\n",
       "12           0.793750           0.799038           0.806250   \n",
       "11           0.792548           0.797596           0.804808   \n",
       "13           0.793269           0.798077           0.804808   \n",
       "10           0.792067           0.793269           0.805769   \n",
       "14           0.792308           0.796394           0.801442   \n",
       "\n",
       "    split4_test_score  mean_test_score  std_test_score  rank_test_score  \n",
       "12           0.806971         0.794183        0.015428                1  \n",
       "11           0.805529         0.793702        0.013703                2  \n",
       "13           0.802404         0.793173        0.013518                3  \n",
       "10           0.804087         0.792740        0.013314                4  \n",
       "14           0.801683         0.791298        0.013763                5  "
      ]
     },
     "execution_count": 105,
     "metadata": {},
     "output_type": "execute_result"
    }
   ],
   "source": [
    "cv_results_randfor = pd.DataFrame(grid_countvec_randfor_5cv.cv_results_).sort_values('rank_test_score')\n",
    "cv_results_randfor.head()"
   ]
  },
  {
   "cell_type": "code",
   "execution_count": 122,
   "id": "61b2a1ce",
   "metadata": {},
   "outputs": [
    {
     "data": {
      "image/png": "[encoded data removed]",
      "text/plain": [
       "<Figure size 432x288 with 1 Axes>"
      ]
     },
     "metadata": {
      "needs_background": "light"
     },
     "output_type": "display_data"
    }
   ],
   "source": [
    "sns.lineplot(x='param_classifier__n_estimators',\n",
    "             y='mean_test_score', \n",
    "             hue='param_classifier__max_depth', \n",
    "             data=cv_results_randfor,\n",
    "             marker='o')\n",
    "plt.legend(bbox_to_anchor=(1.05, 1), loc=2, borderaxespad=0.)\n",
    "plt.show()"
   ]
  },
  {
   "cell_type": "markdown",
   "id": "3d728b4e",
   "metadata": {},
   "source": [
    "The results during this re-run of Random Forest is consistent with the previous two randomized cross-validation runs with the test results hover around 80%. From our stored cross-validation results in the third run, it's becoming clear that we've hit a sweet spot, at least with regards to the number of estimators with n_estimators at 500 provide the best results overall at every depth.\n",
    "\n",
    "However, there seems to be a trade off between training scores and testing scores, higher training score would lead to lower testing score and vice versa. Nevertheless, we'll do one more cross-validation run, this time fixing the number of estimators to 500 and varying the tree's max depth."
   ]
  },
  {
   "cell_type": "code",
   "execution_count": 123,
   "id": "503108b8",
   "metadata": {},
   "outputs": [],
   "source": [
    "# Setting up pipeline with Random Forest Classifier\n",
    "pipe_countvec = Pipeline([('classifier', RandomForestClassifier())])\n",
    "pipe_tfidfvec = Pipeline([('classifier', RandomForestClassifier())])\n",
    "\n",
    "parameters = {'classifier__n_estimators': [500],\n",
    "              'classifier__max_depth': [4, 5, 6, 7, 8, 9, 10],\n",
    "              'classifier__max_features': ['sqrt'],\n",
    "              'classifier__random_state': [42]}\n",
    "\n",
    "grid_countvec_randfor_5cv = GridSearchCV(pipe_countvec, parameters, cv=5).fit(X_countvec, y)\n",
    "grid_tfidfvec_randfor_5cv = GridSearchCV(pipe_tfidfvec, parameters, cv=5).fit(X_tfidfvec, y)"
   ]
  },
  {
   "cell_type": "code",
   "execution_count": 124,
   "id": "67308d08",
   "metadata": {},
   "outputs": [
    {
     "name": "stdout",
     "output_type": "stream",
     "text": [
      "Training set score (countvec/RandFor): 88.58%\n",
      "Test set score (countvec/RandFor): 75.65%\n",
      "---------------------------------\n",
      "Training set score (tfidf/RandFor): 90.87%\n",
      "Test set score (tfidf/RandFor): 75.12%\n"
     ]
    }
   ],
   "source": [
    "print('Training set score (countvec/RandFor): {:.2%}'.format(grid_countvec_randfor_5cv.score(X_countvec, y)))\n",
    "print('Test set score (countvec/RandFor): {:.2%}'.format(grid_countvec_randfor_5cv.score(X_countvec_test, y_test)))\n",
    "print('---------------------------------')\n",
    "print('Training set score (tfidf/RandFor): {:.2%}'.format(grid_tfidfvec_randfor_5cv.score(X_tfidfvec, y)))\n",
    "print('Test set score (tfidf/RandFor): {:.2%}'.format(grid_tfidfvec_randfor_5cv.score(X_tfidfvec_test, y_test)))"
   ]
  },
  {
   "cell_type": "code",
   "execution_count": 125,
   "id": "f4ca47b8",
   "metadata": {},
   "outputs": [
    {
     "name": "stdout",
     "output_type": "stream",
     "text": [
      "{'classifier__max_depth': 10, 'classifier__max_features': 'sqrt', 'classifier__n_estimators': 500, 'classifier__random_state': 42}\n",
      "{'classifier__max_depth': 10, 'classifier__max_features': 'sqrt', 'classifier__n_estimators': 500, 'classifier__random_state': 42}\n"
     ]
    }
   ],
   "source": [
    "# Access the best set of parameters (countvec/RandFor)\n",
    "best_params_countvec_randfor = grid_countvec_randfor_5cv.best_params_\n",
    "print(best_params_countvec_randfor)\n",
    "\n",
    "# Access the best set of parameters (tfidfvec/RandFor)\n",
    "best_params_tfidfvec_randfor = grid_tfidfvec_randfor_5cv.best_params_\n",
    "print(best_params_tfidfvec_randfor)"
   ]
  },
  {
   "cell_type": "code",
   "execution_count": 126,
   "id": "7d22945d",
   "metadata": {},
   "outputs": [
    {
     "name": "stdout",
     "output_type": "stream",
     "text": [
      "Confusion Matrix (countvec/RandFor)\n",
      "[[1826  513]\n",
      " [ 753 2108]]\n",
      "Classification Report (countvec/RandFor)\n",
      "              precision    recall  f1-score   support\n",
      "\n",
      "           0       0.71      0.78      0.74      2339\n",
      "           1       0.80      0.74      0.77      2861\n",
      "\n",
      "    accuracy                           0.76      5200\n",
      "   macro avg       0.76      0.76      0.76      5200\n",
      "weighted avg       0.76      0.76      0.76      5200\n",
      "\n"
     ]
    }
   ],
   "source": [
    "cm_countvec_randfor = confusion_matrix(y_test, grid_countvec_randfor_5cv.predict(X_countvec_test))\n",
    "print(\"Confusion Matrix (countvec/RandFor)\")\n",
    "print(cm_countvec_randfor)\n",
    "print(\"Classification Report (countvec/RandFor)\")\n",
    "print(classification_report(y_test, grid_countvec_randfor_5cv.predict(X_countvec_test)))"
   ]
  },
  {
   "cell_type": "code",
   "execution_count": 127,
   "id": "3f9b6efd",
   "metadata": {},
   "outputs": [
    {
     "name": "stdout",
     "output_type": "stream",
     "text": [
      "Confusion Matrix (tfidfvec/RandFor)\n",
      "[[1832  507]\n",
      " [ 787 2074]]\n",
      "Classification Report (tfidfvec/RandFor)\n",
      "              precision    recall  f1-score   support\n",
      "\n",
      "           0       0.70      0.78      0.74      2339\n",
      "           1       0.80      0.72      0.76      2861\n",
      "\n",
      "    accuracy                           0.75      5200\n",
      "   macro avg       0.75      0.75      0.75      5200\n",
      "weighted avg       0.76      0.75      0.75      5200\n",
      "\n"
     ]
    }
   ],
   "source": [
    "cm_tfidfvec_randfor = confusion_matrix(y_test, grid_tfidfvec_randfor_5cv.predict(X_tfidfvec_test))\n",
    "print(\"Confusion Matrix (tfidfvec/RandFor)\")\n",
    "print(cm_tfidfvec_randfor)\n",
    "print(\"Classification Report (tfidfvec/RandFor)\")\n",
    "print(classification_report(y_test, grid_tfidfvec_randfor_5cv.predict(X_tfidfvec_test)))"
   ]
  },
  {
   "cell_type": "code",
   "execution_count": 128,
   "id": "5f75585e",
   "metadata": {},
   "outputs": [
    {
     "data": {
      "image/png": "[encoded data removed]",
      "text/plain": [
       "<Figure size 432x288 with 1 Axes>"
      ]
     },
     "metadata": {
      "needs_background": "light"
     },
     "output_type": "display_data"
    }
   ],
   "source": [
    "# Plotting ROC curve with AUC score\n",
    "countvec_randfor_roc_auc = roc_auc_score(y_test, grid_countvec_randfor_5cv.predict(X_countvec_test))\n",
    "fpr, tpr, thresholds = roc_curve(y_test, grid_countvec_randfor_5cv.predict_proba(X_countvec_test)[:,1])\n",
    "\n",
    "plt.figure()\n",
    "plt.plot(fpr, tpr, label='Random Forest Classifier (area = %0.2f)' % countvec_randfor_roc_auc)\n",
    "plt.plot([0, 1], [0, 1],'r--')\n",
    "plt.xlim([0.0, 1.0])\n",
    "plt.ylim([0.0, 1.05])\n",
    "plt.xlabel('False Positive Rate')\n",
    "plt.ylabel('True Positive Rate')\n",
    "plt.title('Receiver operating characteristic (countvec/RandFor)')\n",
    "plt.legend(loc=\"lower right\")\n",
    "plt.show()"
   ]
  },
  {
   "cell_type": "code",
   "execution_count": 129,
   "id": "1d7f52c0",
   "metadata": {},
   "outputs": [
    {
     "data": {
      "image/png": "[encoded data removed]",
      "text/plain": [
       "<Figure size 432x288 with 1 Axes>"
      ]
     },
     "metadata": {
      "needs_background": "light"
     },
     "output_type": "display_data"
    }
   ],
   "source": [
    "# Plotting ROC curve with AUC score\n",
    "tfidfvec_randfor_roc_auc = roc_auc_score(y_test, grid_tfidfvec_randfor_5cv.predict(X_tfidfvec_test))\n",
    "fpr, tpr, thresholds = roc_curve(y_test, grid_tfidfvec_randfor_5cv.predict_proba(X_tfidfvec_test)[:,1])\n",
    "\n",
    "plt.figure()\n",
    "plt.plot(fpr, tpr, label='Random Forest Classifier (area = %0.2f)' % tfidfvec_randfor_roc_auc)\n",
    "plt.plot([0, 1], [0, 1],'r--')\n",
    "plt.xlim([0.0, 1.0])\n",
    "plt.ylim([0.0, 1.05])\n",
    "plt.xlabel('False Positive Rate')\n",
    "plt.ylabel('True Positive Rate')\n",
    "plt.title('Receiver operating characteristic (tfidfvec/RandFor)')\n",
    "plt.legend(loc=\"lower right\")\n",
    "plt.show()"
   ]
  },
  {
   "cell_type": "code",
   "execution_count": 130,
   "id": "1e811c1a",
   "metadata": {},
   "outputs": [
    {
     "data": {
      "text/html": [
       "<div>\n",
       "<style scoped>\n",
       "    .dataframe tbody tr th:only-of-type {\n",
       "        vertical-align: middle;\n",
       "    }\n",
       "\n",
       "    .dataframe tbody tr th {\n",
       "        vertical-align: top;\n",
       "    }\n",
       "\n",
       "    .dataframe thead th {\n",
       "        text-align: right;\n",
       "    }\n",
       "</style>\n",
       "<table border=\"1\" class=\"dataframe\">\n",
       "  <thead>\n",
       "    <tr style=\"text-align: right;\">\n",
       "      <th></th>\n",
       "      <th>mean_fit_time</th>\n",
       "      <th>std_fit_time</th>\n",
       "      <th>mean_score_time</th>\n",
       "      <th>std_score_time</th>\n",
       "      <th>param_classifier__max_depth</th>\n",
       "      <th>param_classifier__max_features</th>\n",
       "      <th>param_classifier__n_estimators</th>\n",
       "      <th>param_classifier__random_state</th>\n",
       "      <th>params</th>\n",
       "      <th>split0_test_score</th>\n",
       "      <th>split1_test_score</th>\n",
       "      <th>split2_test_score</th>\n",
       "      <th>split3_test_score</th>\n",
       "      <th>split4_test_score</th>\n",
       "      <th>mean_test_score</th>\n",
       "      <th>std_test_score</th>\n",
       "      <th>rank_test_score</th>\n",
       "    </tr>\n",
       "  </thead>\n",
       "  <tbody>\n",
       "    <tr>\n",
       "      <th>6</th>\n",
       "      <td>34.104074</td>\n",
       "      <td>0.933512</td>\n",
       "      <td>4.397730</td>\n",
       "      <td>0.305912</td>\n",
       "      <td>10</td>\n",
       "      <td>sqrt</td>\n",
       "      <td>500</td>\n",
       "      <td>42</td>\n",
       "      <td>{'classifier__max_depth': 10, 'classifier__max...</td>\n",
       "      <td>0.824038</td>\n",
       "      <td>0.841827</td>\n",
       "      <td>0.852644</td>\n",
       "      <td>0.851442</td>\n",
       "      <td>0.849519</td>\n",
       "      <td>0.843894</td>\n",
       "      <td>0.010618</td>\n",
       "      <td>1</td>\n",
       "    </tr>\n",
       "    <tr>\n",
       "      <th>5</th>\n",
       "      <td>28.023992</td>\n",
       "      <td>0.835833</td>\n",
       "      <td>4.118231</td>\n",
       "      <td>0.069441</td>\n",
       "      <td>9</td>\n",
       "      <td>sqrt</td>\n",
       "      <td>500</td>\n",
       "      <td>42</td>\n",
       "      <td>{'classifier__max_depth': 9, 'classifier__max_...</td>\n",
       "      <td>0.810577</td>\n",
       "      <td>0.832692</td>\n",
       "      <td>0.840144</td>\n",
       "      <td>0.842308</td>\n",
       "      <td>0.841106</td>\n",
       "      <td>0.833365</td>\n",
       "      <td>0.011879</td>\n",
       "      <td>2</td>\n",
       "    </tr>\n",
       "    <tr>\n",
       "      <th>4</th>\n",
       "      <td>24.253293</td>\n",
       "      <td>0.594059</td>\n",
       "      <td>4.166182</td>\n",
       "      <td>0.049428</td>\n",
       "      <td>8</td>\n",
       "      <td>sqrt</td>\n",
       "      <td>500</td>\n",
       "      <td>42</td>\n",
       "      <td>{'classifier__max_depth': 8, 'classifier__max_...</td>\n",
       "      <td>0.801442</td>\n",
       "      <td>0.816346</td>\n",
       "      <td>0.824760</td>\n",
       "      <td>0.835096</td>\n",
       "      <td>0.825000</td>\n",
       "      <td>0.820529</td>\n",
       "      <td>0.011242</td>\n",
       "      <td>3</td>\n",
       "    </tr>\n",
       "    <tr>\n",
       "      <th>3</th>\n",
       "      <td>21.187443</td>\n",
       "      <td>0.482705</td>\n",
       "      <td>4.343785</td>\n",
       "      <td>0.089766</td>\n",
       "      <td>7</td>\n",
       "      <td>sqrt</td>\n",
       "      <td>500</td>\n",
       "      <td>42</td>\n",
       "      <td>{'classifier__max_depth': 7, 'classifier__max_...</td>\n",
       "      <td>0.785096</td>\n",
       "      <td>0.805288</td>\n",
       "      <td>0.807452</td>\n",
       "      <td>0.817548</td>\n",
       "      <td>0.814663</td>\n",
       "      <td>0.806010</td>\n",
       "      <td>0.011384</td>\n",
       "      <td>4</td>\n",
       "    </tr>\n",
       "    <tr>\n",
       "      <th>2</th>\n",
       "      <td>17.521024</td>\n",
       "      <td>0.259852</td>\n",
       "      <td>4.241123</td>\n",
       "      <td>0.036411</td>\n",
       "      <td>6</td>\n",
       "      <td>sqrt</td>\n",
       "      <td>500</td>\n",
       "      <td>42</td>\n",
       "      <td>{'classifier__max_depth': 6, 'classifier__max_...</td>\n",
       "      <td>0.764904</td>\n",
       "      <td>0.793750</td>\n",
       "      <td>0.799038</td>\n",
       "      <td>0.806250</td>\n",
       "      <td>0.806971</td>\n",
       "      <td>0.794183</td>\n",
       "      <td>0.015428</td>\n",
       "      <td>5</td>\n",
       "    </tr>\n",
       "  </tbody>\n",
       "</table>\n",
       "</div>"
      ],
      "text/plain": [
       "   mean_fit_time  std_fit_time  mean_score_time  std_score_time  \\\n",
       "6      34.104074      0.933512         4.397730        0.305912   \n",
       "5      28.023992      0.835833         4.118231        0.069441   \n",
       "4      24.253293      0.594059         4.166182        0.049428   \n",
       "3      21.187443      0.482705         4.343785        0.089766   \n",
       "2      17.521024      0.259852         4.241123        0.036411   \n",
       "\n",
       "  param_classifier__max_depth param_classifier__max_features  \\\n",
       "6                          10                           sqrt   \n",
       "5                           9                           sqrt   \n",
       "4                           8                           sqrt   \n",
       "3                           7                           sqrt   \n",
       "2                           6                           sqrt   \n",
       "\n",
       "  param_classifier__n_estimators param_classifier__random_state  \\\n",
       "6                            500                             42   \n",
       "5                            500                             42   \n",
       "4                            500                             42   \n",
       "3                            500                             42   \n",
       "2                            500                             42   \n",
       "\n",
       "                                              params  split0_test_score  \\\n",
       "6  {'classifier__max_depth': 10, 'classifier__max...           0.824038   \n",
       "5  {'classifier__max_depth': 9, 'classifier__max_...           0.810577   \n",
       "4  {'classifier__max_depth': 8, 'classifier__max_...           0.801442   \n",
       "3  {'classifier__max_depth': 7, 'classifier__max_...           0.785096   \n",
       "2  {'classifier__max_depth': 6, 'classifier__max_...           0.764904   \n",
       "\n",
       "   split1_test_score  split2_test_score  split3_test_score  split4_test_score  \\\n",
       "6           0.841827           0.852644           0.851442           0.849519   \n",
       "5           0.832692           0.840144           0.842308           0.841106   \n",
       "4           0.816346           0.824760           0.835096           0.825000   \n",
       "3           0.805288           0.807452           0.817548           0.814663   \n",
       "2           0.793750           0.799038           0.806250           0.806971   \n",
       "\n",
       "   mean_test_score  std_test_score  rank_test_score  \n",
       "6         0.843894        0.010618                1  \n",
       "5         0.833365        0.011879                2  \n",
       "4         0.820529        0.011242                3  \n",
       "3         0.806010        0.011384                4  \n",
       "2         0.794183        0.015428                5  "
      ]
     },
     "execution_count": 130,
     "metadata": {},
     "output_type": "execute_result"
    }
   ],
   "source": [
    "cv_results_randfor = pd.DataFrame(grid_countvec_randfor_5cv.cv_results_).sort_values('rank_test_score')\n",
    "cv_results_randfor.head()"
   ]
  },
  {
   "cell_type": "code",
   "execution_count": 132,
   "id": "c3b40d04",
   "metadata": {},
   "outputs": [
    {
     "data": {
      "image/png": "[encoded data removed]",
      "text/plain": [
       "<Figure size 432x288 with 1 Axes>"
      ]
     },
     "metadata": {
      "needs_background": "light"
     },
     "output_type": "display_data"
    }
   ],
   "source": [
    "sns.lineplot(x='param_classifier__max_depth',\n",
    "             y='mean_test_score', \n",
    "             data=cv_results_randfor,\n",
    "             marker='o')\n",
    "plt.show()"
   ]
  },
  {
   "cell_type": "markdown",
   "id": "eddd6174",
   "metadata": {},
   "source": [
    "From these results, we can certainly see that increasing max depth will improve our cross-validation scores for our training set. However, the trade offs we mentioned earlier between training scores and test scores are now very apparent as the test scores dropped below 80% to around 75% while the training scores increased towards 90%.\n",
    "\n",
    "This mis-match is characteristic of overfitting, where the algorithm improves upon the training data, but doesn't generalize towards the test set. Therefore, we can speculate that the optimal set of parameters for this data set would be 450 to 500 estimators and a max depth of 4 to 5. We could build each one of these models individually and check while model performs the best.\n",
    "\n",
    "Given neither vectorization approaches perform better than the other, we'll just stick to Count Vectorization moving forward."
   ]
  }
 ],
 "metadata": {
  "kernelspec": {
   "display_name": "Python 3 (ipykernel)",
   "language": "python",
   "name": "python3"
  },
  "language_info": {
   "codemirror_mode": {
    "name": "ipython",
    "version": 3
   },
   "file_extension": ".py",
   "mimetype": "text/x-python",
   "name": "python",
   "nbconvert_exporter": "python",
   "pygments_lexer": "ipython3",
   "version": "3.7.7"
  }
 },
 "nbformat": 4,
 "nbformat_minor": 5
}
