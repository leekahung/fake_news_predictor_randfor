{
 "cells": [
  {
   "cell_type": "markdown",
   "id": "8eed14ad",
   "metadata": {},
   "source": [
    "For this exercise, I plan on developing a predictive model that could identify \"fake news\" from new sources. The data set I've used specifically for this exercise comes from <a href='https://www.kaggle.com/c/fake-news/data'>Kaggle</a>.\n",
    "\n",
    "In layman's term, \"fake news\" is news which contents are consider 'fake' or 'false'. Typically, you would need a sophisticated system of checks and source validations to verify whether or not such contents are 'true' or 'false'. For our purposes, we would assume that our labels are expertly reviewed and reliable.\n",
    "\n",
    "For this data set, we're limited to 5 columns:\n",
    "- id: the unique numeric identifier for the news\n",
    "- title: the name of the news\n",
    "- author: the entity that wrote the news\n",
    "- text: the actual content of the story\n",
    "- label: an identifier that labels whether or not the news source is reliable (0) or unreliable (1).\n",
    "\n",
    "Labels aside, there are three features of interest: the title, the author, and the text. Before we go any further into the story's contents, it'll be interesting to see how a news' author would be linked to 'fake news'. For example, an author who might prides themselves in writing true verifiable news articles are less likely to write 'fake news'. "
   ]
  },
  {
   "cell_type": "code",
   "execution_count": 1,
   "id": "ca0976c3",
   "metadata": {},
   "outputs": [],
   "source": [
    "# Import dependencies\n",
    "import pandas as pd\n",
    "import numpy as np\n",
    "import os\n",
    "import matplotlib.pyplot as plt"
   ]
  },
  {
   "cell_type": "code",
   "execution_count": 2,
   "id": "0916f6a6",
   "metadata": {},
   "outputs": [],
   "source": [
    "# Building local path to data file\n",
    "work_dir = os.getcwd()\n",
    "main_dir = os.path.dirname(work_dir)\n",
    "data_files_dir = os.path.join(main_dir, 'data_files')\n",
    "data_file = os.path.join(data_files_dir, 'train.csv')\n",
    "\n",
    "# Loading data file (\"train.csv\") as DataFrame\n",
    "df = pd.read_csv(data_file)"
   ]
  },
  {
   "cell_type": "code",
   "execution_count": 3,
   "id": "3e2b1726",
   "metadata": {},
   "outputs": [
    {
     "data": {
      "text/html": [
       "<div>\n",
       "<style scoped>\n",
       "    .dataframe tbody tr th:only-of-type {\n",
       "        vertical-align: middle;\n",
       "    }\n",
       "\n",
       "    .dataframe tbody tr th {\n",
       "        vertical-align: top;\n",
       "    }\n",
       "\n",
       "    .dataframe thead th {\n",
       "        text-align: right;\n",
       "    }\n",
       "</style>\n",
       "<table border=\"1\" class=\"dataframe\">\n",
       "  <thead>\n",
       "    <tr style=\"text-align: right;\">\n",
       "      <th></th>\n",
       "      <th>id</th>\n",
       "      <th>title</th>\n",
       "      <th>author</th>\n",
       "      <th>text</th>\n",
       "      <th>label</th>\n",
       "    </tr>\n",
       "  </thead>\n",
       "  <tbody>\n",
       "    <tr>\n",
       "      <th>0</th>\n",
       "      <td>0</td>\n",
       "      <td>House Dem Aide: We Didn’t Even See Comey’s Let...</td>\n",
       "      <td>Darrell Lucus</td>\n",
       "      <td>House Dem Aide: We Didn’t Even See Comey’s Let...</td>\n",
       "      <td>1</td>\n",
       "    </tr>\n",
       "    <tr>\n",
       "      <th>1</th>\n",
       "      <td>1</td>\n",
       "      <td>FLYNN: Hillary Clinton, Big Woman on Campus - ...</td>\n",
       "      <td>Daniel J. Flynn</td>\n",
       "      <td>Ever get the feeling your life circles the rou...</td>\n",
       "      <td>0</td>\n",
       "    </tr>\n",
       "    <tr>\n",
       "      <th>2</th>\n",
       "      <td>2</td>\n",
       "      <td>Why the Truth Might Get You Fired</td>\n",
       "      <td>Consortiumnews.com</td>\n",
       "      <td>Why the Truth Might Get You Fired October 29, ...</td>\n",
       "      <td>1</td>\n",
       "    </tr>\n",
       "    <tr>\n",
       "      <th>3</th>\n",
       "      <td>3</td>\n",
       "      <td>15 Civilians Killed In Single US Airstrike Hav...</td>\n",
       "      <td>Jessica Purkiss</td>\n",
       "      <td>Videos 15 Civilians Killed In Single US Airstr...</td>\n",
       "      <td>1</td>\n",
       "    </tr>\n",
       "    <tr>\n",
       "      <th>4</th>\n",
       "      <td>4</td>\n",
       "      <td>Iranian woman jailed for fictional unpublished...</td>\n",
       "      <td>Howard Portnoy</td>\n",
       "      <td>Print \\nAn Iranian woman has been sentenced to...</td>\n",
       "      <td>1</td>\n",
       "    </tr>\n",
       "  </tbody>\n",
       "</table>\n",
       "</div>"
      ],
      "text/plain": [
       "   id                                              title              author  \\\n",
       "0   0  House Dem Aide: We Didn’t Even See Comey’s Let...       Darrell Lucus   \n",
       "1   1  FLYNN: Hillary Clinton, Big Woman on Campus - ...     Daniel J. Flynn   \n",
       "2   2                  Why the Truth Might Get You Fired  Consortiumnews.com   \n",
       "3   3  15 Civilians Killed In Single US Airstrike Hav...     Jessica Purkiss   \n",
       "4   4  Iranian woman jailed for fictional unpublished...      Howard Portnoy   \n",
       "\n",
       "                                                text  label  \n",
       "0  House Dem Aide: We Didn’t Even See Comey’s Let...      1  \n",
       "1  Ever get the feeling your life circles the rou...      0  \n",
       "2  Why the Truth Might Get You Fired October 29, ...      1  \n",
       "3  Videos 15 Civilians Killed In Single US Airstr...      1  \n",
       "4  Print \\nAn Iranian woman has been sentenced to...      1  "
      ]
     },
     "execution_count": 3,
     "metadata": {},
     "output_type": "execute_result"
    }
   ],
   "source": [
    "# Checking data structure of data file\n",
    "df.head()"
   ]
  },
  {
   "cell_type": "code",
   "execution_count": 4,
   "id": "643e27b0",
   "metadata": {},
   "outputs": [
    {
     "name": "stdout",
     "output_type": "stream",
     "text": [
      "<class 'pandas.core.frame.DataFrame'>\n",
      "RangeIndex: 20800 entries, 0 to 20799\n",
      "Data columns (total 5 columns):\n",
      " #   Column  Non-Null Count  Dtype \n",
      "---  ------  --------------  ----- \n",
      " 0   id      20800 non-null  int64 \n",
      " 1   title   20242 non-null  object\n",
      " 2   author  18843 non-null  object\n",
      " 3   text    20761 non-null  object\n",
      " 4   label   20800 non-null  int64 \n",
      "dtypes: int64(2), object(3)\n",
      "memory usage: 812.6+ KB\n"
     ]
    }
   ],
   "source": [
    "# Checking data type of data file\n",
    "df.info()"
   ]
  },
  {
   "cell_type": "code",
   "execution_count": 5,
   "id": "d2f85b03",
   "metadata": {},
   "outputs": [
    {
     "name": "stdout",
     "output_type": "stream",
     "text": [
      "Percentage of missing data\n",
      "--------------------------\n"
     ]
    },
    {
     "data": {
      "text/plain": [
       "id        0.000000\n",
       "title     2.682692\n",
       "author    9.408654\n",
       "text      0.187500\n",
       "label     0.000000\n",
       "dtype: float64"
      ]
     },
     "execution_count": 5,
     "metadata": {},
     "output_type": "execute_result"
    }
   ],
   "source": [
    "# Checking amount of missing data\n",
    "print(\"Percentage of missing data\")\n",
    "print(\"--------------------------\")\n",
    "(df.isna().sum() / len(df)) * 100.0"
   ]
  },
  {
   "cell_type": "code",
   "execution_count": 6,
   "id": "1c417d31",
   "metadata": {},
   "outputs": [],
   "source": [
    "# There's a significant number of missing authors from our news sources\n",
    "# For now, let's just identify them as \"No Author\", we'll fill them using fillna\n",
    "df['author'] = df['author'].fillna('No Author')"
   ]
  },
  {
   "cell_type": "code",
   "execution_count": 7,
   "id": "81f4ed76",
   "metadata": {},
   "outputs": [
    {
     "name": "stdout",
     "output_type": "stream",
     "text": [
      "Top 10 authors\n",
      "--------------------------\n"
     ]
    },
    {
     "data": {
      "text/plain": [
       "No Author              1978\n",
       "Pam Key                 243\n",
       "admin                   193\n",
       "Jerome Hudson           166\n",
       "Charlie Spiering        141\n",
       "John Hayward            140\n",
       "Katherine Rodriguez     124\n",
       "Warner Todd Huston      122\n",
       "Ian Hanchett            119\n",
       "Breitbart News          118\n",
       "Name: author, dtype: int64"
      ]
     },
     "execution_count": 7,
     "metadata": {},
     "output_type": "execute_result"
    }
   ],
   "source": [
    "# Checking our data set, top 10 authors\n",
    "print(\"Top 10 authors\")\n",
    "print(\"--------------------------\")\n",
    "df['author'].value_counts()[:10]"
   ]
  },
  {
   "cell_type": "code",
   "execution_count": 8,
   "id": "3376779d",
   "metadata": {},
   "outputs": [
    {
     "name": "stdout",
     "output_type": "stream",
     "text": [
      "Bottom 10 authors\n",
      "--------------------------\n"
     ]
    },
    {
     "data": {
      "text/plain": [
       "administrator                                                          1\n",
       "Benjamin Hoffman and David Waldstein                                   1\n",
       "Jason Horowitz, Helene Cooper, Jennifer Steinhauer and Adam Goldman    1\n",
       "childoffather                                                          1\n",
       "Arcturus                                                               1\n",
       "Jeremy R. Hammond                                                      1\n",
       "Vic Bishop                                                             1\n",
       "Douglas Martin                                                         1\n",
       "Najim Rahim and Fahim Abed                                             1\n",
       "Michael J. de la Merced and Rachel Abrams                              1\n",
       "Name: author, dtype: int64"
      ]
     },
     "execution_count": 8,
     "metadata": {},
     "output_type": "execute_result"
    }
   ],
   "source": [
    "# Checking our data set, top 10 authors\n",
    "print(\"Bottom 10 authors\")\n",
    "print(\"--------------------------\")\n",
    "df['author'].value_counts()[-10:]"
   ]
  },
  {
   "cell_type": "markdown",
   "id": "4dcb5f2b",
   "metadata": {},
   "source": [
    "Let's check what percentage of reliable news source each author writes. Since we've labeled 0 as reliable and 1 as unreliable, the aggregate sum of label group by author will give us the number of fake news articles by a particular author."
   ]
  },
  {
   "cell_type": "code",
   "execution_count": 9,
   "id": "11969f7c",
   "metadata": {},
   "outputs": [
    {
     "data": {
      "text/html": [
       "<div>\n",
       "<style scoped>\n",
       "    .dataframe tbody tr th:only-of-type {\n",
       "        vertical-align: middle;\n",
       "    }\n",
       "\n",
       "    .dataframe tbody tr th {\n",
       "        vertical-align: top;\n",
       "    }\n",
       "\n",
       "    .dataframe thead th {\n",
       "        text-align: right;\n",
       "    }\n",
       "</style>\n",
       "<table border=\"1\" class=\"dataframe\">\n",
       "  <thead>\n",
       "    <tr style=\"text-align: right;\">\n",
       "      <th></th>\n",
       "      <th>article_count</th>\n",
       "    </tr>\n",
       "    <tr>\n",
       "      <th>author</th>\n",
       "      <th></th>\n",
       "    </tr>\n",
       "  </thead>\n",
       "  <tbody>\n",
       "    <tr>\n",
       "      <th>No Author</th>\n",
       "      <td>1978</td>\n",
       "    </tr>\n",
       "    <tr>\n",
       "      <th>Pam Key</th>\n",
       "      <td>243</td>\n",
       "    </tr>\n",
       "    <tr>\n",
       "      <th>admin</th>\n",
       "      <td>193</td>\n",
       "    </tr>\n",
       "    <tr>\n",
       "      <th>Jerome Hudson</th>\n",
       "      <td>166</td>\n",
       "    </tr>\n",
       "    <tr>\n",
       "      <th>Charlie Spiering</th>\n",
       "      <td>141</td>\n",
       "    </tr>\n",
       "    <tr>\n",
       "      <th>...</th>\n",
       "      <td>...</td>\n",
       "    </tr>\n",
       "    <tr>\n",
       "      <th>Jeremy R. Hammond</th>\n",
       "      <td>1</td>\n",
       "    </tr>\n",
       "    <tr>\n",
       "      <th>Vic Bishop</th>\n",
       "      <td>1</td>\n",
       "    </tr>\n",
       "    <tr>\n",
       "      <th>Douglas Martin</th>\n",
       "      <td>1</td>\n",
       "    </tr>\n",
       "    <tr>\n",
       "      <th>Najim Rahim and Fahim Abed</th>\n",
       "      <td>1</td>\n",
       "    </tr>\n",
       "    <tr>\n",
       "      <th>Michael J. de la Merced and Rachel Abrams</th>\n",
       "      <td>1</td>\n",
       "    </tr>\n",
       "  </tbody>\n",
       "</table>\n",
       "<p>4201 rows × 1 columns</p>\n",
       "</div>"
      ],
      "text/plain": [
       "                                           article_count\n",
       "author                                                  \n",
       "No Author                                           1978\n",
       "Pam Key                                              243\n",
       "admin                                                193\n",
       "Jerome Hudson                                        166\n",
       "Charlie Spiering                                     141\n",
       "...                                                  ...\n",
       "Jeremy R. Hammond                                      1\n",
       "Vic Bishop                                             1\n",
       "Douglas Martin                                         1\n",
       "Najim Rahim and Fahim Abed                             1\n",
       "Michael J. de la Merced and Rachel Abrams              1\n",
       "\n",
       "[4201 rows x 1 columns]"
      ]
     },
     "execution_count": 9,
     "metadata": {},
     "output_type": "execute_result"
    }
   ],
   "source": [
    "# We'll store df['author'] and value_counts as a DataFrame\n",
    "df_author_num_articles = df['author'].value_counts().rename_axis('author').to_frame('article_count')\n",
    "df_author_num_articles"
   ]
  },
  {
   "cell_type": "code",
   "execution_count": 10,
   "id": "55594e73",
   "metadata": {},
   "outputs": [
    {
     "data": {
      "text/html": [
       "<div>\n",
       "<style scoped>\n",
       "    .dataframe tbody tr th:only-of-type {\n",
       "        vertical-align: middle;\n",
       "    }\n",
       "\n",
       "    .dataframe tbody tr th {\n",
       "        vertical-align: top;\n",
       "    }\n",
       "\n",
       "    .dataframe thead th {\n",
       "        text-align: right;\n",
       "    }\n",
       "</style>\n",
       "<table border=\"1\" class=\"dataframe\">\n",
       "  <thead>\n",
       "    <tr style=\"text-align: right;\">\n",
       "      <th></th>\n",
       "      <th>num_fake_news</th>\n",
       "    </tr>\n",
       "    <tr>\n",
       "      <th>author</th>\n",
       "      <th></th>\n",
       "    </tr>\n",
       "  </thead>\n",
       "  <tbody>\n",
       "    <tr>\n",
       "      <th>No Author</th>\n",
       "      <td>1952</td>\n",
       "    </tr>\n",
       "    <tr>\n",
       "      <th>admin</th>\n",
       "      <td>193</td>\n",
       "    </tr>\n",
       "    <tr>\n",
       "      <th>Pakalert</th>\n",
       "      <td>86</td>\n",
       "    </tr>\n",
       "    <tr>\n",
       "      <th>Eddy Lavine</th>\n",
       "      <td>85</td>\n",
       "    </tr>\n",
       "    <tr>\n",
       "      <th>Starkman</th>\n",
       "      <td>84</td>\n",
       "    </tr>\n",
       "    <tr>\n",
       "      <th>...</th>\n",
       "      <td>...</td>\n",
       "    </tr>\n",
       "    <tr>\n",
       "      <th>Matthew Brunwasser</th>\n",
       "      <td>0</td>\n",
       "    </tr>\n",
       "    <tr>\n",
       "      <th>Matthew E. May</th>\n",
       "      <td>0</td>\n",
       "    </tr>\n",
       "    <tr>\n",
       "      <th>Donna De La Cruz</th>\n",
       "      <td>0</td>\n",
       "    </tr>\n",
       "    <tr>\n",
       "      <th>Matthew Goldstein</th>\n",
       "      <td>0</td>\n",
       "    </tr>\n",
       "    <tr>\n",
       "      <th>Katie McHugh</th>\n",
       "      <td>0</td>\n",
       "    </tr>\n",
       "  </tbody>\n",
       "</table>\n",
       "<p>4201 rows × 1 columns</p>\n",
       "</div>"
      ],
      "text/plain": [
       "                    num_fake_news\n",
       "author                           \n",
       "No Author                    1952\n",
       "admin                         193\n",
       "Pakalert                       86\n",
       "Eddy Lavine                    85\n",
       "Starkman                       84\n",
       "...                           ...\n",
       "Matthew Brunwasser              0\n",
       "Matthew E. May                  0\n",
       "Donna De La Cruz                0\n",
       "Matthew Goldstein               0\n",
       "Katie McHugh                    0\n",
       "\n",
       "[4201 rows x 1 columns]"
      ]
     },
     "execution_count": 10,
     "metadata": {},
     "output_type": "execute_result"
    }
   ],
   "source": [
    "# Aggregate sum of unreliable news\n",
    "df_aggregate_sum_labels = df[['author','label']].groupby('author').agg(sum).sort_values('label', ascending=False)\n",
    "df_aggregate_sum_labels = df_aggregate_sum_labels.rename(columns={'label':'num_fake_news'})\n",
    "df_aggregate_sum_labels"
   ]
  },
  {
   "cell_type": "code",
   "execution_count": 11,
   "id": "dfbcceda",
   "metadata": {},
   "outputs": [
    {
     "data": {
      "text/html": [
       "<div>\n",
       "<style scoped>\n",
       "    .dataframe tbody tr th:only-of-type {\n",
       "        vertical-align: middle;\n",
       "    }\n",
       "\n",
       "    .dataframe tbody tr th {\n",
       "        vertical-align: top;\n",
       "    }\n",
       "\n",
       "    .dataframe thead th {\n",
       "        text-align: right;\n",
       "    }\n",
       "</style>\n",
       "<table border=\"1\" class=\"dataframe\">\n",
       "  <thead>\n",
       "    <tr style=\"text-align: right;\">\n",
       "      <th></th>\n",
       "      <th>article_count</th>\n",
       "      <th>num_fake_news</th>\n",
       "    </tr>\n",
       "    <tr>\n",
       "      <th>author</th>\n",
       "      <th></th>\n",
       "      <th></th>\n",
       "    </tr>\n",
       "  </thead>\n",
       "  <tbody>\n",
       "    <tr>\n",
       "      <th>No Author</th>\n",
       "      <td>1978</td>\n",
       "      <td>1952</td>\n",
       "    </tr>\n",
       "    <tr>\n",
       "      <th>Pam Key</th>\n",
       "      <td>243</td>\n",
       "      <td>1</td>\n",
       "    </tr>\n",
       "    <tr>\n",
       "      <th>admin</th>\n",
       "      <td>193</td>\n",
       "      <td>193</td>\n",
       "    </tr>\n",
       "    <tr>\n",
       "      <th>Jerome Hudson</th>\n",
       "      <td>166</td>\n",
       "      <td>0</td>\n",
       "    </tr>\n",
       "    <tr>\n",
       "      <th>Charlie Spiering</th>\n",
       "      <td>141</td>\n",
       "      <td>0</td>\n",
       "    </tr>\n",
       "    <tr>\n",
       "      <th>...</th>\n",
       "      <td>...</td>\n",
       "      <td>...</td>\n",
       "    </tr>\n",
       "    <tr>\n",
       "      <th>Jeremy R. Hammond</th>\n",
       "      <td>1</td>\n",
       "      <td>1</td>\n",
       "    </tr>\n",
       "    <tr>\n",
       "      <th>Vic Bishop</th>\n",
       "      <td>1</td>\n",
       "      <td>1</td>\n",
       "    </tr>\n",
       "    <tr>\n",
       "      <th>Douglas Martin</th>\n",
       "      <td>1</td>\n",
       "      <td>0</td>\n",
       "    </tr>\n",
       "    <tr>\n",
       "      <th>Najim Rahim and Fahim Abed</th>\n",
       "      <td>1</td>\n",
       "      <td>0</td>\n",
       "    </tr>\n",
       "    <tr>\n",
       "      <th>Michael J. de la Merced and Rachel Abrams</th>\n",
       "      <td>1</td>\n",
       "      <td>0</td>\n",
       "    </tr>\n",
       "  </tbody>\n",
       "</table>\n",
       "<p>4201 rows × 2 columns</p>\n",
       "</div>"
      ],
      "text/plain": [
       "                                           article_count  num_fake_news\n",
       "author                                                                 \n",
       "No Author                                           1978           1952\n",
       "Pam Key                                              243              1\n",
       "admin                                                193            193\n",
       "Jerome Hudson                                        166              0\n",
       "Charlie Spiering                                     141              0\n",
       "...                                                  ...            ...\n",
       "Jeremy R. Hammond                                      1              1\n",
       "Vic Bishop                                             1              1\n",
       "Douglas Martin                                         1              0\n",
       "Najim Rahim and Fahim Abed                             1              0\n",
       "Michael J. de la Merced and Rachel Abrams              1              0\n",
       "\n",
       "[4201 rows x 2 columns]"
      ]
     },
     "execution_count": 11,
     "metadata": {},
     "output_type": "execute_result"
    }
   ],
   "source": [
    "combined_df = df_author_num_articles.merge(df_aggregate_sum_labels, on='author', how='left')\n",
    "combined_df"
   ]
  },
  {
   "cell_type": "code",
   "execution_count": 12,
   "id": "dda6f887",
   "metadata": {},
   "outputs": [
    {
     "data": {
      "text/html": [
       "<div>\n",
       "<style scoped>\n",
       "    .dataframe tbody tr th:only-of-type {\n",
       "        vertical-align: middle;\n",
       "    }\n",
       "\n",
       "    .dataframe tbody tr th {\n",
       "        vertical-align: top;\n",
       "    }\n",
       "\n",
       "    .dataframe thead th {\n",
       "        text-align: right;\n",
       "    }\n",
       "</style>\n",
       "<table border=\"1\" class=\"dataframe\">\n",
       "  <thead>\n",
       "    <tr style=\"text-align: right;\">\n",
       "      <th></th>\n",
       "      <th>article_count</th>\n",
       "      <th>num_fake_news</th>\n",
       "      <th>percentage_fake_news</th>\n",
       "    </tr>\n",
       "    <tr>\n",
       "      <th>author</th>\n",
       "      <th></th>\n",
       "      <th></th>\n",
       "      <th></th>\n",
       "    </tr>\n",
       "  </thead>\n",
       "  <tbody>\n",
       "    <tr>\n",
       "      <th>No Author</th>\n",
       "      <td>1978</td>\n",
       "      <td>1952</td>\n",
       "      <td>98.685541</td>\n",
       "    </tr>\n",
       "    <tr>\n",
       "      <th>Pam Key</th>\n",
       "      <td>243</td>\n",
       "      <td>1</td>\n",
       "      <td>0.411523</td>\n",
       "    </tr>\n",
       "    <tr>\n",
       "      <th>admin</th>\n",
       "      <td>193</td>\n",
       "      <td>193</td>\n",
       "      <td>100.000000</td>\n",
       "    </tr>\n",
       "    <tr>\n",
       "      <th>Jerome Hudson</th>\n",
       "      <td>166</td>\n",
       "      <td>0</td>\n",
       "      <td>0.000000</td>\n",
       "    </tr>\n",
       "    <tr>\n",
       "      <th>Charlie Spiering</th>\n",
       "      <td>141</td>\n",
       "      <td>0</td>\n",
       "      <td>0.000000</td>\n",
       "    </tr>\n",
       "    <tr>\n",
       "      <th>...</th>\n",
       "      <td>...</td>\n",
       "      <td>...</td>\n",
       "      <td>...</td>\n",
       "    </tr>\n",
       "    <tr>\n",
       "      <th>Jeremy R. Hammond</th>\n",
       "      <td>1</td>\n",
       "      <td>1</td>\n",
       "      <td>100.000000</td>\n",
       "    </tr>\n",
       "    <tr>\n",
       "      <th>Vic Bishop</th>\n",
       "      <td>1</td>\n",
       "      <td>1</td>\n",
       "      <td>100.000000</td>\n",
       "    </tr>\n",
       "    <tr>\n",
       "      <th>Douglas Martin</th>\n",
       "      <td>1</td>\n",
       "      <td>0</td>\n",
       "      <td>0.000000</td>\n",
       "    </tr>\n",
       "    <tr>\n",
       "      <th>Najim Rahim and Fahim Abed</th>\n",
       "      <td>1</td>\n",
       "      <td>0</td>\n",
       "      <td>0.000000</td>\n",
       "    </tr>\n",
       "    <tr>\n",
       "      <th>Michael J. de la Merced and Rachel Abrams</th>\n",
       "      <td>1</td>\n",
       "      <td>0</td>\n",
       "      <td>0.000000</td>\n",
       "    </tr>\n",
       "  </tbody>\n",
       "</table>\n",
       "<p>4201 rows × 3 columns</p>\n",
       "</div>"
      ],
      "text/plain": [
       "                                           article_count  num_fake_news  \\\n",
       "author                                                                    \n",
       "No Author                                           1978           1952   \n",
       "Pam Key                                              243              1   \n",
       "admin                                                193            193   \n",
       "Jerome Hudson                                        166              0   \n",
       "Charlie Spiering                                     141              0   \n",
       "...                                                  ...            ...   \n",
       "Jeremy R. Hammond                                      1              1   \n",
       "Vic Bishop                                             1              1   \n",
       "Douglas Martin                                         1              0   \n",
       "Najim Rahim and Fahim Abed                             1              0   \n",
       "Michael J. de la Merced and Rachel Abrams              1              0   \n",
       "\n",
       "                                           percentage_fake_news  \n",
       "author                                                           \n",
       "No Author                                             98.685541  \n",
       "Pam Key                                                0.411523  \n",
       "admin                                                100.000000  \n",
       "Jerome Hudson                                          0.000000  \n",
       "Charlie Spiering                                       0.000000  \n",
       "...                                                         ...  \n",
       "Jeremy R. Hammond                                    100.000000  \n",
       "Vic Bishop                                           100.000000  \n",
       "Douglas Martin                                         0.000000  \n",
       "Najim Rahim and Fahim Abed                             0.000000  \n",
       "Michael J. de la Merced and Rachel Abrams              0.000000  \n",
       "\n",
       "[4201 rows x 3 columns]"
      ]
     },
     "execution_count": 12,
     "metadata": {},
     "output_type": "execute_result"
    }
   ],
   "source": [
    "# We'll create a column to list percentage of fake news\n",
    "combined_df['percentage_fake_news'] = combined_df['num_fake_news'] / combined_df['article_count'] * 100.0\n",
    "combined_df"
   ]
  },
  {
   "cell_type": "code",
   "execution_count": 13,
   "id": "1ef278cb",
   "metadata": {},
   "outputs": [
    {
     "data": {
      "text/plain": [
       "count    4201.000000\n",
       "mean       47.076785\n",
       "std        49.901266\n",
       "min         0.000000\n",
       "25%         0.000000\n",
       "50%         0.000000\n",
       "75%       100.000000\n",
       "max       100.000000\n",
       "Name: percentage_fake_news, dtype: float64"
      ]
     },
     "execution_count": 13,
     "metadata": {},
     "output_type": "execute_result"
    }
   ],
   "source": [
    "# Let's see a summary statistic of fake news percentages presented by authors\n",
    "combined_df['percentage_fake_news'].describe()"
   ]
  },
  {
   "cell_type": "code",
   "execution_count": 14,
   "id": "fd2f8a3e",
   "metadata": {},
   "outputs": [
    {
     "data": {
      "text/plain": [
       "0.000000      2220\n",
       "100.000000    1975\n",
       "33.333333        2\n",
       "98.685541        1\n",
       "0.411523         1\n",
       "23.809524        1\n",
       "80.000000        1\n",
       "Name: percentage_fake_news, dtype: int64"
      ]
     },
     "execution_count": 14,
     "metadata": {},
     "output_type": "execute_result"
    }
   ],
   "source": [
    "# Distribution pretty skewed towards either ends of the percentage range\n",
    "# Let's check what unique values are in our data set\n",
    "combined_df['percentage_fake_news'].value_counts()"
   ]
  },
  {
   "cell_type": "markdown",
   "id": "8ceaa6f2",
   "metadata": {},
   "source": [
    "In terms of class balance, it's a decent split between 0% fake news and 100% fake news.\n",
    "\n",
    "Of course, you see several cases between the two, but this amount is exceedingly small compared to the other two percentages within this dataset.\n",
    "\n",
    "Nevertheless, if we want to build a predictive model to predict 'fake news' just by author, we would need to tokenize their names and converted it into a numeric array (word2vec). We can use sci-kit learn's text extraction features to generate a count vector for our author names."
   ]
  },
  {
   "cell_type": "code",
   "execution_count": 15,
   "id": "5e0fdcad",
   "metadata": {},
   "outputs": [],
   "source": [
    "# We can use a simple count vectorizer using sci-kit learn's CountVectorizer\n",
    "from sklearn.feature_extraction.text import CountVectorizer"
   ]
  },
  {
   "cell_type": "code",
   "execution_count": 16,
   "id": "28c34e10",
   "metadata": {},
   "outputs": [],
   "source": [
    "df_author_label = df[['author', 'label']]"
   ]
  },
  {
   "cell_type": "code",
   "execution_count": 17,
   "id": "00d65bc2",
   "metadata": {
    "scrolled": true
   },
   "outputs": [
    {
     "name": "stdout",
     "output_type": "stream",
     "text": [
      "Vocabulary:  {'darrell': 965, 'lucus': 2407, 'daniel': 948, 'flynn': 1364, 'consortiumnews': 856, 'com': 836, 'jessica': 1980, 'purkiss': 3178, 'howard': 1786, 'portnoy': 3119, 'nussbaum': 2890, 'no': 2861, 'author': 320, 'alissa': 164, 'rubin': 3405, 'megan': 2606, 'twohey': 4030, 'and': 208, 'scott': 3532, 'shane': 3588, 'aaron': 71, 'klein': 2180, 'chris': 761, 'tomlinson': 3975, 'amando': 188, 'flavio': 1352, 'jason': 1941, 'ditz': 1065, 'anotherannie': 231, 'jack': 1910, 'williams': 4246, 'michael': 2640, 'corkery': 872, 'stacy': 3731, 'cowley': 893, 'starkman': 3739, 'the': 3912, 'doc': 1074, 'jeff': 1958, 'poor': 3112, 'jerome': 1972, 'hudson': 1796, 'pam': 2974, 'key': 2144, 'donald': 1090, 'mcneil': 2594, 'jr': 2037, 'belluck': 414, 'ira': 1878, 'helfand': 1707, 'ali': 158, 'waked': 4143, 'amanda': 187, 'shea': 3599, 'jim': 1992, 'dwyer': 1144, 'mark': 2513, 'landler': 2263, 'ian': 1827, 'hanchett': 1645, 'steven': 3765, 'erlanger': 1249, 'clifford': 802, 'krauss': 2215, 'leslie': 2316, 'picker': 3080, 'danny': 955, 'hakim': 1635, 'de': 984, 'la': 2251, 'merced': 2623, 'andrew': 212, 'higgins': 1737, 'greanfinisher': 1577, 'awr': 325, 'hawkins': 1684, 'carroll': 677, 'dr': 1109, 'susan': 3820, 'berry': 438, 'alexandria': 149, 'laredo': 2270, 'katie': 2100, 'rogers': 3361, 'mason': 2542, 'rutenberg': 3421, 'ben': 416, 'protess': 3162, 'emily': 1223, 'steel': 3747, 'gordon': 1553, 'duff': 1127, 'senior': 3558, 'editor': 1173, 'brian': 569, 'chen': 734, 'virginia': 4117, 'hale': 1637, 'lance': 2261, 'schuttler': 3520, 'nate': 2794, 'church': 772, 'dairy': 933, 'ᵀᴿᵁᴹᴾ': 4422, 'madeline': 2443, 'islam': 1893, 'gordinier': 1552, 'neil': 2814, 'irwin': 1883, 'anonymous': 229, 'coward': 890, 'uid': 4039, '12781064': 6, 'kenneth': 2128, 'chang': 719, 'sewell': 3568, 'chan': 715, 'truth': 4013, 'broadcast': 577, 'network': 2824, 'kristina': 2224, 'wong': 4281, 'admin': 105, 'jeremy': 1971, 'peters': 3055, 'easley': 1159, 'black': 470, 'ivan': 1901, 'stakhanovets': 3733, 'jacey': 1909, 'fortin': 1375, 'brett': 568, 'anderson': 209, 'jane': 1937, 'perlez': 3046, 'josh': 2030, 'katz': 2103, 'redflag': 3261, 'newsdesk': 2834, 'andrea': 211, 'kannapell': 2074, 'sandra': 3468, 'stevenson': 3767, 'breitbart': 562, 'london': 2374, 'steve': 3762, 'sailer': 3441, 'osborn': 2942, 'nicholas': 2838, 'kulish': 2240, 'vivian': 4122, 'yee': 4319, 'caitlin': 631, 'dickerson': 1039, 'liz': 2366, 'robbins': 3343, 'fernanda': 1327, 'santos': 3474, 'jennifer': 1966, 'medina': 2604, 'niraj': 2859, 'chokshi': 756, 'liam': 2331, 'stack': 3730, 'heather': 1700, 'callaghan': 635, 'healy': 1697, 'kayla': 2107, 'brandon': 550, 'hess': 1730, 'mike': 2649, 'birbiglia': 466, 'mac': 2428, 'slavo': 3657, 'casey': 684, 'patricia': 3009, 'torres': 3987, 'natural': 2801, 'news': 2832, 'editors': 1175, 'edwin': 1185, 'mora': 2715, 'katherine': 2097, 'rodriguez': 3357, 'tara': 3868, 'siegel': 3636, 'bernard': 434, 'activist': 88, 'post': 3121, 'matt': 2550, 'richtel': 3314, 'confessore': 844, 'rachel': 3198, 'shorey': 3625, 'joel': 2011, 'pollak': 3109, 'anti': 237, 'media': 2602, 'patrick': 3010, 'leahy': 2290, 'warner': 4168, 'todd': 3968, 'huston': 1813, 'dylan': 1148, 'gwinn': 1621, 'john': 2013, 'koblin': 2192, 'amy': 200, 'moreno': 2721, 'jeré': 1977, 'longman': 2376, 'austen': 317, 'jon': 2018, 'pareles': 2988, 'glenn': 1519, 'thrush': 3946, 'kate': 2095, 'kelly': 2121, 'maggie': 2450, 'haberman': 1624, 'contributing': 861, 'eric': 1244, 'striker': 3790, 'forsythe': 1374, 'buckley': 600, 'seeksearchdestory': 3545, 'david': 975, 'stockman': 3773, 'wmw_admin': 4268, 'dennis': 1010, 'overbye': 2955, 'mujib': 2755, 'mashal': 2540, 'trent': 3999, 'baker': 347, 'farhad': 1301, 'manjoo': 2483, 'nick': 2840, 'corasaniti': 868, 'kew': 2143, 'victor': 4101, 'mather': 2548, 'doug': 1101, 'mills': 2662, 'lee': 2296, 'beforeitsnews': 408, 'geoffrey': 1480, 'grider': 1592, 'steelman': 3749, 'zero': 4351, 'hedge': 1702, 'european': 1262, 'union': 4047, 'times': 3953, 'anglin': 220, 'colin': 829, 'taylor': 3879, 'horowitz': 1779, 'binyamin': 465, 'appelbaum': 250, 'ari': 271, 'lieberman': 2336, 'julie': 2048, 'hirschfeld': 1752, 'davis': 979, 'nathan': 2795, 'robinson': 3349, 'dikran': 1047, 'arakelian': 254, 'noreply': 2874, 'blogger': 484, 'whitney': 4229, 'webb': 4183, 'swanson': 3830, 'jonathan': 2021, 'soble': 3676, 'christopher': 768, 'adelle': 99, 'nazarian': 2807, 'james': 1930, 'fulford': 1412, 'arnaldo': 281, 'rodgers': 3355, 'guest': 1609, 'runsinquicksand': 3411, 'declan': 994, 'walsh': 4158, 'wesley': 4214, 'morris': 2730, 'carl': 659, 'zimmer': 4356, 'anne': 226, 'barnard': 365, 'karam': 2081, 'shoumali': 3628, 'rt': 3402, 'gretchen': 1590, 'reynolds': 3304, 'sopan': 3695, 'deb': 989, 'barenakedislam': 363, 'iwb': 1907, 'robert': 3344, 'draper': 1111, 'dsg': 1121, 'twain': 4028, 'yobra': 4327, 'raffie': 3202, 'facespace': 1285, 'lipton': 2354, 'charlie': 725, 'savage': 3490, 'schmidt': 3507, 'lizette': 2367, 'alvarez': 184, 'daily': 932, 'sheeple': 3601, 'bob': 495, 'price': 3142, 'adam': 92, 'shaw': 3597, 'tim': 3951, 'king': 2164, 'waldstein': 4150, 'weisman': 4198, 'lichtblau': 2334, 'dawn': 980, 'parabellum': 2987, 'sausage': 3489, 'machine': 2434, 'tony': 3981, 'sarah': 3477, 'lyall': 2419, 'hayward': 1689, 'philsilversghost': 3071, 'mazzetti': 2566, 'jeffrey': 1960, 'gettleman': 1492, 'schmitt': 3508, 'alan': 133, 'blinder': 478, 'eduardo': 1181, 'porter': 3118, 'angela': 218, 'borozna': 521, 'mele': 2611, 'xavi': 4302, 'puig': 3176, 'helene': 1706, 'cooper': 866, 'shepard': 3607, 'ambellas': 190, 'paul': 3015, 'fassa': 1307, 'frank': 1387, 'karl': 2088, 'russell': 3417, 'slattery': 3656, 'lucas': 2404, 'nolan': 2869, 'ross': 3394, 'sorkin': 3697, 'steph': 3756, 'yin': 4325, 'thomas': 3941, 'sowell': 3702, 'mozur': 2748, 'shear': 3600, 'penny': 3041, 'starr': 3742, 'jenna': 1965, 'leigh': 2303, 'richardson': 3312, 'der': 1018, 'postillon': 3123, 'dana': 944, 'ashley': 291, 'parker': 2992, 'herszenhorn': 1728, 'pcr3': 3025, 'elizabeth': 1213, 'paton': 3008, 'leibovich': 2302, 'rappeport': 3231, 'nour': 2884, 'youssef': 4336, 'zuesse': 4367, 'sean': 3534, 'adl': 103, 'tabatabai': 3848, 'sharon': 3594, 'harrigan': 1663, 'hulse': 1801, 'tech': 3882, 'graham': 1567, 'bowley': 533, 'wakingtimes': 4146, 'justen': 2053, 'charters': 727, '11897093': 4, 'roger': 3360, 'aronoff': 285, 'jess': 1978, 'bidgood': 451, 'new': 2830, 'york': 4329, 'magazine': 2448, 'beersession': 406, 'matthew': 2552, 'may': 2564, 'froelich': 1404, 'karen': 2085, 'workman': 4288, 'pamela': 2976, 'bofferding': 503, 'vdare': 4089, 'reader': 3247, 'melissa': 2613, 'eddy': 1171, 'crouse': 913, 'dan': 943, 'kois': 2198, 'emma': 1224, 'fitzsimmons': 1349, 'cohn': 822, 'rick': 3315, 'gladstone': 1512, 'jafe': 1925, 'arnoldski': 283, 'alex': 145, 'voltairenet': 4128, 'org': 2937, 'peter': 3054, 'goodman': 1544, 'beau': 395, 'albrecht': 138, 'monica': 2701, 'davey': 973, 'yamiche': 4312, 'alcindor': 139, 'zach': 4340, 'cartwright': 680, 'spiering': 3712, 'rojas': 3365, 'world': 4289, 'paulson': 3020, 'ryan': 3424, 'saavedra': 3427, 'editorial': 1174, 'isabel': 1887, 'kershner': 2134, 'gardiner': 1447, 'harris': 1664, 'schwartz': 3521, 'jackie': 1911, 'calmes': 638, 'martin': 2529, 'pear': 3029, 'wines': 4257, 'charles': 724, 'mcdermid': 2577, 'lana': 2260, 'shadwick': 3575, 'neal': 2809, 'gabler': 1424, 'michelle': 2642, 'moons': 2712, 'sgt': 3572, 'redacción': 3260, 'hugh': 1799, 'esco': 1252, 'cliff': 801, 'kincaid': 2161, 'cole': 827, 'dave': 969, 'hodges': 1759, 'mohsen': 2694, 'abdelmoumen': 74, 'aya': 327, 'cash': 685, 'middle': 2645, 'east': 1160, 'eye': 1279, 'natalie': 2792, 'dickinson': 1041, '73268493': 57, 'mchugh': 2585, 'anemona': 216, 'hartocollis': 1669, 'stephen': 3758, 'lendman': 2310, 'greenfield': 1581, 'glen': 1518, 'ford': 1371, 'jonah': 2019, 'engel': 1236, 'bromwich': 583, 'deacon': 985, 'christina': 765, 'sarich': 3481, 'vanessa': 4079, 'friedman': 1403, 'marlow': 2520, 'graywolf': 1575, 'mind': 2665, 'unleashed': 4049, 'ansary': 232, 'henry': 1715, 'wolff': 4274, 'kimiko': 2159, 'freytas': 1400, 'tamura': 3860, 'falkenberg': 1295, 'sommer': 3687, 'svetlana': 3827, 'arkhangelskaya': 277, 'special': 3709, 'to': 3964, 'rbth': 3244, 'carey': 655, 'wedler': 4187, 'otis': 2949, 'isaac': 1885, 'cacciola': 627, 'goldman': 1534, 'apuzzo': 252, 'dyer': 1146, 'lavine': 2281, 'sydney': 3838, 'ember': 1222, 'boyle': 537, 'tejal': 3886, 'rao': 3228, 'christine': 766, 'hauser': 1678, 'moran': 2717, 'colm': 832, 'williamson': 4247, 'adan': 95, 'salazar': 3448, 'hubbard': 1793, 'vc': 4088, 'bittman': 469, 'rich': 3309, 'zraick': 4363, 'bond': 509, 'mcgeehan': 2582, 'nathanial': 2796, 'mauka': 2556, 'carol': 670, 'nash': 2790, 'saker': 3444, 'sheryl': 3610, 'gay': 1462, 'stolberg': 3776, 'gortex': 1556, 'munro': 2762, 'hammond': 1644, 'haugh': 1677, 'bailey': 345, 'felipe': 1321, 'villamor': 4108, 'kimmelman': 2160, 'oliver': 2916, 'jj': 2002, 'lane': 2265, 'kleinfield': 2181, 'remy': 3285, 'tom': 3973, 'ciccotta': 776, 'citizen': 781, 'satirist': 3485, 'telesur': 3887, 'pakalert': 2971, 'dwight': 1143, 'garner': 1451, 'curriec': 922, 'verini': 4097, 'alexander': 147, 'light': 2339, 'ted': 3883, 'loos': 2380, 'ernest': 1250, 'partridge': 2998, 'gillian': 1500, 'william': 4245, 'neuman': 2826, 'antiwar': 240, 'chinen': 749, 'griffee': 1594, 'chriss': 763, 'street': 3787, 'chira': 750, 'baxter': 388, 'dmitry': 1069, 'lela': 2304, 'moore': 2713, 'sona': 3689, 'patel': 3007, 'tanis': 3863, 'gina': 1504, 'kolata': 2200, 'druckerman': 1120, 'noel': 2867, 'murray': 2765, 'poniewozik': 3110, 'buck': 599, 'matthieu': 2553, 'aikins': 126, 'cassandra': 688, 'fairbanks': 1292, 'beemasters': 405, 'marsha': 2524, 'coleman': 828, 'adebayo': 97, 'shelby': 3604, 'andrews': 213, 'redlist': 3262, 'renegade': 3287, 'itzkoff': 1900, 'tomás': 3977, 'fuentes': 1410, 'reasoning': 3252, 'with': 4262, 'facts': 1288, 'south': 3700, 'front': 1407, 'arnold': 282, 'monteverde': 2708, 'don': 1088, 'anthony': 236, 'dillon': 1048, 'rawlence': 3238, 'kaitlyn': 2062, 'stegall': 3751, 'rowan': 3398, 'wolf': 4270, 'barbaro': 359, 'krieger': 2218, 'kaminski': 2069, 'stephanie': 3757, 'kuklish': 2239, '19747754': 13, 'skylynn': 3655, 'jones': 2022, 'ph': 3060, 'architecture': 265, 'is': 1884, 'more': 2719, 'than': 3909, 'clever': 800, 'arrangement': 286, 'of': 2907, 'bricks': 571, 'this': 3938, 'man': 2474, 'transforms': 3995, 'it': 1897, 'into': 1873, 'healing': 1695, 'process': 3150, 'earth': 1157, 'elina': 1210, 'st': 3729, 'onge': 2924, 'edjenner': 1176, 'majid': 2459, 'rafizadeh': 3204, 'slomoe': 3662, 'keith': 2116, 'bradsher': 545, 'flying': 1363, 'table': 3849, 'fan': 1296, 'quest': 3188, 'newsbiscuit': 2833, 'team': 3880, 'trip': 4001, 'gabriel': 1425, 'elliot': 1216, 'bougis': 529, 'tyler': 4032, 'hicks': 1736, 'adelmann': 100, 'wilson': 4252, 'victoria': 4102, 'taft': 3852, 'mcphate': 2596, 'vladimir': 4123, 'putin': 3179, 'frances': 1383, 'martel': 2526, 'schonbrun': 3512, 'kikila': 2152, 'perrin': 3051, 'sanger': 3471, 'bernie': 435, 'suarez': 3797, 'irina': 1879, 'aleksander': 142, 'ariel': 274, 'noyola': 2888, 'rodríguez': 3358, 'geeta': 1469, 'anand': 204, 'hari': 1657, 'kumar': 2241, 'carney': 669, 'warren': 4169, 'mass': 2544, 'grant': 1570, 'stern': 3761, 'pat': 3006, 'buchanan': 598, 'cumming': 918, 'bruce': 590, 'claire': 787, 'bernish': 436, 'sayer': 3496, 'ji': 1990, 'richard': 3310, 'fausset': 1309, 'castle': 691, 'rosenberg': 3387, 'merrill': 2630, 'на': 4392, 'русском': 4396, 'poke': 3103, 'staff': 3732, 'riehl': 3320, 'joe': 2010, 'martino': 2530, 'fandos': 1297, 'elisabeth': 1211, 'reed': 3266, 'abelson': 77, 'kelen': 2117, 'josé': 2032, 'tirado': 3960, 'alessandra': 144, 'stanley': 3735, 'cinthia': 779, 'ritchie': 3335, 'redmond': 3264, 'banister': 353, 'brooks': 586, 'barnes': 366, 'timmy': 3954, 'blitzkrieg622': 479, 'nagourney': 2781, 'fountain': 1377, 'lohr': 2373, 'flegenheimer': 1354, 'elaine': 1199, 'glusac': 1525, 'taub': 3876, 'tatiana': 3874, 'covington': 889, 'margaret': 2499, 'griffis': 1596, 'catherine': 695, 'saint': 3442, 'louis': 2392, 'rbr': 3243, 'pepe': 3043, 'escobar': 1253, 'sunday': 3809, 'devotional': 1028, 'whole': 4231, 'universe': 4048, 'as': 290, 'grain': 1569, 'fellowship': 1322, 'minds': 2667, 'kommonsentsjane': 2202, 'ihtt': 1837, 'jerri': 1973, 'lynn': 2423, 'scofield': 3529, 'stevew': 3769, 'saxena': 3494, 'kingsley': 2166, 'margalit': 2498, 'fox': 1379, 'informationclearinghouse': 1863, 'info': 1860, 'shaila': 3581, 'dewan': 1029, 'oppel': 2932, 'jared': 1939, 'vitello': 4120, 'stranahan': 3782, 'whitehead': 4226, 'vnn': 4127, 'bell': 412, 'juliet': 2049, 'macur': 2439, 'benner': 419, 'ma': 2427, 'wingfield': 4259, 'cain': 630, 'miller': 2659, 'sam': 3455, 'roberts': 3346, 'burns': 614, 'rex': 3302, 'kwon': 2248, 'do': 1071, 'ᵈᵉᵖˡᵒʳᵃᵇˡᵉ': 4423, 'grimes': 1597, 'mitch51': 2681, 'orissa': 2938, 'lisa': 2355, 'tanner': 3864, 'conor': 849, 'dougherty': 1102, 'moron': 2729, 'annie': 227, 'correal': 875, 'common': 839, 'constitutionalist': 858, 'cargosquid': 656, 'jerusalem': 1976, 'blanche': 475, 'benson': 425, 'stewart': 3771, 'kalli': 2066, 'conservative': 853, 'millennial': 2658, 'hilarie': 1743, 'sheets': 3602, 'kramer': 2213, 'paddock': 2967, 'newsguy76': 2835, 'hope': 1770, 'hefficide': 1704, 'tfpp': 3904, 'writer': 4296, 'coscarelli': 877, 'coral': 867, 'davenport': 971, 'dudleydooright': 1126, 'posted': 3122, 'at': 307, 'pm': 3100, 'on': 2921, 'october': 2904, 'noah': 2862, 'weiland': 4192, 'noam': 2863, 'scheiber': 3501, 'hemp': 1712, 'readdressing': 3246, 'cannabis': 644, 'kuebiko': 2236, 'co': 808, 'xcathdra': 4303, 'simon': 3644, 'romero': 3368, 'shivani': 3616, 'vora': 4130, 'chaos': 722, 'wai': 4141, 'moe': 2690, 'ives': 1903, 'saw': 3491, 'nang': 2786, 'catocensored': 697, 'shorty': 3626, 'wilmot': 4251, 'proviso': 3166, 'tass': 3873, 'remnick': 3284, 'iaboni': 1824, 'genzlinger': 1478, 'associated': 300, 'press': 3139, 'roosh': 3377, 'valizadeh': 4071, 'daisy': 935, 'luther': 2416, 'benoît': 424, 'morenne': 2720, 'binder': 463, 'gerry': 1487, 'mcbride': 2571, 'ildefonso': 1843, 'ortiz': 2939, 'onan': 2922, 'coca': 812, 'max': 2559, 'fisher': 1345, 'manlio': 2484, 'dinucci': 1055, 'lily': 2343, 'dane': 947, 'tanosborn': 3865, 'kantzveldt': 2079, 'heyes': 1733, 'groucho': 1601, 'marxist': 2534, 'peterson': 3057, 'brad': 540, 'spurgeon': 3719, 'mccabe': 2572, 'teapolicy': 3881, 'menahan': 2617, 'greger': 1585, 'faclm': 1287, 'manohla': 2487, 'dargis': 960, 'sullivan': 3806, 'usa': 4059, 'flash': 1351, 'forney': 1372, 'zachary': 4341, 'woolfe': 4285, 'omar': 2920, 'al': 130, 'jawoshy': 1946, 'inessa': 1856, 'hawes': 1681, 'spencer': 3711, 'sisario': 3650, 'captain': 649, 'craptek': 900, 'gpd': 1563, 'sane': 3469, 'responder': 3293, 'nwo': 2895, 'hatr': 1676, 'kevin': 2142, 'sack': 3434, 'best': 440, 'kinds': 2163, 'milk': 2657, 'that': 3910, 'aren': 269, 'collective': 830, 'evolution': 1273, 'apg': 247, 'hayne': 1688, 'kirkpatrick': 2169, 'montgomery': 2709, 'robin': 3348, 'pogrebin': 3101, 'dailouk': 931, 'gatorengineer': 1459, 'innis': 1868, 'sven': 3826, 'longshanks': 2377, 'ken': 2123, 'belson': 415, 'vadukul': 4065, 'rivero': 3337, 'wickwire': 4236, 'sergey': 3562, 'gladysh': 1513, 'ninja': 2857, 'parry': 2996, 'jing': 2000, 'jin': 1999, 'falih': 1294, 'hassan': 1674, 'arango': 257, 'wright': 4294, 'vicki': 4100, 'batts': 386, 'brown': 587, 'petras': 3058, 'house': 1784, 'thefitgirl': 3918, 'heavy': 1701, 'edward': 1183, 'rooster1957': 3378, 'somini': 3686, 'sengupta': 3557, 'samantha': 3458, 'maslin': 2541, 'nir': 2858, 'adams': 93, 'caramanica': 652, 'clock': 804, 'crasher': 901, 'ceylan': 711, 'yeginsu': 4320, 'rukmini': 3409, 'callimachi': 637, 'brianna': 570, 'acuesta': 90, 'jay': 1947, 'lehr': 2300, 'thornton': 3942, 'motoko': 2739, 'countrybunkererd': 886, 'sapna': 3475, 'maheshwari': 2455, 'murphy': 2764, 'justin': 2055, 'wolfers': 4273, 'kike': 2150, 'garcía': 1446, 'darby': 958, 'wtromp': 4299, 'operamail': 2931, 'wt': 4298, 'lorne': 2384, 'manly': 2485, 'rebecca': 3254, 'diserio': 1062, 'benjamin': 418, 'hoffman': 1760, 'geller': 1472, 'barry': 374, 'katharine': 2096, 'seelye': 3546, 'pérez': 3181, 'peña': 3059, 'gustavo': 1617, 'arellano': 268, 'schuessler': 3515, 'wrenfoe': 4293, 'braindiseasecalledliberalism': 547, 'misty': 2679, 'faddis': 1289, 'drew': 1117, 'julia': 2046, 'preston': 3140, 'rothenberg': 3397, 'randy': 3226, 'kennedy': 2127, 'miskondukt': 2675, 'eligon': 1208, 'mcgee': 2581, 'finn': 1342, 'cohen': 821, 'reyburn': 3303, 'tokyowashi': 3971, 'schwarz': 3522, 'enjoykin4': 1238, 'carrie': 675, 'macdonald': 2431, 'cartel': 678, 'chronicles': 770, 'bowytz': 535, 'jose': 2027, 'dionne': 1057, 'searcey': 3536, 'prashant': 3132, 'debbie': 990, 'menon': 2621, 'thefinereport': 3917, 'rmuse': 3341, 'selwyn': 3553, 'duke': 1129, 'farrell': 1304, 'segal': 3548, 'choe': 754, 'sang': 3470, 'hun': 1805, 'kim': 2156, 'severson': 3567, 'mitch': 2680, 'smith': 3669, 'rosenbloom': 3388, 'kirk': 2168, 'johnson': 2016, 'jawad': 1945, 'sukhanyar': 3804, 'zinoman': 4358, 'susanne': 3822, 'craig': 898, 'margolis': 2501, 'sara': 3476, 'vallone': 4074, 'corbett': 869, 'kyle': 2250, 'trouble': 4003, 'mm': 2685, 'philip': 3067, 'galanes': 1436, 'niki': 2848, 'kitsantonis': 2174, 'hannah': 1648, 'olivennes': 2915, 'stevor': 3770, 'alexandra': 148, 'alter': 179, 'amp': 198, 'clark': 791, 'horton': 1781, 'swarns': 3831, 'jacobs': 1915, 'kepner': 2131, 'virgil': 4116, 'schweber': 3523, 'abby': 73, 'goodnough': 1545, 'sabrina': 3431, 'tavernise': 3878, 'lu': 2403, 'fleur': 1357, 'jenny': 1968, 'heth': 1731, 'egner': 1190, 'donna': 1092, 'edmunds': 1179, 'eder': 1172, 'daisuke': 934, 'wakabayashi': 4142, 'isabelle': 1888, 'tumin': 4022, 'garrie': 1453, '26968733': 21, 'goodrich': 1546, 'richards': 3311, 'dominus': 1087, 'isherwood': 1890, 'rives': 3338, 'glanz': 1514, 'harvey': 1672, 'araton': 258, 'sammut': 3462, 'everett': 1268, 'bravenewmalden': 555, 'walberg': 4147, 'sinead': 3647, 'rahul': 3207, 'manchanda': 2476, 'esq': 1256, 'ria': 3308, 'novosti': 2885, 'kaplan': 2080, 'christoforou': 767, 'benedict': 417, 'livingston': 2365, 'ironmansouth': 1882, 'anahad': 203, 'connor': 848, 'waking': 4145, 'klukowski': 2186, 'tracy': 3989, 'blake': 474, 'shirley': 3615, 'barnett': 367, 'farah': 1299, '47910020': 26, 'pont': 3111, 'watson': 4175, 'kropotkin': 2229, 'anna': 224, 'dubenko': 1123, 'roqayah': 3380, 'chamseddine': 714, 'larry': 2271, 'rohter': 3364, 'levine': 2324, 'hafner': 1629, 'jordan': 2024, 'baranowski': 356, 'adler': 104, 'cocivera': 814, 'bryan': 595, 'denton': 1011, 'yardley': 4314, 'botena': 526, 'hillary': 1746, 'clinton': 803, 'ties': 3948, 'isis': 1892, 'supporters': 3812, 'osmanisnin': 2944, 'koenig': 2195, 'jan': 1936, 'sonenstein': 3690, 'redlucy': 3263, 'silver': 3641, 'greenberg': 1580, 'haiphong': 1634, 'knabb': 2187, 'shawn': 3598, 'helton': 1711, 'jameson': 1931, 'free': 1393, 'thought': 3943, 'project': 3155, 'marquis': 2523, 'azam': 331, 'ahmed': 124, 'boehler': 502, '73270245': 59, 'bagli': 344, 'theresa': 3928, 'byas': 626, 'steinhauer': 3754, 'ike': 1840, 'mclean': 2590, 'alisha': 162, 'golstein': 1537, 'nicole': 2843, 'higman': 1741, 'boudette': 528, 'cara': 651, 'isiah': 1891, 'holmes': 1766, 'fifth': 1334, 'column': 835, 'christy': 769, 'goyette': 1562, 'lambert': 2259, 'strether': 3789, 'snyder': 3674, 'bullock': 607, 'sgtstedenko2': 3573, 'russia': 3418, 'today': 3967, 'rusia': 3414, 'infowars': 1864, 'nightly': 2846, 'bradford': 542, 'andy': 215, 'green': 1578, 'winerip': 4256, 'schwirtz': 3525, 'gebeloff': 1467, 'fackler': 1286, 'iron': 1881, 'sheik': 3603, 'mahler': 2456, 'dailey': 930, 'светлана': 4397, 'якн': 4403, 'landon': 2264, 'oxbridge': 2960, 'reid': 3272, 'mene': 2619, 'topher': 3985, 'frankenberg': 1388, 'hwaida': 1816, 'saad': 3426, 'manny': 2486, 'fernandez': 1328, 'guardian': 1606, 'cieply': 777, 'jimq': 1998, 'patsy': 3014, 'mendoza': 2618, 'mcbee': 2570, 'genosse': 1477, 'dummkopf': 1132, 'ariana': 273, 'cherese': 735, 'jackson': 1912, 'spayd': 3707, 'barbara': 357, 'nimri': 2855, 'aziz': 332, 'fahim': 1290, 'abed': 75, 'connell': 847, 'bill': 458, 'pennington': 3040, 'entertainment': 1239, 'movie': 2744, 'reviews': 3301, 'tips': 3959, 'how': 1785, 'get': 1490, 'website': 4185, 'traffic': 3990, 'make': 2461, 'money': 2700, 'online': 2926, 'kelley': 2119, 'auntie': 313, 'lulu': 2412, 'sandomir': 3467, 'ezra': 1281, 'dulis': 1131, 'broad': 576, 'qin': 3183, 'regan': 3269, 'pifer': 3084, 'douglass': 1104, 'germanos': 1486, 'dreams': 1114, 'washingtonsblog': 4171, 'adalia': 91, 'woodbury': 4282, 'lipsyte': 2352, 'salvato': 3454, 'telzrow': 3888, 'ron': 3370, 'yahaloms': 4309, 'fuller': 1414, 'shannon': 3591, 'barber': 360, 'rosie': 3391, 'schaap': 3499, 'milan': 2652, 'schreuer': 3514, 'anteater': 234, 'quentin': 3187, 'hardy': 1656, 'ewing': 1275, 'weiser': 4197, 'avandagriff': 322, 'april': 251, 'hamlin': 1642, 'deborah': 991, 'danan': 945, 'kesel': 2136, 'marc': 2492, 'mcintire': 2587, 'dance': 946, 'ledergerber': 2295, 'joseph': 2028, 'swoyer': 3837, 'farago': 1298, 'جنگ': 4410, 'ارزی': 4405, 'آمریکا': 4404, 'علیه': 4415, 'ایران': 4407, 'مورد': 4417, 'مطالعاتی': 4416, 'سال': 4412, '1390': 7, 'کدآمایی': 4421, 'barker': 364, 'gaye': 1463, 'levy': 2325, 'ahtribune': 125, 'kent': 2130, 'jakespoon': 1928, 'yves': 4339, 'kryptodyne': 2232, 'naila': 2782, 'jean': 1952, 'meyers': 2638, 'watchmannonthewall': 4174, 'wolverton': 4277, 'ii': 1838, 'owens': 2957, 'aurelien': 314, 'breeden': 560, 'julfikar': 2045, 'manik': 2480, 'floosy': 1358, 'scull': 3533, 'liptak': 2353, 'delingpole': 1000, 'weins': 4194, 'ashwin': 293, 'dom': 1084, 'milo': 2664, 'zerohedge': 4352, 'shari': 3593, 'simonson': 3646, 'goldstein': 1536, 'ev': 1263, 'fundamentaly': 1416, 'flawed': 1353, 'humanity': 1804, 'javier': 1944, 'hernández': 1722, 'mooallem': 2710, 'jeremiah': 1970, 'campbell': 639, 'schultz': 3517, 'evan': 1265, 'gershkovich': 1488, 'from': 1406, 'massprivatei': 2545, 'grynbaum': 1605, 'влада': 4379, 'крутова': 4388, 'nikolaj': 2851, 'schewtschenko': 3504, 'winnie': 4260, 'hu': 1791, 'durden': 1137, 'friday': 1401, 'herman': 1721, 'hiroko': 1751, 'tabuchi': 3850, 'stoltie': 3777, 'george': 1482, 'email': 1220, 'protected': 3161, 'slotnik': 3664, 'gehl': 1470, 'are': 267, 'holes': 1763, 'fountains': 1378, 'creation': 905, 'conscious': 851, 'ruiz': 3408, 'maryaha': 2536, 'maryalice': 2537, 'parks': 2993, 'lemann': 2306, 'taimoor': 3853, 'shah': 3579, 'hallett': 1640, 'realdeal': 3249, 'allum': 170, 'bokhari': 506, 'derbyshire': 1019, 'feiler': 1319, 'greenhalgh': 1582, 'karoline': 2090, 'kan': 2071, 'gene': 1475, 'gustines': 1618, 'kai': 2060, 'rajneesh': 3214, 'bhandari': 449, 'madigan': 2444, 'alexa': 146, 'erickson': 1246, 'ammo': 196, 'quealy': 3186, 'margot': 2502, 'borden': 516, 'macfarquhar': 2433, 'cockburn': 815, 'sison': 3651, 'larsen': 2272, 'halleck': 1639, 'paddy': 2968, 'maclachlan': 2438, 'sheri': 3609, 'fink': 1341, 'grahamseibert': 1568, 'raven': 3236, 'clabough': 785, 'harmon': 1659, 'kimberley': 2157, 'nixon': 2860, 'erin': 1248, 'mccann': 2573, 'semple': 3554, 'bennett': 420, 'alderman': 140, 'barrett': 371, 'eli': 1204, 'rbc': 3242, 'anton': 241, 'feinberg': 1320, 'ronnie': 3374, 'allen': 167, 'bosman': 524, 'robles': 3350, 'dyanne': 1145, 'weiss': 4199, 'wolfenotes': 4272, 'perlmutter': 3047, 'tv': 4027, 'tammy': 3859, 'gorce': 1550, 'donadio': 1089, 'costa': 879, 'burrowes': 617, 'heart': 1699, 'allison': 169, 'vincent': 4110, 'gosztola': 1557, 'michiko': 2643, 'kakutani': 2063, 'serge': 3561, 'gregoire': 1587, 'arch': 261, 'stanton': 3736, 'besnook': 439, 'lou': 2390, 'colagiovanni': 824, 'greg': 1584, 'newman': 2831, 'activistpost': 89, 'without': 4263, 'malice': 2467, 'deflation': 997, 'market': 2514, 'kathryn': 2098, 'shattuck': 3596, 'vlasic': 4124, 'toni': 3980, 'monkovic': 2703, 'jacob': 1914, 'hornberger': 1778, 'nechepurenko': 2811, 'rafiq': 3203, 'turbeville': 4024, 'wallace': 4156, 'cahill': 629, 'perri': 3050, 'klass': 2179, 'coastalmainebird': 810, 'politi': 3105, 'carmody': 668, 'alison': 163, 'smale': 3666, 'kanter': 2075, 'mcshane': 2597, 'leberfeld': 2294, 'colarossi': 825, 'gary': 1455, 'leupp': 2321, 'nida': 2844, 'najar': 2783, 'salman': 3453, 'masood': 2543, 'gaia': 1431, 'pianigiani': 3078, 'penelope': 3038, 'nation': 2798, 'big': 453, 'pharma': 3061, 'created': 904, 'epidemic': 1241, 'barth': 379, 'wight': 4238, 'koehler': 2193, 'wendy': 4209, 'lyons': 2425, 'sunshine': 3810, 'guay': 1607, 'en': 1229, 'español': 1255, 'logan': 2371, 'churchwell': 773, 'fisk': 1346, 'elder': 1201, 'doe': 1078, 'rebel': 3255, 'yell': 4321, 'ratliff': 3234, 'ibxnj': 1831, 'su': 3796, 'hyun': 1822, 'palmer': 2973, 'blueshaman': 489, 'kristen': 2222, 'scharold': 3500, 'dynarski': 1149, 'grayrider': 1574, 'exposethebad': 1276, 'live': 2364, 'damon': 942, 'morgan': 2723, 'tennessee': 3891, 'tuberville': 4020, 'funny': 1419, 'farmer': 1302, 'gelles': 1473, 'lasha': 2273, 'darkmoon': 963, 'cecilia': 706, 'kang': 2073, 'hunter': 1807, 'edwards': 1184, 'rozeff': 3400, 'usapoliticsnow': 4060, 'adrian': 112, 'bamforth': 352, 'broiles': 582, 'in': 1851, 'littleton': 2361, 'mckeough': 2588, 'pete': 3053, 'wells': 4204, 'kootenaycoyote': 2205, 'seth': 3564, 'berkman': 431, 'bonanno': 508, 'badger': 340, 'cleburne': 798, 'dozois': 1108, 'ann': 223, 'coulter': 883, 'kruta': 2231, 'oysteria': 2962, 'brantley': 553, 'lovett': 2396, 'nocera': 2865, 'tess': 3898, 'phonics': 3073, 'monkey': 2702, 'philipps': 3068, 'prissy': 3145, 'holly': 1765, 'kovaleski': 2209, 'caleb': 634, 'newton': 2836, 'santora': 3473, 'engdahl': 1235, 'laurie': 2280, 'goodstein': 1547, 'rosen': 3386, 'europa': 1260, 'daphne': 956, 'matziaraki': 2554, 'markinla': 2515, 'grownmangrumbles': 1604, 'erica': 1245, 'ackerberg': 85, 'anaveragejoe': 207, 'wu': 4300, 'patriotrising': 3012, 'rory': 3381, 'branch': 548, 'bakalar': 346, 'courtney': 888, 'marjorie': 2512, 'dannenfelser': 954, 'schuricht': 3519, 'harry': 1666, 'hibbs': 1735, 'greenanon': 1579, 'clarey': 789, 'fedupwithwelfarestates': 1316, 'deplorable': 1015, 'revbo': 3299, 'coldtrifecta': 826, 'morgenson': 2725, 'afp': 117, 'schlossberg': 3506, 'ellen': 1214, 'brodsky': 580, 'joachim': 2004, 'hagopian': 1630, 'sam_spade': 3456, 'martha': 2527, 'nelson': 2817, '73270427': 60, 'darage': 957, 'whitedawn': 4225, 'jonas': 2020, 'alexis': 153, '10': 0, 'habits': 1625, 'will': 4244, 'your': 4334, 'life': 2337, 'easier': 1158, 'peaceful': 3027, 'wellness': 4203, 'solutions': 3684, 'gwyn': 1622, 'kripke': 2219, 'joshua': 2031, 'barone': 368, 'chozick': 760, 'zernike': 4350, 'julius': 2051, 'hubris': 1794, 'adeel': 98, 'board': 494, 'myers': 2771, 'piper': 3089, 'mcgowin': 2584, 'napolitano': 2788, 'amie': 193, 'tsang': 4017, 'katrina': 2102, 'onstad': 2928, 'helmer': 1708, 'hinderaker': 1747, 'proctor': 3151, 'gorman': 1555, 'pilger': 3085, 'hqanon': 1788, 'nina': 2856, 'siegal': 3635, 'toby': 3966, 'xuenchen': 4306, 'taras': 3869, 'grescoe': 1589, 'dcg': 983, 'malia': 2466, 'wollan': 4275, 'marino': 2509, 'emmarie': 1225, 'huetteman': 1797, 'ap': 244, 'xenakis': 4304, 'suhasini': 3802, 'raj': 3211, 'sf4t9rfan': 3570, 'gareth': 1448, 'giulio': 1510, 'meotti': 2622, 'gatestone': 1458, 'institute': 1870, 'hall': 1638, 'rundown': 3410, 'war': 4165, 'horizon': 1775, '2016': 18, 'arshad': 287, 'khan': 2145, 'amnesty': 197, 'international': 1872, 'tnuga': 3963, 'dissidentvoice': 1064, 'melena': 2612, 'ryzik': 3425, 'ok': 2910, 'janet': 1938, 'dobbin': 1072, 'joanne': 2007, 'leon': 2313, 'giovanni': 1507, 'russonello': 3419, 'what': 4220, 'harsh': 1667, 'lessons': 2318, 'everyone': 1269, 'should': 3627, 'learn': 2292, 'their': 3920, '20s': 19, 'blognotion': 485, 'jhayla': 1989, 'walls': 4157, 'kristin': 2223, 'hussey': 1812, 'foderaro': 1365, 'boris': 520, 'egorov': 1192, 'klare': 2178, 'keller': 2118, 'geraldine': 1483, 'fabrikant': 1283, 'katrin': 2101, 'bennhold': 421, 'lauren': 2278, 'mccauley': 2574, 'joan': 2005, 'jb': 1949, 'jhamilton': 1988, 'shpigel': 3631, 'pringle': 3144, 'mcadams': 2567, 'asimov': 295, 'برنامه': 4408, 'ریزی': 4411, 'ضمیر': 4414, 'ناخوداگاه': 4419, 'ctwatcher': 916, 'ᵛᵉʳᶦᶠᶦᵉᵈ': 4424, 'lara': 2269, 'jakes': 1927, 'unruh': 4051, 'nicola': 2842, 'turkewitz': 4025, 'llewellyn': 2368, 'rockwell': 3353, 'vorkunov': 4131, 'wahab': 4139, 'raofi': 3229, 'israel': 1895, 'shamir': 3586, 'roland': 3366, 'phd': 3062, 'erdbrink': 1243, 'bilefsky': 456, 'tapatio': 3867, 'gold': 1531, 'dml': 1070, 'ellin': 1215, 'brody': 581, 'ness': 2821, 'joyce': 2036, 'lau': 2276, 'cj': 783, 'hopkins': 1772, 'gearóid': 1466, 'colmáin': 833, 'mekado': 2609, 'southall': 3701, 'hey': 1732, 'mildly': 2653, 'adequate': 101, 'information': 1862, 'security': 3544, 'architect': 264, 'harold': 1661, 'hughes': 1800, 'kellin': 2120, 'pollack': 3108, 'jodi': 2008, 'kantor': 2076, 'sokol': 3681, 'these': 3929, 'lifestyle': 2338, 'choices': 755, 'lower': 2398, 'breast': 559, 'cancer': 642, 'risk': 3332, 'even': 1267, 'if': 1834, 'you': 4331, 'genetically': 1476, 'predisposed': 3135, 'everything': 1270, 'can': 640, 'imagine': 1846, 'real': 3248, 'investigative': 1876, 'historian': 1753, 'ewan': 1274, 'mackenna': 2435, 'hynes': 1820, 'sartre': 3482, 'mcmanus': 2593, 'bovard': 531, 'collins': 831, 'mitchell': 2682, 'wagner': 4138, 'shaftel': 3578, 'stein': 3752, 'holden': 1762, 'employedmillenial': 1228, 'mjazzguitar': 2683, 'davidswanson': 978, 'gertner': 1489, 'peacefrog': 3026, 'osman': 2943, 'soysal': 3704, 'keh': 2113, 'searcherfortruth': 3537, 'elisabetta': 1212, 'povoledo': 3126, '58307359': 30, 'haag': 1623, 'smitch': 3668, 'true': 4008, 'nichols': 2839, 'marianne': 2505, 'rohrlich': 3363, 'presidents': 3138, 'politicians': 3107, 'who': 4230, 'told': 3972, 'us': 4058, 'secret': 3543, 'government': 1561, 'controls': 863, 'they': 3932, 'said': 3440, 'upside': 4054, 'down': 1106, 'garland': 1450, 'roni': 3373, 'caryn': 682, 'rabin': 3194, 'letsbereal': 2320, 'relampago': 3281, 'furioso': 1421, 'marlene': 2518, 'holland': 1764, 'cotter': 881, 'winter': 4261, 'assemblyman': 298, 'donnelly': 1094, 'krishna': 2220, 'weed': 4189, 'herbert': 1718, 'mujica': 2756, 'tubal': 4019, 'sakari': 3443, 'linden': 2346, 'edmondo': 1177, 'burr': 615, 'beeeyotch': 404, 'woodward': 4284, 'jacqueline': 1916, 'dixon': 1066, 'brock': 578, 'community': 840, 'nossiter': 2882, 'be': 392, 'glad': 1511, 'had': 1626, 'obama': 2901, '58059507': 29, 'carl_herman': 660, 'kit': 2173, 'daniels': 951, 'raheem': 3205, 'kassam': 2092, 'ариэль': 4377, 'нойола': 4393, 'родригес': 4395, 'jenn': 1964, 'narly': 2789, 'les': 2315, 'visible': 4118, 'jews': 1986, 'did': 1042, 'open': 2929, 'borders': 517, 'aladdinsmiraclelamp': 131, 'eforce': 1187, 'feuer': 1332, 'mint': 2668, 'desk': 1023, 'hayley': 1687, 'phelan': 3063, 'mireya': 2670, 'navarro': 2804, 'timothy': 3955, 'dominic': 1085, 'waghorn': 4137, 'hurdle': 1809, 'denise': 1008, 'grady': 1566, 'eowyn': 1240, '500': 27, 'year': 4316, 'old': 2912, 'map': 2490, 'discovered': 1060, 'shatters': 3595, 'official': 2908, 'history': 1754, 'human': 1803, 'race': 3197, 'different': 1044, 'thee': 3916, 'brenan': 563, 'naasz': 2776, 'meyer': 2637, 'marisa': 2511, 'hunt': 1806, 'krey': 2217, 'righteous': 3324, '73270620': 61, 'declares': 995, 'ww3': 4301, 'caty': 700, 'mcclure': 2575, 'chad': 713, 'bray': 557, 'tennant': 3890, 'azzmador': 334, 'lieber': 2335, 'bolofia': 507, 'lesser': 2317, 'robertson': 3347, 'truckjunkie': 4007, 'rashbaum': 3233, 'mr': 2749, 'wendal': 4206, 'gal': 1435, 'beckerman': 399, 'herb': 1716, 'wolfe': 4271, 'тьерри': 4401, 'мейсан': 4391, 'dottie': 1099, 'langhals': 2267, 'movies': 2745, 'could': 882, 'change': 720, 'understanding': 4044, 'smoking': 3671, 'mirrors': 2673, 'interesting': 1871, 'article': 288, 'about': 79, 'adhd': 102, 'diagnoses': 1035, 'hypnotherapy': 1821, 'by': 625, 'raphael': 3230, 'minder': 2666, 'алла': 4375, 'белькевич': 4378, 'bleikr': 477, 'sound': 3699, 'sui': 3803, 'wee': 4188, 'sridhar': 3725, 'pappu': 2984, 'ladylove': 2254, 'matafuchs': 2547, 'ezekiel22': 1280, 'peppe': 3044, 'vandita': 4078, 'cory': 876, 'doctorow': 1075, 'ruth': 3422, 'ferla': 1326, 'bayefsky': 389, 'engelhardt': 1237, 'cat': 692, 'vagina': 4067, 'nasty': 2791, 'woman': 4278, 'knukles': 2190, 'orwellian_dilemma': 2941, 'dunlap': 1135, 'soloski': 3683, 'erik': 1247, 'piepenburg': 3082, 'maxrockatansky33': 2563, 'bbc': 390, 'targets': 3872, 'children': 745, 'promote': 3156, 'transgender': 3996, 'propaganda': 3157, 'childreninshadow': 746, 'wordpress': 4286, 'shadow': 3574, 'hadfield': 1627, 'stronghorse': 3793, 'muspratt': 2766, 'sebastien': 3542, 'provencher': 3165, 'mohr': 2693, 'rabkin': 3195, 'peachman': 3028, 'magdy': 2449, 'samaan': 3457, 'rod': 3354, 'nordland': 2873, 'lyman': 2421, 'alfano': 155, 'becky': 400, 'akers': 128, 'grace': 1564, 'carrns': 676, 'darkbake': 962, 'gottfried': 1558, 'pearce': 3030, 'infarction': 1857, 'squudge': 3722, 'jo': 2003, 'becker': 398, 'mullany': 2758, 'mcfadden': 2580, 'ginia': 1505, 'bellafante': 413, 'professional': 3153, 'denninger': 1009, 'most': 2737, 'important': 1850, 'concepts': 842, 'manosphere': 2488, 'taught': 3877, 'me': 2599, 'shivley': 3617, 'grouzdeva': 1603, 'леонтина': 4389, 'литвинова': 4390, 'eaton': 1163, 'corey': 870, 'kilgannon': 2153, 'dalton': 938, 'national': 2799, 'public': 3172, 'radio': 3201, 'think': 3937, 'would': 4292, 'look': 2378, 'like': 2340, 'supposed': 3813, 'pictures': 3081, 'extraterrestrials': 1278, 'pascalmolineaux': 3001, 'christian': 764, 'zionist': 4359, 'jeanguenat': 1953, 'ana': 202, 'marie': 2506, 'cox': 894, 'du': 1122, 'er': 1242, 'hvad': 1815, 'læser': 2426, 'dyslexic': 1150, 'workers': 4287, 'saeed': 3437, 'batati': 383, 'rhonda': 3306, 'gilmore': 1503, 'cochrane': 813, 'javi': 1943, 'ramos': 3220, 'bermas': 432, 'strom': 3792, 'fiona': 1343, 'agorist': 121, 'moosa': 2714, 'angier': 219, 'hazyhotdog': 1690, 'farber': 1300, 'hultén': 1802, 'lehren': 2301, 'howerton': 1787, 'vlawde': 4125, 'teotihuacan': 3893, 'hilary': 1744, 'ray': 3239, 'glier': 1522, 'spifflove': 3713, 'dwdan': 1141, 'eckholm': 1168, 'fungirl91': 1418, 'barracuda': 370, 'brigade': 573, 'jeannie': 1955, 'ralston': 3217, 'jerry': 1974, 'garrett': 1452, 'mcnicoll': 2595, 'moskin': 2735, 'tamara': 3858, 'jaime': 1926, 'yaya': 4315, 'buss': 619, 'quoctrung': 3193, 'bui': 605, 'hawkmo99': 1685, 'sen': 3555, 'rand': 3223, 'ky': 2249, 'perlroth': 3048, 'slomotrainwreck': 3663, 'carr': 674, 'fidler': 1333, 'wortham': 4291, 'yako': 4311, 'kohrs': 2196, 'group': 1602, 'iii': 1839, 'lucy': 2408, '12702162': 5, 'joanna': 2006, 'bettie': 443, '18807137': 11, 'denuccio': 1012, 'claudio': 795, 'grass': 1571, 'guy': 1620, 'trebay': 3998, 'bernstein': 437, 'douglas': 1103, 'rodrigues': 3356, 'sacco': 3432, 'vandal': 4077, 'hawkeyerightsmart': 1683, 'tommasini': 3976, 'mikael': 2648, 'thalen': 3907, 'parum': 3000, 'imperium': 1849, 'peeple': 3032, '73271258': 66, 'kedzie': 2111, 'jesse': 1979, 'mckinley': 2589, 'olson': 2919, 'tennesseereddog': 3892, 'billy': 460, 'witz': 4266, 'dl': 1067, 'child': 743, 'reuters': 3297, '1777': 9, 'hivdatingsites': 1757, 'neuhaus': 2825, 'wichter': 4235, 'ethan': 1257, 'huff': 1798, 'mountain': 2741, 'laura': 2277, 'holson': 1767, 'yuko': 4338, 'reinhard': 3278, 'andré': 214, 'pôle': 3182, 'sawchuk': 3492, 'ware': 4167, 'tancredo': 3861, 'youknowwho': 4332, 'valeriya': 4070, 'safronova': 3439, 'ari9999': 272, 'profusion': 3154, 'whyamihere': 4234, 'soetoro': 3679, 'mary': 2535, 'diane': 1037, 'cardwell': 653, 'sebastian': 3541, 'terresa': 3896, 'monroe': 2704, 'hamilton': 1641, 'kondo': 2204, 'hurt': 1810, 'shae': 3576, 'weatherall': 4181, 'balakumar': 348, 'otterman': 2950, 'paper': 2981, 'ostrich': 2945, 'rainman': 3209, 'wes': 4213, 'rami': 3218, 'nazzal': 2808, 'geographic': 1481, 'paulina': 3018, 'villegas': 4109, 'malkin': 2468, 'abrams': 81, 'tileus': 3949, 'prudence': 3168, 'hill': 1745, 'derose': 1020, 'olliep': 2918, 'lenore': 2311, 'mosheshekelrod88': 2734, 'johnsmith2016': 2015, 'mick': 2644, 'samuel': 3463, 'chi': 740, 'gutierrez': 1619, 'red': 3259, 'ice': 1832, 'lostinnm': 2387, 'mikkael': 2650, 'sekeres': 3551, 'gilligan': 1501, 'darlin': 964, 'sifton': 3637, 'alina': 161, 'tugend': 4021, 'kieferle': 2149, 'fed': 1313, 'up': 4052, 'samin': 3461, 'nosrat': 2881, 'florence': 1360, 'fabricant': 1282, 'paula': 3016, 'span': 3705, 'herrman': 1727, 'fury': 1422, 'steve__jacobson': 3763, 'sleuth': 3659, 'journal': 2033, 'yotam': 4330, 'ottolenghi': 2951, 'luis': 2409, 'miranda': 2669, 'shakdam': 3582, 'nellie': 2816, 'mcmaken': 2592, 'glazebrook': 1517, 'white': 4224, 'cohan': 820, 'barrow': 373, 'tonhaben': 3979, 'levin': 2323, 'naturalnews': 2802, 'pudner': 3174, 'aranda': 256, 'zapo': 4347, 'getreal4u2': 1491, 'clarissa': 790, 'sebag': 3540, 'montefiore': 2706, 'diaa': 1033, 'hadid': 1628, 'tobias': 3965, 'kovacs': 2208, 'carlsen': 665, 'paulus': 3022, 'lilia': 2341, 'blaise': 473, 'norimitsu': 2875, 'onishi': 2925, 'elijah': 1209, 'aramzs': 255, 'theantediluvian': 3913, 'leland': 2305, 'baran': 355, 'hines': 1748, 'syrmopoulos': 3843, 'martyn': 2532, 'hemphill': 1713, 'berendt': 427, 'rana': 3222, 'sweis': 3833, 'cigarette_smoking_man': 778, 'saul': 3487, 'streitfeld': 3788, 'bobrow': 497, '73270906': 62, 'beverly': 447, 'gage': 1430, 'kerry': 2133, 'hannon': 1649, 'branko': 552, 'mali': 2465, 'samar': 3459, 'pahwa': 2970, 'rhoden': 3305, 'brunwasser': 593, 'hsun85': 1790, 'fernando': 1329, 'costilla': 880, 'naylor': 2806, 'gibson': 1495, 'frankie': 1389, 'glenn47': 1520, 'africa': 118, 'rappoport': 3232, 'marina': 2507, 'harss': 1668, 'paco': 2966, 'nunez': 2889, 'balint': 350, 'bardi': 362, 'palko': 2972, 'karasz': 2082, 'vinod': 4113, 'sreeharsha': 3724, 'danielle': 950, 'sputnik': 3720, 'catrin': 698, 'einhorn': 1194, 'linh': 2350, 'dinh': 1053, 'extinction': 1277, 'protocol': 3163, 'yearsley': 4317, 'american': 192, 'kugel': 2237, 'jimbob': 1994, 'kia': 2148, 'arkhangelskaïa': 278, 'yessenia': 4322, 'funes': 1417, 'miriam': 2671, 'shocking': 3620, 'society': 3678, 'we': 4180, 'absurdly': 82, 'accept': 83, 'normal': 2877, 'digital': 1046, 'flow': 1361, 'raimondo': 3208, 'kantucky': 2078, 'cao': 646, 'li': 2330, 'ruby': 3406, 'rowell': 3399, 'clare': 788, 'phillips': 3070, 'neversurrender': 2827, 'rev': 3298, 'stravinskas': 3785, 'vindu': 4112, 'goel': 1530, 'bilinski': 457, 'евстахий': 4383, 'стахович': 4400, 'maggy': 2452, 'ayala': 328, 'chastain': 728, 'neo': 2818, 'suresh': 3815, 'subrahmanyan': 3798, 'rush': 3413, 'srikanth': 3726, 'kirsch': 2171, 'chapman': 723, 'digangi': 1045, 'жанна': 4384, 'ивченко': 4386, 'dodge': 1077, 'gomerblog': 1538, 'carewemust': 654, 'garc': 1444, 'ln': 2370, 'buzz': 624, 'lafraniere': 2255, 'powell': 3128, 'puck': 3173, 'armstrong': 280, 'kesten': 2138, 'beach': 393, 'ronald': 3371, 'kilgoar': 2154, 'annalyn': 225, 'kurtz': 2244, 'bast': 382, 'barboza': 361, 'harper': 1662, 'carla': 661, 'correa': 874, 'kristof': 2225, 'scientists': 3528, 'find': 1338, 'plant': 3093, 'treat': 3997, 'diabetes': 1034, 'kill': 2155, 'cells': 708, 'sfo': 3571, 'patriot': 3011, 'moscow': 2732, 'aloe': 176, 'vera': 4096, 'does': 1080, 'body': 501, 'why': 4233, 'egyptians': 1193, 'called': 636, 'immortality': 1847, 'my': 2770, 'blog': 483, 'meghan': 2607, 'daum': 968, 'farruggio': 1305, 'mae': 2447, 'jennings': 1967, 'azu': 333, 'rossi': 3395, 'adrienne': 113, 'suzy': 3825, 'kassem': 2093, 'nathaniel': 2797, 'popper': 3115, 'risen': 3331, 'horst': 1780, 'frohlich': 1405, 'doreen': 1095, 'carvajal': 681, 'goode': 1543, 'butler': 623, 'shaffer': 3577, 'jeno': 1969, 'oleg': 2913, 'jegorow': 1961, 'mullins': 2759, 'fairley': 1293, 'raney': 3227, 'gottinger': 1559, 'klippenstein': 2185, 'mueller': 2753, 'barstow': 377, 'gillis': 1502, 'bundy': 608, '73107416': 49, 'ignatius': 1835, 'umberto': 4042, 'pasti': 3005, 'adamski': 94, 'ward': 4166, 'vic': 4099, 'pittman': 3091, 'ideas': 1833, 'time': 3952, 'sabine': 3428, 'geert': 1468, 'wilders': 4240, 'linda': 2345, 'qiu': 3184, 'coe': 817, 'rit': 3334, 'varriale': 4083, 'zipkin': 4360, 'hans': 1650, 'bader': 339, 'maría': 2538, 'eugenia': 1259, 'díaz': 1153, 'makia': 2462, 'freeman': 1397, 'pleezdeez': 3097, 'para': 2986, 'kazanmak': 2109, 'people': 3042, 'become': 401, 'cuckservatives': 917, 'olallanicolasa': 2911, 'ashton': 292, 'major': 2460, 'maj': 2458, 'prepper': 3136, 'contributed': 860, 'bin': 462, 'hightower': 1740, 'baehr': 342, 'peggie': 3033, 'gor': 1549, 'brandy': 551, 'mocanu': 2687, 'proud': 3164, 'chow': 759, 'maren': 2497, 'jad': 1919, 'mouawad': 2740, 'pinkerton': 3087, 'furber': 1420, 'capt': 648, 'quantrill': 3185, 'sob': 3675, 'rohan': 3362, 'swithinbank': 3835, 'tempus': 3889, 'fugit': 1411, 'there': 3927, 'one': 2923, 'way': 4177, 'planet': 3092, 'but': 621, 'harmonious': 1660, 'sortland': 3698, 'dirk': 1059, 'dolores': 1083, 'morrison': 2731, 'melkulangara': 2614, 'bhadrakumar': 448, 'alexey': 151, 'mosko': 2736, 'evgenia': 1271, 'recrisp': 3258, 'devon': 1027, 'artist': 289, 'brenda': 564, 'walker': 4153, 'settling': 3565, 'visiting': 4119, 'cholula': 757, 'mexico': 2636, 'wembi': 4205, 'czynik': 927, 'jörg': 2058, 'guido': 1611, 'hülsmann': 1823, 'eligio': 1207, 'abellera': 76, 'salkin': 3451, 'ed': 1169, 'krayewski': 2216, 'aer': 114, 'head': 1692, 'marciathemurkymuse': 2494, 'variegated': 4081, 'damien': 940, 'cave': 702, 'hy': 1817, 'feiber': 1318, 'jynxster': 2057, 'jethro': 1982, 'nikas': 2847, 'horace': 1774, 'litsky': 2360, 'yanira': 4313, 'farray': 1303, 'cook': 864, 'jd': 1950, 'salinger': 3450, 'suprememaster': 3814, 'craazee8': 896, 'wigington': 4239, 'kd7one': 2110, 'schneider': 3510, 'cartier': 679, 'bracelet': 539, 'repliques': 3290, 'ketly': 2141, 'rosemary': 3385, 'hansen': 1651, 'gregor': 1588, 'eisenstein': 1196, 'stoyan': 3781, 'sarg': 3480, 'hitlery_4_dictator': 1755, 'kathy': 2099, 'kliguy38': 2183, 'miss': 2677, 'marple': 2522, 'velsey': 4094, 'barron': 372, 'marlise': 2519, 'simons': 3645, '19': 12, 'documentaries': 1076, 'have': 1680, 'an': 201, 'impact': 1848, 'coffs': 819, 'coast': 809, 'health': 1696, 'club': 806, 'luo': 2415, 'election': 1202, 'cheating': 731, 'trump': 4011, 'muster': 2767, 'courage': 887, 'catcall': 694, 'democrat': 1003, 'disqualification': 1063, 'moralmatters': 2716, 'drucker': 1119, 'zarate': 4348, 'maher': 2454, 'sattar': 3486, 'glaucomflecken': 1516, 'mercola': 2625, 'bowne': 534, 'giraldi': 1509, 'alford': 156, 'fred': 1391, 'homans': 1768, 'mcgovern': 2583, 'infographic': 1861, 'showing': 3630, 'male': 2464, 'privilege': 3148, 'really': 3251, 'looks': 2379, 'current': 921, 'concerns': 843, 'switzerland': 3836, 'taffy': 3851, 'brodesser': 579, 'akner': 129, 'brimelow': 575, 'egon': 1191, 'von': 4129, 'greyerz': 1591, 'aroamingcatholicny': 284, 'yearwood': 4318, 'caroline': 672, 'glick': 1521, 'gaffney': 1428, 'shanley': 3590, 'swetlana': 3834, 'archangelskaja': 262, 'negroni': 2812, 'franco': 1386, 'grinnbarrett': 1598, 'brendan': 565, 'nyhan': 2898, 'pappalardo': 2982, 'rutherford': 3423, 'sardi': 3479, 'ivory': 1905, 'griff': 1593, 'jgordon': 1987, 'federico': 1315, 'seapost': 3535, 'bettina': 444, 'elias': 1205, 'emanuel': 1221, 'garcia': 1445, 'md': 2598, 'weber': 4184, 'reversalmushroom': 3300, 'kimberly': 2158, 'morin': 2727, 'tragically': 3992, 'hip': 1750, 'gord': 1551, 'downie': 1107, 'canadian': 641, 'hero': 1723, 'brigitte': 574, 'anon': 228, 'dos': 1098, 'cathy': 696, 'milne': 2663, 'freedman': 1394, 'spure': 3718, 'mona': 2699, 'el': 1198, 'naggar': 2780, 'teeling': 3884, 'samuels': 3464, 'lemind': 2308, 'piccoli': 3079, 'lexi': 2328, 'phyllis': 3075, 'chesler': 737, 'connectdots': 846, 'johnnygl': 2014, 'jdhank': 1951, 'frontpagemag': 1408, 'reinhardt': 3279, 'kenigsberg': 2125, 'hrafnkell': 1789, 'haraldsson': 1654, 'federer': 1314, 'ecclesia': 1166, 'militans': 2655, 'kirp': 2170, 'apepper': 246, 'beck': 397, 'jeter': 1981, 'political': 3106, 'ears': 1156, 'upi': 4053, 'schneier': 3511, 'sonnie': 3692, 'phil': 3065, 'yonette': 4328, 'stclair': 3746, 'schuman': 3518, 'schuetze': 3516, 'tomas': 3974, 'munita': 2760, 'mauricio': 2558, 'lima': 2344, 'gilbert': 1498, 'adoriasoft': 110, 'quintus': 3192, 'curtius': 923, 'vibes': 4098, 'frenchfries': 1399, 'thierry': 3934, 'meyssan': 2639, 'dunetz': 1133, 'norman': 2878, 'morici': 2726, 'wall': 4155, 'fitton': 1347, 'hangthebankers': 1646, 'sendhil': 3556, 'mullainathan': 2757, 'goldbug': 1532, 'petersen': 3056, 'blumenthal': 491, 'bootoutthebullies': 515, 'herrera': 1725, 'refugees': 3268, 'invasion': 1875, 'europe': 1261, 'justice4poland': 2054, 'bowles': 532, 'amrut': 199, 'thobbi': 3939, 'finian': 1340, 'cunningham': 919, 'berger': 428, 'hartshorn': 1670, 'shmuley': 3618, 'boteach': 525, 'crazyewok': 903, 'burnett': 613, 'ivor': 1904, 'prickett': 3143, 'for': 1370, 'tragic': 3991, 'deaths': 988, 'used': 4062, 'vaccine': 4063, 'fear': 1312, 'fence': 1323, 'vaccines': 4064, 'lt': 2402, 'gen': 1474, 'ret': 3296, 'boykin': 536, 'koel': 2194, 'writingsouls': 4297, 'kaiser': 2061, '68756703': 35, 'cjr': 784, '72532037': 47, 'kenny': 2129, 'pritha': 3147, 'worth': 4290, 'gandalf77': 1442, 'drape': 1110, 'administrator': 106, 'childoffather': 744, 'arcturus': 266, 'gilad': 1497, 'atzmon': 310, 'bishop': 468, 'najim': 2784, 'rahim': 3206, 'ganz': 1443, 'cannon': 645, 'gregga777': 1586, 'millie': 2660, 'weaver': 4182, 'hail': 1632, 'face': 1284, 'testosterone': 3901, 'left': 2298, 'van': 4075, 'badham': 341, 'siliani': 3639, 'renee': 3286, 'parsons': 2997, 'margy': 2503, 'rochlin': 3351, 'counter': 884, 'koppel': 2206, 'viralbus': 4115, 'midkiff': 2647, 'gough': 1560, 'alva': 183, 'kushner': 2246, 'davecahill': 970, 'risselada': 3333, 'bank': 354, 'tina': 3957, 'carole': 671, 'davi': 974, 'kaushik': 2105, 'lindsay': 2347, 'cruz': 914, 'hahn': 1631, 'kehr': 2115, 'stuart': 3795, 'laurence': 2279, 'vance': 4076, 'lemieux': 2307, 'dean': 987, 'managing': 2475, 'pauley': 3017, 'syndicator': 3842, 'schreiber': 3513, 'almond': 173, 'hdr22': 1691, 'abramo': 80, 'jewly': 1985, 'hight': 1739, 'jamie': 1932, 'arjun': 276, 'walia': 4151, 'biersdorfer': 452, 'trueactivist': 4009, 'lillie': 2342, 'dremeaux': 1116, 'riggs': 3322, 'freda': 1392, 'moon': 2711, 'skylarking': 3654, 'mleblanc138': 2684, '69290995': 37, 'kurt': 2243, 'hyde': 1818, 'plantinmoretus': 3094, 'abinico': 78, 'theoline': 3924, 'isaacson': 1886, 'jew': 1984, 'antisemitism': 239, 'lords': 2381, '24': 20, 'dale': 936, 'russakoff': 3416, 'outis': 2953, 'philalithopoulos': 3066, 'luciana': 2406, 'bohne': 505, 'bcguy': 391, 'kali74': 2065, 'hijacked': 1742, 'alyson': 185, 'krueger': 2230, 'gunsaz': 1613, 'harun': 1671, 'yahya': 4310, 'brownson': 588, 'sachs': 3433, 'macaray': 2429, 'pankaj': 2978, 'vaidya': 4068, 'surgeons': 3817, 'admit': 107, 'mammography': 2473, 'outdated': 2952, 'harmful': 1658, 'women': 4280, 'schweikart': 3524, 'olga': 2914, 'photoshopova': 3074, 'ccblogging': 704, 'clayton': 797, 'cp': 895, 'german': 1485, 'masha': 2539, 'goncharova': 1540, 'nuts': 2893, 'salerno': 3449, 'gellene': 1471, 'ar': 253, 'show': 3629, 'willy': 4249, 'wimmer': 4253, 'depinto': 1014, 'lange': 2266, 'clevenger': 799, 'irishcommander': 1880, 'grosso': 1600, 'spousta': 3716, 'momofiv': 2698, 'kerwick': 2135, 'nuwer': 2894, 'birdie': 467, 'houck': 1783, 'roots': 3379, 'babalooey': 335, 'thamiel': 3908, 'rosenkreuz': 3389, 'carmela': 666, 'tyrell': 4034, 'swanberg': 3829, 'terry': 3897, 'diamond': 1036, 'gia': 1494, 'kourlas': 2207, 'russ': 3415, 'buettner': 602, 'sophia': 3696, 'kercher': 2132, 'suzanne': 3824, 'josephbc69': 2029, 'ozbanislam': 2963, 'aargh63': 70, 'evie': 1272, 'childs': 747, 'castiel': 689, 'haimerl': 1633, 'lori': 2383, 'rotenberk': 3396, 'dreamjoehill': 1113, 'tna': 3961, 'video': 4104, 'walid': 4152, 'shoebat': 3622, 'right': 3323, 'noble': 2864, 'wilford': 4242, 'sue': 3800, 'penn': 3039, 'suepennontwitte': 3801, 'midfield': 2646, 'bronwyn': 584, 'cosgrave': 878, 'rabon': 3196, 'chika': 742, 'oduah': 2906, 'tooney': 3983, 'ellis': 1218, 'morning': 2728, 'symons': 3841, 'reldra': 3282, 'weitz': 4200, 'judi': 2041, 'perlstein': 3049, 'maximilien': 2561, 'aertryck': 115, 'axel': 326, 'danielson': 952, 'gloria': 1524, 'dawson': 981, 'alix': 165, 'strauss': 3784, '72242221': 44, 'ksenia': 2234, 'isaeva': 1889, 'mildred': 2654, 'kraus': 2214, 'bentley': 426, 'tamar': 3857, 'pamalinsky': 2975, 'toddyo1935': 3969, 'murder': 2763, 'inc': 1852, 'wanderer': 4164, 'barbaramck42': 358, 'methepeople': 2634, 'rights': 3325, 'watch': 4173, 'simanonok': 3642, 'dionna': 1056, 'crimmins': 907, 'jekaterina': 1962, 'sinelschtschikowa': 3648, 'allan': 166, 'o8srvantcync': 2900, 'matzu': 2555, 'yagi': 4308, 'deplorableduckhunter': 1016, 'dilorenzo': 1049, 'square': 3721, 'lloyd': 2369, 'billingsley': 459, 'nice': 2837, 'lady': 2253, 'marshall': 2525, 'rigby': 3321, 'gomez': 1539, 'westriversd1': 4216, 'astore': 304, 'deirdre': 998, 'fulton': 1415, 'brooke': 585, 'jarvis': 1940, 'kollerstrom': 2201, 'jtmcphee': 2039, 'keltner': 2122, 'channel': 721, 'surf': 3816, 'юлия': 4402, 'громова': 4382, 'nikita': 2849, 'milad': 2651, 'amini': 194, 'movahhed': 2742, 'shemp': 3606, 'victory': 4103, 'antilla': 238, 'astrid': 305, 'wendlandt': 4208, 'objectivefactsmatter': 2903, 'troll': 4002, 'tyson': 4036, 'louttit': 2394, 'denicola': 1006, 'garyl': 1456, 'merryman': 2632, 'lotze': 2389, 'constipation': 857, 'thehealthology': 3919, 'pejchl': 3036, 'wrightman': 4295, 'colonel': 834, 'gunter': 1614, 'brumm': 591, 'pasquale': 3002, 'leavenworth': 2293, 'kiki': 2151, 'zhao': 4354, 'meltzer': 2615, 'xxux': 4307, 'carolyn': 673, 'zhang': 4353, 'capecchi': 647, 'angryninja': 221, 'top': 3984, 'des': 1022, 'shoe': 3621, 'crony': 912, 'kleptocracy': 2182, 'katarina': 2094, 'johannsen': 2012, 'tessa': 3899, 'texas': 3902, 'baruchman': 380, 'swath': 3832, 'martist': 2531, 'balthis': 351, 'thepoet': 3925, 'daniela': 949, 'porat': 3117, 'agustin': 122, 'armendariz': 279, 'deutsch': 1025, 'nachman': 2777, 'τιερί': 4374, 'μεϊσάν': 4373, 'willie': 4248, 'soon': 3694, 'istván': 1896, 'markó': 2517, 'kline': 2184, 'kucinich': 2235, 'am': 186, 'zaphod': 4345, 'braden': 541, 'freedumb': 1395, 'stevens': 3766, 'zubacheva': 4364, 'direct': 1058, 'austin': 319, 'frakt': 1381, 'pépe': 3180, 'déplorable': 1152, 'wade': 4135, 'game': 1440, 'modern': 2689, 'rite': 3336, 'passage': 3003, 'helps': 1710, 'turn': 4026, 'boys': 538, 'men': 2616, 'pir': 3090, 'zubair': 4365, 'detector': 1024, 'ileana': 1844, 'willz': 4250, 'nationality': 2800, 'ethnicity': 1258, '73271054': 63, 'specia': 3708, 'dexy': 1030, 'depalma': 1013, 'kurutz': 2245, 'agency': 119, 'stapinski': 3737, '73110918': 50, 'didi': 1043, 'kirsten': 2172, 'tatlow': 3875, 'lamar': 2258, 'havard': 1679, 'gabrielson': 1427, 'sanders': 3466, 'nofake': 2868, 'sontag': 3693, 'guess': 1608, 'happened': 1652, 'chiraq': 751, 'past': 3004, 'weekend': 4190, 'hint': 1749, 'set': 3563, 'another': 230, 'record': 3257, 'dykes': 1147, 'moravcik': 2718, 'walbert': 4148, 'presidente': 3137, 'codfish': 816, 'babich': 336, 'bergman': 429, 'vasa': 4084, 'croe': 910, 'knoch': 2188, 'mansour': 2489, 'endoftheworld': 1231, 'borzi': 523, 'ridenhouse': 3319, 'pappano': 2983, 'fitzroy': 1348, 'sommerset': 3688, 'ingunn': 1866, 'kvil': 2247, 'gamst': 1441, 'phlox': 3072, 'chauncey': 730, 'thecountess': 3914, 'plorable': 3098, 'shiebler': 3612, 'ain': 127, 'seasonal': 3538, 'sadness': 3436, 'magnesium': 2453, 'activation': 87, 'munk': 2761, 'walter': 4160, 'chaban': 712, 'nikole': 2853, 'steps': 3759, 'becoming': 402, 'leader': 2289, 'possible': 3120, 'motivate3': 2738, 'ramzy': 3221, 'baroud': 369, 'fair': 1291, 'komrade': 2203, 'mcdonald': 2578, 'greenley': 1583, 'madine': 2445, 'mtj': 2751, 'darius': 961, 'shahtahmasebi': 3580, 'галина': 4381, 'солнцева': 4399, 'hunziker': 1808, 'jade': 1922, 'rueb': 3407, 'starman': 3740, 'luke': 2410, 'quietsch': 3190, 'vn': 4126, 'dorsey': 1097, 'morgana': 2724, 'le': 2288, 'fay': 1310, 'batave': 384, 'poqueliche': 3116, 'theodore': 3923, 'eammons': 1154, 'day': 982, 'dead': 986, '2015': 17, 'food': 1367, 'reflections': 3267, 'lawson': 2284, 'gray': 1572, 'julio': 2050, 'césar': 928, 'alba': 136, 'bravo': 556, 'spankthebank': 3706, 'cashill': 686, 'weiner': 4193, 'terani': 3894, 'perticone': 3052, 'sasha': 3483, 'cowell': 892, '1980xls': 14, 'kitty': 2175, 'hodge': 1758, 'encryptor': 1230, 'floyd': 1362, 'whaley': 4219, 'parul': 2999, 'sehgal': 3549, 'jasper': 1942, 'jeannette': 1954, 'scaliger': 3497, 'blythe': 493, 'moira': 2695, 'weigel': 4191, 'whackamole': 4218, 'clarke': 792, 'ordered': 2935, 'pay': 3024, '72': 42, 'million': 2661, 'case': 683, 'caused': 701, 'baby': 337, 'powder': 3127, 'ahileo': 123, 'captainbeno': 650, 'scalise': 3498, 'hornbeck': 1777, 'schindler': 3505, 'brenner': 567, 'ito': 1899, 'urbina': 4056, 'chivers': 753, 'mirror': 2672, 'uk': 4040, 'vaughn_p': 4086, 'papadimoulis': 2980, 'gazeta': 1465, 'ru': 3403, 'educate': 1182, 'inspire': 1869, 'nili': 2854, 'stockton': 3774, 'sablich': 3429, 'alma': 171, 'aurora': 315, 'almendral': 172, 'sponsored': 3715, 'drrichard': 1118, 'austerlitz': 318, 'roberta': 3345, 'otherwords': 2948, 'karencole': 2086, 'throngsman': 3945, 'chandra': 717, 'muzaffar': 2769, 'richie': 3313, 'gallo': 1438, 'allie': 168, 'stark': 3738, 'love': 2395, 'financial': 1337, 'systems': 3845, 'plc': 3096, 'chevyman': 738, '2noxtnt': 22, 'thezeitgeist': 3933, 'butch': 622, 'doktor': 1081, 'schnabel': 3509, 'nikolaï': 2852, 'litovkine': 2359, 'wombat': 4279, 'jada': 1920, 'combs': 837, 'duhigg': 1128, 'mail': 2457, '50906934': 28, 'ирина': 4387, 'солетова': 4398, 'odom': 2905, 'salama': 3447, 'feshonalflip': 1331, 'carlotta': 664, 'gall': 1437, 'realities': 3250, 'come': 838, 'taking': 3854, 'full': 1413, 'responsibility': 3295, 'rus': 3412, 'monteiro': 2707, 'grippe': 1599, 'ralph': 3216, 'nader': 2778, 'thom': 3940, 'shanker': 3589, 'violater1': 4114, 'mackie': 2437, 'dwellsinfire': 1142, 'goddd': 1529, '72306068': 45, 'iamc2': 1825, 'nadia': 2779, 'prupis': 3169, 'orwell': 2940, 'trainyourreplacement': 3994, 'rob': 3342, 'unreal': 4050, 'mama': 2472, 'independent': 1853, 'thrishul': 3944, 'messengerinthelastdays': 2633, 'meriem': 2629, 'kheira': 2146, 'peillet': 3034, 'goldrulespaperdrools': 1535, 'waldrop': 4149, 'go': 1526, '43400051': 23, 'avery': 323, 'adpres': 111, 'net': 2822, 'snider': 3672, 'meridith': 2627, 'kohut': 2197, 'hoppert': 1773, 'smithy': 3670, 'esha': 1254, 'chhabra': 739, 'bart': 378, 'sibrel': 3634, 'stodghill': 3775, 'hatesec': 1675, 'jorgensen': 2026, 'starmount': 3741, 'tnb': 3962, 'pa': 2964, 'nevradakis': 2829, 'baggett': 343, 'north': 2879, 'noclist': 2866, 'kandell': 2072, 'symmes': 3840, 'cobb': 811, 'whatifs': 4221, 'hyman': 1819, 'moynihan': 2747, 'angel': 217, 'nyc': 2897, 'roslyn': 3392, 'sulcas': 3805, 'malterwitty': 2471, 'markoff': 2516, 'trucker': 4006, 'glock': 1523, 'hesh': 1729, 'prayingmantis': 3133, 'anastasia': 205, 'stepanova': 3755, 'snowblind': 3673, 'creswell': 906, 'phillip': 3069, 'watt': 4176, 'waltron': 4162, '72417024': 46, 'ekaterina': 1197, 'gorlitsyna': 1554, 'devinne': 1026, 'olivia': 2917, 'gagan': 1429, 'schenkman': 3502, 'elelei': 1203, 'guhring': 1610, 'carmen': 667, 'di': 1032, 'luccio': 2405, 'edmondson': 1178, 'jody': 2009, 'norm': 2876, 'bimstein': 461, '71489130': 41, 'oxman': 2961, 'chanda': 716, 'chisala': 752, 'stratton': 3783, '46844538': 24, 'laird': 2256, 'alexeï': 152, 'guillaume': 1612, 'durocher': 1139, '11': 2, 'things': 3936, 'let': 2319, 'before': 407, 'burbulis': 610, 'dela': 999, 'vega': 4091, 'alexcharting': 150, 'rachele': 3199, 'marmetti': 2521, 'meier': 2608, 'lisco': 2356, 'henrik': 1714, 'pryser': 3170, 'libell': 2332, 'buren': 611, 'francis': 1385, 'begbie': 409, 'severo': 3566, 'zaphod58': 4346, 'margaux': 2500, 'laskey': 2274, 'stone': 3778, 'rajie': 3213, 'kabli': 2059, 'heyman': 1734, 'zeiger': 4349, 'marchione': 2493, 'charlieseattle': 726, 'patriots': 3013, 'bonfire': 510, 'me777': 2600, 'steele': 3748, 'crystal': 915, 'ismail': 1894, 'craazyboy': 897, 'metta': 2635, 'catron': 699, 'god': 1528, 'country': 885, 'zahra': 4343, 'levere': 2322, '73266834': 55, 'ways': 4178, 'start': 3743, 'feeling': 1317, 'better': 442, 'yourself': 4335, 'now': 2886, 'rosman': 3393, 'razib': 3241, 'plumpplumberbalding': 3099, 'tink': 3958, 'walters': 4161, 'jen': 1963, 'feng': 1325, 'beanie': 394, 'kingdom': 2165, 'ambassador': 189, 'binoy': 464, 'kampmark': 2070, 'wadler': 4136, 'reaño': 3253, 'nwo2012': 2896, '73268261': 56, 'jtlowe83': 2038, 'specially': 3710, 'rir': 3330, 'nechayev': 2810, 'energy': 1233, 'reiki': 3274, 'barsocchini': 376, 'raymond': 3240, 'ibrahim': 1829, 'bobwhite': 498, 'chomsky': 758, 'criticalstinker': 909, 'shuaib': 3633, 'almosawa': 174, 'kareem': 2084, 'proyect': 3167, 'sanitizedinfo': 3472, 'egan': 1189, 'troy': 4004, 'nomadison': 2870, 'cowdiddly': 891, 'ulonda': 4041, 'faye': 1311, 'hopewell': 1771, 'chin': 748, 'ono': 2927, 'abad': 72, 'shoot': 3624, 'first': 1344, 'ask': 296, 'questions': 3189, 'later': 2275, 'happens': 1653, 'ufo': 4038, 'when': 4222, 'tracked': 3988, 'military': 2656, 'radar': 3200, 'supertard': 3811, 'thad': 3905, 'carhart': 657, 'giordano': 1506, 'tonya': 3982, 'parnell': 2995, 'almost': 175, 'france': 1382, 'medicated': 2603, 'here': 1720, 'define': 996, 'kind': 2162, 'addiction': 96, 'wghyelimblog': 4217, 'jilliejoel': 1991, 'lawrence': 2283, 'altman': 181, 'jett': 1983, 'chuck': 771, 'nehlen': 2813, 'thelonelyauthorblog': 3921, 'kalee': 2064, 'bigr': 455, 'alicia': 160, 'parlapiano': 2994, 'chatterton': 729, 'prager': 3130, '69826920': 39, 'shamus': 3587, 'cooke': 865, 'woodson': 4283, 'gerard': 1484, 'cesar': 710, 'chelala': 732, 'nowosti': 2887, 'pavel': 3023, 'gajkov': 1434, 'betty': 445, 'mad': 2441, 'aussie': 316, 'anastassia': 206, '73271485': 67, 'سعيد': 4413, 'هلال': 4420, 'الشريفي': 4406, 'alberto': 137, 'arce': 260, 'block': 481, 'eavis': 1164, 'dick': 1038, 'antharrison': 235, 'ivana': 1902, 'nikolai': 2850, 'litovkin': 2358, 'bloodydagger': 486, 'vincentelli': 4111, 'kaufman': 2104, 'seentoomuch': 3547, 'mutton': 2768, 'dorman': 1096, '64345242': 33, 'benny': 423, 'huang': 1792, 'traildustfotm': 3993, 'rock': 3352, 'netschajew': 2823, 'corombos': 873, 'wasik': 4172, 'garrison': 1454, 'zucchino': 4366, 'paris': 2990, 'swade': 3828, 'griffin': 1595, 'shepherd': 3608, 'max2205': 2560, 'lewis': 2327, 'bugs': 604, 'bunny': 609, 'crazy': 902, 'stefanie': 3750, 'macwilliams': 2440, 'maria': 2504, 'dubovikova': 1124, 'chemi': 733, 'shalev': 3584, 'sobran': 3677, 'zombie': 4362, 'arguments': 270, 'lsr': 2401, 'prevost': 3141, 'shiller': 3613, 'windcharger': 4255, 'begby': 410, 'roscoe': 3383, 'good': 1542, 'summer': 3808, 'brendawatson': 566, 'wellman': 4202, 'rickroland': 3317, 'hayek': 1686, 'iwanowa': 1906, 'headly': 1693, 'westerfield': 4215, 'serena': 3560, 'solomon': 3682, 'gabrielle': 1426, 'glaser': 1515, 'gariac': 1449, 'clair': 786, 'scorpio': 3530, 'making': 2463, 'calculated': 632, 'effort': 1186, 'psycho': 3171, 'witt': 4264, 'steventexas': 3768, 'enemyofthestate': 1232, 'eisegesis': 1195, 'conservative4ever': 854, 'bethea': 441, 'rosemariejackowski': 3384, 'zzz': 4370, 'lehman': 2299, 'uncommon': 4043, 'sense': 3559, 'igor': 1836, 'rozine': 3401, 'marine': 2508, 'fighting': 1335, 'tyranny': 4033, 'carissa': 658, 'dunphy': 1136, 'goldbugger': 1533, 'some': 3685, 'altruistic': 182, 'others': 2947, 'them': 3922, 'thunderbird': 3947, 'manil': 2481, 'suri': 3818, 'marcil': 2495, 'nos': 2880, 'nevets': 2828, 'rollo': 3367, 'romig': 3369, 'gideon': 1496, 'krm': 2227, 'comrade': 841, 'torcer': 3986, 'gilbertson': 1499, 'thecraziesarerunningtheasylum': 3915, 'ibu': 1830, 'sumiatung': 3807, 'hawgood': 1682, 'safak': 3438, 'timur': 3956, 'rosenthal': 3390, 'texasoutlaw': 3903, '1786283': 10, 'maggieinwy': 2451, 'dreamed': 1112, 'highlight': 1738, 'duckie': 1125, 'book': 513, 'nook': 2872, 'dina': 1051, 'kraft': 2212, 'crair': 899, 'renewnews': 3288, 'nutritious': 2892, 'foods': 1368, 'help': 1709, 'reduce': 3265, 'asthma': 302, 'attacks': 309, 'boost': 514, 'alternative': 180, 'shnayerson': 3619, 'ronda': 3372, 'kaysen': 2108, 'hubwolf': 1795, 'gonzález': 1541, 'vázquez': 4134, 'brig': 572, 'asif': 294, 'raja': 3212, 'judith': 2042, 'dobrzynski': 1073, 'jovanovich': 2034, '47402853': 25, 'stringfellow': 3791, 'jeffery': 1959, 'pritchett': 3146, 'knopper': 2189, 'luke101': 2411, 'science': 3526, 'overwhelming': 2956, 'point': 3102, 'wifi': 4237, 'industry': 1854, 'appeals': 249, 'brain': 546, 'tumor': 4023, 'association': 301, 'ordinanc': 2936, '73226313': 52, 'rickm': 3316, 'prairieshepherd': 3131, '73271172': 65, 'mercouris': 2626, 'trevor': 4000, 'loudon': 2391, 'pui': 3175, 'wing': 4258, 'tam': 3856, 'saurav': 3488, 'dutt': 1140, 'piltdownman': 3086, 'cintorino': 780, 'flora': 1359, 'police': 3104, 'state': 3744, 'dlrisvh': 1068, 'masuike': 2546, 'heard': 1698, 'dunkerley': 1134, 'wojewodina': 4269, 'subvet': 3799, 'das': 967, 'giovannini': 1508, 'ricky': 3318, 'twisdale': 4029, 'jimmybitch': 1997, 'clay': 796, 'steinberger': 3753, 'precious': 3134, 'tsinnijinnie': 4018, 'wenkert': 4210, 'manion': 2482, 'danika': 953, 'bobert727': 496, 'whollyshiite': 4232, 'shalabh': 3583, 'shalli': 3585, 'dinle': 1054, 'kessel': 2137, 'naumovski': 2803, 'pauline': 3019, 'bock': 499, 'arielle': 275, 'dollinger': 1082, 'deplorablekarmafordems': 1017, 'blackproject': 471, 'vecsey': 4090, 'lindsey': 2348, 'underwood': 4045, 'burris': 616, 'darth': 966, 'blowfish': 488, 'tru': 4005, 'nutrition': 2891, 'cronon': 911, 'chiefquana': 741, 'ghostrager': 1493, 't172048': 3847, 'truthstream': 4015, 'lintaylor': 2351, 'vitrified': 4121, 'lakshmima': 2257, 'fpif': 1380, 'kj': 2177, 'dell': 1001, 'antonia': 242, 'ebrahim': 1165, 'gambler': 1439, 'wittner': 4265, 'faturechi': 1308, 'propublica': 3159, 'davidson': 977, 'zinda': 4357, 'rixon': 3339, 'amber': 191, 'carlin': 662, 'mishkin': 2674, '68881719': 36, 'doerr': 1079, 'muhlke': 2754, 'truebrit': 4010, 'scheuer': 3503, 'koyote': 2210, 'aapi': 69, 'mandy': 2479, 'uri': 4057, 'avnery': 324, 'maya': 2565, 'salam': 3446, 'shelp': 3605, 'homeward': 1769, 'bound': 530, 'ayesha': 329, 'venkataraman': 4095, 'fried': 1402, 'breen': 561, 'bruni': 592, 'vassman': 4085, 'bloom': 487, 'walt': 4159, 'bogdanich': 504, 'jinmi': 2001, 'gurley': 1615, 'pandadude12345': 2977, 'zumwalt': 4368, 'derrick': 1021, 'broze': 589, 'jaclyn': 1913, 'peiser': 3035, 'raisi': 3210, 'hussein': 1811, 'mohamed': 2691, 'kashai': 2091, 'pinkus': 3088, 'cheryl': 736, 'jimbeau': 1993, 'boriqua': 519, 'conhambrre': 845, 'paola': 2979, 'singer': 3649, 'adobochron': 108, 'demarco': 1002, 'gavin': 1461, 'mcinnes': 2586, 'madison': 2446, 'budowich': 601, '1a': 15, 'future': 1423, 'sleep': 3658, 'ciccariello': 775, 'macdougall': 2432, 'clyde': 807, 'reilly': 3276, 'nayeri': 2805, 'jimmy': 1996, 'rustling': 3420, 'valerie': 4069, 'june': 2052, 'vanness': 4080, 'ibcamn': 1828, 'joworth': 2035, 'bs1986': 597, 'bashar': 381, 'assad': 297, 'montague': 2705, 'liu': 2363, 'cixin': 782, 'surin': 3819, 'atkinson': 308, 'voteforno6': 4133, 'maureen': 2557, 'dowd': 1105, '73271104': 64, 'lyle': 2420, 'stan': 3734, 'julian': 2047, 'vigo': 4107, 'kurson': 2242, 'alanna': 134, 'ketler': 2139, 'kenan': 2124, 'lott': 2388, 'óscar': 4371, 'martínez': 2533, 'efren': 1188, 'lemus': 2309, 'carlos': 663, 'zia': 4355, 'ur': 4055, 'rehman': 3271, 'pedroo': 3031, 'buruma': 618, 'bulcha': 606, 'herbcaen': 1717, 'arawma': 259, 'dulciuri': 1130, 'raw': 3237, 'vegane': 4092, 'doucyet': 1100, 'rhoolyn': 3307, 'autumn': 321, 'tz1': 4037, 'eddington': 1170, 'blum': 490, 'vadum': 4066, 'antonw': 243, 'molly': 2697, 'young': 4333, 'tx': 4031, 'hotcocco': 1782, 'hitt': 1756, 'rogene': 3359, 'jacquette': 1918, 'liberalism': 2333, 'disease': 1061, 'rk': 3340, 'graciela': 1565, 'méndez': 2774, 'андрей': 4376, 'иванов': 4385, 'paultarsuss': 3021, 'pac522': 2965, 'bachar': 338, 'ja': 1908, 'afari': 116, 'gaikov': 1432, 'eamonn': 1155, 'fingleton': 1339, 'burleson': 612, 'eva': 1264, 'sohlman': 3680, 'landers': 2262, 'tania': 3862, 'sabri': 3430, 'caldwell': 633, 'washington': 4170, 'mobiusmale': 2686, 'slickmick': 3660, 'rakesh': 3215, 'krishnan': 2221, 'simha': 3643, '73269813': 58, 'n4usa': 2775, 'orang': 2934, 'kiyani': 2176, 'bradley': 544, 'fin': 1336, 'blecher': 476, 'truthteller': 4016, '118243': 3, 'megajess': 2605, 'zagoria': 4342, 'audrey': 311, 'moseley': 2733, 'daves': 972, 'fernbach': 1330, 'sloman': 3661, 'trumprolled': 4012, 'whiterefugee': 4227, 'prophet': 3158, '58565188': 31, 'indvik': 1855, 'neoholographic': 2819, 'leo': 2312, 'hohmann': 1761, 'roscitto': 3382, 'alastair': 135, 'macaulay': 2430, 'goofy': 1548, 'amisha': 195, 'padnani': 2969, 'heisler': 1705, 'august': 312, 'moliere': 2696, 'conover': 850, 'kennard': 2126, 'kron': 2228, '73237446': 54, 'lyn': 2422, 'leahz': 2291, 'cdc': 705, 'accused': 84, 'blocking': 482, 'testimony': 3900, 'scientist': 3527, 'malpractice': 2470, 'injury': 1867, 'lawyer': 2285, 'ripley': 3328, 'shevelkina': 3611, 'reiland': 3275, 'hanna': 1647, 'ingber': 1865, '70076674': 40, 'baum': 387, 'darcy': 959, 'eveleigh': 1266, 'randall': 3225, 'claudia': 794, 'dreifus': 1115, 'bonnie': 511, 'wertheim': 4212, 'dhruv': 1031, 'khullar': 2147, 'wanda': 4163, 'lay': 2286, 'asshat900': 299, 'truthbtold': 4014, 'thetoolman': 3931, 'easy': 1161, 'salad': 3445, 'recipes': 3256, 'control': 862, 'intopurification': 1874, 'classified': 793, 'ilana': 1841, 'mercer': 2624, 'maddock': 2442, 'manchester': 2477, 'thatonedad': 3911, 'barryobarma': 375, 'reif': 3273, 'bev': 446, 'jed': 1956, 'percy': 3045, 'grayeagle': 1573, 'natasha': 2793, 'ripper': 3329, 'cavrecon22': 703, 'herrero': 1726, 'adobochronicles': 109, 'or': 2933, 'satire': 3484, 'alfred': 157, 'regnery': 3270, 'sylvie': 3839, 'bigar': 454, 'sadie': 3435, 'stevemagegod': 3764, 'vek': 4093, 'kojo': 2199, 'brutus': 594, 'centinel': 709, 'ohemad': 2909, '73271507': 68, 'battle': 385, '2012newstart': 16, 'louise': 2393, 'story': 3780, 'jeery': 1957, 'park': 2991, 'mccoy': 2576, 'agent': 120, 'blackwell': 472, 'mackenzie': 2436, 'still': 3772, 'has': 1673, 'martial': 2528, 'law': 2282, 'kozikowski': 2211, 'roodt': 3375, 'emotions': 1227, 'spiritual': 3714, 'response': 3294, 'therapy': 3926, 'loving': 2397, 'srt': 3727, 'system': 3844, 'nancy': 2785, 'reiner': 3277, 'alert': 143, '72987209': 48, 'bodden': 500, 'elbert': 1200, 'sr': 3723, 'deckard': 993, 'muchmadness': 2752, 'elliptic': 1217, 'curve': 924, 'poutine': 3125, 'jazmine': 1948, 'lunaflora': 2413, 'bradlee': 543, 'cloughley': 805, 'brasch': 554, 'luz': 2418, 'fornieles': 1373, 'sánchez': 3846, 'kingson': 2167, 'judy': 2043, 'zwyghuizen': 4369, 'keepnews': 2112, 'tyrer': 4035, 'phelim': 3064, 'mcaleer': 2568, 'yhc': 4323, 'ftse': 1409, 'thilliker2': 3935, 'thesungod': 3930, 'parham': 2989, 'boryana': 522, 'dzhambazova': 1151, 'michaelangelo': 2641, 'matos': 2549, 'lazare': 2287, 'fenenko': 1324, 'pour': 3124, 'chrisf': 762, 'celine': 707, 'openthepodbaydoorshal': 2930, 'morford': 2722, 'taliercio': 3855, 'randal': 3224, 'archibold': 263, 'kristopher': 2226, 'customize': 925, 'own': 2959, 'jerseys': 1975, 'alain': 132, 'botton': 527, 'mcleod': 2591, 'ansfield': 233, 'thaddeus': 3906, 'bee': 403, 'shapiro': 3592, 'ketley': 2140, 'emmett': 1226, 'aleksandar': 141, 'dimishkovski': 1050, 'lantier': 2268, 'fart': 1306, 'cupped': 920, 'smelled': 3667, 'praetorianaz': 3129, 'crispin': 908, 'lostbook': 2386, 'susannapanevin': 3821, 'تييري': 4409, 'ميسان': 4418, 'dickey': 1040, 'hedges': 1703, 'fleischman': 1355, 'wb': 4179, 'andre': 210, 'freethinker2016': 1398, 'lowrey': 2400, 'wendell': 4207, 'jamieson': 1933, 'leonor': 2314, 'tillmann': 3950, 'canedy': 643, 'ilaria': 1842, 'kantorova': 2077, 'inzhelevsky': 1877, 'davidov': 976, 'hardman': 1655, 'dinah': 1052, 'eng': 1234, 'donnell': 1093, 'coffelt': 818, 'physicists': 3077, 'say': 3495, 'consciousness': 852, 'considered': 855, 'matter': 2551, 'non': 2871, 'physical': 3076, 'geoff': 1479, 'silliphant': 3640, 'jonjonj': 2023, 'ssenerawa': 3728, 'shone': 3623, 'vavreck': 4087, '69608020': 38, 'beautiful': 396, 'images': 1845, 'remind': 3283, 'iamtat': 1826, 'fletcher': 1356, 'lynnmccrann': 2424, 'varney': 4082, 'not': 2883, '15': 8, 'plants': 3095, 'herbs': 1719, 'lung': 2414, 'heal': 1694, 'respiratory': 3292, 'infections': 1858, 'repair': 3289, 'pulmonary': 3177, 'damage': 939, 'welcometoskaamoog': 4201, 'mallozzi': 2469, 'seymour': 3569, 'pope': 3113, 'sami': 3460, 'jamil': 1934, 'jadallah': 1921, 'scot': 3531, 'vorse': 4132, 'donaldbreaux': 1091, 'rejean': 3280, 'paquette': 2985, 'moxley': 2746, 'hal': 1636, 'apeeno': 245, 'strugatch': 3794, 'dalia': 937, 'sussman': 3823, 'chaney': 718, 'maximus': 2562, 'decimus': 992, 'meridius': 2628, 'nickreality65': 2841, 'vallehombre': 4072, 'elsevar': 1219, 'castillo': 690, 'kujawinski': 2238, 'rik': 3326, 'storr': 3779, 'wahid': 4140, 'azal': 330, 'karin': 2087, 'zakrzewski': 4344, 'graziano': 1576, 'lutz': 2417, 'bryan2006': 596, 'tanya': 3866, 'mohn': 2692, 'soniah': 3691, 'kamal': 2067, 'alpert': 177, 'unicorn': 4046, 'riot': 3327, 'yi': 4324, 'consuelo': 859, 'caspian': 687, 'oberg': 2902, 'damir': 941, 'marinovich': 2510, 'wakeupamericaplease': 4144, 'knut': 2191, 'lindtner': 2349, 'elie': 1206, 'dominic_mcg': 1086, 'berkeley': 430, 'mystical': 2772, 'shire': 3614, 'branco': 549, 'jacques': 1917, 'seingalt': 3550, 'owings': 2958, 'winchester': 4254, 'eat': 1162, 'balanced': 349, 'hormones': 1776, 'neilmd': 2815, 'naomi': 2787, 'staten': 3745, 'wilkerson': 4243, 'harrod': 1665, 'bennie': 422, 'frazier': 1390, 'anita': 222, 'gates': 1457, 'herodotus': 1724, 'jamison': 1935, 'whiteside': 4228, 'freeinaz': 1396, 'menefee': 2620, 'listen': 2357, 'infidel': 1859, 'coin': 823, 'wjfox': 4267, 'sky': 3653, 'bickers': 450, 'misterdawg': 2678, 'marblenecltr': 2491, 'jaded': 1923, 'other': 2946, 'sigal': 3638, 'bernabe': 433, 'strayed': 3786, 'sawyer': 3493, 'yrag': 4337, 'werdna': 4211, 'xuaedobiht': 4305, 'gayvet': 1464, 'sterling': 3760, 'jutte': 2056, 'jadedandcynical': 1924, 'msm': 2750, 'report': 3291, '73227186': 53, 'ελευθερία': 4372, 'foster': 1376, 'kamer': 2068, 'weintraub': 4196, 'lg': 2329, 'cache': 628, 'valley': 4073, 'rubenstein': 3404, '63478933': 32, 'rauch': 3235, 'владимир': 4380, 'путин': 4394, 'act': 86, 'alice': 159, 'salles': 3452, 'astronomy': 306, 'itamar': 1898, 'marcus': 2496, 'francine': 1384, 'prose': 3160, 'tarasenko': 3870, 'karml': 2089, 'denby': 1004, 'catbird': 693, 'seat': 3539, 'popescu': 3114, 'gajewski': 1433, 'ovarian': 2954, 'view': 4105, 'jimmecricket': 1995, 'deneen': 1005, 'borelli': 518, 'jorge': 2025, 'mcaninch': 2569, 'jula': 2044, 'huxsted': 1814, 'buffalobob': 603, 'slowpoke': 3665, 'yo': 4326, 'soy': 3703, 'gavan': 1460, 'fitzsimons': 1350, 'busta': 620, 'myth': 2773, 'leeann': 2297, 'springer': 3717, 'quigley': 3191, 'ciaran': 774, 'mcevoy': 2579, 'pieraccini': 3083, 'jomo': 2017, 'merritt': 2631, 'astor': 303, '73135225': 51, 'sisu': 3652, 'misleading': 2676, 'labels': 2252, 'breaks': 558, 'which': 4223, 're': 3245, 'mean': 2601, 'walkertecharts': 4154, 'prof': 3152, 'room': 3376, '101': 1, 'bluuder': 492, 'edsall': 1180, 'tejada': 3885, '67204360': 34, 'krys': 2233, 'nyla': 2899, 'todhunter': 3970, 'mod': 2688, 'nightjar': 2845, 'weinstein': 4195, 'boo': 512, 'hammer': 1643, 'ecclesiatical': 1167, 'lonely': 2375, 'mel': 2610, 'gurtov': 1616, 'seligson': 3552, 'cutler': 926, 'ero': 1251, 'use': 4061, 'logic': 2372, 'corinna': 871, 'da': 929, 'fonseca': 1366, 'wollheim': 4276, 'lorenzo': 2382, 'tondo': 3978, 'karczewski': 2083, 'alpha': 178, 'blob': 480, 'zoe2010': 4361, '72071746': 43, 'apoorva': 248, 'mandavilli': 2478, 'ramona': 3219, 'kehinde': 2114, 'wiley': 4241, 'lowery': 2399, 'littlewood': 2362, 'goals': 1527, 'neomasculinity': 2820, 'movement': 2743, 'during': 1138, 'term': 3895, 'alexéi': 154, 'lossan': 2385, 'being': 411, 'fooled': 1369, 'problem': 3149, 'websites': 4186, 'kavanagh': 2106, 'vigilant': 4106, 'jalandoni': 1929, 'saram': 3478, 'denis': 1007, 'tarasow': 3871, 'lewin': 2326, 'shrimpton': 3632, 'pelt': 3037, 'samuelson': 3465, 'judge': 2040}\n"
     ]
    }
   ],
   "source": [
    "# Initialize a Vectorizer\n",
    "vectorizer = CountVectorizer()\n",
    "  \n",
    "vectorizer.fit(df_author_label['author'])\n",
    "  \n",
    "# Printing the identified Unique words along with their indices\n",
    "print(\"Vocabulary: \", vectorizer.vocabulary_)"
   ]
  },
  {
   "cell_type": "code",
   "execution_count": 18,
   "id": "1c550b7e",
   "metadata": {},
   "outputs": [
    {
     "data": {
      "text/plain": [
       "(20800, 4425)"
      ]
     },
     "execution_count": 18,
     "metadata": {},
     "output_type": "execute_result"
    }
   ],
   "source": [
    "# Encode the author names\n",
    "vector = vectorizer.transform(df_author_label['author'])\n",
    "  \n",
    "# Checking vector shape\n",
    "vector.shape"
   ]
  },
  {
   "cell_type": "code",
   "execution_count": 19,
   "id": "859a8be2",
   "metadata": {},
   "outputs": [
    {
     "data": {
      "text/plain": [
       "['10',\n",
       " '101',\n",
       " '11',\n",
       " '118243',\n",
       " '11897093',\n",
       " '12702162',\n",
       " '12781064',\n",
       " '1390',\n",
       " '15',\n",
       " '1777',\n",
       " '1786283',\n",
       " '18807137',\n",
       " '19',\n",
       " '19747754',\n",
       " '1980xls',\n",
       " '1a',\n",
       " '2012newstart',\n",
       " '2015',\n",
       " '2016',\n",
       " '20s',\n",
       " '24',\n",
       " '26968733',\n",
       " '2noxtnt',\n",
       " '43400051',\n",
       " '46844538',\n",
       " '47402853',\n",
       " '47910020',\n",
       " '500',\n",
       " '50906934',\n",
       " '58059507',\n",
       " '58307359',\n",
       " '58565188',\n",
       " '63478933',\n",
       " '64345242',\n",
       " '67204360',\n",
       " '68756703',\n",
       " '68881719',\n",
       " '69290995',\n",
       " '69608020',\n",
       " '69826920',\n",
       " '70076674',\n",
       " '71489130',\n",
       " '72',\n",
       " '72071746',\n",
       " '72242221',\n",
       " '72306068',\n",
       " '72417024',\n",
       " '72532037',\n",
       " '72987209',\n",
       " '73107416',\n",
       " '73110918',\n",
       " '73135225',\n",
       " '73226313',\n",
       " '73227186',\n",
       " '73237446',\n",
       " '73266834',\n",
       " '73268261',\n",
       " '73268493',\n",
       " '73269813',\n",
       " '73270245',\n",
       " '73270427',\n",
       " '73270620',\n",
       " '73270906',\n",
       " '73271054',\n",
       " '73271104',\n",
       " '73271172',\n",
       " '73271258',\n",
       " '73271485',\n",
       " '73271507',\n",
       " 'aapi',\n",
       " 'aargh63',\n",
       " 'aaron',\n",
       " 'abad',\n",
       " 'abby',\n",
       " 'abdelmoumen',\n",
       " 'abed',\n",
       " 'abellera',\n",
       " 'abelson',\n",
       " 'abinico',\n",
       " 'about',\n",
       " 'abramo',\n",
       " 'abrams',\n",
       " 'absurdly',\n",
       " 'accept',\n",
       " 'accused',\n",
       " 'ackerberg',\n",
       " 'act',\n",
       " 'activation',\n",
       " 'activist',\n",
       " 'activistpost',\n",
       " 'acuesta',\n",
       " 'adalia',\n",
       " 'adam',\n",
       " 'adams',\n",
       " 'adamski',\n",
       " 'adan',\n",
       " 'addiction',\n",
       " 'adebayo',\n",
       " 'adeel',\n",
       " 'adelle',\n",
       " 'adelmann',\n",
       " 'adequate',\n",
       " 'adhd',\n",
       " 'adl',\n",
       " 'adler',\n",
       " 'admin',\n",
       " 'administrator',\n",
       " 'admit',\n",
       " 'adobochron',\n",
       " 'adobochronicles',\n",
       " 'adoriasoft',\n",
       " 'adpres',\n",
       " 'adrian',\n",
       " 'adrienne',\n",
       " 'aer',\n",
       " 'aertryck',\n",
       " 'afari',\n",
       " 'afp',\n",
       " 'africa',\n",
       " 'agency',\n",
       " 'agent',\n",
       " 'agorist',\n",
       " 'agustin',\n",
       " 'ahileo',\n",
       " 'ahmed',\n",
       " 'ahtribune',\n",
       " 'aikins',\n",
       " 'ain',\n",
       " 'akers',\n",
       " 'akner',\n",
       " 'al',\n",
       " 'aladdinsmiraclelamp',\n",
       " 'alain',\n",
       " 'alan',\n",
       " 'alanna',\n",
       " 'alastair',\n",
       " 'alba',\n",
       " 'alberto',\n",
       " 'albrecht',\n",
       " 'alcindor',\n",
       " 'alderman',\n",
       " 'aleksandar',\n",
       " 'aleksander',\n",
       " 'alert',\n",
       " 'alessandra',\n",
       " 'alex',\n",
       " 'alexa',\n",
       " 'alexander',\n",
       " 'alexandra',\n",
       " 'alexandria',\n",
       " 'alexcharting',\n",
       " 'alexey',\n",
       " 'alexeï',\n",
       " 'alexis',\n",
       " 'alexéi',\n",
       " 'alfano',\n",
       " 'alford',\n",
       " 'alfred',\n",
       " 'ali',\n",
       " 'alice',\n",
       " 'alicia',\n",
       " 'alina',\n",
       " 'alisha',\n",
       " 'alison',\n",
       " 'alissa',\n",
       " 'alix',\n",
       " 'allan',\n",
       " 'allen',\n",
       " 'allie',\n",
       " 'allison',\n",
       " 'allum',\n",
       " 'alma',\n",
       " 'almendral',\n",
       " 'almond',\n",
       " 'almosawa',\n",
       " 'almost',\n",
       " 'aloe',\n",
       " 'alpert',\n",
       " 'alpha',\n",
       " 'alter',\n",
       " 'alternative',\n",
       " 'altman',\n",
       " 'altruistic',\n",
       " 'alva',\n",
       " 'alvarez',\n",
       " 'alyson',\n",
       " 'am',\n",
       " 'amanda',\n",
       " 'amando',\n",
       " 'ambassador',\n",
       " 'ambellas',\n",
       " 'amber',\n",
       " 'american',\n",
       " 'amie',\n",
       " 'amini',\n",
       " 'amisha',\n",
       " 'ammo',\n",
       " 'amnesty',\n",
       " 'amp',\n",
       " 'amrut',\n",
       " 'amy',\n",
       " 'an',\n",
       " 'ana',\n",
       " 'anahad',\n",
       " 'anand',\n",
       " 'anastasia',\n",
       " 'anastassia',\n",
       " 'anaveragejoe',\n",
       " 'and',\n",
       " 'anderson',\n",
       " 'andre',\n",
       " 'andrea',\n",
       " 'andrew',\n",
       " 'andrews',\n",
       " 'andré',\n",
       " 'andy',\n",
       " 'anemona',\n",
       " 'angel',\n",
       " 'angela',\n",
       " 'angier',\n",
       " 'anglin',\n",
       " 'angryninja',\n",
       " 'anita',\n",
       " 'ann',\n",
       " 'anna',\n",
       " 'annalyn',\n",
       " 'anne',\n",
       " 'annie',\n",
       " 'anon',\n",
       " 'anonymous',\n",
       " 'another',\n",
       " 'anotherannie',\n",
       " 'ansary',\n",
       " 'ansfield',\n",
       " 'anteater',\n",
       " 'antharrison',\n",
       " 'anthony',\n",
       " 'anti',\n",
       " 'antilla',\n",
       " 'antisemitism',\n",
       " 'antiwar',\n",
       " 'anton',\n",
       " 'antonia',\n",
       " 'antonw',\n",
       " 'ap',\n",
       " 'apeeno',\n",
       " 'apepper',\n",
       " 'apg',\n",
       " 'apoorva',\n",
       " 'appeals',\n",
       " 'appelbaum',\n",
       " 'april',\n",
       " 'apuzzo',\n",
       " 'ar',\n",
       " 'arakelian',\n",
       " 'aramzs',\n",
       " 'aranda',\n",
       " 'arango',\n",
       " 'araton',\n",
       " 'arawma',\n",
       " 'arce',\n",
       " 'arch',\n",
       " 'archangelskaja',\n",
       " 'archibold',\n",
       " 'architect',\n",
       " 'architecture',\n",
       " 'arcturus',\n",
       " 'are',\n",
       " 'arellano',\n",
       " 'aren',\n",
       " 'arguments',\n",
       " 'ari',\n",
       " 'ari9999',\n",
       " 'ariana',\n",
       " 'ariel',\n",
       " 'arielle',\n",
       " 'arjun',\n",
       " 'arkhangelskaya',\n",
       " 'arkhangelskaïa',\n",
       " 'armendariz',\n",
       " 'armstrong',\n",
       " 'arnaldo',\n",
       " 'arnold',\n",
       " 'arnoldski',\n",
       " 'aroamingcatholicny',\n",
       " 'aronoff',\n",
       " 'arrangement',\n",
       " 'arshad',\n",
       " 'article',\n",
       " 'artist',\n",
       " 'as',\n",
       " 'ashley',\n",
       " 'ashton',\n",
       " 'ashwin',\n",
       " 'asif',\n",
       " 'asimov',\n",
       " 'ask',\n",
       " 'assad',\n",
       " 'assemblyman',\n",
       " 'asshat900',\n",
       " 'associated',\n",
       " 'association',\n",
       " 'asthma',\n",
       " 'astor',\n",
       " 'astore',\n",
       " 'astrid',\n",
       " 'astronomy',\n",
       " 'at',\n",
       " 'atkinson',\n",
       " 'attacks',\n",
       " 'atzmon',\n",
       " 'audrey',\n",
       " 'august',\n",
       " 'auntie',\n",
       " 'aurelien',\n",
       " 'aurora',\n",
       " 'aussie',\n",
       " 'austen',\n",
       " 'austerlitz',\n",
       " 'austin',\n",
       " 'author',\n",
       " 'autumn',\n",
       " 'avandagriff',\n",
       " 'avery',\n",
       " 'avnery',\n",
       " 'awr',\n",
       " 'axel',\n",
       " 'aya',\n",
       " 'ayala',\n",
       " 'ayesha',\n",
       " 'azal',\n",
       " 'azam',\n",
       " 'aziz',\n",
       " 'azu',\n",
       " 'azzmador',\n",
       " 'babalooey',\n",
       " 'babich',\n",
       " 'baby',\n",
       " 'bachar',\n",
       " 'bader',\n",
       " 'badger',\n",
       " 'badham',\n",
       " 'baehr',\n",
       " 'baggett',\n",
       " 'bagli',\n",
       " 'bailey',\n",
       " 'bakalar',\n",
       " 'baker',\n",
       " 'balakumar',\n",
       " 'balanced',\n",
       " 'balint',\n",
       " 'balthis',\n",
       " 'bamforth',\n",
       " 'banister',\n",
       " 'bank',\n",
       " 'baran',\n",
       " 'baranowski',\n",
       " 'barbara',\n",
       " 'barbaramck42',\n",
       " 'barbaro',\n",
       " 'barber',\n",
       " 'barboza',\n",
       " 'bardi',\n",
       " 'barenakedislam',\n",
       " 'barker',\n",
       " 'barnard',\n",
       " 'barnes',\n",
       " 'barnett',\n",
       " 'barone',\n",
       " 'baroud',\n",
       " 'barracuda',\n",
       " 'barrett',\n",
       " 'barron',\n",
       " 'barrow',\n",
       " 'barry',\n",
       " 'barryobarma',\n",
       " 'barsocchini',\n",
       " 'barstow',\n",
       " 'bart',\n",
       " 'barth',\n",
       " 'baruchman',\n",
       " 'bashar',\n",
       " 'bast',\n",
       " 'batati',\n",
       " 'batave',\n",
       " 'battle',\n",
       " 'batts',\n",
       " 'baum',\n",
       " 'baxter',\n",
       " 'bayefsky',\n",
       " 'bbc',\n",
       " 'bcguy',\n",
       " 'be',\n",
       " 'beach',\n",
       " 'beanie',\n",
       " 'beau',\n",
       " 'beautiful',\n",
       " 'beck',\n",
       " 'becker',\n",
       " 'beckerman',\n",
       " 'becky',\n",
       " 'become',\n",
       " 'becoming',\n",
       " 'bee',\n",
       " 'beeeyotch',\n",
       " 'beemasters',\n",
       " 'beersession',\n",
       " 'before',\n",
       " 'beforeitsnews',\n",
       " 'begbie',\n",
       " 'begby',\n",
       " 'being',\n",
       " 'bell',\n",
       " 'bellafante',\n",
       " 'belluck',\n",
       " 'belson',\n",
       " 'ben',\n",
       " 'benedict',\n",
       " 'benjamin',\n",
       " 'benner',\n",
       " 'bennett',\n",
       " 'bennhold',\n",
       " 'bennie',\n",
       " 'benny',\n",
       " 'benoît',\n",
       " 'benson',\n",
       " 'bentley',\n",
       " 'berendt',\n",
       " 'berger',\n",
       " 'bergman',\n",
       " 'berkeley',\n",
       " 'berkman',\n",
       " 'bermas',\n",
       " 'bernabe',\n",
       " 'bernard',\n",
       " 'bernie',\n",
       " 'bernish',\n",
       " 'bernstein',\n",
       " 'berry',\n",
       " 'besnook',\n",
       " 'best',\n",
       " 'bethea',\n",
       " 'better',\n",
       " 'bettie',\n",
       " 'bettina',\n",
       " 'betty',\n",
       " 'bev',\n",
       " 'beverly',\n",
       " 'bhadrakumar',\n",
       " 'bhandari',\n",
       " 'bickers',\n",
       " 'bidgood',\n",
       " 'biersdorfer',\n",
       " 'big',\n",
       " 'bigar',\n",
       " 'bigr',\n",
       " 'bilefsky',\n",
       " 'bilinski',\n",
       " 'bill',\n",
       " 'billingsley',\n",
       " 'billy',\n",
       " 'bimstein',\n",
       " 'bin',\n",
       " 'binder',\n",
       " 'binoy',\n",
       " 'binyamin',\n",
       " 'birbiglia',\n",
       " 'birdie',\n",
       " 'bishop',\n",
       " 'bittman',\n",
       " 'black',\n",
       " 'blackproject',\n",
       " 'blackwell',\n",
       " 'blaise',\n",
       " 'blake',\n",
       " 'blanche',\n",
       " 'blecher',\n",
       " 'bleikr',\n",
       " 'blinder',\n",
       " 'blitzkrieg622',\n",
       " 'blob',\n",
       " 'block',\n",
       " 'blocking',\n",
       " 'blog',\n",
       " 'blogger',\n",
       " 'blognotion',\n",
       " 'bloodydagger',\n",
       " 'bloom',\n",
       " 'blowfish',\n",
       " 'blueshaman',\n",
       " 'blum',\n",
       " 'blumenthal',\n",
       " 'bluuder',\n",
       " 'blythe',\n",
       " 'board',\n",
       " 'bob',\n",
       " 'bobert727',\n",
       " 'bobrow',\n",
       " 'bobwhite',\n",
       " 'bock',\n",
       " 'bodden',\n",
       " 'body',\n",
       " 'boehler',\n",
       " 'bofferding',\n",
       " 'bogdanich',\n",
       " 'bohne',\n",
       " 'bokhari',\n",
       " 'bolofia',\n",
       " 'bonanno',\n",
       " 'bond',\n",
       " 'bonfire',\n",
       " 'bonnie',\n",
       " 'boo',\n",
       " 'book',\n",
       " 'boost',\n",
       " 'bootoutthebullies',\n",
       " 'borden',\n",
       " 'borders',\n",
       " 'borelli',\n",
       " 'boriqua',\n",
       " 'boris',\n",
       " 'borozna',\n",
       " 'boryana',\n",
       " 'borzi',\n",
       " 'bosman',\n",
       " 'boteach',\n",
       " 'botena',\n",
       " 'botton',\n",
       " 'boudette',\n",
       " 'bougis',\n",
       " 'bound',\n",
       " 'bovard',\n",
       " 'bowles',\n",
       " 'bowley',\n",
       " 'bowne',\n",
       " 'bowytz',\n",
       " 'boykin',\n",
       " 'boyle',\n",
       " 'boys',\n",
       " 'bracelet',\n",
       " 'brad',\n",
       " 'braden',\n",
       " 'bradford',\n",
       " 'bradlee',\n",
       " 'bradley',\n",
       " 'bradsher',\n",
       " 'brain',\n",
       " 'braindiseasecalledliberalism',\n",
       " 'branch',\n",
       " 'branco',\n",
       " 'brandon',\n",
       " 'brandy',\n",
       " 'branko',\n",
       " 'brantley',\n",
       " 'brasch',\n",
       " 'bravenewmalden',\n",
       " 'bravo',\n",
       " 'bray',\n",
       " 'breaks',\n",
       " 'breast',\n",
       " 'breeden',\n",
       " 'breen',\n",
       " 'breitbart',\n",
       " 'brenan',\n",
       " 'brenda',\n",
       " 'brendan',\n",
       " 'brendawatson',\n",
       " 'brenner',\n",
       " 'brett',\n",
       " 'brian',\n",
       " 'brianna',\n",
       " 'bricks',\n",
       " 'brig',\n",
       " 'brigade',\n",
       " 'brigitte',\n",
       " 'brimelow',\n",
       " 'broad',\n",
       " 'broadcast',\n",
       " 'brock',\n",
       " 'brodesser',\n",
       " 'brodsky',\n",
       " 'brody',\n",
       " 'broiles',\n",
       " 'bromwich',\n",
       " 'bronwyn',\n",
       " 'brooke',\n",
       " 'brooks',\n",
       " 'brown',\n",
       " 'brownson',\n",
       " 'broze',\n",
       " 'bruce',\n",
       " 'brumm',\n",
       " 'bruni',\n",
       " 'brunwasser',\n",
       " 'brutus',\n",
       " 'bryan',\n",
       " 'bryan2006',\n",
       " 'bs1986',\n",
       " 'buchanan',\n",
       " 'buck',\n",
       " 'buckley',\n",
       " 'budowich',\n",
       " 'buettner',\n",
       " 'buffalobob',\n",
       " 'bugs',\n",
       " 'bui',\n",
       " 'bulcha',\n",
       " 'bullock',\n",
       " 'bundy',\n",
       " 'bunny',\n",
       " 'burbulis',\n",
       " 'buren',\n",
       " 'burleson',\n",
       " 'burnett',\n",
       " 'burns',\n",
       " 'burr',\n",
       " 'burris',\n",
       " 'burrowes',\n",
       " 'buruma',\n",
       " 'buss',\n",
       " 'busta',\n",
       " 'but',\n",
       " 'butch',\n",
       " 'butler',\n",
       " 'buzz',\n",
       " 'by',\n",
       " 'byas',\n",
       " 'cacciola',\n",
       " 'cache',\n",
       " 'cahill',\n",
       " 'cain',\n",
       " 'caitlin',\n",
       " 'calculated',\n",
       " 'caldwell',\n",
       " 'caleb',\n",
       " 'callaghan',\n",
       " 'called',\n",
       " 'callimachi',\n",
       " 'calmes',\n",
       " 'campbell',\n",
       " 'can',\n",
       " 'canadian',\n",
       " 'cancer',\n",
       " 'canedy',\n",
       " 'cannabis',\n",
       " 'cannon',\n",
       " 'cao',\n",
       " 'capecchi',\n",
       " 'capt',\n",
       " 'captain',\n",
       " 'captainbeno',\n",
       " 'cara',\n",
       " 'caramanica',\n",
       " 'cardwell',\n",
       " 'carewemust',\n",
       " 'carey',\n",
       " 'cargosquid',\n",
       " 'carhart',\n",
       " 'carissa',\n",
       " 'carl',\n",
       " 'carl_herman',\n",
       " 'carla',\n",
       " 'carlin',\n",
       " 'carlos',\n",
       " 'carlotta',\n",
       " 'carlsen',\n",
       " 'carmela',\n",
       " 'carmen',\n",
       " 'carmody',\n",
       " 'carney',\n",
       " 'carol',\n",
       " 'carole',\n",
       " 'caroline',\n",
       " 'carolyn',\n",
       " 'carr',\n",
       " 'carrie',\n",
       " 'carrns',\n",
       " 'carroll',\n",
       " 'cartel',\n",
       " 'cartier',\n",
       " 'cartwright',\n",
       " 'carvajal',\n",
       " 'caryn',\n",
       " 'case',\n",
       " 'casey',\n",
       " 'cash',\n",
       " 'cashill',\n",
       " 'caspian',\n",
       " 'cassandra',\n",
       " 'castiel',\n",
       " 'castillo',\n",
       " 'castle',\n",
       " 'cat',\n",
       " 'catbird',\n",
       " 'catcall',\n",
       " 'catherine',\n",
       " 'cathy',\n",
       " 'catocensored',\n",
       " 'catrin',\n",
       " 'catron',\n",
       " 'caty',\n",
       " 'caused',\n",
       " 'cave',\n",
       " 'cavrecon22',\n",
       " 'ccblogging',\n",
       " 'cdc',\n",
       " 'cecilia',\n",
       " 'celine',\n",
       " 'cells',\n",
       " 'centinel',\n",
       " 'cesar',\n",
       " 'ceylan',\n",
       " 'chaban',\n",
       " 'chad',\n",
       " 'chamseddine',\n",
       " 'chan',\n",
       " 'chanda',\n",
       " 'chandra',\n",
       " 'chaney',\n",
       " 'chang',\n",
       " 'change',\n",
       " 'channel',\n",
       " 'chaos',\n",
       " 'chapman',\n",
       " 'charles',\n",
       " 'charlie',\n",
       " 'charlieseattle',\n",
       " 'charters',\n",
       " 'chastain',\n",
       " 'chatterton',\n",
       " 'chauncey',\n",
       " 'cheating',\n",
       " 'chelala',\n",
       " 'chemi',\n",
       " 'chen',\n",
       " 'cherese',\n",
       " 'cheryl',\n",
       " 'chesler',\n",
       " 'chevyman',\n",
       " 'chhabra',\n",
       " 'chi',\n",
       " 'chiefquana',\n",
       " 'chika',\n",
       " 'child',\n",
       " 'childoffather',\n",
       " 'children',\n",
       " 'childreninshadow',\n",
       " 'childs',\n",
       " 'chin',\n",
       " 'chinen',\n",
       " 'chira',\n",
       " 'chiraq',\n",
       " 'chisala',\n",
       " 'chivers',\n",
       " 'choe',\n",
       " 'choices',\n",
       " 'chokshi',\n",
       " 'cholula',\n",
       " 'chomsky',\n",
       " 'chow',\n",
       " 'chozick',\n",
       " 'chris',\n",
       " 'chrisf',\n",
       " 'chriss',\n",
       " 'christian',\n",
       " 'christina',\n",
       " 'christine',\n",
       " 'christoforou',\n",
       " 'christopher',\n",
       " 'christy',\n",
       " 'chronicles',\n",
       " 'chuck',\n",
       " 'church',\n",
       " 'churchwell',\n",
       " 'ciaran',\n",
       " 'ciccariello',\n",
       " 'ciccotta',\n",
       " 'cieply',\n",
       " 'cigarette_smoking_man',\n",
       " 'cinthia',\n",
       " 'cintorino',\n",
       " 'citizen',\n",
       " 'cixin',\n",
       " 'cj',\n",
       " 'cjr',\n",
       " 'clabough',\n",
       " 'clair',\n",
       " 'claire',\n",
       " 'clare',\n",
       " 'clarey',\n",
       " 'clarissa',\n",
       " 'clark',\n",
       " 'clarke',\n",
       " 'classified',\n",
       " 'claudia',\n",
       " 'claudio',\n",
       " 'clay',\n",
       " 'clayton',\n",
       " 'cleburne',\n",
       " 'clevenger',\n",
       " 'clever',\n",
       " 'cliff',\n",
       " 'clifford',\n",
       " 'clinton',\n",
       " 'clock',\n",
       " 'cloughley',\n",
       " 'club',\n",
       " 'clyde',\n",
       " 'co',\n",
       " 'coast',\n",
       " 'coastalmainebird',\n",
       " 'cobb',\n",
       " 'coca',\n",
       " 'cochrane',\n",
       " 'cocivera',\n",
       " 'cockburn',\n",
       " 'codfish',\n",
       " 'coe',\n",
       " 'coffelt',\n",
       " 'coffs',\n",
       " 'cohan',\n",
       " 'cohen',\n",
       " 'cohn',\n",
       " 'coin',\n",
       " 'colagiovanni',\n",
       " 'colarossi',\n",
       " 'coldtrifecta',\n",
       " 'cole',\n",
       " 'coleman',\n",
       " 'colin',\n",
       " 'collective',\n",
       " 'collins',\n",
       " 'colm',\n",
       " 'colmáin',\n",
       " 'colonel',\n",
       " 'column',\n",
       " 'com',\n",
       " 'combs',\n",
       " 'come',\n",
       " 'common',\n",
       " 'community',\n",
       " 'comrade',\n",
       " 'concepts',\n",
       " 'concerns',\n",
       " 'confessore',\n",
       " 'conhambrre',\n",
       " 'connectdots',\n",
       " 'connell',\n",
       " 'connor',\n",
       " 'conor',\n",
       " 'conover',\n",
       " 'conscious',\n",
       " 'consciousness',\n",
       " 'conservative',\n",
       " 'conservative4ever',\n",
       " 'considered',\n",
       " 'consortiumnews',\n",
       " 'constipation',\n",
       " 'constitutionalist',\n",
       " 'consuelo',\n",
       " 'contributed',\n",
       " 'contributing',\n",
       " 'control',\n",
       " 'controls',\n",
       " 'cook',\n",
       " 'cooke',\n",
       " 'cooper',\n",
       " 'coral',\n",
       " 'corasaniti',\n",
       " 'corbett',\n",
       " 'corey',\n",
       " 'corinna',\n",
       " 'corkery',\n",
       " 'corombos',\n",
       " 'correa',\n",
       " 'correal',\n",
       " 'cory',\n",
       " 'coscarelli',\n",
       " 'cosgrave',\n",
       " 'costa',\n",
       " 'costilla',\n",
       " 'cotter',\n",
       " 'could',\n",
       " 'coulter',\n",
       " 'counter',\n",
       " 'country',\n",
       " 'countrybunkererd',\n",
       " 'courage',\n",
       " 'courtney',\n",
       " 'covington',\n",
       " 'coward',\n",
       " 'cowdiddly',\n",
       " 'cowell',\n",
       " 'cowley',\n",
       " 'cox',\n",
       " 'cp',\n",
       " 'craazee8',\n",
       " 'craazyboy',\n",
       " 'craig',\n",
       " 'crair',\n",
       " 'craptek',\n",
       " 'crasher',\n",
       " 'crazy',\n",
       " 'crazyewok',\n",
       " 'created',\n",
       " 'creation',\n",
       " 'creswell',\n",
       " 'crimmins',\n",
       " 'crispin',\n",
       " 'criticalstinker',\n",
       " 'croe',\n",
       " 'cronon',\n",
       " 'crony',\n",
       " 'crouse',\n",
       " 'cruz',\n",
       " 'crystal',\n",
       " 'ctwatcher',\n",
       " 'cuckservatives',\n",
       " 'cumming',\n",
       " 'cunningham',\n",
       " 'cupped',\n",
       " 'current',\n",
       " 'curriec',\n",
       " 'curtius',\n",
       " 'curve',\n",
       " 'customize',\n",
       " 'cutler',\n",
       " 'czynik',\n",
       " 'césar',\n",
       " 'da',\n",
       " 'dailey',\n",
       " 'dailouk',\n",
       " 'daily',\n",
       " 'dairy',\n",
       " 'daisuke',\n",
       " 'daisy',\n",
       " 'dale',\n",
       " 'dalia',\n",
       " 'dalton',\n",
       " 'damage',\n",
       " 'damien',\n",
       " 'damir',\n",
       " 'damon',\n",
       " 'dan',\n",
       " 'dana',\n",
       " 'danan',\n",
       " 'dance',\n",
       " 'dane',\n",
       " 'daniel',\n",
       " 'daniela',\n",
       " 'danielle',\n",
       " 'daniels',\n",
       " 'danielson',\n",
       " 'danika',\n",
       " 'dannenfelser',\n",
       " 'danny',\n",
       " 'daphne',\n",
       " 'darage',\n",
       " 'darby',\n",
       " 'darcy',\n",
       " 'dargis',\n",
       " 'darius',\n",
       " 'darkbake',\n",
       " 'darkmoon',\n",
       " 'darlin',\n",
       " 'darrell',\n",
       " 'darth',\n",
       " 'das',\n",
       " 'daum',\n",
       " 'dave',\n",
       " 'davecahill',\n",
       " 'davenport',\n",
       " 'daves',\n",
       " 'davey',\n",
       " 'davi',\n",
       " 'david',\n",
       " 'davidov',\n",
       " 'davidson',\n",
       " 'davidswanson',\n",
       " 'davis',\n",
       " 'dawn',\n",
       " 'dawson',\n",
       " 'day',\n",
       " 'dcg',\n",
       " 'de',\n",
       " 'deacon',\n",
       " 'dead',\n",
       " 'dean',\n",
       " 'deaths',\n",
       " 'deb',\n",
       " 'debbie',\n",
       " 'deborah',\n",
       " 'decimus',\n",
       " 'deckard',\n",
       " 'declan',\n",
       " 'declares',\n",
       " 'define',\n",
       " 'deflation',\n",
       " 'deirdre',\n",
       " 'dela',\n",
       " ...]"
      ]
     },
     "execution_count": 19,
     "metadata": {},
     "output_type": "execute_result"
    }
   ],
   "source": [
    "vectorizer.get_feature_names()"
   ]
  },
  {
   "cell_type": "code",
   "execution_count": 20,
   "id": "7073ef6f",
   "metadata": {},
   "outputs": [
    {
     "data": {
      "text/plain": [
       "965"
      ]
     },
     "execution_count": 20,
     "metadata": {},
     "output_type": "execute_result"
    }
   ],
   "source": [
    "# Checking if CountVectorizer were properly indexed\n",
    "vectorizer.get_feature_names().index('darrell')"
   ]
  },
  {
   "cell_type": "code",
   "execution_count": 21,
   "id": "5155314b",
   "metadata": {},
   "outputs": [
    {
     "data": {
      "text/plain": [
       "2407"
      ]
     },
     "execution_count": 21,
     "metadata": {},
     "output_type": "execute_result"
    }
   ],
   "source": [
    "# Checking if CountVectorizer were properly indexed\n",
    "vectorizer.get_feature_names().index('lucus')"
   ]
  },
  {
   "cell_type": "code",
   "execution_count": 22,
   "id": "22a6e510",
   "metadata": {},
   "outputs": [
    {
     "data": {
      "text/plain": [
       "(array([0, 0], dtype=int32), array([ 965, 2407], dtype=int32))"
      ]
     },
     "execution_count": 22,
     "metadata": {},
     "output_type": "execute_result"
    }
   ],
   "source": [
    "vector[0].nonzero()"
   ]
  },
  {
   "cell_type": "code",
   "execution_count": 23,
   "id": "6da49a39",
   "metadata": {},
   "outputs": [
    {
     "data": {
      "text/plain": [
       "856"
      ]
     },
     "execution_count": 23,
     "metadata": {},
     "output_type": "execute_result"
    }
   ],
   "source": [
    "# Checking if CountVectorizer were properly indexed\n",
    "vectorizer.get_feature_names().index('consortiumnews')"
   ]
  },
  {
   "cell_type": "code",
   "execution_count": 24,
   "id": "b20f296b",
   "metadata": {},
   "outputs": [
    {
     "data": {
      "text/plain": [
       "836"
      ]
     },
     "execution_count": 24,
     "metadata": {},
     "output_type": "execute_result"
    }
   ],
   "source": [
    "# Checking if CountVectorizer were properly indexed\n",
    "vectorizer.get_feature_names().index('com')"
   ]
  },
  {
   "cell_type": "code",
   "execution_count": 25,
   "id": "180f3846",
   "metadata": {},
   "outputs": [
    {
     "data": {
      "text/plain": [
       "(array([0, 0], dtype=int32), array([836, 856], dtype=int32))"
      ]
     },
     "execution_count": 25,
     "metadata": {},
     "output_type": "execute_result"
    }
   ],
   "source": [
    "vector[2].nonzero()"
   ]
  },
  {
   "cell_type": "markdown",
   "id": "1e7ae547",
   "metadata": {},
   "source": [
    "Let us try making a simple predictive model using these vectors as our features and our label column as our target."
   ]
  },
  {
   "cell_type": "code",
   "execution_count": 70,
   "id": "63ba182d",
   "metadata": {},
   "outputs": [],
   "source": [
    "# Import Dependencies for Machine Learning Models\n",
    "from sklearn.model_selection import train_test_split\n",
    "from sklearn.linear_model import LogisticRegression\n",
    "from sklearn.metrics import confusion_matrix, classification_report, roc_auc_score, roc_curve"
   ]
  },
  {
   "cell_type": "code",
   "execution_count": 27,
   "id": "5c4ae468",
   "metadata": {},
   "outputs": [],
   "source": [
    "X_train, X_test, y_train, y_test = train_test_split(vector, df_author_label['label'].values,\n",
    "                                                    test_size = 0.3, random_state=42)"
   ]
  },
  {
   "cell_type": "code",
   "execution_count": 28,
   "id": "b15559f8",
   "metadata": {},
   "outputs": [
    {
     "name": "stdout",
     "output_type": "stream",
     "text": [
      "(14560, 4425)\n",
      "(6240, 4425)\n",
      "(14560,)\n",
      "(6240,)\n"
     ]
    }
   ],
   "source": [
    "print(X_train.shape)\n",
    "print(X_test.shape)\n",
    "print(y_train.shape)\n",
    "print(y_test.shape)"
   ]
  },
  {
   "cell_type": "code",
   "execution_count": 29,
   "id": "9203d613",
   "metadata": {},
   "outputs": [],
   "source": [
    "logreg = LogisticRegression(random_state=42)"
   ]
  },
  {
   "cell_type": "code",
   "execution_count": 30,
   "id": "6c594ea9",
   "metadata": {},
   "outputs": [
    {
     "data": {
      "text/plain": [
       "LogisticRegression(random_state=42)"
      ]
     },
     "execution_count": 30,
     "metadata": {},
     "output_type": "execute_result"
    }
   ],
   "source": [
    "logreg.fit(X_train, y_train)"
   ]
  },
  {
   "cell_type": "code",
   "execution_count": 31,
   "id": "a855523c",
   "metadata": {},
   "outputs": [],
   "source": [
    "y_pred = logreg.predict(X_test)"
   ]
  },
  {
   "cell_type": "code",
   "execution_count": 32,
   "id": "16ef5625",
   "metadata": {},
   "outputs": [
    {
     "name": "stdout",
     "output_type": "stream",
     "text": [
      "Accuracy: 96.22%\n"
     ]
    }
   ],
   "source": [
    "accuracy_score = logreg.score(X_test, y_test)\n",
    "print(\"Accuracy: {:.2%}\".format(accuracy_score))"
   ]
  },
  {
   "cell_type": "code",
   "execution_count": 33,
   "id": "306528c8",
   "metadata": {},
   "outputs": [
    {
     "name": "stdout",
     "output_type": "stream",
     "text": [
      "[[3027  121]\n",
      " [ 115 2977]]\n"
     ]
    }
   ],
   "source": [
    "cm = confusion_matrix(y_test, y_pred)\n",
    "print(cm)"
   ]
  },
  {
   "cell_type": "code",
   "execution_count": 34,
   "id": "5f379791",
   "metadata": {},
   "outputs": [
    {
     "name": "stdout",
     "output_type": "stream",
     "text": [
      "              precision    recall  f1-score   support\n",
      "\n",
      "           0       0.96      0.96      0.96      3148\n",
      "           1       0.96      0.96      0.96      3092\n",
      "\n",
      "    accuracy                           0.96      6240\n",
      "   macro avg       0.96      0.96      0.96      6240\n",
      "weighted avg       0.96      0.96      0.96      6240\n",
      "\n"
     ]
    }
   ],
   "source": [
    "clf_report = classification_report(y_test, y_pred)\n",
    "print(clf_report)"
   ]
  },
  {
   "cell_type": "code",
   "execution_count": 35,
   "id": "fbb5f488",
   "metadata": {},
   "outputs": [],
   "source": [
    "logreg_roc_auc = roc_auc_score(y_test, logreg.predict(X_test))\n",
    "fpr, tpr, thresholds = roc_curve(y_test, logreg.predict_proba(X_test)[:,1])"
   ]
  },
  {
   "cell_type": "code",
   "execution_count": 36,
   "id": "b4fa2b79",
   "metadata": {},
   "outputs": [
    {
     "data": {
      "image/png": "[encoded data removed]",
      "text/plain": [
       "<Figure size 432x288 with 1 Axes>"
      ]
     },
     "metadata": {
      "needs_background": "light"
     },
     "output_type": "display_data"
    }
   ],
   "source": [
    "plt.figure()\n",
    "plt.plot(fpr, tpr, label='Logistic Regression (area = %0.2f)' % logreg_roc_auc)\n",
    "plt.plot([0, 1], [0, 1],'r--')\n",
    "plt.xlim([0.0, 1.0])\n",
    "plt.ylim([0.0, 1.05])\n",
    "plt.xlabel('False Positive Rate')\n",
    "plt.ylabel('True Positive Rate')\n",
    "plt.title('Receiver operating characteristic')\n",
    "plt.legend(loc=\"lower right\")\n",
    "plt.show()"
   ]
  },
  {
   "cell_type": "markdown",
   "id": "e6f32a06",
   "metadata": {},
   "source": [
    "For such a simple model using only an author's name or author string, it seems to be doing pretty well on the training set at 96%. However, it's simply not that simple.\n",
    "\n",
    "For starters, the names listed in train.csv are not an exhaustive list of all potential authors in the world and creating such a list would be nearly impossible. Therefore, such a model using simply the author's name could not be generalized when it put to a real test. The following line of code are the test set Kaggle provided to validate our model, test.csv with the data, submit.csv with our target label."
   ]
  },
  {
   "cell_type": "code",
   "execution_count": 75,
   "id": "af9bf60e",
   "metadata": {},
   "outputs": [],
   "source": [
    "data_file_test = os.path.join(data_files_dir, 'test.csv')\n",
    "df_test = pd.read_csv(data_file_test)"
   ]
  },
  {
   "cell_type": "code",
   "execution_count": 76,
   "id": "5d3c4231",
   "metadata": {},
   "outputs": [
    {
     "data": {
      "text/html": [
       "<div>\n",
       "<style scoped>\n",
       "    .dataframe tbody tr th:only-of-type {\n",
       "        vertical-align: middle;\n",
       "    }\n",
       "\n",
       "    .dataframe tbody tr th {\n",
       "        vertical-align: top;\n",
       "    }\n",
       "\n",
       "    .dataframe thead th {\n",
       "        text-align: right;\n",
       "    }\n",
       "</style>\n",
       "<table border=\"1\" class=\"dataframe\">\n",
       "  <thead>\n",
       "    <tr style=\"text-align: right;\">\n",
       "      <th></th>\n",
       "      <th>id</th>\n",
       "      <th>title</th>\n",
       "      <th>author</th>\n",
       "      <th>text</th>\n",
       "    </tr>\n",
       "  </thead>\n",
       "  <tbody>\n",
       "    <tr>\n",
       "      <th>0</th>\n",
       "      <td>20800</td>\n",
       "      <td>Specter of Trump Loosens Tongues, if Not Purse...</td>\n",
       "      <td>David Streitfeld</td>\n",
       "      <td>PALO ALTO, Calif.  —   After years of scorning...</td>\n",
       "    </tr>\n",
       "    <tr>\n",
       "      <th>1</th>\n",
       "      <td>20801</td>\n",
       "      <td>Russian warships ready to strike terrorists ne...</td>\n",
       "      <td>NaN</td>\n",
       "      <td>Russian warships ready to strike terrorists ne...</td>\n",
       "    </tr>\n",
       "    <tr>\n",
       "      <th>2</th>\n",
       "      <td>20802</td>\n",
       "      <td>#NoDAPL: Native American Leaders Vow to Stay A...</td>\n",
       "      <td>Common Dreams</td>\n",
       "      <td>Videos #NoDAPL: Native American Leaders Vow to...</td>\n",
       "    </tr>\n",
       "    <tr>\n",
       "      <th>3</th>\n",
       "      <td>20803</td>\n",
       "      <td>Tim Tebow Will Attempt Another Comeback, This ...</td>\n",
       "      <td>Daniel Victor</td>\n",
       "      <td>If at first you don’t succeed, try a different...</td>\n",
       "    </tr>\n",
       "    <tr>\n",
       "      <th>4</th>\n",
       "      <td>20804</td>\n",
       "      <td>Keiser Report: Meme Wars (E995)</td>\n",
       "      <td>Truth Broadcast Network</td>\n",
       "      <td>42 mins ago 1 Views 0 Comments 0 Likes 'For th...</td>\n",
       "    </tr>\n",
       "    <tr>\n",
       "      <th>...</th>\n",
       "      <td>...</td>\n",
       "      <td>...</td>\n",
       "      <td>...</td>\n",
       "      <td>...</td>\n",
       "    </tr>\n",
       "    <tr>\n",
       "      <th>5195</th>\n",
       "      <td>25995</td>\n",
       "      <td>The Bangladeshi Traffic Jam That Never Ends - ...</td>\n",
       "      <td>Jody Rosen</td>\n",
       "      <td>Of all the dysfunctions that plague the world’...</td>\n",
       "    </tr>\n",
       "    <tr>\n",
       "      <th>5196</th>\n",
       "      <td>25996</td>\n",
       "      <td>John Kasich Signs One Abortion Bill in Ohio bu...</td>\n",
       "      <td>Sheryl Gay Stolberg</td>\n",
       "      <td>WASHINGTON  —   Gov. John Kasich of Ohio on Tu...</td>\n",
       "    </tr>\n",
       "    <tr>\n",
       "      <th>5197</th>\n",
       "      <td>25997</td>\n",
       "      <td>California Today: What, Exactly, Is in Your Su...</td>\n",
       "      <td>Mike McPhate</td>\n",
       "      <td>Good morning. (Want to get California Today by...</td>\n",
       "    </tr>\n",
       "    <tr>\n",
       "      <th>5198</th>\n",
       "      <td>25998</td>\n",
       "      <td>300 US Marines To Be Deployed To Russian Borde...</td>\n",
       "      <td>NaN</td>\n",
       "      <td>« Previous - Next » 300 US Marines To Be Deplo...</td>\n",
       "    </tr>\n",
       "    <tr>\n",
       "      <th>5199</th>\n",
       "      <td>25999</td>\n",
       "      <td>Awkward Sex, Onscreen and Off - The New York T...</td>\n",
       "      <td>Teddy Wayne</td>\n",
       "      <td>Perhaps you’ve seen the new TV series whose pi...</td>\n",
       "    </tr>\n",
       "  </tbody>\n",
       "</table>\n",
       "<p>5200 rows × 4 columns</p>\n",
       "</div>"
      ],
      "text/plain": [
       "         id                                              title  \\\n",
       "0     20800  Specter of Trump Loosens Tongues, if Not Purse...   \n",
       "1     20801  Russian warships ready to strike terrorists ne...   \n",
       "2     20802  #NoDAPL: Native American Leaders Vow to Stay A...   \n",
       "3     20803  Tim Tebow Will Attempt Another Comeback, This ...   \n",
       "4     20804                    Keiser Report: Meme Wars (E995)   \n",
       "...     ...                                                ...   \n",
       "5195  25995  The Bangladeshi Traffic Jam That Never Ends - ...   \n",
       "5196  25996  John Kasich Signs One Abortion Bill in Ohio bu...   \n",
       "5197  25997  California Today: What, Exactly, Is in Your Su...   \n",
       "5198  25998  300 US Marines To Be Deployed To Russian Borde...   \n",
       "5199  25999  Awkward Sex, Onscreen and Off - The New York T...   \n",
       "\n",
       "                       author  \\\n",
       "0            David Streitfeld   \n",
       "1                         NaN   \n",
       "2               Common Dreams   \n",
       "3               Daniel Victor   \n",
       "4     Truth Broadcast Network   \n",
       "...                       ...   \n",
       "5195               Jody Rosen   \n",
       "5196      Sheryl Gay Stolberg   \n",
       "5197             Mike McPhate   \n",
       "5198                      NaN   \n",
       "5199              Teddy Wayne   \n",
       "\n",
       "                                                   text  \n",
       "0     PALO ALTO, Calif.  —   After years of scorning...  \n",
       "1     Russian warships ready to strike terrorists ne...  \n",
       "2     Videos #NoDAPL: Native American Leaders Vow to...  \n",
       "3     If at first you don’t succeed, try a different...  \n",
       "4     42 mins ago 1 Views 0 Comments 0 Likes 'For th...  \n",
       "...                                                 ...  \n",
       "5195  Of all the dysfunctions that plague the world’...  \n",
       "5196  WASHINGTON  —   Gov. John Kasich of Ohio on Tu...  \n",
       "5197  Good morning. (Want to get California Today by...  \n",
       "5198  « Previous - Next » 300 US Marines To Be Deplo...  \n",
       "5199  Perhaps you’ve seen the new TV series whose pi...  \n",
       "\n",
       "[5200 rows x 4 columns]"
      ]
     },
     "execution_count": 76,
     "metadata": {},
     "output_type": "execute_result"
    }
   ],
   "source": [
    "df_test"
   ]
  },
  {
   "cell_type": "code",
   "execution_count": 39,
   "id": "6332b6e3",
   "metadata": {},
   "outputs": [],
   "source": [
    "df_test['author'] = df_test['author'].fillna(\"No Author\")"
   ]
  },
  {
   "cell_type": "code",
   "execution_count": 40,
   "id": "46ea556d",
   "metadata": {},
   "outputs": [],
   "source": [
    "vector_test = vectorizer.transform(df_test['author'])"
   ]
  },
  {
   "cell_type": "code",
   "execution_count": 41,
   "id": "8781546d",
   "metadata": {},
   "outputs": [
    {
     "data": {
      "text/plain": [
       "(5200, 4425)"
      ]
     },
     "execution_count": 41,
     "metadata": {},
     "output_type": "execute_result"
    }
   ],
   "source": [
    "vector_test.shape"
   ]
  },
  {
   "cell_type": "code",
   "execution_count": 42,
   "id": "f3dcb893",
   "metadata": {},
   "outputs": [],
   "source": [
    "y_pred_real_test_set = logreg.predict(vector_test)"
   ]
  },
  {
   "cell_type": "code",
   "execution_count": 43,
   "id": "7c090295",
   "metadata": {},
   "outputs": [
    {
     "data": {
      "text/html": [
       "<div>\n",
       "<style scoped>\n",
       "    .dataframe tbody tr th:only-of-type {\n",
       "        vertical-align: middle;\n",
       "    }\n",
       "\n",
       "    .dataframe tbody tr th {\n",
       "        vertical-align: top;\n",
       "    }\n",
       "\n",
       "    .dataframe thead th {\n",
       "        text-align: right;\n",
       "    }\n",
       "</style>\n",
       "<table border=\"1\" class=\"dataframe\">\n",
       "  <thead>\n",
       "    <tr style=\"text-align: right;\">\n",
       "      <th></th>\n",
       "      <th>id</th>\n",
       "      <th>label</th>\n",
       "    </tr>\n",
       "  </thead>\n",
       "  <tbody>\n",
       "    <tr>\n",
       "      <th>0</th>\n",
       "      <td>20800</td>\n",
       "      <td>0</td>\n",
       "    </tr>\n",
       "    <tr>\n",
       "      <th>1</th>\n",
       "      <td>20801</td>\n",
       "      <td>1</td>\n",
       "    </tr>\n",
       "    <tr>\n",
       "      <th>2</th>\n",
       "      <td>20802</td>\n",
       "      <td>0</td>\n",
       "    </tr>\n",
       "    <tr>\n",
       "      <th>3</th>\n",
       "      <td>20803</td>\n",
       "      <td>1</td>\n",
       "    </tr>\n",
       "    <tr>\n",
       "      <th>4</th>\n",
       "      <td>20804</td>\n",
       "      <td>1</td>\n",
       "    </tr>\n",
       "    <tr>\n",
       "      <th>...</th>\n",
       "      <td>...</td>\n",
       "      <td>...</td>\n",
       "    </tr>\n",
       "    <tr>\n",
       "      <th>5195</th>\n",
       "      <td>25995</td>\n",
       "      <td>0</td>\n",
       "    </tr>\n",
       "    <tr>\n",
       "      <th>5196</th>\n",
       "      <td>25996</td>\n",
       "      <td>1</td>\n",
       "    </tr>\n",
       "    <tr>\n",
       "      <th>5197</th>\n",
       "      <td>25997</td>\n",
       "      <td>0</td>\n",
       "    </tr>\n",
       "    <tr>\n",
       "      <th>5198</th>\n",
       "      <td>25998</td>\n",
       "      <td>1</td>\n",
       "    </tr>\n",
       "    <tr>\n",
       "      <th>5199</th>\n",
       "      <td>25999</td>\n",
       "      <td>0</td>\n",
       "    </tr>\n",
       "  </tbody>\n",
       "</table>\n",
       "<p>5200 rows × 2 columns</p>\n",
       "</div>"
      ],
      "text/plain": [
       "         id  label\n",
       "0     20800      0\n",
       "1     20801      1\n",
       "2     20802      0\n",
       "3     20803      1\n",
       "4     20804      1\n",
       "...     ...    ...\n",
       "5195  25995      0\n",
       "5196  25996      1\n",
       "5197  25997      0\n",
       "5198  25998      1\n",
       "5199  25999      0\n",
       "\n",
       "[5200 rows x 2 columns]"
      ]
     },
     "execution_count": 43,
     "metadata": {},
     "output_type": "execute_result"
    }
   ],
   "source": [
    "data_file_test_validation = os.path.join(data_files_dir, 'submit.csv')\n",
    "df_validation = pd.read_csv(data_file_test_validation)\n",
    "df_validation"
   ]
  },
  {
   "cell_type": "code",
   "execution_count": 44,
   "id": "1825dc2f",
   "metadata": {},
   "outputs": [
    {
     "name": "stdout",
     "output_type": "stream",
     "text": [
      "[[1480  859]\n",
      " [1121 1740]]\n"
     ]
    }
   ],
   "source": [
    "cm_validation = confusion_matrix(df_validation['label'].values, y_pred_real_test_set)\n",
    "print(cm_validation)"
   ]
  },
  {
   "cell_type": "code",
   "execution_count": 45,
   "id": "49c751dc",
   "metadata": {},
   "outputs": [
    {
     "name": "stdout",
     "output_type": "stream",
     "text": [
      "              precision    recall  f1-score   support\n",
      "\n",
      "           0       0.57      0.63      0.60      2339\n",
      "           1       0.67      0.61      0.64      2861\n",
      "\n",
      "    accuracy                           0.62      5200\n",
      "   macro avg       0.62      0.62      0.62      5200\n",
      "weighted avg       0.62      0.62      0.62      5200\n",
      "\n"
     ]
    }
   ],
   "source": [
    "clf_report = classification_report(df_validation['label'].values, y_pred_real_test_set)\n",
    "print(clf_report)"
   ]
  },
  {
   "cell_type": "code",
   "execution_count": 46,
   "id": "afad3fd7",
   "metadata": {},
   "outputs": [
    {
     "data": {
      "image/png": "[encoded data removed]",
      "text/plain": [
       "<Figure size 432x288 with 1 Axes>"
      ]
     },
     "metadata": {
      "needs_background": "light"
     },
     "output_type": "display_data"
    }
   ],
   "source": [
    "logreg_roc_auc_validation = roc_auc_score(df_validation['label'].values, y_pred_real_test_set)\n",
    "fpr_validation, tpr_validation, thresholds_validation = roc_curve(df_validation['label'].values, logreg.predict_proba(vector_test)[:,1])\n",
    "\n",
    "plt.figure()\n",
    "plt.plot(fpr_validation, tpr_validation, label='Logistic Regression (area = %0.2f)' % logreg_roc_auc_validation)\n",
    "plt.plot([0, 1], [0, 1],'r--')\n",
    "plt.xlim([0.0, 1.0])\n",
    "plt.ylim([0.0, 1.05])\n",
    "plt.xlabel('False Positive Rate')\n",
    "plt.ylabel('True Positive Rate')\n",
    "plt.title('Receiver operating characteristic')\n",
    "plt.legend(loc=\"lower right\")\n",
    "plt.show()"
   ]
  },
  {
   "cell_type": "markdown",
   "id": "3ffee659",
   "metadata": {},
   "source": [
    "The results shouldn't be too surprising as mentioned above. Simply using author is too simplistic of a model. Perhaps a more robust approach would be to use additional features, like including the actual text of the news article even though it might be more expensive.\n",
    "\n",
    "Let's take a look at our original DataFrame once more."
   ]
  },
  {
   "cell_type": "code",
   "execution_count": 47,
   "id": "96890f72",
   "metadata": {},
   "outputs": [
    {
     "name": "stdout",
     "output_type": "stream",
     "text": [
      "<class 'pandas.core.frame.DataFrame'>\n",
      "RangeIndex: 20800 entries, 0 to 20799\n",
      "Data columns (total 5 columns):\n",
      " #   Column  Non-Null Count  Dtype \n",
      "---  ------  --------------  ----- \n",
      " 0   id      20800 non-null  int64 \n",
      " 1   title   20242 non-null  object\n",
      " 2   author  20800 non-null  object\n",
      " 3   text    20761 non-null  object\n",
      " 4   label   20800 non-null  int64 \n",
      "dtypes: int64(2), object(3)\n",
      "memory usage: 812.6+ KB\n"
     ]
    }
   ],
   "source": [
    "# Checking data type of data file\n",
    "df.info()"
   ]
  },
  {
   "cell_type": "markdown",
   "id": "24201c8b",
   "metadata": {},
   "source": [
    "We do want to use the text column, but there seems to be null values. We can check what these null data are like in our dataset."
   ]
  },
  {
   "cell_type": "code",
   "execution_count": 53,
   "id": "9f2b5c50",
   "metadata": {},
   "outputs": [
    {
     "data": {
      "text/html": [
       "<div>\n",
       "<style scoped>\n",
       "    .dataframe tbody tr th:only-of-type {\n",
       "        vertical-align: middle;\n",
       "    }\n",
       "\n",
       "    .dataframe tbody tr th {\n",
       "        vertical-align: top;\n",
       "    }\n",
       "\n",
       "    .dataframe thead th {\n",
       "        text-align: right;\n",
       "    }\n",
       "</style>\n",
       "<table border=\"1\" class=\"dataframe\">\n",
       "  <thead>\n",
       "    <tr style=\"text-align: right;\">\n",
       "      <th></th>\n",
       "      <th>id</th>\n",
       "      <th>title</th>\n",
       "      <th>author</th>\n",
       "      <th>text</th>\n",
       "      <th>label</th>\n",
       "    </tr>\n",
       "  </thead>\n",
       "  <tbody>\n",
       "    <tr>\n",
       "      <th>142</th>\n",
       "      <td>142</td>\n",
       "      <td>Gorafi Magazine : Entretien exclusif avec Bara...</td>\n",
       "      <td>No Author</td>\n",
       "      <td>NaN</td>\n",
       "      <td>1</td>\n",
       "    </tr>\n",
       "    <tr>\n",
       "      <th>573</th>\n",
       "      <td>573</td>\n",
       "      <td>Le top des recherches Google passe en top des ...</td>\n",
       "      <td>No Author</td>\n",
       "      <td>NaN</td>\n",
       "      <td>1</td>\n",
       "    </tr>\n",
       "    <tr>\n",
       "      <th>1200</th>\n",
       "      <td>1200</td>\n",
       "      <td>La Corée du Nord annonce avoir envoyé un missi...</td>\n",
       "      <td>No Author</td>\n",
       "      <td>NaN</td>\n",
       "      <td>1</td>\n",
       "    </tr>\n",
       "    <tr>\n",
       "      <th>1911</th>\n",
       "      <td>1911</td>\n",
       "      <td>Grand-Prix du Brésil – Romain Grosjean obtient...</td>\n",
       "      <td>No Author</td>\n",
       "      <td>NaN</td>\n",
       "      <td>1</td>\n",
       "    </tr>\n",
       "    <tr>\n",
       "      <th>2148</th>\n",
       "      <td>2148</td>\n",
       "      <td>Gorafi Magazine: Barack Obama « Je vous ai déj...</td>\n",
       "      <td>No Author</td>\n",
       "      <td>NaN</td>\n",
       "      <td>1</td>\n",
       "    </tr>\n",
       "    <tr>\n",
       "      <th>2169</th>\n",
       "      <td>2169</td>\n",
       "      <td>#NDDL: Pour fêter l’autorisation des travaux, ...</td>\n",
       "      <td>No Author</td>\n",
       "      <td>NaN</td>\n",
       "      <td>1</td>\n",
       "    </tr>\n",
       "    <tr>\n",
       "      <th>2793</th>\n",
       "      <td>2793</td>\n",
       "      <td>«Pourquoi je suis candidat à la présidentielle...</td>\n",
       "      <td>No Author</td>\n",
       "      <td>NaN</td>\n",
       "      <td>1</td>\n",
       "    </tr>\n",
       "    <tr>\n",
       "      <th>3329</th>\n",
       "      <td>3329</td>\n",
       "      <td>GuinessBook : 100 millions d’Américains batten...</td>\n",
       "      <td>No Author</td>\n",
       "      <td>NaN</td>\n",
       "      <td>1</td>\n",
       "    </tr>\n",
       "    <tr>\n",
       "      <th>3729</th>\n",
       "      <td>3729</td>\n",
       "      <td>Les Américains ne sont plus qu’à quelques heur...</td>\n",
       "      <td>No Author</td>\n",
       "      <td>NaN</td>\n",
       "      <td>1</td>\n",
       "    </tr>\n",
       "    <tr>\n",
       "      <th>4288</th>\n",
       "      <td>4288</td>\n",
       "      <td>Hillary Clinton en 5 dates &gt;&gt; Le Gorafi</td>\n",
       "      <td>No Author</td>\n",
       "      <td>NaN</td>\n",
       "      <td>1</td>\n",
       "    </tr>\n",
       "  </tbody>\n",
       "</table>\n",
       "</div>"
      ],
      "text/plain": [
       "        id                                              title     author text  \\\n",
       "142    142  Gorafi Magazine : Entretien exclusif avec Bara...  No Author  NaN   \n",
       "573    573  Le top des recherches Google passe en top des ...  No Author  NaN   \n",
       "1200  1200  La Corée du Nord annonce avoir envoyé un missi...  No Author  NaN   \n",
       "1911  1911  Grand-Prix du Brésil – Romain Grosjean obtient...  No Author  NaN   \n",
       "2148  2148  Gorafi Magazine: Barack Obama « Je vous ai déj...  No Author  NaN   \n",
       "2169  2169  #NDDL: Pour fêter l’autorisation des travaux, ...  No Author  NaN   \n",
       "2793  2793  «Pourquoi je suis candidat à la présidentielle...  No Author  NaN   \n",
       "3329  3329  GuinessBook : 100 millions d’Américains batten...  No Author  NaN   \n",
       "3729  3729  Les Américains ne sont plus qu’à quelques heur...  No Author  NaN   \n",
       "4288  4288            Hillary Clinton en 5 dates >> Le Gorafi  No Author  NaN   \n",
       "\n",
       "      label  \n",
       "142       1  \n",
       "573       1  \n",
       "1200      1  \n",
       "1911      1  \n",
       "2148      1  \n",
       "2169      1  \n",
       "2793      1  \n",
       "3329      1  \n",
       "3729      1  \n",
       "4288      1  "
      ]
     },
     "execution_count": 53,
     "metadata": {},
     "output_type": "execute_result"
    }
   ],
   "source": [
    "df[df['text'].isna() == True].head(10)"
   ]
  },
  {
   "cell_type": "markdown",
   "id": "593bfbf9",
   "metadata": {},
   "source": [
    "It would seem that the main text in these cases were with the title. This wouldn't be surprising if you consider that there are alternative forms of media like videos, audio clips, or images. If that's the case, the title itself might be as important as text. Given the number of nulls in the title and null columns we could consider dropping them before we move forward with our dataset, but in this case, we could try to build one by filling the nulls with \"No Title\" or \"No Text\", just like what we did with the author column."
   ]
  },
  {
   "cell_type": "code",
   "execution_count": 54,
   "id": "a64f3546",
   "metadata": {},
   "outputs": [],
   "source": [
    "# Filling nulls with \"No Title\" and \"No Text\"\n",
    "df['title'] = df['title'].fillna('No Title')\n",
    "df['text'] = df['text'].fillna('No Text')"
   ]
  },
  {
   "cell_type": "code",
   "execution_count": 55,
   "id": "89a8ec17",
   "metadata": {},
   "outputs": [
    {
     "name": "stdout",
     "output_type": "stream",
     "text": [
      "<class 'pandas.core.frame.DataFrame'>\n",
      "RangeIndex: 20800 entries, 0 to 20799\n",
      "Data columns (total 5 columns):\n",
      " #   Column  Non-Null Count  Dtype \n",
      "---  ------  --------------  ----- \n",
      " 0   id      20800 non-null  int64 \n",
      " 1   title   20800 non-null  object\n",
      " 2   author  20800 non-null  object\n",
      " 3   text    20800 non-null  object\n",
      " 4   label   20800 non-null  int64 \n",
      "dtypes: int64(2), object(3)\n",
      "memory usage: 812.6+ KB\n"
     ]
    }
   ],
   "source": [
    "df.info()"
   ]
  },
  {
   "cell_type": "markdown",
   "id": "faeea74d",
   "metadata": {},
   "source": [
    "For our dataset, we could merge the three columns together into one and concat the three separate strings into one large string."
   ]
  },
  {
   "cell_type": "code",
   "execution_count": 56,
   "id": "5de5ccd6",
   "metadata": {},
   "outputs": [
    {
     "data": {
      "text/html": [
       "<div>\n",
       "<style scoped>\n",
       "    .dataframe tbody tr th:only-of-type {\n",
       "        vertical-align: middle;\n",
       "    }\n",
       "\n",
       "    .dataframe tbody tr th {\n",
       "        vertical-align: top;\n",
       "    }\n",
       "\n",
       "    .dataframe thead th {\n",
       "        text-align: right;\n",
       "    }\n",
       "</style>\n",
       "<table border=\"1\" class=\"dataframe\">\n",
       "  <thead>\n",
       "    <tr style=\"text-align: right;\">\n",
       "      <th></th>\n",
       "      <th>id</th>\n",
       "      <th>title</th>\n",
       "      <th>author</th>\n",
       "      <th>text</th>\n",
       "      <th>label</th>\n",
       "      <th>title_author_text</th>\n",
       "    </tr>\n",
       "  </thead>\n",
       "  <tbody>\n",
       "    <tr>\n",
       "      <th>0</th>\n",
       "      <td>0</td>\n",
       "      <td>House Dem Aide: We Didn’t Even See Comey’s Let...</td>\n",
       "      <td>Darrell Lucus</td>\n",
       "      <td>House Dem Aide: We Didn’t Even See Comey’s Let...</td>\n",
       "      <td>1</td>\n",
       "      <td>House Dem Aide: We Didn’t Even See Comey’s Let...</td>\n",
       "    </tr>\n",
       "    <tr>\n",
       "      <th>1</th>\n",
       "      <td>1</td>\n",
       "      <td>FLYNN: Hillary Clinton, Big Woman on Campus - ...</td>\n",
       "      <td>Daniel J. Flynn</td>\n",
       "      <td>Ever get the feeling your life circles the rou...</td>\n",
       "      <td>0</td>\n",
       "      <td>FLYNN: Hillary Clinton, Big Woman on Campus - ...</td>\n",
       "    </tr>\n",
       "    <tr>\n",
       "      <th>2</th>\n",
       "      <td>2</td>\n",
       "      <td>Why the Truth Might Get You Fired</td>\n",
       "      <td>Consortiumnews.com</td>\n",
       "      <td>Why the Truth Might Get You Fired October 29, ...</td>\n",
       "      <td>1</td>\n",
       "      <td>Why the Truth Might Get You Fired Consortiumne...</td>\n",
       "    </tr>\n",
       "    <tr>\n",
       "      <th>3</th>\n",
       "      <td>3</td>\n",
       "      <td>15 Civilians Killed In Single US Airstrike Hav...</td>\n",
       "      <td>Jessica Purkiss</td>\n",
       "      <td>Videos 15 Civilians Killed In Single US Airstr...</td>\n",
       "      <td>1</td>\n",
       "      <td>15 Civilians Killed In Single US Airstrike Hav...</td>\n",
       "    </tr>\n",
       "    <tr>\n",
       "      <th>4</th>\n",
       "      <td>4</td>\n",
       "      <td>Iranian woman jailed for fictional unpublished...</td>\n",
       "      <td>Howard Portnoy</td>\n",
       "      <td>Print \\nAn Iranian woman has been sentenced to...</td>\n",
       "      <td>1</td>\n",
       "      <td>Iranian woman jailed for fictional unpublished...</td>\n",
       "    </tr>\n",
       "    <tr>\n",
       "      <th>...</th>\n",
       "      <td>...</td>\n",
       "      <td>...</td>\n",
       "      <td>...</td>\n",
       "      <td>...</td>\n",
       "      <td>...</td>\n",
       "      <td>...</td>\n",
       "    </tr>\n",
       "    <tr>\n",
       "      <th>20795</th>\n",
       "      <td>20795</td>\n",
       "      <td>Rapper T.I.: Trump a ’Poster Child For White S...</td>\n",
       "      <td>Jerome Hudson</td>\n",
       "      <td>Rapper T. I. unloaded on black celebrities who...</td>\n",
       "      <td>0</td>\n",
       "      <td>Rapper T.I.: Trump a ’Poster Child For White S...</td>\n",
       "    </tr>\n",
       "    <tr>\n",
       "      <th>20796</th>\n",
       "      <td>20796</td>\n",
       "      <td>N.F.L. Playoffs: Schedule, Matchups and Odds -...</td>\n",
       "      <td>Benjamin Hoffman</td>\n",
       "      <td>When the Green Bay Packers lost to the Washing...</td>\n",
       "      <td>0</td>\n",
       "      <td>N.F.L. Playoffs: Schedule, Matchups and Odds -...</td>\n",
       "    </tr>\n",
       "    <tr>\n",
       "      <th>20797</th>\n",
       "      <td>20797</td>\n",
       "      <td>Macy’s Is Said to Receive Takeover Approach by...</td>\n",
       "      <td>Michael J. de la Merced and Rachel Abrams</td>\n",
       "      <td>The Macy’s of today grew from the union of sev...</td>\n",
       "      <td>0</td>\n",
       "      <td>Macy’s Is Said to Receive Takeover Approach by...</td>\n",
       "    </tr>\n",
       "    <tr>\n",
       "      <th>20798</th>\n",
       "      <td>20798</td>\n",
       "      <td>NATO, Russia To Hold Parallel Exercises In Bal...</td>\n",
       "      <td>Alex Ansary</td>\n",
       "      <td>NATO, Russia To Hold Parallel Exercises In Bal...</td>\n",
       "      <td>1</td>\n",
       "      <td>NATO, Russia To Hold Parallel Exercises In Bal...</td>\n",
       "    </tr>\n",
       "    <tr>\n",
       "      <th>20799</th>\n",
       "      <td>20799</td>\n",
       "      <td>What Keeps the F-35 Alive</td>\n",
       "      <td>David Swanson</td>\n",
       "      <td>David Swanson is an author, activist, journa...</td>\n",
       "      <td>1</td>\n",
       "      <td>What Keeps the F-35 Alive David Swanson   Davi...</td>\n",
       "    </tr>\n",
       "  </tbody>\n",
       "</table>\n",
       "<p>20800 rows × 6 columns</p>\n",
       "</div>"
      ],
      "text/plain": [
       "          id                                              title  \\\n",
       "0          0  House Dem Aide: We Didn’t Even See Comey’s Let...   \n",
       "1          1  FLYNN: Hillary Clinton, Big Woman on Campus - ...   \n",
       "2          2                  Why the Truth Might Get You Fired   \n",
       "3          3  15 Civilians Killed In Single US Airstrike Hav...   \n",
       "4          4  Iranian woman jailed for fictional unpublished...   \n",
       "...      ...                                                ...   \n",
       "20795  20795  Rapper T.I.: Trump a ’Poster Child For White S...   \n",
       "20796  20796  N.F.L. Playoffs: Schedule, Matchups and Odds -...   \n",
       "20797  20797  Macy’s Is Said to Receive Takeover Approach by...   \n",
       "20798  20798  NATO, Russia To Hold Parallel Exercises In Bal...   \n",
       "20799  20799                          What Keeps the F-35 Alive   \n",
       "\n",
       "                                          author  \\\n",
       "0                                  Darrell Lucus   \n",
       "1                                Daniel J. Flynn   \n",
       "2                             Consortiumnews.com   \n",
       "3                                Jessica Purkiss   \n",
       "4                                 Howard Portnoy   \n",
       "...                                          ...   \n",
       "20795                              Jerome Hudson   \n",
       "20796                           Benjamin Hoffman   \n",
       "20797  Michael J. de la Merced and Rachel Abrams   \n",
       "20798                                Alex Ansary   \n",
       "20799                              David Swanson   \n",
       "\n",
       "                                                    text  label  \\\n",
       "0      House Dem Aide: We Didn’t Even See Comey’s Let...      1   \n",
       "1      Ever get the feeling your life circles the rou...      0   \n",
       "2      Why the Truth Might Get You Fired October 29, ...      1   \n",
       "3      Videos 15 Civilians Killed In Single US Airstr...      1   \n",
       "4      Print \\nAn Iranian woman has been sentenced to...      1   \n",
       "...                                                  ...    ...   \n",
       "20795  Rapper T. I. unloaded on black celebrities who...      0   \n",
       "20796  When the Green Bay Packers lost to the Washing...      0   \n",
       "20797  The Macy’s of today grew from the union of sev...      0   \n",
       "20798  NATO, Russia To Hold Parallel Exercises In Bal...      1   \n",
       "20799    David Swanson is an author, activist, journa...      1   \n",
       "\n",
       "                                       title_author_text  \n",
       "0      House Dem Aide: We Didn’t Even See Comey’s Let...  \n",
       "1      FLYNN: Hillary Clinton, Big Woman on Campus - ...  \n",
       "2      Why the Truth Might Get You Fired Consortiumne...  \n",
       "3      15 Civilians Killed In Single US Airstrike Hav...  \n",
       "4      Iranian woman jailed for fictional unpublished...  \n",
       "...                                                  ...  \n",
       "20795  Rapper T.I.: Trump a ’Poster Child For White S...  \n",
       "20796  N.F.L. Playoffs: Schedule, Matchups and Odds -...  \n",
       "20797  Macy’s Is Said to Receive Takeover Approach by...  \n",
       "20798  NATO, Russia To Hold Parallel Exercises In Bal...  \n",
       "20799  What Keeps the F-35 Alive David Swanson   Davi...  \n",
       "\n",
       "[20800 rows x 6 columns]"
      ]
     },
     "execution_count": 56,
     "metadata": {},
     "output_type": "execute_result"
    }
   ],
   "source": [
    "df['title_author_text'] = df['title'] + ' ' + df['author'] + ' ' + df['text']\n",
    "df"
   ]
  },
  {
   "cell_type": "markdown",
   "id": "70feaccf",
   "metadata": {},
   "source": [
    "Let's try vectorizing the new column for our Logistic Regression."
   ]
  },
  {
   "cell_type": "code",
   "execution_count": 57,
   "id": "296b081f",
   "metadata": {},
   "outputs": [],
   "source": [
    "# Initialize a Vectorizer\n",
    "vectorizer_new = CountVectorizer()\n",
    "vectorizer_new.fit(df['title_author_text'])\n",
    "vector_new = vectorizer_new.transform(df['title_author_text'])"
   ]
  },
  {
   "cell_type": "code",
   "execution_count": 59,
   "id": "2223e731",
   "metadata": {},
   "outputs": [
    {
     "data": {
      "text/plain": [
       "<20800x182061 sparse matrix of type '<class 'numpy.int64'>'\n",
       "\twith 6959119 stored elements in Compressed Sparse Row format>"
      ]
     },
     "execution_count": 59,
     "metadata": {},
     "output_type": "execute_result"
    }
   ],
   "source": [
    "vector_new"
   ]
  },
  {
   "cell_type": "code",
   "execution_count": 60,
   "id": "cdfc563a",
   "metadata": {},
   "outputs": [],
   "source": [
    "X_train, X_test, y_train, y_test = train_test_split(vector_new, df['label'].values,\n",
    "                                                    test_size = 0.3, random_state=42)"
   ]
  },
  {
   "cell_type": "code",
   "execution_count": 64,
   "id": "17dd8e17",
   "metadata": {},
   "outputs": [],
   "source": [
    "logreg = LogisticRegression(solver='newton-cg')"
   ]
  },
  {
   "cell_type": "code",
   "execution_count": 65,
   "id": "016ddbeb",
   "metadata": {},
   "outputs": [
    {
     "data": {
      "text/plain": [
       "LogisticRegression(solver='newton-cg')"
      ]
     },
     "execution_count": 65,
     "metadata": {},
     "output_type": "execute_result"
    }
   ],
   "source": [
    "logreg.fit(X_train, y_train)"
   ]
  },
  {
   "cell_type": "code",
   "execution_count": 66,
   "id": "dbda9b24",
   "metadata": {},
   "outputs": [],
   "source": [
    "y_pred = logreg.predict(X_test)"
   ]
  },
  {
   "cell_type": "code",
   "execution_count": 67,
   "id": "53c87ea1",
   "metadata": {},
   "outputs": [
    {
     "name": "stdout",
     "output_type": "stream",
     "text": [
      "Accuracy: 97.40%\n"
     ]
    }
   ],
   "source": [
    "accuracy_score = logreg.score(X_test, y_test)\n",
    "print(\"Accuracy: {:.2%}\".format(accuracy_score))"
   ]
  },
  {
   "cell_type": "markdown",
   "id": "8389f884",
   "metadata": {},
   "source": [
    "At 97%, it's not a bad model. At least in terms of the training set. In fact, it's better than the previous model using just author."
   ]
  },
  {
   "cell_type": "code",
   "execution_count": 68,
   "id": "77c6d8ea",
   "metadata": {},
   "outputs": [
    {
     "name": "stdout",
     "output_type": "stream",
     "text": [
      "[[3080   68]\n",
      " [  94 2998]]\n"
     ]
    }
   ],
   "source": [
    "cm = confusion_matrix(y_test, y_pred)\n",
    "print(cm)"
   ]
  },
  {
   "cell_type": "code",
   "execution_count": 69,
   "id": "a0f6a7f5",
   "metadata": {},
   "outputs": [
    {
     "name": "stdout",
     "output_type": "stream",
     "text": [
      "              precision    recall  f1-score   support\n",
      "\n",
      "           0       0.97      0.98      0.97      3148\n",
      "           1       0.98      0.97      0.97      3092\n",
      "\n",
      "    accuracy                           0.97      6240\n",
      "   macro avg       0.97      0.97      0.97      6240\n",
      "weighted avg       0.97      0.97      0.97      6240\n",
      "\n"
     ]
    }
   ],
   "source": [
    "clf_report = classification_report(y_test, y_pred)\n",
    "print(clf_report)"
   ]
  },
  {
   "cell_type": "code",
   "execution_count": 72,
   "id": "2a9060e6",
   "metadata": {},
   "outputs": [
    {
     "data": {
      "image/png": "[encoded data removed]",
      "text/plain": [
       "<Figure size 432x288 with 1 Axes>"
      ]
     },
     "metadata": {
      "needs_background": "light"
     },
     "output_type": "display_data"
    }
   ],
   "source": [
    "logreg_roc_auc = roc_auc_score(y_test, logreg.predict(X_test))\n",
    "fpr, tpr, thresholds = roc_curve(y_test, logreg.predict_proba(X_test)[:,1])\n",
    "\n",
    "plt.figure()\n",
    "plt.plot(fpr, tpr, label='Logistic Regression (area = %0.2f)' % logreg_roc_auc)\n",
    "plt.plot([0, 1], [0, 1],'r--')\n",
    "plt.xlim([0.0, 1.0])\n",
    "plt.ylim([0.0, 1.05])\n",
    "plt.xlabel('False Positive Rate')\n",
    "plt.ylabel('True Positive Rate')\n",
    "plt.title('Receiver operating characteristic')\n",
    "plt.legend(loc=\"lower right\")\n",
    "plt.show()"
   ]
  },
  {
   "cell_type": "markdown",
   "id": "16dfb88c",
   "metadata": {},
   "source": [
    "Let's try out our validation set again."
   ]
  },
  {
   "cell_type": "code",
   "execution_count": 78,
   "id": "6d257842",
   "metadata": {},
   "outputs": [],
   "source": [
    "df_test['title'] = df_test['title'].fillna(\"No Title\")\n",
    "df_test['author'] = df_test['author'].fillna(\"No Author\")\n",
    "df_test['text'] = df_test['text'].fillna(\"No Text\")\n",
    "df_test['title_author_text'] = df_test['title'] + ' ' + df_test['author'] + ' ' + df_test['text']\n",
    "vector_test = vectorizer_new.transform(df_test['title_author_text'])"
   ]
  },
  {
   "cell_type": "code",
   "execution_count": 79,
   "id": "abf22885",
   "metadata": {},
   "outputs": [],
   "source": [
    "y_pred_real_test_set = logreg.predict(vector_test)"
   ]
  },
  {
   "cell_type": "code",
   "execution_count": 80,
   "id": "9dbb0647",
   "metadata": {},
   "outputs": [
    {
     "name": "stdout",
     "output_type": "stream",
     "text": [
      "[[1545  794]\n",
      " [1059 1802]]\n"
     ]
    }
   ],
   "source": [
    "cm_validation = confusion_matrix(df_validation['label'].values, y_pred_real_test_set)\n",
    "print(cm_validation)"
   ]
  },
  {
   "cell_type": "code",
   "execution_count": 81,
   "id": "a8ea61ad",
   "metadata": {},
   "outputs": [
    {
     "name": "stdout",
     "output_type": "stream",
     "text": [
      "              precision    recall  f1-score   support\n",
      "\n",
      "           0       0.59      0.66      0.63      2339\n",
      "           1       0.69      0.63      0.66      2861\n",
      "\n",
      "    accuracy                           0.64      5200\n",
      "   macro avg       0.64      0.65      0.64      5200\n",
      "weighted avg       0.65      0.64      0.64      5200\n",
      "\n"
     ]
    }
   ],
   "source": [
    "clf_report = classification_report(df_validation['label'].values, y_pred_real_test_set)\n",
    "print(clf_report)"
   ]
  },
  {
   "cell_type": "code",
   "execution_count": 82,
   "id": "2dee5762",
   "metadata": {},
   "outputs": [
    {
     "data": {
      "image/png": "[encoded data removed]",
      "text/plain": [
       "<Figure size 432x288 with 1 Axes>"
      ]
     },
     "metadata": {
      "needs_background": "light"
     },
     "output_type": "display_data"
    }
   ],
   "source": [
    "logreg_roc_auc_validation = roc_auc_score(df_validation['label'].values, y_pred_real_test_set)\n",
    "fpr_validation, tpr_validation, thresholds_validation = roc_curve(df_validation['label'].values, logreg.predict_proba(vector_test)[:,1])\n",
    "\n",
    "plt.figure()\n",
    "plt.plot(fpr_validation, tpr_validation, label='Logistic Regression (area = %0.2f)' % logreg_roc_auc_validation)\n",
    "plt.plot([0, 1], [0, 1],'r--')\n",
    "plt.xlim([0.0, 1.0])\n",
    "plt.ylim([0.0, 1.05])\n",
    "plt.xlabel('False Positive Rate')\n",
    "plt.ylabel('True Positive Rate')\n",
    "plt.title('Receiver operating characteristic')\n",
    "plt.legend(loc=\"lower right\")\n",
    "plt.show()"
   ]
  },
  {
   "cell_type": "markdown",
   "id": "2d5766ff",
   "metadata": {},
   "source": [
    "Unfortunately for us, despite all that work, we've really only improved it's performance by 3%. Bummer. But perhaps we're looking at this the wrong way. Perhaps, we need to use a different way to vectorize our strings. TF-IDF is just the thing we need. Not only does this focus on the frequency of words, but it also provides the importance of the words being used in the text."
   ]
  },
  {
   "cell_type": "code",
   "execution_count": 83,
   "id": "7c20b270",
   "metadata": {},
   "outputs": [],
   "source": [
    "# Import TF-IDF Vectorizer\n",
    "from sklearn.feature_extraction.text import TfidfVectorizer"
   ]
  },
  {
   "cell_type": "code",
   "execution_count": 84,
   "id": "ba9245b2",
   "metadata": {},
   "outputs": [],
   "source": [
    "tf_idf = TfidfVectorizer()\n",
    "tf_idf.fit(df['title_author_text'])\n",
    "tf_idf_vector = tf_idf.transform(df['title_author_text'])"
   ]
  },
  {
   "cell_type": "code",
   "execution_count": 85,
   "id": "026178fb",
   "metadata": {},
   "outputs": [],
   "source": [
    "X_train, X_test, y_train, y_test = train_test_split(tf_idf_vector, df['label'].values,\n",
    "                                                    test_size = 0.3, random_state=42)"
   ]
  },
  {
   "cell_type": "code",
   "execution_count": 86,
   "id": "c0f09249",
   "metadata": {},
   "outputs": [],
   "source": [
    "logreg = LogisticRegression(random_state=42)"
   ]
  },
  {
   "cell_type": "code",
   "execution_count": 87,
   "id": "e3a16842",
   "metadata": {},
   "outputs": [
    {
     "data": {
      "text/plain": [
       "LogisticRegression(random_state=42)"
      ]
     },
     "execution_count": 87,
     "metadata": {},
     "output_type": "execute_result"
    }
   ],
   "source": [
    "logreg.fit(X_train, y_train)"
   ]
  },
  {
   "cell_type": "code",
   "execution_count": 88,
   "id": "fb4d7231",
   "metadata": {},
   "outputs": [],
   "source": [
    "y_pred = logreg.predict(X_test)"
   ]
  },
  {
   "cell_type": "code",
   "execution_count": 89,
   "id": "bb743561",
   "metadata": {},
   "outputs": [
    {
     "name": "stdout",
     "output_type": "stream",
     "text": [
      "Accuracy: 95.62%\n"
     ]
    }
   ],
   "source": [
    "accuracy_score = logreg.score(X_test, y_test)\n",
    "print(\"Accuracy: {:.2%}\".format(accuracy_score))"
   ]
  },
  {
   "cell_type": "markdown",
   "id": "32899c07",
   "metadata": {},
   "source": [
    "95% is lower than before, but still not bad for a training set."
   ]
  },
  {
   "cell_type": "code",
   "execution_count": 90,
   "id": "dfa573d6",
   "metadata": {},
   "outputs": [
    {
     "name": "stdout",
     "output_type": "stream",
     "text": [
      "[[3012  136]\n",
      " [ 137 2955]]\n"
     ]
    }
   ],
   "source": [
    "cm = confusion_matrix(y_test, y_pred)\n",
    "print(cm)"
   ]
  },
  {
   "cell_type": "code",
   "execution_count": 91,
   "id": "8f142efa",
   "metadata": {},
   "outputs": [
    {
     "name": "stdout",
     "output_type": "stream",
     "text": [
      "              precision    recall  f1-score   support\n",
      "\n",
      "           0       0.96      0.96      0.96      3148\n",
      "           1       0.96      0.96      0.96      3092\n",
      "\n",
      "    accuracy                           0.96      6240\n",
      "   macro avg       0.96      0.96      0.96      6240\n",
      "weighted avg       0.96      0.96      0.96      6240\n",
      "\n"
     ]
    }
   ],
   "source": [
    "clf_report = classification_report(y_test, y_pred)\n",
    "print(clf_report)"
   ]
  },
  {
   "cell_type": "code",
   "execution_count": 92,
   "id": "07aee93a",
   "metadata": {},
   "outputs": [
    {
     "data": {
      "image/png": "[encoded data removed]",
      "text/plain": [
       "<Figure size 432x288 with 1 Axes>"
      ]
     },
     "metadata": {
      "needs_background": "light"
     },
     "output_type": "display_data"
    }
   ],
   "source": [
    "logreg_roc_auc = roc_auc_score(y_test, logreg.predict(X_test))\n",
    "fpr, tpr, thresholds = roc_curve(y_test, logreg.predict_proba(X_test)[:,1])\n",
    "plt.figure()\n",
    "plt.plot(fpr, tpr, label='Logistic Regression (area = %0.2f)' % logreg_roc_auc)\n",
    "plt.plot([0, 1], [0, 1],'r--')\n",
    "plt.xlim([0.0, 1.0])\n",
    "plt.ylim([0.0, 1.05])\n",
    "plt.xlabel('False Positive Rate')\n",
    "plt.ylabel('True Positive Rate')\n",
    "plt.title('Receiver operating characteristic')\n",
    "plt.legend(loc=\"lower right\")\n",
    "plt.show()"
   ]
  },
  {
   "cell_type": "markdown",
   "id": "9e4a939d",
   "metadata": {},
   "source": [
    "Time for the real test."
   ]
  },
  {
   "cell_type": "code",
   "execution_count": 93,
   "id": "bdd6a448",
   "metadata": {},
   "outputs": [],
   "source": [
    "td_idf_test = tf_idf.transform(df_test['title_author_text'])"
   ]
  },
  {
   "cell_type": "code",
   "execution_count": 94,
   "id": "4c074904",
   "metadata": {},
   "outputs": [],
   "source": [
    "y_pred_real_test_set = logreg.predict(td_idf_test)"
   ]
  },
  {
   "cell_type": "code",
   "execution_count": 95,
   "id": "da661345",
   "metadata": {},
   "outputs": [
    {
     "name": "stdout",
     "output_type": "stream",
     "text": [
      "[[1536  803]\n",
      " [1076 1785]]\n"
     ]
    }
   ],
   "source": [
    "cm_validation = confusion_matrix(df_validation['label'].values, y_pred_real_test_set)\n",
    "print(cm_validation)"
   ]
  },
  {
   "cell_type": "code",
   "execution_count": 96,
   "id": "ff98199c",
   "metadata": {},
   "outputs": [
    {
     "name": "stdout",
     "output_type": "stream",
     "text": [
      "              precision    recall  f1-score   support\n",
      "\n",
      "           0       0.59      0.66      0.62      2339\n",
      "           1       0.69      0.62      0.66      2861\n",
      "\n",
      "    accuracy                           0.64      5200\n",
      "   macro avg       0.64      0.64      0.64      5200\n",
      "weighted avg       0.64      0.64      0.64      5200\n",
      "\n"
     ]
    }
   ],
   "source": [
    "clf_report = classification_report(df_validation['label'].values, y_pred_real_test_set)\n",
    "print(clf_report)"
   ]
  },
  {
   "cell_type": "code",
   "execution_count": 97,
   "id": "a192e992",
   "metadata": {},
   "outputs": [
    {
     "data": {
      "image/png": "[encoded data removed]",
      "text/plain": [
       "<Figure size 432x288 with 1 Axes>"
      ]
     },
     "metadata": {
      "needs_background": "light"
     },
     "output_type": "display_data"
    }
   ],
   "source": [
    "logreg_roc_auc_validation = roc_auc_score(df_validation['label'].values, y_pred_real_test_set)\n",
    "fpr_validation, tpr_validation, thresholds_validation = roc_curve(df_validation['label'].values, logreg.predict_proba(vector_test)[:,1])\n",
    "\n",
    "plt.figure()\n",
    "plt.plot(fpr_validation, tpr_validation, label='Logistic Regression (area = %0.2f)' % logreg_roc_auc_validation)\n",
    "plt.plot([0, 1], [0, 1],'r--')\n",
    "plt.xlim([0.0, 1.0])\n",
    "plt.ylim([0.0, 1.05])\n",
    "plt.xlabel('False Positive Rate')\n",
    "plt.ylabel('True Positive Rate')\n",
    "plt.title('Receiver operating characteristic')\n",
    "plt.legend(loc=\"lower right\")\n",
    "plt.show()"
   ]
  },
  {
   "cell_type": "markdown",
   "id": "303a08fe",
   "metadata": {},
   "source": [
    "At this stage, we've pretty much exhausted our options with Logistic Regression. While it's enough to identify more than half the 'fake news' it's still rather low at 64% performance. Perhaps we should try something better, perhaps random forest? A simple one at that, using the default options."
   ]
  },
  {
   "cell_type": "code",
   "execution_count": 98,
   "id": "622ea022",
   "metadata": {},
   "outputs": [],
   "source": [
    "# Import Random Forest Classifier\n",
    "from sklearn.ensemble import RandomForestClassifier"
   ]
  },
  {
   "cell_type": "code",
   "execution_count": 99,
   "id": "6f7ad523",
   "metadata": {},
   "outputs": [],
   "source": [
    "randfor_clf = RandomForestClassifier(random_state=42)"
   ]
  },
  {
   "cell_type": "code",
   "execution_count": 100,
   "id": "2f44f0c2",
   "metadata": {},
   "outputs": [
    {
     "data": {
      "text/plain": [
       "RandomForestClassifier(random_state=42)"
      ]
     },
     "execution_count": 100,
     "metadata": {},
     "output_type": "execute_result"
    }
   ],
   "source": [
    "randfor_clf.fit(X_train, y_train)"
   ]
  },
  {
   "cell_type": "code",
   "execution_count": 101,
   "id": "184c7fd1",
   "metadata": {},
   "outputs": [],
   "source": [
    "y_pred = randfor_clf.predict(X_test)"
   ]
  },
  {
   "cell_type": "code",
   "execution_count": 103,
   "id": "94151bc0",
   "metadata": {},
   "outputs": [
    {
     "name": "stdout",
     "output_type": "stream",
     "text": [
      "Accuracy: 93.01%\n"
     ]
    }
   ],
   "source": [
    "accuracy_score = randfor_clf.score(X_test, y_test)\n",
    "print(\"Accuracy: {:.2%}\".format(accuracy_score))"
   ]
  },
  {
   "cell_type": "markdown",
   "id": "0cdca244",
   "metadata": {},
   "source": [
    "Above 90% accuracy, still looking alright."
   ]
  },
  {
   "cell_type": "code",
   "execution_count": 104,
   "id": "356ca098",
   "metadata": {},
   "outputs": [
    {
     "name": "stdout",
     "output_type": "stream",
     "text": [
      "[[2978  170]\n",
      " [ 266 2826]]\n"
     ]
    }
   ],
   "source": [
    "cm = confusion_matrix(y_test, y_pred)\n",
    "print(cm)"
   ]
  },
  {
   "cell_type": "code",
   "execution_count": 106,
   "id": "4a495eae",
   "metadata": {},
   "outputs": [
    {
     "name": "stdout",
     "output_type": "stream",
     "text": [
      "              precision    recall  f1-score   support\n",
      "\n",
      "           0       0.92      0.95      0.93      3148\n",
      "           1       0.94      0.91      0.93      3092\n",
      "\n",
      "    accuracy                           0.93      6240\n",
      "   macro avg       0.93      0.93      0.93      6240\n",
      "weighted avg       0.93      0.93      0.93      6240\n",
      "\n"
     ]
    }
   ],
   "source": [
    "clf_report = classification_report(y_test, y_pred)\n",
    "print(clf_report)"
   ]
  },
  {
   "cell_type": "code",
   "execution_count": 107,
   "id": "eaab866e",
   "metadata": {},
   "outputs": [
    {
     "data": {
      "image/png": "[encoded data removed]",
      "text/plain": [
       "<Figure size 432x288 with 1 Axes>"
      ]
     },
     "metadata": {
      "needs_background": "light"
     },
     "output_type": "display_data"
    }
   ],
   "source": [
    "randfor_clf_roc_auc = roc_auc_score(y_test, randfor_clf.predict(X_test))\n",
    "fpr, tpr, thresholds = roc_curve(y_test, randfor_clf.predict_proba(X_test)[:,1])\n",
    "\n",
    "plt.figure()\n",
    "plt.plot(fpr, tpr, label='Random Forest Classifier (area = %0.2f)' % randfor_clf_roc_auc)\n",
    "plt.plot([0, 1], [0, 1],'r--')\n",
    "plt.xlim([0.0, 1.0])\n",
    "plt.ylim([0.0, 1.05])\n",
    "plt.xlabel('False Positive Rate')\n",
    "plt.ylabel('True Positive Rate')\n",
    "plt.title('Receiver operating characteristic')\n",
    "plt.legend(loc=\"lower right\")\n",
    "plt.show()"
   ]
  },
  {
   "cell_type": "code",
   "execution_count": 108,
   "id": "de9bf7f7",
   "metadata": {},
   "outputs": [],
   "source": [
    "y_pred_real_test_set = randfor_clf.predict(td_idf_test)"
   ]
  },
  {
   "cell_type": "code",
   "execution_count": 109,
   "id": "f62da814",
   "metadata": {},
   "outputs": [
    {
     "name": "stdout",
     "output_type": "stream",
     "text": [
      "[[1645  694]\n",
      " [1055 1806]]\n"
     ]
    }
   ],
   "source": [
    "cm_validation = confusion_matrix(df_validation['label'].values, y_pred_real_test_set)\n",
    "print(cm_validation)"
   ]
  },
  {
   "cell_type": "code",
   "execution_count": 110,
   "id": "35fcd84a",
   "metadata": {},
   "outputs": [
    {
     "name": "stdout",
     "output_type": "stream",
     "text": [
      "              precision    recall  f1-score   support\n",
      "\n",
      "           0       0.61      0.70      0.65      2339\n",
      "           1       0.72      0.63      0.67      2861\n",
      "\n",
      "    accuracy                           0.66      5200\n",
      "   macro avg       0.67      0.67      0.66      5200\n",
      "weighted avg       0.67      0.66      0.66      5200\n",
      "\n"
     ]
    }
   ],
   "source": [
    "clf_report = classification_report(df_validation['label'].values, y_pred_real_test_set)\n",
    "print(clf_report)"
   ]
  },
  {
   "cell_type": "code",
   "execution_count": 111,
   "id": "af7c6663",
   "metadata": {},
   "outputs": [
    {
     "data": {
      "image/png": "[encoded data removed]",
      "text/plain": [
       "<Figure size 432x288 with 1 Axes>"
      ]
     },
     "metadata": {
      "needs_background": "light"
     },
     "output_type": "display_data"
    }
   ],
   "source": [
    "randfor_clf_roc_auc_validation = roc_auc_score(df_validation['label'].values, y_pred_real_test_set)\n",
    "fpr_validation, tpr_validation, thresholds_validation = roc_curve(df_validation['label'].values, randfor_clf.predict_proba(vector_test)[:,1])\n",
    "\n",
    "plt.figure()\n",
    "plt.plot(fpr_validation, tpr_validation, label='Random Forest Classifier (area = %0.2f)' % randfor_clf_roc_auc_validation)\n",
    "plt.plot([0, 1], [0, 1],'r--')\n",
    "plt.xlim([0.0, 1.0])\n",
    "plt.ylim([0.0, 1.05])\n",
    "plt.xlabel('False Positive Rate')\n",
    "plt.ylabel('True Positive Rate')\n",
    "plt.title('Receiver operating characteristic')\n",
    "plt.legend(loc=\"lower right\")\n",
    "plt.show()"
   ]
  },
  {
   "cell_type": "code",
   "execution_count": null,
   "id": "a7a645ee",
   "metadata": {},
   "outputs": [],
   "source": []
  }
 ],
 "metadata": {
  "kernelspec": {
   "display_name": "Python 3 (ipykernel)",
   "language": "python",
   "name": "python3"
  },
  "language_info": {
   "codemirror_mode": {
    "name": "ipython",
    "version": 3
   },
   "file_extension": ".py",
   "mimetype": "text/x-python",
   "name": "python",
   "nbconvert_exporter": "python",
   "pygments_lexer": "ipython3",
   "version": "3.7.7"
  }
 },
 "nbformat": 4,
 "nbformat_minor": 5
}
